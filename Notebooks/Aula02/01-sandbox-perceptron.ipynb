{
 "cells": [
  {
   "cell_type": "markdown",
   "metadata": {},
   "source": [
    "# Construção de Perceptron\n",
    "\n",
    "https://aiml.com/what-is-a-perceptron/\n",
    "\n",
    "**Inputs**\n",
    "\n",
    "`x = [1/2, 2, 1]`\n",
    "\n",
    "**Weights**\n",
    "\n",
    "`w = [2, -1, 3]`\n",
    "\n",
    "**Sum**\n",
    "\n",
    "`x[0] x w[0] + ... + x[2] x w[2]`\n",
    "\n",
    "**Function(s)**\n",
    "\n",
    "...\n",
    "\n",
    "**Output**\n",
    "\n",
    "y"
   ]
  },
  {
   "cell_type": "code",
   "execution_count": 9,
   "metadata": {},
   "outputs": [],
   "source": [
    "from typing import List\n",
    "import math"
   ]
  },
  {
   "cell_type": "code",
   "execution_count": 21,
   "metadata": {},
   "outputs": [],
   "source": [
    "class Perception:\n",
    "\n",
    "    x: List\n",
    "    w: List\n",
    "    z: float\n",
    "    function: str\n",
    "\n",
    "    # Activation Functions\n",
    "    SIGMOID = \"SIGMOID\"\n",
    "    RELU = \"RELU\"\n",
    "\n",
    "    def __init__(self, x: List[float], w: List[float], function: str) -> None:\n",
    "\n",
    "        if len(x) != len(w):\n",
    "            raise Exception(\"Inputs and Weight must be the same size\")\n",
    "\n",
    "        self.x = x\n",
    "        self.w = w\n",
    "        self.function = function\n",
    "\n",
    "    def process(self) -> float:\n",
    "        self.sum_inputs()\n",
    "\n",
    "        match self.function:\n",
    "            case self.SIGMOID:\n",
    "                return self.calculate_sigmoid()\n",
    "            \n",
    "            case self.RELU:\n",
    "                return self.calculate_relu()\n",
    "            \n",
    "            case _:\n",
    "                raise Exception(\"Not implemented\")\n",
    "\n",
    "\n",
    "    def sum_inputs(self) -> None:\n",
    "        z = 0\n",
    "        for x, w in zip(self.x, self.w):\n",
    "            z += x * w\n",
    "\n",
    "        self.z = z\n",
    "\n",
    "    def calculate_sigmoid(self) -> float:\n",
    "        return 1 / (1 + math.pow(math.e, -(self.z)))\n",
    "    \n",
    "    def calculate_relu(self) -> float:\n",
    "        return max(0, self.z)"
   ]
  },
  {
   "cell_type": "code",
   "execution_count": 28,
   "metadata": {},
   "outputs": [
    {
     "data": {
      "text/plain": [
       "20.23"
      ]
     },
     "metadata": {},
     "output_type": "display_data"
    },
    {
     "data": {
      "text/plain": [
       "0.9999999983623442"
      ]
     },
     "metadata": {},
     "output_type": "display_data"
    }
   ],
   "source": [
    "x = [7, 28]\n",
    "w = [1/4, 33/50]\n",
    "\n",
    "p = Perception(x,w, Perception.SIGMOID)\n",
    "output = p.process()\n",
    "\n",
    "display(p.z, output)"
   ]
  }
 ],
 "metadata": {
  "kernelspec": {
   "display_name": "Python 3",
   "language": "python",
   "name": "python3"
  },
  "language_info": {
   "codemirror_mode": {
    "name": "ipython",
    "version": 3
   },
   "file_extension": ".py",
   "mimetype": "text/x-python",
   "name": "python",
   "nbconvert_exporter": "python",
   "pygments_lexer": "ipython3",
   "version": "3.10.12"
  }
 },
 "nbformat": 4,
 "nbformat_minor": 2
}
