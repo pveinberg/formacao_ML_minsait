{
 "cells": [
  {
   "cell_type": "code",
   "execution_count": 2,
   "metadata": {},
   "outputs": [],
   "source": [
    "import numpy as np"
   ]
  },
  {
   "cell_type": "code",
   "execution_count": 16,
   "metadata": {},
   "outputs": [
    {
     "data": {
      "text/plain": [
       "([True, False, False, False], list)"
      ]
     },
     "execution_count": 16,
     "metadata": {},
     "output_type": "execute_result"
    }
   ],
   "source": [
    "# conjunto básico de dados\n",
    "data = np.array([[True,True], [True,False], [False,True], [False,False]])\n",
    "\n",
    "# definição de viés (bias)\n",
    "bias = -1\n",
    "\n",
    "\n",
    "# resultado de 'and'  \n",
    "_and = [x[0] and x[1]  for x in data]\n",
    "\n",
    "# resultado de 'or'\n",
    "_or = [x[0] or x[1]  for x in data]\n",
    "\n",
    "_and, type(_or)"
   ]
  },
  {
   "cell_type": "code",
   "execution_count": 20,
   "metadata": {},
   "outputs": [
    {
     "name": "stdout",
     "output_type": "stream",
     "text": [
      "(array([ True,  True]), True) True\n",
      "(array([ True, False]), False) False\n",
      "(array([False,  True]), False) False\n",
      "(array([False, False]), False) True\n"
     ]
    }
   ],
   "source": [
    "def my_perception(input_:np.array, bias_):\n",
    "    pred = bool(input_.sum() + bias_)\n",
    "    return pred\n",
    "\n",
    "# testando 'and'\n",
    "for row in zip(data, _and): \n",
    "    print(row, my_perception(row[0], bias))"
   ]
  }
 ],
 "metadata": {
  "kernelspec": {
   "display_name": "Python 3",
   "language": "python",
   "name": "python3"
  },
  "language_info": {
   "codemirror_mode": {
    "name": "ipython",
    "version": 3
   },
   "file_extension": ".py",
   "mimetype": "text/x-python",
   "name": "python",
   "nbconvert_exporter": "python",
   "pygments_lexer": "ipython3",
   "version": "3.10.11"
  }
 },
 "nbformat": 4,
 "nbformat_minor": 2
}
