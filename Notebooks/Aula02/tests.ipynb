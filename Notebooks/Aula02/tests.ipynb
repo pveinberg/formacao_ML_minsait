{
 "cells": [
  {
   "cell_type": "code",
   "execution_count": 18,
   "metadata": {},
   "outputs": [],
   "source": [
    "import numpy as np"
   ]
  },
  {
   "cell_type": "code",
   "execution_count": 19,
   "metadata": {},
   "outputs": [
    {
     "data": {
      "text/plain": [
       "([True, False, False, False], list)"
      ]
     },
     "execution_count": 19,
     "metadata": {},
     "output_type": "execute_result"
    }
   ],
   "source": [
    "# conjunto básico de dados\n",
    "data = np.array([[True,True], [True,False], [False,True], [False,False]])\n",
    "\n",
    "# definição de viés (bias)\n",
    "bias = -2\n",
    "\n",
    "\n",
    "# resultado de 'and'  \n",
    "_and = [x[0] and x[1]  for x in data]\n",
    "\n",
    "# resultado de 'or'\n",
    "_or = [x[0] or x[1]  for x in data]\n",
    "\n",
    "_and, type(_or)"
   ]
  },
  {
   "cell_type": "code",
   "execution_count": 20,
   "metadata": {},
   "outputs": [
    {
     "name": "stdout",
     "output_type": "stream",
     "text": [
      "(array([ True,  True]), True) True\n",
      "(array([ True, False]), True) True\n",
      "(array([False,  True]), True) True\n",
      "(array([False, False]), False) True\n"
     ]
    }
   ],
   "source": [
    "def my_perception(input_:np.array, bias_):\n",
    "    pred = input_.sum() + bias_\n",
    "    return pred <= 0\n",
    "\n",
    "# testando 'and'\n",
    "for row in zip(data, _or): \n",
    "    print(row, my_perception(row[0], bias))"
   ]
  },
  {
   "cell_type": "code",
   "execution_count": 22,
   "metadata": {},
   "outputs": [
    {
     "data": {
      "text/plain": [
       "6.0"
      ]
     },
     "execution_count": 22,
     "metadata": {},
     "output_type": "execute_result"
    }
   ],
   "source": [
    "# som(atributos) + soma(calsses) /2 \n",
    "\n",
    "atributos = 10\n",
    "classes = 2\n",
    "quantidade_neuronios = (atributos+classes)/2\n",
    "\n",
    "epoc é quantidade de rodadas para ajustar os pessos usando backpropagation"
   ]
  }
 ],
 "metadata": {
  "kernelspec": {
   "display_name": "Python 3",
   "language": "python",
   "name": "python3"
  },
  "language_info": {
   "codemirror_mode": {
    "name": "ipython",
    "version": 3
   },
   "file_extension": ".py",
   "mimetype": "text/x-python",
   "name": "python",
   "nbconvert_exporter": "python",
   "pygments_lexer": "ipython3",
   "version": "3.10.12"
  }
 },
 "nbformat": 4,
 "nbformat_minor": 2
}
