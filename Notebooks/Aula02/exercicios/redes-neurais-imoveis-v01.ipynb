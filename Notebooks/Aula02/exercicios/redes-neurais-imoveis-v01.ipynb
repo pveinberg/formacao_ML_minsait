{
 "cells": [
  {
   "cell_type": "markdown",
   "metadata": {},
   "source": [
    "REAL STATE \n",
    "=========="
   ]
  },
  {
   "cell_type": "markdown",
   "metadata": {},
   "source": [
    "A partir de um dataset com dados de imóveis (metragem, cidade, bairro, quartos, etc), queremos prever o valor de cada registro usando redes neurais.\n",
    "\n",
    "O dataset foi obtido a partir de _webscrapping_ em sites de publicação de anúncios "
   ]
  },
  {
   "cell_type": "markdown",
   "metadata": {},
   "source": [
    "## Imports"
   ]
  },
  {
   "cell_type": "code",
   "execution_count": 142,
   "metadata": {},
   "outputs": [],
   "source": [
    "from tensorflow import keras\n",
    "import matplotlib.pyplot as plt\n",
    "import seaborn as sns\n",
    "import pandas as pd\n",
    "import numpy as np\n",
    "\n",
    "from sklearn.preprocessing import OneHotEncoder, LabelEncoder\n",
    "from sklearn.model_selection import train_test_split\n",
    "from sklearn.metrics import r2_score\n",
    "\n",
    "from keras.layers import Dense, Activation, Dropout, Flatten\n",
    "from keras.models import Sequential\n",
    "from keras.callbacks import EarlyStopping"
   ]
  },
  {
   "cell_type": "markdown",
   "metadata": {},
   "source": [
    "## Config"
   ]
  },
  {
   "cell_type": "code",
   "execution_count": 143,
   "metadata": {},
   "outputs": [],
   "source": [
    "# Evita mostrar números em formato científico (para melhor visualização)\n",
    "np.set_printoptions(suppress=True)\n",
    "\n",
    "# tamanhos padrão e visualização de plots\n",
    "PLOT_WIDE = (14,7)\n",
    "PLOT_MEDIUM = (10,8)\n",
    "sns.set_style(\"darkgrid\")"
   ]
  },
  {
   "cell_type": "markdown",
   "metadata": {},
   "source": [
    "## Load data"
   ]
  },
  {
   "cell_type": "code",
   "execution_count": 144,
   "metadata": {},
   "outputs": [],
   "source": [
    "data = pd.read_csv('./../../../../../python/other_python/zap-project/results/imoveis_data.csv')"
   ]
  },
  {
   "cell_type": "code",
   "execution_count": 145,
   "metadata": {},
   "outputs": [
    {
     "data": {
      "text/plain": [
       "(20709, 12)"
      ]
     },
     "execution_count": 145,
     "metadata": {},
     "output_type": "execute_result"
    }
   ],
   "source": [
    "data.shape"
   ]
  },
  {
   "cell_type": "code",
   "execution_count": 146,
   "metadata": {},
   "outputs": [
    {
     "data": {
      "text/html": [
       "<div>\n",
       "<style scoped>\n",
       "    .dataframe tbody tr th:only-of-type {\n",
       "        vertical-align: middle;\n",
       "    }\n",
       "\n",
       "    .dataframe tbody tr th {\n",
       "        vertical-align: top;\n",
       "    }\n",
       "\n",
       "    .dataframe thead th {\n",
       "        text-align: right;\n",
       "    }\n",
       "</style>\n",
       "<table border=\"1\" class=\"dataframe\">\n",
       "  <thead>\n",
       "    <tr style=\"text-align: right;\">\n",
       "      <th></th>\n",
       "      <th>Unnamed: 0</th>\n",
       "      <th>id</th>\n",
       "      <th>size</th>\n",
       "      <th>rooms</th>\n",
       "      <th>wc</th>\n",
       "      <th>garage_spots</th>\n",
       "      <th>price</th>\n",
       "      <th>neighborhood</th>\n",
       "      <th>city</th>\n",
       "      <th>update_time</th>\n",
       "      <th>price_sqm</th>\n",
       "      <th>link</th>\n",
       "    </tr>\n",
       "  </thead>\n",
       "  <tbody>\n",
       "    <tr>\n",
       "      <th>0</th>\n",
       "      <td>0.0</td>\n",
       "      <td>2528927815</td>\n",
       "      <td>130</td>\n",
       "      <td>3</td>\n",
       "      <td>3</td>\n",
       "      <td>2</td>\n",
       "      <td>2550000</td>\n",
       "      <td>Cabo Branco</td>\n",
       "      <td>João Pessoa</td>\n",
       "      <td>2023-08-16 19:33:46</td>\n",
       "      <td>19615.384615</td>\n",
       "      <td>NaN</td>\n",
       "    </tr>\n",
       "    <tr>\n",
       "      <th>1</th>\n",
       "      <td>1.0</td>\n",
       "      <td>2641054378</td>\n",
       "      <td>102</td>\n",
       "      <td>3</td>\n",
       "      <td>4</td>\n",
       "      <td>0</td>\n",
       "      <td>777695</td>\n",
       "      <td>Altiplano Cabo Branco</td>\n",
       "      <td>João Pessoa</td>\n",
       "      <td>2023-08-16 19:33:46</td>\n",
       "      <td>7624.460784</td>\n",
       "      <td>NaN</td>\n",
       "    </tr>\n",
       "    <tr>\n",
       "      <th>2</th>\n",
       "      <td>2.0</td>\n",
       "      <td>2617664208</td>\n",
       "      <td>66</td>\n",
       "      <td>3</td>\n",
       "      <td>1</td>\n",
       "      <td>1</td>\n",
       "      <td>755000</td>\n",
       "      <td>Ponta do Seixas</td>\n",
       "      <td>João Pessoa</td>\n",
       "      <td>2023-08-16 19:33:46</td>\n",
       "      <td>11439.393939</td>\n",
       "      <td>NaN</td>\n",
       "    </tr>\n",
       "    <tr>\n",
       "      <th>3</th>\n",
       "      <td>3.0</td>\n",
       "      <td>2612089563</td>\n",
       "      <td>108</td>\n",
       "      <td>3</td>\n",
       "      <td>3</td>\n",
       "      <td>1</td>\n",
       "      <td>375000</td>\n",
       "      <td>Tambaú</td>\n",
       "      <td>João Pessoa</td>\n",
       "      <td>2023-08-16 19:33:46</td>\n",
       "      <td>3472.222222</td>\n",
       "      <td>NaN</td>\n",
       "    </tr>\n",
       "    <tr>\n",
       "      <th>4</th>\n",
       "      <td>4.0</td>\n",
       "      <td>2530653710</td>\n",
       "      <td>57</td>\n",
       "      <td>2</td>\n",
       "      <td>2</td>\n",
       "      <td>1</td>\n",
       "      <td>178000</td>\n",
       "      <td>Ernesto Geisel</td>\n",
       "      <td>João Pessoa</td>\n",
       "      <td>2023-08-16 19:33:46</td>\n",
       "      <td>3122.807018</td>\n",
       "      <td>NaN</td>\n",
       "    </tr>\n",
       "  </tbody>\n",
       "</table>\n",
       "</div>"
      ],
      "text/plain": [
       "   Unnamed: 0          id  size  ...          update_time     price_sqm link\n",
       "0         0.0  2528927815   130  ...  2023-08-16 19:33:46  19615.384615  NaN\n",
       "1         1.0  2641054378   102  ...  2023-08-16 19:33:46   7624.460784  NaN\n",
       "2         2.0  2617664208    66  ...  2023-08-16 19:33:46  11439.393939  NaN\n",
       "3         3.0  2612089563   108  ...  2023-08-16 19:33:46   3472.222222  NaN\n",
       "4         4.0  2530653710    57  ...  2023-08-16 19:33:46   3122.807018  NaN\n",
       "\n",
       "[5 rows x 12 columns]"
      ]
     },
     "execution_count": 146,
     "metadata": {},
     "output_type": "execute_result"
    }
   ],
   "source": [
    "data.head()"
   ]
  },
  {
   "cell_type": "markdown",
   "metadata": {},
   "source": [
    "## Preprocessing"
   ]
  },
  {
   "cell_type": "code",
   "execution_count": 147,
   "metadata": {},
   "outputs": [],
   "source": [
    "# Limpar colunas desnecessárias \n",
    "data.drop(data.columns[[0, 1, 9, 10, 11]], axis=1, inplace=True)"
   ]
  },
  {
   "cell_type": "code",
   "execution_count": 148,
   "metadata": {},
   "outputs": [
    {
     "data": {
      "text/html": [
       "<div>\n",
       "<style scoped>\n",
       "    .dataframe tbody tr th:only-of-type {\n",
       "        vertical-align: middle;\n",
       "    }\n",
       "\n",
       "    .dataframe tbody tr th {\n",
       "        vertical-align: top;\n",
       "    }\n",
       "\n",
       "    .dataframe thead th {\n",
       "        text-align: right;\n",
       "    }\n",
       "</style>\n",
       "<table border=\"1\" class=\"dataframe\">\n",
       "  <thead>\n",
       "    <tr style=\"text-align: right;\">\n",
       "      <th></th>\n",
       "      <th>size</th>\n",
       "      <th>rooms</th>\n",
       "      <th>wc</th>\n",
       "      <th>garage_spots</th>\n",
       "      <th>price</th>\n",
       "      <th>neighborhood</th>\n",
       "      <th>city</th>\n",
       "    </tr>\n",
       "  </thead>\n",
       "  <tbody>\n",
       "    <tr>\n",
       "      <th>0</th>\n",
       "      <td>130</td>\n",
       "      <td>3</td>\n",
       "      <td>3</td>\n",
       "      <td>2</td>\n",
       "      <td>2550000</td>\n",
       "      <td>Cabo Branco</td>\n",
       "      <td>João Pessoa</td>\n",
       "    </tr>\n",
       "    <tr>\n",
       "      <th>1</th>\n",
       "      <td>102</td>\n",
       "      <td>3</td>\n",
       "      <td>4</td>\n",
       "      <td>0</td>\n",
       "      <td>777695</td>\n",
       "      <td>Altiplano Cabo Branco</td>\n",
       "      <td>João Pessoa</td>\n",
       "    </tr>\n",
       "    <tr>\n",
       "      <th>2</th>\n",
       "      <td>66</td>\n",
       "      <td>3</td>\n",
       "      <td>1</td>\n",
       "      <td>1</td>\n",
       "      <td>755000</td>\n",
       "      <td>Ponta do Seixas</td>\n",
       "      <td>João Pessoa</td>\n",
       "    </tr>\n",
       "    <tr>\n",
       "      <th>3</th>\n",
       "      <td>108</td>\n",
       "      <td>3</td>\n",
       "      <td>3</td>\n",
       "      <td>1</td>\n",
       "      <td>375000</td>\n",
       "      <td>Tambaú</td>\n",
       "      <td>João Pessoa</td>\n",
       "    </tr>\n",
       "    <tr>\n",
       "      <th>4</th>\n",
       "      <td>57</td>\n",
       "      <td>2</td>\n",
       "      <td>2</td>\n",
       "      <td>1</td>\n",
       "      <td>178000</td>\n",
       "      <td>Ernesto Geisel</td>\n",
       "      <td>João Pessoa</td>\n",
       "    </tr>\n",
       "  </tbody>\n",
       "</table>\n",
       "</div>"
      ],
      "text/plain": [
       "   size rooms wc garage_spots    price           neighborhood         city\n",
       "0   130     3  3            2  2550000            Cabo Branco  João Pessoa\n",
       "1   102     3  4            0   777695  Altiplano Cabo Branco  João Pessoa\n",
       "2    66     3  1            1   755000        Ponta do Seixas  João Pessoa\n",
       "3   108     3  3            1   375000                 Tambaú  João Pessoa\n",
       "4    57     2  2            1   178000         Ernesto Geisel  João Pessoa"
      ]
     },
     "execution_count": 148,
     "metadata": {},
     "output_type": "execute_result"
    }
   ],
   "source": [
    "data.head()"
   ]
  },
  {
   "cell_type": "code",
   "execution_count": 149,
   "metadata": {},
   "outputs": [
    {
     "data": {
      "text/plain": [
       "size            0\n",
       "rooms           0\n",
       "wc              0\n",
       "garage_spots    0\n",
       "price           0\n",
       "neighborhood    0\n",
       "city            0\n",
       "dtype: int64"
      ]
     },
     "execution_count": 149,
     "metadata": {},
     "output_type": "execute_result"
    }
   ],
   "source": [
    "# missing values\n",
    "data.isna().sum()"
   ]
  },
  {
   "cell_type": "code",
   "execution_count": 150,
   "metadata": {},
   "outputs": [
    {
     "data": {
      "text/plain": [
       "0"
      ]
     },
     "execution_count": 150,
     "metadata": {},
     "output_type": "execute_result"
    }
   ],
   "source": [
    "# Duplicates\n",
    "data.drop_duplicates(keep='first', inplace=True)\n",
    "data.duplicated().sum()"
   ]
  },
  {
   "cell_type": "code",
   "execution_count": 151,
   "metadata": {},
   "outputs": [
    {
     "data": {
      "text/plain": [
       "array(['3', '2', '4', '20', '1', '5', '17', '6', '1 - 2', '2 - 3', '8',\n",
       "       '13', '3 - 4', '1 - 3'], dtype=object)"
      ]
     },
     "execution_count": 151,
     "metadata": {},
     "output_type": "execute_result"
    }
   ],
   "source": [
    "\n",
    "# nas características rooms, wc e garage_spots temos alguns valores não numéricos que indicam, por exemplo 2-3 \\\n",
    "# vamos rodar uma função para calcular a média desses valores e ter um resultado mais acurado \n",
    "data.rooms.unique()"
   ]
  },
  {
   "cell_type": "code",
   "execution_count": 152,
   "metadata": {},
   "outputs": [],
   "source": [
    "# Tratamento de valores numéricos que estão constando como str\n",
    "# por exemplo: rooms nem sempre é número: 1 - 2\n",
    "\n",
    "def update_data(i):\n",
    "    output = None\n",
    "    try:\n",
    "        output = int(i)\n",
    "    except:\n",
    "        output = np.array(i.split(' - ')).astype(int).mean()\n",
    "    \n",
    "    return output\n",
    "\n",
    "assert update_data('1') == 1, 'Não foi possível castear to int'\n",
    "assert update_data('2 - 3') == 2.5, 'Não foi possível castear to int'\n"
   ]
  },
  {
   "cell_type": "code",
   "execution_count": 153,
   "metadata": {},
   "outputs": [
    {
     "data": {
      "text/plain": [
       "(size              int64\n",
       " rooms           float64\n",
       " wc              float64\n",
       " garage_spots    float64\n",
       " price             int64\n",
       " neighborhood     object\n",
       " city             object\n",
       " dtype: object,\n",
       "    size  rooms   wc  garage_spots    price           neighborhood         city\n",
       " 0   130    3.0  3.0           2.0  2550000            Cabo Branco  João Pessoa\n",
       " 1   102    3.0  4.0           0.0   777695  Altiplano Cabo Branco  João Pessoa\n",
       " 2    66    3.0  1.0           1.0   755000        Ponta do Seixas  João Pessoa\n",
       " 3   108    3.0  3.0           1.0   375000                 Tambaú  João Pessoa\n",
       " 4    57    2.0  2.0           1.0   178000         Ernesto Geisel  João Pessoa)"
      ]
     },
     "execution_count": 153,
     "metadata": {},
     "output_type": "execute_result"
    }
   ],
   "source": [
    "# Atualizar 3 colunas\n",
    "for col in ['rooms', 'wc', 'garage_spots']:\n",
    "    data[col] = data[col].map(lambda x : update_data(x)).astype(float)\n",
    "\n",
    "data.dtypes, data.head()"
   ]
  },
  {
   "cell_type": "code",
   "execution_count": 154,
   "metadata": {},
   "outputs": [
    {
     "name": "stdout",
     "output_type": "stream",
     "text": [
      "neighborhood\n",
      "city\n"
     ]
    },
    {
     "data": {
      "text/html": [
       "<div>\n",
       "<style scoped>\n",
       "    .dataframe tbody tr th:only-of-type {\n",
       "        vertical-align: middle;\n",
       "    }\n",
       "\n",
       "    .dataframe tbody tr th {\n",
       "        vertical-align: top;\n",
       "    }\n",
       "\n",
       "    .dataframe thead th {\n",
       "        text-align: right;\n",
       "    }\n",
       "</style>\n",
       "<table border=\"1\" class=\"dataframe\">\n",
       "  <thead>\n",
       "    <tr style=\"text-align: right;\">\n",
       "      <th></th>\n",
       "      <th>size</th>\n",
       "      <th>rooms</th>\n",
       "      <th>wc</th>\n",
       "      <th>garage_spots</th>\n",
       "      <th>price</th>\n",
       "      <th>neighborhood</th>\n",
       "      <th>city</th>\n",
       "    </tr>\n",
       "  </thead>\n",
       "  <tbody>\n",
       "    <tr>\n",
       "      <th>0</th>\n",
       "      <td>130</td>\n",
       "      <td>3.0</td>\n",
       "      <td>3.0</td>\n",
       "      <td>2.0</td>\n",
       "      <td>2550000</td>\n",
       "      <td>23</td>\n",
       "      <td>2</td>\n",
       "    </tr>\n",
       "    <tr>\n",
       "      <th>1</th>\n",
       "      <td>102</td>\n",
       "      <td>3.0</td>\n",
       "      <td>4.0</td>\n",
       "      <td>0.0</td>\n",
       "      <td>777695</td>\n",
       "      <td>4</td>\n",
       "      <td>2</td>\n",
       "    </tr>\n",
       "    <tr>\n",
       "      <th>2</th>\n",
       "      <td>66</td>\n",
       "      <td>3.0</td>\n",
       "      <td>1.0</td>\n",
       "      <td>1.0</td>\n",
       "      <td>755000</td>\n",
       "      <td>115</td>\n",
       "      <td>2</td>\n",
       "    </tr>\n",
       "    <tr>\n",
       "      <th>3</th>\n",
       "      <td>108</td>\n",
       "      <td>3.0</td>\n",
       "      <td>3.0</td>\n",
       "      <td>1.0</td>\n",
       "      <td>375000</td>\n",
       "      <td>137</td>\n",
       "      <td>2</td>\n",
       "    </tr>\n",
       "    <tr>\n",
       "      <th>4</th>\n",
       "      <td>57</td>\n",
       "      <td>2.0</td>\n",
       "      <td>2.0</td>\n",
       "      <td>1.0</td>\n",
       "      <td>178000</td>\n",
       "      <td>53</td>\n",
       "      <td>2</td>\n",
       "    </tr>\n",
       "  </tbody>\n",
       "</table>\n",
       "</div>"
      ],
      "text/plain": [
       "   size  rooms   wc  garage_spots    price  neighborhood  city\n",
       "0   130    3.0  3.0           2.0  2550000            23     2\n",
       "1   102    3.0  4.0           0.0   777695             4     2\n",
       "2    66    3.0  1.0           1.0   755000           115     2\n",
       "3   108    3.0  3.0           1.0   375000           137     2\n",
       "4    57    2.0  2.0           1.0   178000            53     2"
      ]
     },
     "execution_count": 154,
     "metadata": {},
     "output_type": "execute_result"
    }
   ],
   "source": [
    "# label encoder para cidade e bairro\n",
    "\n",
    "encode = LabelEncoder()\n",
    "for col in data.select_dtypes('object'):\n",
    "    print(col)\n",
    "    data[col] = encode.fit_transform(data[col])\n",
    "\n",
    "data.head()"
   ]
  },
  {
   "cell_type": "markdown",
   "metadata": {},
   "source": [
    "## Particionamento da base"
   ]
  },
  {
   "cell_type": "code",
   "execution_count": 155,
   "metadata": {},
   "outputs": [],
   "source": [
    "y = data['price']\n",
    "X = data.drop('price', axis=1)"
   ]
  },
  {
   "cell_type": "code",
   "execution_count": 156,
   "metadata": {},
   "outputs": [
    {
     "name": "stderr",
     "output_type": "stream",
     "text": [
      "/tmp/ipykernel_11352/739232056.py:1: FutureWarning: The behavior of `series[i:j]` with an integer-dtype index is deprecated. In a future version, this will be treated as *label-based* indexing, consistent with e.g. `series[i]` lookups. To retain the old behavior, use `series.iloc[i:j]`. To get the future behavior, use `series.loc[i:j]`.\n",
      "  y[:5], X[:5]\n"
     ]
    },
    {
     "data": {
      "text/plain": [
       "(0    2550000\n",
       " 1     777695\n",
       " 2     755000\n",
       " 3     375000\n",
       " 4     178000\n",
       " Name: price, dtype: int64,\n",
       "    size  rooms   wc  garage_spots  neighborhood  city\n",
       " 0   130    3.0  3.0           2.0            23     2\n",
       " 1   102    3.0  4.0           0.0             4     2\n",
       " 2    66    3.0  1.0           1.0           115     2\n",
       " 3   108    3.0  3.0           1.0           137     2\n",
       " 4    57    2.0  2.0           1.0            53     2)"
      ]
     },
     "execution_count": 156,
     "metadata": {},
     "output_type": "execute_result"
    }
   ],
   "source": [
    "y[:5], X[:5]"
   ]
  },
  {
   "cell_type": "code",
   "execution_count": 157,
   "metadata": {},
   "outputs": [
    {
     "data": {
      "text/plain": [
       "0        0.017347\n",
       "1        0.005290\n",
       "2        0.005136\n",
       "3        0.002551\n",
       "4        0.001211\n",
       "           ...   \n",
       "20702    0.000471\n",
       "20705    0.002347\n",
       "20706    0.003558\n",
       "20707    0.003197\n",
       "20708    0.002551\n",
       "Name: price, Length: 17188, dtype: float64"
      ]
     },
     "execution_count": 157,
     "metadata": {},
     "output_type": "execute_result"
    }
   ],
   "source": [
    "# Normalizar\n",
    "y /= np.max(y)\n",
    "y"
   ]
  },
  {
   "cell_type": "code",
   "execution_count": 158,
   "metadata": {},
   "outputs": [
    {
     "data": {
      "text/html": [
       "<div>\n",
       "<style scoped>\n",
       "    .dataframe tbody tr th:only-of-type {\n",
       "        vertical-align: middle;\n",
       "    }\n",
       "\n",
       "    .dataframe tbody tr th {\n",
       "        vertical-align: top;\n",
       "    }\n",
       "\n",
       "    .dataframe thead th {\n",
       "        text-align: right;\n",
       "    }\n",
       "</style>\n",
       "<table border=\"1\" class=\"dataframe\">\n",
       "  <thead>\n",
       "    <tr style=\"text-align: right;\">\n",
       "      <th></th>\n",
       "      <th>size</th>\n",
       "      <th>rooms</th>\n",
       "      <th>wc</th>\n",
       "      <th>garage_spots</th>\n",
       "      <th>neighborhood</th>\n",
       "      <th>city</th>\n",
       "    </tr>\n",
       "  </thead>\n",
       "  <tbody>\n",
       "    <tr>\n",
       "      <th>0</th>\n",
       "      <td>0.147895</td>\n",
       "      <td>0.15</td>\n",
       "      <td>0.166667</td>\n",
       "      <td>0.04</td>\n",
       "      <td>0.152318</td>\n",
       "      <td>0.333333</td>\n",
       "    </tr>\n",
       "    <tr>\n",
       "      <th>1</th>\n",
       "      <td>0.116041</td>\n",
       "      <td>0.15</td>\n",
       "      <td>0.222222</td>\n",
       "      <td>0.00</td>\n",
       "      <td>0.026490</td>\n",
       "      <td>0.333333</td>\n",
       "    </tr>\n",
       "    <tr>\n",
       "      <th>2</th>\n",
       "      <td>0.075085</td>\n",
       "      <td>0.15</td>\n",
       "      <td>0.055556</td>\n",
       "      <td>0.02</td>\n",
       "      <td>0.761589</td>\n",
       "      <td>0.333333</td>\n",
       "    </tr>\n",
       "    <tr>\n",
       "      <th>3</th>\n",
       "      <td>0.122867</td>\n",
       "      <td>0.15</td>\n",
       "      <td>0.166667</td>\n",
       "      <td>0.02</td>\n",
       "      <td>0.907285</td>\n",
       "      <td>0.333333</td>\n",
       "    </tr>\n",
       "    <tr>\n",
       "      <th>4</th>\n",
       "      <td>0.064846</td>\n",
       "      <td>0.10</td>\n",
       "      <td>0.111111</td>\n",
       "      <td>0.02</td>\n",
       "      <td>0.350993</td>\n",
       "      <td>0.333333</td>\n",
       "    </tr>\n",
       "    <tr>\n",
       "      <th>...</th>\n",
       "      <td>...</td>\n",
       "      <td>...</td>\n",
       "      <td>...</td>\n",
       "      <td>...</td>\n",
       "      <td>...</td>\n",
       "      <td>...</td>\n",
       "    </tr>\n",
       "    <tr>\n",
       "      <th>20702</th>\n",
       "      <td>0.011377</td>\n",
       "      <td>0.10</td>\n",
       "      <td>0.055556</td>\n",
       "      <td>0.02</td>\n",
       "      <td>0.629139</td>\n",
       "      <td>0.333333</td>\n",
       "    </tr>\n",
       "    <tr>\n",
       "      <th>20705</th>\n",
       "      <td>0.093288</td>\n",
       "      <td>0.15</td>\n",
       "      <td>0.111111</td>\n",
       "      <td>0.02</td>\n",
       "      <td>0.476821</td>\n",
       "      <td>0.833333</td>\n",
       "    </tr>\n",
       "    <tr>\n",
       "      <th>20706</th>\n",
       "      <td>0.068259</td>\n",
       "      <td>0.15</td>\n",
       "      <td>0.166667</td>\n",
       "      <td>0.04</td>\n",
       "      <td>0.582781</td>\n",
       "      <td>0.833333</td>\n",
       "    </tr>\n",
       "    <tr>\n",
       "      <th>20707</th>\n",
       "      <td>0.071672</td>\n",
       "      <td>0.15</td>\n",
       "      <td>0.055556</td>\n",
       "      <td>0.02</td>\n",
       "      <td>0.192053</td>\n",
       "      <td>0.833333</td>\n",
       "    </tr>\n",
       "    <tr>\n",
       "      <th>20708</th>\n",
       "      <td>0.102389</td>\n",
       "      <td>0.15</td>\n",
       "      <td>0.111111</td>\n",
       "      <td>0.04</td>\n",
       "      <td>0.019868</td>\n",
       "      <td>0.500000</td>\n",
       "    </tr>\n",
       "  </tbody>\n",
       "</table>\n",
       "<p>17188 rows × 6 columns</p>\n",
       "</div>"
      ],
      "text/plain": [
       "           size  rooms        wc  garage_spots  neighborhood      city\n",
       "0      0.147895   0.15  0.166667          0.04      0.152318  0.333333\n",
       "1      0.116041   0.15  0.222222          0.00      0.026490  0.333333\n",
       "2      0.075085   0.15  0.055556          0.02      0.761589  0.333333\n",
       "3      0.122867   0.15  0.166667          0.02      0.907285  0.333333\n",
       "4      0.064846   0.10  0.111111          0.02      0.350993  0.333333\n",
       "...         ...    ...       ...           ...           ...       ...\n",
       "20702  0.011377   0.10  0.055556          0.02      0.629139  0.333333\n",
       "20705  0.093288   0.15  0.111111          0.02      0.476821  0.833333\n",
       "20706  0.068259   0.15  0.166667          0.04      0.582781  0.833333\n",
       "20707  0.071672   0.15  0.055556          0.02      0.192053  0.833333\n",
       "20708  0.102389   0.15  0.111111          0.04      0.019868  0.500000\n",
       "\n",
       "[17188 rows x 6 columns]"
      ]
     },
     "execution_count": 158,
     "metadata": {},
     "output_type": "execute_result"
    }
   ],
   "source": [
    "X /= np.max(X, axis=0)\n",
    "X"
   ]
  },
  {
   "cell_type": "code",
   "execution_count": 159,
   "metadata": {},
   "outputs": [],
   "source": [
    "# split train, test\n",
    "X_train, X_test, y_train, y_test = train_test_split(X, y, test_size=0.20, random_state=42)"
   ]
  },
  {
   "cell_type": "code",
   "execution_count": 160,
   "metadata": {},
   "outputs": [
    {
     "name": "stdout",
     "output_type": "stream",
     "text": [
      "X_train:  (13750, 6)\n",
      "X_test:  (3438, 6)\n",
      "y_train:  (13750,)\n",
      "y_test:  (3438,)\n"
     ]
    }
   ],
   "source": [
    "print('X_train: ', X_train.shape)\n",
    "print('X_test: ', X_test.shape)\n",
    "print('y_train: ', y_train.shape)\n",
    "print('y_test: ', y_test.shape)"
   ]
  },
  {
   "cell_type": "code",
   "execution_count": 161,
   "metadata": {},
   "outputs": [],
   "source": [
    "# split train, validate\n",
    "# do conjunto de treino, selecionar 20% para validação\n",
    "X_train, X_val, y_train, y_val = train_test_split(X_train, y_train, test_size=0.20, random_state=42)"
   ]
  },
  {
   "cell_type": "code",
   "execution_count": 162,
   "metadata": {},
   "outputs": [],
   "source": [
    "# Reshaping y\n",
    "# y_train = np.array(y_train).reshape(-1,1)\n",
    "# y_val = np.array(y_val).reshape(-1,1)\n",
    "# y_test = np.array(y_test).reshape(-1,1)"
   ]
  },
  {
   "cell_type": "code",
   "execution_count": 163,
   "metadata": {},
   "outputs": [
    {
     "name": "stdout",
     "output_type": "stream",
     "text": [
      "X_train:  (11000, 6)\n",
      "X_val:  (2750, 6)\n",
      "X_test:  (3438, 6)\n",
      "y_train:  (11000,)\n",
      "y_val:  (2750,)\n",
      "y_test:  (3438,)\n"
     ]
    }
   ],
   "source": [
    "print('X_train: ', X_train.shape)\n",
    "print('X_val: ', X_val.shape)\n",
    "print('X_test: ', X_test.shape)\n",
    "print('y_train: ', y_train.shape)\n",
    "print('y_val: ', y_val.shape)\n",
    "print('y_test: ', y_test.shape)\n"
   ]
  },
  {
   "cell_type": "markdown",
   "metadata": {},
   "source": [
    "## Treinamento, definição de arquitetura"
   ]
  },
  {
   "cell_type": "code",
   "execution_count": 164,
   "metadata": {},
   "outputs": [],
   "source": [
    "model = Sequential()\n",
    "\n",
    "model.add(Flatten())\n",
    "model.add(Dense(units=6, activation='relu', input_dim=12))\n",
    "model.add(Dropout(0.2))\n",
    "model.add(Dense(units=6, activation='relu'))\n",
    "model.add(Dropout(0.2))\n",
    "model.add(Dense(units=6, activation='sigmoid'))"
   ]
  },
  {
   "cell_type": "markdown",
   "metadata": {},
   "source": [
    "## Definição de otimizadores"
   ]
  },
  {
   "cell_type": "code",
   "execution_count": 167,
   "metadata": {},
   "outputs": [],
   "source": [
    "model.compile(loss = 'sparse_categorical_crossentropy', optimizer = 'Adam', metrics=[keras.metrics.MeanSquaredError()])"
   ]
  },
  {
   "cell_type": "code",
   "execution_count": 168,
   "metadata": {},
   "outputs": [
    {
     "name": "stdout",
     "output_type": "stream",
     "text": [
      "Epoch 1/100\n"
     ]
    },
    {
     "name": "stdout",
     "output_type": "stream",
     "text": [
      "344/344 [==============================] - 1s 2ms/step - loss: 0.7627 - mean_squared_error: 0.1774 - val_loss: 0.0557 - val_mean_squared_error: 0.1512\n",
      "Epoch 2/100\n",
      "344/344 [==============================] - 1s 2ms/step - loss: 0.0707 - mean_squared_error: 0.1595 - val_loss: 0.0027 - val_mean_squared_error: 0.1615\n",
      "Epoch 3/100\n",
      "344/344 [==============================] - 0s 1ms/step - loss: 0.0240 - mean_squared_error: 0.1622 - val_loss: 7.7049e-05 - val_mean_squared_error: 0.1649\n",
      "Epoch 4/100\n",
      "344/344 [==============================] - 0s 1ms/step - loss: 0.0080 - mean_squared_error: 0.1645 - val_loss: 4.6949e-06 - val_mean_squared_error: 0.1654\n",
      "Epoch 5/100\n",
      "344/344 [==============================] - 0s 1ms/step - loss: 0.0068 - mean_squared_error: 0.1650 - val_loss: 7.8275e-07 - val_mean_squared_error: 0.1655\n",
      "Epoch 6/100\n",
      "344/344 [==============================] - 1s 2ms/step - loss: 0.0048 - mean_squared_error: 0.1650 - val_loss: 1.7357e-07 - val_mean_squared_error: 0.1655\n",
      "Epoch 7/100\n",
      "344/344 [==============================] - 1s 2ms/step - loss: 0.0053 - mean_squared_error: 0.1652 - val_loss: 3.3032e-08 - val_mean_squared_error: 0.1655\n",
      "Epoch 8/100\n",
      "344/344 [==============================] - 1s 2ms/step - loss: 0.0047 - mean_squared_error: 0.1652 - val_loss: 4.5950e-09 - val_mean_squared_error: 0.1655\n",
      "Epoch 9/100\n",
      "344/344 [==============================] - 1s 2ms/step - loss: 0.0046 - mean_squared_error: 0.1652 - val_loss: 0.0000e+00 - val_mean_squared_error: 0.1655\n",
      "Epoch 10/100\n",
      "344/344 [==============================] - 1s 1ms/step - loss: 0.0028 - mean_squared_error: 0.1652 - val_loss: 0.0000e+00 - val_mean_squared_error: 0.1655\n",
      "Epoch 11/100\n",
      "344/344 [==============================] - 1s 2ms/step - loss: 0.0036 - mean_squared_error: 0.1651 - val_loss: 0.0000e+00 - val_mean_squared_error: 0.1655\n",
      "Epoch 12/100\n",
      "344/344 [==============================] - 0s 1ms/step - loss: 0.0025 - mean_squared_error: 0.1652 - val_loss: 0.0000e+00 - val_mean_squared_error: 0.1655\n",
      "Epoch 13/100\n",
      "344/344 [==============================] - 1s 2ms/step - loss: 0.0026 - mean_squared_error: 0.1652 - val_loss: 0.0000e+00 - val_mean_squared_error: 0.1655\n",
      "Epoch 13: early stopping\n"
     ]
    }
   ],
   "source": [
    "es = EarlyStopping(monitor='val_loss', min_delta=0.001, \\\n",
    "                   patience=10, verbose=1, mode='auto')\n",
    "\n",
    "historico = model.fit(X_train,\n",
    "                      y_train,\n",
    "                      epochs=100,\n",
    "                      verbose=1,\n",
    "                      validation_data=(X_val, y_val),\n",
    "                      callbacks=[es])\n"
   ]
  },
  {
   "cell_type": "code",
   "execution_count": 169,
   "metadata": {},
   "outputs": [
    {
     "name": "stdout",
     "output_type": "stream",
     "text": [
      "Model: \"sequential_7\"\n",
      "_________________________________________________________________\n",
      " Layer (type)                Output Shape              Param #   \n",
      "=================================================================\n",
      " flatten_7 (Flatten)         (None, 6)                 0         \n",
      "                                                                 \n",
      " dense_21 (Dense)            (None, 6)                 42        \n",
      "                                                                 \n",
      " dropout_12 (Dropout)        (None, 6)                 0         \n",
      "                                                                 \n",
      " dense_22 (Dense)            (None, 6)                 42        \n",
      "                                                                 \n",
      " dropout_13 (Dropout)        (None, 6)                 0         \n",
      "                                                                 \n",
      " dense_23 (Dense)            (None, 6)                 42        \n",
      "                                                                 \n",
      "=================================================================\n",
      "Total params: 126 (504.00 Byte)\n",
      "Trainable params: 126 (504.00 Byte)\n",
      "Non-trainable params: 0 (0.00 Byte)\n",
      "_________________________________________________________________\n"
     ]
    }
   ],
   "source": [
    "model.summary()"
   ]
  },
  {
   "cell_type": "code",
   "execution_count": 173,
   "metadata": {},
   "outputs": [
    {
     "name": "stdout",
     "output_type": "stream",
     "text": [
      "  1/108 [..............................] - ETA: 2s"
     ]
    },
    {
     "name": "stdout",
     "output_type": "stream",
     "text": [
      "108/108 [==============================] - 0s 1ms/step\n"
     ]
    },
    {
     "data": {
      "text/plain": [
       "(array([[0.999998  , 0.00000513, 0.00000121, 0.00000223, 0.00000712,\n",
       "         0.00006001],\n",
       "        [0.9999998 , 0.00000057, 0.0000001 , 0.00000021, 0.00000087,\n",
       "         0.00001081],\n",
       "        [0.99999917, 0.00000217, 0.00000046, 0.00000089, 0.0000031 ,\n",
       "         0.00003059],\n",
       "        ...,\n",
       "        [0.9999984 , 0.00000404, 0.00000093, 0.00000172, 0.00000564,\n",
       "         0.00004959],\n",
       "        [1.        , 0.00000001, 0.        , 0.        , 0.00000001,\n",
       "         0.00000028],\n",
       "        [1.        , 0.00000007, 0.00000001, 0.00000002, 0.00000011,\n",
       "         0.00000203]], dtype=float32),\n",
       " 655      0.002803\n",
       " 3930     0.003054\n",
       " 14779    0.003264\n",
       " 5702     0.002687\n",
       " 14199    0.001492\n",
       "            ...   \n",
       " 13786    0.002650\n",
       " 13947    0.003912\n",
       " 2478     0.002003\n",
       " 5436     0.009905\n",
       " 18929    0.007211\n",
       " Name: price, Length: 3438, dtype: float64)"
      ]
     },
     "execution_count": 173,
     "metadata": {},
     "output_type": "execute_result"
    }
   ],
   "source": [
    "y_pred = model.predict(X_test)\n",
    "y_pred, y_test"
   ]
  },
  {
   "cell_type": "markdown",
   "metadata": {},
   "source": [
    "## Avaliação do modelo"
   ]
  },
  {
   "cell_type": "markdown",
   "metadata": {},
   "source": [
    "## Regressão"
   ]
  }
 ],
 "metadata": {
  "kernelspec": {
   "display_name": "Python 3",
   "language": "python",
   "name": "python3"
  },
  "language_info": {
   "codemirror_mode": {
    "name": "ipython",
    "version": 3
   },
   "file_extension": ".py",
   "mimetype": "text/x-python",
   "name": "python",
   "nbconvert_exporter": "python",
   "pygments_lexer": "ipython3",
   "version": "3.10.12"
  }
 },
 "nbformat": 4,
 "nbformat_minor": 2
}
