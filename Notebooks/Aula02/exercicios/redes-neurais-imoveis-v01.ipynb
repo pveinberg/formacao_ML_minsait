{
 "cells": [
  {
   "cell_type": "markdown",
   "metadata": {},
   "source": [
    "Regression in real state \n",
    "========================"
   ]
  },
  {
   "cell_type": "markdown",
   "metadata": {},
   "source": [
    "A partir de um dataset com dados de imóveis (metragem, cidade, bairro, quartos, etc), queremos prever o valor de cada registro usando redes neurais.\n",
    "\n",
    "O dataset foi obtido a partir de _webscrapping_ em sites de publicação de anúncios "
   ]
  },
  {
   "cell_type": "markdown",
   "metadata": {},
   "source": [
    "## Imports"
   ]
  },
  {
   "cell_type": "code",
   "execution_count": 106,
   "metadata": {},
   "outputs": [
    {
     "name": "stdout",
     "output_type": "stream",
     "text": [
      "The autoreload extension is already loaded. To reload it, use:\n",
      "  %reload_ext autoreload\n"
     ]
    }
   ],
   "source": [
    "%load_ext autoreload\n",
    "%autoreload 2\n",
    "\n",
    "from tensorflow import keras\n",
    "import matplotlib.pyplot as plt\n",
    "import seaborn as sns\n",
    "import pandas as pd\n",
    "import numpy as np\n",
    "import math \n",
    "\n",
    "from sklearn.preprocessing import OneHotEncoder, LabelEncoder\n",
    "from sklearn.model_selection import train_test_split\n",
    "from sklearn.metrics import mean_absolute_error, mean_squared_error, mean_absolute_percentage_error, r2_score\n",
    "\n",
    "from keras.layers import Dense, Activation, Dropout, Flatten\n",
    "from keras.models import Sequential\n",
    "from keras.callbacks import EarlyStopping\n",
    "\n",
    "import sys\n",
    "\n",
    "sys.path.insert(1, '../')\n",
    "\n",
    "from src.plot import plot_heatmap\n",
    "from src.train import get_all_subsets, results_regression"
   ]
  },
  {
   "cell_type": "markdown",
   "metadata": {},
   "source": [
    "## Config"
   ]
  },
  {
   "cell_type": "code",
   "execution_count": 107,
   "metadata": {},
   "outputs": [],
   "source": [
    "# Evita mostrar números em formato científico (para melhor visualização)\n",
    "np.set_printoptions(suppress=True)\n",
    "\n",
    "# tamanhos padrão e visualização de plots\n",
    "PLOT_WIDE = (14,7)\n",
    "PLOT_MEDIUM = (10,8)\n",
    "sns.set_style(\"darkgrid\")"
   ]
  },
  {
   "cell_type": "markdown",
   "metadata": {},
   "source": [
    "## Load data"
   ]
  },
  {
   "cell_type": "code",
   "execution_count": 108,
   "metadata": {},
   "outputs": [],
   "source": [
    "data = pd.read_csv('./../../../../../python/other_python/zap-project/results/imoveis_data.csv')"
   ]
  },
  {
   "cell_type": "code",
   "execution_count": 109,
   "metadata": {},
   "outputs": [
    {
     "data": {
      "text/plain": [
       "(20709, 12)"
      ]
     },
     "execution_count": 109,
     "metadata": {},
     "output_type": "execute_result"
    }
   ],
   "source": [
    "data.shape"
   ]
  },
  {
   "cell_type": "code",
   "execution_count": 110,
   "metadata": {},
   "outputs": [
    {
     "data": {
      "text/html": [
       "<div>\n",
       "<style scoped>\n",
       "    .dataframe tbody tr th:only-of-type {\n",
       "        vertical-align: middle;\n",
       "    }\n",
       "\n",
       "    .dataframe tbody tr th {\n",
       "        vertical-align: top;\n",
       "    }\n",
       "\n",
       "    .dataframe thead th {\n",
       "        text-align: right;\n",
       "    }\n",
       "</style>\n",
       "<table border=\"1\" class=\"dataframe\">\n",
       "  <thead>\n",
       "    <tr style=\"text-align: right;\">\n",
       "      <th></th>\n",
       "      <th>Unnamed: 0</th>\n",
       "      <th>id</th>\n",
       "      <th>size</th>\n",
       "      <th>rooms</th>\n",
       "      <th>wc</th>\n",
       "      <th>garage_spots</th>\n",
       "      <th>price</th>\n",
       "      <th>neighborhood</th>\n",
       "      <th>city</th>\n",
       "      <th>update_time</th>\n",
       "      <th>price_sqm</th>\n",
       "      <th>link</th>\n",
       "    </tr>\n",
       "  </thead>\n",
       "  <tbody>\n",
       "    <tr>\n",
       "      <th>0</th>\n",
       "      <td>0.0</td>\n",
       "      <td>2528927815</td>\n",
       "      <td>130</td>\n",
       "      <td>3</td>\n",
       "      <td>3</td>\n",
       "      <td>2</td>\n",
       "      <td>2550000</td>\n",
       "      <td>Cabo Branco</td>\n",
       "      <td>João Pessoa</td>\n",
       "      <td>2023-08-16 19:33:46</td>\n",
       "      <td>19615.384615</td>\n",
       "      <td>NaN</td>\n",
       "    </tr>\n",
       "    <tr>\n",
       "      <th>1</th>\n",
       "      <td>1.0</td>\n",
       "      <td>2641054378</td>\n",
       "      <td>102</td>\n",
       "      <td>3</td>\n",
       "      <td>4</td>\n",
       "      <td>0</td>\n",
       "      <td>777695</td>\n",
       "      <td>Altiplano Cabo Branco</td>\n",
       "      <td>João Pessoa</td>\n",
       "      <td>2023-08-16 19:33:46</td>\n",
       "      <td>7624.460784</td>\n",
       "      <td>NaN</td>\n",
       "    </tr>\n",
       "    <tr>\n",
       "      <th>2</th>\n",
       "      <td>2.0</td>\n",
       "      <td>2617664208</td>\n",
       "      <td>66</td>\n",
       "      <td>3</td>\n",
       "      <td>1</td>\n",
       "      <td>1</td>\n",
       "      <td>755000</td>\n",
       "      <td>Ponta do Seixas</td>\n",
       "      <td>João Pessoa</td>\n",
       "      <td>2023-08-16 19:33:46</td>\n",
       "      <td>11439.393939</td>\n",
       "      <td>NaN</td>\n",
       "    </tr>\n",
       "    <tr>\n",
       "      <th>3</th>\n",
       "      <td>3.0</td>\n",
       "      <td>2612089563</td>\n",
       "      <td>108</td>\n",
       "      <td>3</td>\n",
       "      <td>3</td>\n",
       "      <td>1</td>\n",
       "      <td>375000</td>\n",
       "      <td>Tambaú</td>\n",
       "      <td>João Pessoa</td>\n",
       "      <td>2023-08-16 19:33:46</td>\n",
       "      <td>3472.222222</td>\n",
       "      <td>NaN</td>\n",
       "    </tr>\n",
       "    <tr>\n",
       "      <th>4</th>\n",
       "      <td>4.0</td>\n",
       "      <td>2530653710</td>\n",
       "      <td>57</td>\n",
       "      <td>2</td>\n",
       "      <td>2</td>\n",
       "      <td>1</td>\n",
       "      <td>178000</td>\n",
       "      <td>Ernesto Geisel</td>\n",
       "      <td>João Pessoa</td>\n",
       "      <td>2023-08-16 19:33:46</td>\n",
       "      <td>3122.807018</td>\n",
       "      <td>NaN</td>\n",
       "    </tr>\n",
       "  </tbody>\n",
       "</table>\n",
       "</div>"
      ],
      "text/plain": [
       "   Unnamed: 0          id  size rooms wc garage_spots    price  \\\n",
       "0         0.0  2528927815   130     3  3            2  2550000   \n",
       "1         1.0  2641054378   102     3  4            0   777695   \n",
       "2         2.0  2617664208    66     3  1            1   755000   \n",
       "3         3.0  2612089563   108     3  3            1   375000   \n",
       "4         4.0  2530653710    57     2  2            1   178000   \n",
       "\n",
       "            neighborhood         city          update_time     price_sqm link  \n",
       "0            Cabo Branco  João Pessoa  2023-08-16 19:33:46  19615.384615  NaN  \n",
       "1  Altiplano Cabo Branco  João Pessoa  2023-08-16 19:33:46   7624.460784  NaN  \n",
       "2        Ponta do Seixas  João Pessoa  2023-08-16 19:33:46  11439.393939  NaN  \n",
       "3                 Tambaú  João Pessoa  2023-08-16 19:33:46   3472.222222  NaN  \n",
       "4         Ernesto Geisel  João Pessoa  2023-08-16 19:33:46   3122.807018  NaN  "
      ]
     },
     "execution_count": 110,
     "metadata": {},
     "output_type": "execute_result"
    }
   ],
   "source": [
    "data.head()"
   ]
  },
  {
   "cell_type": "markdown",
   "metadata": {},
   "source": [
    "## Preprocessing"
   ]
  },
  {
   "cell_type": "code",
   "execution_count": 111,
   "metadata": {},
   "outputs": [
    {
     "data": {
      "text/plain": [
       "[(0, 'Unnamed: 0'),\n",
       " (1, 'id'),\n",
       " (2, 'size'),\n",
       " (3, 'rooms'),\n",
       " (4, 'wc'),\n",
       " (5, 'garage_spots'),\n",
       " (6, 'price'),\n",
       " (7, 'neighborhood'),\n",
       " (8, 'city'),\n",
       " (9, 'update_time'),\n",
       " (10, 'price_sqm'),\n",
       " (11, 'link')]"
      ]
     },
     "execution_count": 111,
     "metadata": {},
     "output_type": "execute_result"
    }
   ],
   "source": [
    "# fields numbers\n",
    "list(enumerate(data.columns))"
   ]
  },
  {
   "cell_type": "code",
   "execution_count": 112,
   "metadata": {},
   "outputs": [],
   "source": [
    "# Limpar colunas desnecessárias \n",
    "data.drop(data.columns[[0, 1, 5, 8, 9, 10, 11]], axis=1, inplace=True)"
   ]
  },
  {
   "cell_type": "code",
   "execution_count": 113,
   "metadata": {},
   "outputs": [
    {
     "data": {
      "text/html": [
       "<div>\n",
       "<style scoped>\n",
       "    .dataframe tbody tr th:only-of-type {\n",
       "        vertical-align: middle;\n",
       "    }\n",
       "\n",
       "    .dataframe tbody tr th {\n",
       "        vertical-align: top;\n",
       "    }\n",
       "\n",
       "    .dataframe thead th {\n",
       "        text-align: right;\n",
       "    }\n",
       "</style>\n",
       "<table border=\"1\" class=\"dataframe\">\n",
       "  <thead>\n",
       "    <tr style=\"text-align: right;\">\n",
       "      <th></th>\n",
       "      <th>size</th>\n",
       "      <th>rooms</th>\n",
       "      <th>wc</th>\n",
       "      <th>price</th>\n",
       "      <th>neighborhood</th>\n",
       "    </tr>\n",
       "  </thead>\n",
       "  <tbody>\n",
       "    <tr>\n",
       "      <th>0</th>\n",
       "      <td>130</td>\n",
       "      <td>3</td>\n",
       "      <td>3</td>\n",
       "      <td>2550000</td>\n",
       "      <td>Cabo Branco</td>\n",
       "    </tr>\n",
       "    <tr>\n",
       "      <th>1</th>\n",
       "      <td>102</td>\n",
       "      <td>3</td>\n",
       "      <td>4</td>\n",
       "      <td>777695</td>\n",
       "      <td>Altiplano Cabo Branco</td>\n",
       "    </tr>\n",
       "    <tr>\n",
       "      <th>2</th>\n",
       "      <td>66</td>\n",
       "      <td>3</td>\n",
       "      <td>1</td>\n",
       "      <td>755000</td>\n",
       "      <td>Ponta do Seixas</td>\n",
       "    </tr>\n",
       "    <tr>\n",
       "      <th>3</th>\n",
       "      <td>108</td>\n",
       "      <td>3</td>\n",
       "      <td>3</td>\n",
       "      <td>375000</td>\n",
       "      <td>Tambaú</td>\n",
       "    </tr>\n",
       "    <tr>\n",
       "      <th>4</th>\n",
       "      <td>57</td>\n",
       "      <td>2</td>\n",
       "      <td>2</td>\n",
       "      <td>178000</td>\n",
       "      <td>Ernesto Geisel</td>\n",
       "    </tr>\n",
       "  </tbody>\n",
       "</table>\n",
       "</div>"
      ],
      "text/plain": [
       "   size rooms wc    price           neighborhood\n",
       "0   130     3  3  2550000            Cabo Branco\n",
       "1   102     3  4   777695  Altiplano Cabo Branco\n",
       "2    66     3  1   755000        Ponta do Seixas\n",
       "3   108     3  3   375000                 Tambaú\n",
       "4    57     2  2   178000         Ernesto Geisel"
      ]
     },
     "execution_count": 113,
     "metadata": {},
     "output_type": "execute_result"
    }
   ],
   "source": [
    "data.head()"
   ]
  },
  {
   "cell_type": "code",
   "execution_count": 114,
   "metadata": {},
   "outputs": [
    {
     "data": {
      "text/plain": [
       "size            0\n",
       "rooms           0\n",
       "wc              0\n",
       "price           0\n",
       "neighborhood    0\n",
       "dtype: int64"
      ]
     },
     "execution_count": 114,
     "metadata": {},
     "output_type": "execute_result"
    }
   ],
   "source": [
    "# missing values\n",
    "data.isna().sum()"
   ]
  },
  {
   "cell_type": "code",
   "execution_count": 115,
   "metadata": {},
   "outputs": [
    {
     "data": {
      "text/plain": [
       "0"
      ]
     },
     "execution_count": 115,
     "metadata": {},
     "output_type": "execute_result"
    }
   ],
   "source": [
    "# Duplicates\n",
    "data.drop_duplicates(keep='first', inplace=True)\n",
    "data.duplicated().sum()"
   ]
  },
  {
   "cell_type": "code",
   "execution_count": 116,
   "metadata": {},
   "outputs": [
    {
     "data": {
      "text/plain": [
       "array(['3', '2', '4', '20', '1', '5', '17', '6', '1 - 2', '2 - 3', '8',\n",
       "       '13', '3 - 4', '1 - 3'], dtype=object)"
      ]
     },
     "execution_count": 116,
     "metadata": {},
     "output_type": "execute_result"
    }
   ],
   "source": [
    "# nas características rooms, wc e garage_spots temos alguns valores não numéricos que indicam, por exemplo 2-3 \\\n",
    "# vamos rodar uma função para calcular a média desses valores e ter um resultado mais acurado \n",
    "data.rooms.unique()"
   ]
  },
  {
   "cell_type": "code",
   "execution_count": 117,
   "metadata": {},
   "outputs": [],
   "source": [
    "# Tratamento de valores numéricos que estão constando como str\n",
    "# por exemplo: rooms nem sempre é número: 1 - 2\n",
    "\n",
    "def update_data(i):\n",
    "    output = None\n",
    "    try:\n",
    "        output = int(i)\n",
    "    except:\n",
    "        output = np.array(i.split(' - ')).astype(int).mean()\n",
    "    \n",
    "    return output\n",
    "\n",
    "assert update_data('1') == 1, 'Não foi possível castear to int'\n",
    "assert update_data('2 - 3') == 2.5, 'Não foi possível castear to int'\n"
   ]
  },
  {
   "cell_type": "code",
   "execution_count": 118,
   "metadata": {},
   "outputs": [
    {
     "data": {
      "text/plain": [
       "(size              int64\n",
       " rooms           float64\n",
       " wc              float64\n",
       " price             int64\n",
       " neighborhood     object\n",
       " dtype: object,\n",
       "    size  rooms   wc    price           neighborhood\n",
       " 0   130    3.0  3.0  2550000            Cabo Branco\n",
       " 1   102    3.0  4.0   777695  Altiplano Cabo Branco\n",
       " 2    66    3.0  1.0   755000        Ponta do Seixas\n",
       " 3   108    3.0  3.0   375000                 Tambaú\n",
       " 4    57    2.0  2.0   178000         Ernesto Geisel)"
      ]
     },
     "execution_count": 118,
     "metadata": {},
     "output_type": "execute_result"
    }
   ],
   "source": [
    "# Atualizar 3 colunas\n",
    "for col in list(data.iloc[:, :4].select_dtypes('object').columns):\n",
    "    data[col] = data[col].map(lambda x : update_data(x)).astype(float)\n",
    "\n",
    "data.dtypes, data.head()"
   ]
  },
  {
   "cell_type": "code",
   "execution_count": 119,
   "metadata": {},
   "outputs": [
    {
     "data": {
      "image/png": "[encoded data removed]",
      "text/plain": [
       "<Figure size 1400x700 with 2 Axes>"
      ]
     },
     "metadata": {},
     "output_type": "display_data"
    }
   ],
   "source": [
    "plot_heatmap(data.corr(numeric_only=True), \\\n",
    "             'Correlação de variáveis')"
   ]
  },
  {
   "cell_type": "code",
   "execution_count": 120,
   "metadata": {},
   "outputs": [
    {
     "data": {
      "text/html": [
       "<div>\n",
       "<style scoped>\n",
       "    .dataframe tbody tr th:only-of-type {\n",
       "        vertical-align: middle;\n",
       "    }\n",
       "\n",
       "    .dataframe tbody tr th {\n",
       "        vertical-align: top;\n",
       "    }\n",
       "\n",
       "    .dataframe thead th {\n",
       "        text-align: right;\n",
       "    }\n",
       "</style>\n",
       "<table border=\"1\" class=\"dataframe\">\n",
       "  <thead>\n",
       "    <tr style=\"text-align: right;\">\n",
       "      <th></th>\n",
       "      <th>size</th>\n",
       "      <th>rooms</th>\n",
       "      <th>wc</th>\n",
       "      <th>price</th>\n",
       "      <th>neighborhood</th>\n",
       "    </tr>\n",
       "  </thead>\n",
       "  <tbody>\n",
       "    <tr>\n",
       "      <th>0</th>\n",
       "      <td>130</td>\n",
       "      <td>3.0</td>\n",
       "      <td>3.0</td>\n",
       "      <td>2550000</td>\n",
       "      <td>Cabo Branco</td>\n",
       "    </tr>\n",
       "    <tr>\n",
       "      <th>1</th>\n",
       "      <td>102</td>\n",
       "      <td>3.0</td>\n",
       "      <td>4.0</td>\n",
       "      <td>777695</td>\n",
       "      <td>Altiplano Cabo Branco</td>\n",
       "    </tr>\n",
       "    <tr>\n",
       "      <th>2</th>\n",
       "      <td>66</td>\n",
       "      <td>3.0</td>\n",
       "      <td>1.0</td>\n",
       "      <td>755000</td>\n",
       "      <td>Ponta do Seixas</td>\n",
       "    </tr>\n",
       "    <tr>\n",
       "      <th>3</th>\n",
       "      <td>108</td>\n",
       "      <td>3.0</td>\n",
       "      <td>3.0</td>\n",
       "      <td>375000</td>\n",
       "      <td>Tambaú</td>\n",
       "    </tr>\n",
       "    <tr>\n",
       "      <th>4</th>\n",
       "      <td>57</td>\n",
       "      <td>2.0</td>\n",
       "      <td>2.0</td>\n",
       "      <td>178000</td>\n",
       "      <td>Ernesto Geisel</td>\n",
       "    </tr>\n",
       "  </tbody>\n",
       "</table>\n",
       "</div>"
      ],
      "text/plain": [
       "   size  rooms   wc    price           neighborhood\n",
       "0   130    3.0  3.0  2550000            Cabo Branco\n",
       "1   102    3.0  4.0   777695  Altiplano Cabo Branco\n",
       "2    66    3.0  1.0   755000        Ponta do Seixas\n",
       "3   108    3.0  3.0   375000                 Tambaú\n",
       "4    57    2.0  2.0   178000         Ernesto Geisel"
      ]
     },
     "execution_count": 120,
     "metadata": {},
     "output_type": "execute_result"
    }
   ],
   "source": [
    "data.head()"
   ]
  },
  {
   "cell_type": "code",
   "execution_count": 121,
   "metadata": {},
   "outputs": [],
   "source": [
    "# Aplicando one-hot encoding na coluna 'neighborhood'\n",
    "data = pd.get_dummies(data, columns=['neighborhood'], prefix='neighborhood', drop_first=True)"
   ]
  },
  {
   "cell_type": "code",
   "execution_count": 122,
   "metadata": {},
   "outputs": [
    {
     "data": {
      "text/plain": [
       "0"
      ]
     },
     "execution_count": 122,
     "metadata": {},
     "output_type": "execute_result"
    }
   ],
   "source": [
    "data.isna().sum().sum()"
   ]
  },
  {
   "cell_type": "markdown",
   "metadata": {},
   "source": [
    "## Particionamento da base"
   ]
  },
  {
   "cell_type": "code",
   "execution_count": 123,
   "metadata": {},
   "outputs": [],
   "source": [
    "y = data['price']\n",
    "X = data.drop('price', axis=1)"
   ]
  },
  {
   "cell_type": "code",
   "execution_count": 124,
   "metadata": {},
   "outputs": [],
   "source": [
    "# Normalizar\n",
    "y /= np.max(y)\n",
    "X /= np.max(X, axis=0)"
   ]
  },
  {
   "cell_type": "code",
   "execution_count": 125,
   "metadata": {},
   "outputs": [],
   "source": [
    "X_train, X_val, X_test, y_train, y_val, y_test = get_all_subsets(X, y)"
   ]
  },
  {
   "cell_type": "code",
   "execution_count": 126,
   "metadata": {},
   "outputs": [],
   "source": [
    "# split train, test\n",
    "X_train, X_test, y_train, y_test = train_test_split(X, y, test_size=0.20, random_state=42)"
   ]
  },
  {
   "cell_type": "code",
   "execution_count": 127,
   "metadata": {},
   "outputs": [],
   "source": [
    "# split train, validate\n",
    "# do conjunto de treino, selecionar 20% para validação\n",
    "X_train, X_val, y_train, y_val = train_test_split(X_train, y_train, test_size=0.20, random_state=42)"
   ]
  },
  {
   "cell_type": "code",
   "execution_count": 128,
   "metadata": {},
   "outputs": [
    {
     "name": "stdout",
     "output_type": "stream",
     "text": [
      "X_train:  (10880, 154)\n",
      "X_val:  (2720, 154)\n",
      "X_test:  (3401, 154)\n",
      "y_train:  (10880,)\n",
      "y_val:  (2720,)\n",
      "y_test:  (3401,)\n"
     ]
    }
   ],
   "source": [
    "print('X_train: ', X_train.shape)\n",
    "print('X_val: ', X_val.shape)\n",
    "print('X_test: ', X_test.shape)\n",
    "print('y_train: ', y_train.shape)\n",
    "print('y_val: ', y_val.shape)\n",
    "print('y_test: ', y_test.shape)\n"
   ]
  },
  {
   "cell_type": "markdown",
   "metadata": {},
   "source": [
    "## Treinamento, definição de arquitetura"
   ]
  },
  {
   "cell_type": "code",
   "execution_count": 129,
   "metadata": {},
   "outputs": [
    {
     "data": {
      "text/plain": [
       "(154,)"
      ]
     },
     "metadata": {},
     "output_type": "display_data"
    },
    {
     "name": "stdout",
     "output_type": "stream",
     "text": [
      "Model: \"sequential_2\"\n",
      "_________________________________________________________________\n",
      " Layer (type)                Output Shape              Param #   \n",
      "=================================================================\n",
      " dense_8 (Dense)             (None, 512)               79360     \n",
      "                                                                 \n",
      " dropout_6 (Dropout)         (None, 512)               0         \n",
      "                                                                 \n",
      " dense_9 (Dense)             (None, 256)               131328    \n",
      "                                                                 \n",
      " dropout_7 (Dropout)         (None, 256)               0         \n",
      "                                                                 \n",
      " dense_10 (Dense)            (None, 64)                16448     \n",
      "                                                                 \n",
      " dropout_8 (Dropout)         (None, 64)                0         \n",
      "                                                                 \n",
      " dense_11 (Dense)            (None, 1)                 65        \n",
      "                                                                 \n",
      "=================================================================\n",
      "Total params: 227201 (887.50 KB)\n",
      "Trainable params: 227201 (887.50 KB)\n",
      "Non-trainable params: 0 (0.00 Byte)\n",
      "_________________________________________________________________\n"
     ]
    }
   ],
   "source": [
    "dropout_pct = 0.3\n",
    "shape = (X_train.shape[1],)\n",
    "\n",
    "display(shape)\n",
    "\n",
    "model = Sequential()\n",
    "model.add(Dense(units=512, activation='relu', input_shape=shape))\n",
    "model.add(Dropout(dropout_pct))\n",
    "model.add(Dense(units=256, activation='relu'))\n",
    "model.add(Dropout(dropout_pct))\n",
    "model.add(Dense(units=64, activation='relu'))\n",
    "model.add(Dropout(dropout_pct))\n",
    "\n",
    "model.add(Dense(units=1))\n",
    "\n",
    "model.summary()"
   ]
  },
  {
   "cell_type": "markdown",
   "metadata": {},
   "source": [
    "## Definição de otimizadores"
   ]
  },
  {
   "cell_type": "code",
   "execution_count": 130,
   "metadata": {},
   "outputs": [],
   "source": [
    "model.compile(optimizer='rmsprop', loss='mse', metrics=['mae'])"
   ]
  },
  {
   "cell_type": "code",
   "execution_count": 131,
   "metadata": {},
   "outputs": [
    {
     "name": "stdout",
     "output_type": "stream",
     "text": [
      "Epoch 1/1000\n"
     ]
    },
    {
     "name": "stdout",
     "output_type": "stream",
     "text": [
      "340/340 [==============================] - 2s 3ms/step - loss: 2.2357e-04 - mae: 0.0070 - val_loss: 3.7761e-04 - val_mae: 0.0022\n",
      "Epoch 2/1000\n",
      "340/340 [==============================] - 1s 3ms/step - loss: 6.0814e-05 - mae: 0.0026 - val_loss: 3.7658e-04 - val_mae: 0.0028\n",
      "Epoch 3/1000\n",
      "340/340 [==============================] - 1s 3ms/step - loss: 5.8150e-05 - mae: 0.0024 - val_loss: 3.7836e-04 - val_mae: 0.0022\n",
      "Epoch 4/1000\n",
      "340/340 [==============================] - 1s 3ms/step - loss: 5.7968e-05 - mae: 0.0023 - val_loss: 3.7678e-04 - val_mae: 0.0022\n",
      "Epoch 5/1000\n",
      "340/340 [==============================] - 1s 3ms/step - loss: 5.7646e-05 - mae: 0.0023 - val_loss: 3.7704e-04 - val_mae: 0.0022\n",
      "Epoch 6/1000\n",
      "340/340 [==============================] - 1s 3ms/step - loss: 5.7136e-05 - mae: 0.0022 - val_loss: 3.7657e-04 - val_mae: 0.0022\n",
      "Epoch 7/1000\n",
      "340/340 [==============================] - 1s 3ms/step - loss: 5.6771e-05 - mae: 0.0022 - val_loss: 3.7588e-04 - val_mae: 0.0024\n",
      "Epoch 8/1000\n",
      "340/340 [==============================] - 1s 3ms/step - loss: 5.6822e-05 - mae: 0.0022 - val_loss: 3.7685e-04 - val_mae: 0.0022\n",
      "Epoch 9/1000\n",
      "340/340 [==============================] - 1s 3ms/step - loss: 5.6699e-05 - mae: 0.0022 - val_loss: 3.7641e-04 - val_mae: 0.0022\n",
      "Epoch 10/1000\n",
      "340/340 [==============================] - 1s 3ms/step - loss: 5.6477e-05 - mae: 0.0022 - val_loss: 3.7569e-04 - val_mae: 0.0024\n",
      "Epoch 11/1000\n",
      "340/340 [==============================] - 1s 3ms/step - loss: 5.6271e-05 - mae: 0.0022 - val_loss: 3.7721e-04 - val_mae: 0.0021\n",
      "Epoch 11: early stopping\n"
     ]
    }
   ],
   "source": [
    "es = EarlyStopping(monitor='val_loss', min_delta=0.001, \\\n",
    "                   patience=10, verbose=1, mode='auto')\n",
    "\n",
    "historico = model.fit(X_train,\n",
    "                      y_train,\n",
    "                      epochs=1000,\n",
    "                      batch_size=32,\n",
    "                      verbose=1,\n",
    "                      validation_data=(X_val, y_val),\n",
    "                      callbacks=[es])\n"
   ]
  },
  {
   "cell_type": "code",
   "execution_count": 132,
   "metadata": {},
   "outputs": [
    {
     "name": "stdout",
     "output_type": "stream",
     "text": [
      "107/107 [==============================] - 0s 1ms/step\n"
     ]
    }
   ],
   "source": [
    "y_pred = model.predict(X_test)"
   ]
  },
  {
   "cell_type": "markdown",
   "metadata": {},
   "source": [
    "## Avaliação do modelo"
   ]
  },
  {
   "cell_type": "code",
   "execution_count": 133,
   "metadata": {},
   "outputs": [
    {
     "name": "stdout",
     "output_type": "stream",
     "text": [
      "MSE: 0.0001803024715962548\n",
      "Erro médio quadrático (RMSE): 0.013427675584264567\n",
      "Erro médio absoluto (MAE): 0.00401786171934225\n",
      "Erro de porcentagem absoluta média (MAPE): 1.0\n",
      "R2 Score: -0.09833872858413994\n"
     ]
    },
    {
     "data": {
      "text/plain": [
       "(0.0001803024715962548,\n",
       " 0.013427675584264567,\n",
       " 0.00401786171934225,\n",
       " 1.0,\n",
       " -0.09833872858413994)"
      ]
     },
     "execution_count": 133,
     "metadata": {},
     "output_type": "execute_result"
    }
   ],
   "source": [
    "results_regression(y_test, y_pred.flatten(), True)"
   ]
  },
  {
   "cell_type": "code",
   "execution_count": 886,
   "metadata": {},
   "outputs": [
    {
     "data": {
      "text/html": [
       "<div>\n",
       "<style scoped>\n",
       "    .dataframe tbody tr th:only-of-type {\n",
       "        vertical-align: middle;\n",
       "    }\n",
       "\n",
       "    .dataframe tbody tr th {\n",
       "        vertical-align: top;\n",
       "    }\n",
       "\n",
       "    .dataframe thead th {\n",
       "        text-align: right;\n",
       "    }\n",
       "</style>\n",
       "<table border=\"1\" class=\"dataframe\">\n",
       "  <thead>\n",
       "    <tr style=\"text-align: right;\">\n",
       "      <th></th>\n",
       "      <th>y_test</th>\n",
       "      <th>y_pred</th>\n",
       "      <th>diff</th>\n",
       "    </tr>\n",
       "  </thead>\n",
       "  <tbody>\n",
       "    <tr>\n",
       "      <th>8546</th>\n",
       "      <td>0.002177</td>\n",
       "      <td>0.004639</td>\n",
       "      <td>0.469257</td>\n",
       "    </tr>\n",
       "    <tr>\n",
       "      <th>7826</th>\n",
       "      <td>0.001707</td>\n",
       "      <td>0.004680</td>\n",
       "      <td>0.364861</td>\n",
       "    </tr>\n",
       "    <tr>\n",
       "      <th>12157</th>\n",
       "      <td>0.003265</td>\n",
       "      <td>0.004653</td>\n",
       "      <td>0.701800</td>\n",
       "    </tr>\n",
       "    <tr>\n",
       "      <th>16206</th>\n",
       "      <td>0.003322</td>\n",
       "      <td>0.004718</td>\n",
       "      <td>0.704096</td>\n",
       "    </tr>\n",
       "    <tr>\n",
       "      <th>1214</th>\n",
       "      <td>0.000878</td>\n",
       "      <td>0.004630</td>\n",
       "      <td>0.189555</td>\n",
       "    </tr>\n",
       "    <tr>\n",
       "      <th>14866</th>\n",
       "      <td>0.003381</td>\n",
       "      <td>0.004628</td>\n",
       "      <td>0.730571</td>\n",
       "    </tr>\n",
       "    <tr>\n",
       "      <th>15682</th>\n",
       "      <td>0.022789</td>\n",
       "      <td>0.006178</td>\n",
       "      <td>3.688840</td>\n",
       "    </tr>\n",
       "    <tr>\n",
       "      <th>7793</th>\n",
       "      <td>0.013204</td>\n",
       "      <td>0.006317</td>\n",
       "      <td>2.090096</td>\n",
       "    </tr>\n",
       "    <tr>\n",
       "      <th>10127</th>\n",
       "      <td>0.002585</td>\n",
       "      <td>0.004634</td>\n",
       "      <td>0.557825</td>\n",
       "    </tr>\n",
       "    <tr>\n",
       "      <th>14989</th>\n",
       "      <td>0.003735</td>\n",
       "      <td>0.004741</td>\n",
       "      <td>0.787772</td>\n",
       "    </tr>\n",
       "  </tbody>\n",
       "</table>\n",
       "</div>"
      ],
      "text/plain": [
       "         y_test    y_pred      diff\n",
       "8546   0.002177  0.004639  0.469257\n",
       "7826   0.001707  0.004680  0.364861\n",
       "12157  0.003265  0.004653  0.701800\n",
       "16206  0.003322  0.004718  0.704096\n",
       "1214   0.000878  0.004630  0.189555\n",
       "14866  0.003381  0.004628  0.730571\n",
       "15682  0.022789  0.006178  3.688840\n",
       "7793   0.013204  0.006317  2.090096\n",
       "10127  0.002585  0.004634  0.557825\n",
       "14989  0.003735  0.004741  0.787772"
      ]
     },
     "metadata": {},
     "output_type": "display_data"
    },
    {
     "data": {
      "text/plain": [
       "0.8073811088591542"
      ]
     },
     "metadata": {},
     "output_type": "display_data"
    }
   ],
   "source": [
    "results = pd.DataFrame({\n",
    "    'y_test': y_test,\n",
    "    'y_pred': y_pred.flatten()\n",
    "    })\n",
    "\n",
    "results['diff'] = y_test/y_pred.flatten()\n",
    "display(results.sample(10), results['diff'].mean())"
   ]
  }
 ],
 "metadata": {
  "kernelspec": {
   "display_name": "Python 3",
   "language": "python",
   "name": "python3"
  },
  "language_info": {
   "codemirror_mode": {
    "name": "ipython",
    "version": 3
   },
   "file_extension": ".py",
   "mimetype": "text/x-python",
   "name": "python",
   "nbconvert_exporter": "python",
   "pygments_lexer": "ipython3",
   "version": "3.10.12"
  }
 },
 "nbformat": 4,
 "nbformat_minor": 2
}
