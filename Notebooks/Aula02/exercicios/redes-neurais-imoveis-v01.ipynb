{
 "cells": [
  {
   "cell_type": "markdown",
   "metadata": {},
   "source": [
    "Regression in real state \n",
    "========================"
   ]
  },
  {
   "cell_type": "markdown",
   "metadata": {},
   "source": [
    "A partir de um dataset com dados de imóveis (metragem, cidade, bairro, quartos, etc), queremos prever o valor de cada registro usando redes neurais.\n",
    "\n",
    "O dataset foi obtido a partir de _webscrapping_ em sites de publicação de anúncios "
   ]
  },
  {
   "cell_type": "markdown",
   "metadata": {},
   "source": [
    "## Imports"
   ]
  },
  {
   "cell_type": "code",
   "execution_count": 4,
   "metadata": {},
   "outputs": [
    {
     "name": "stdout",
     "output_type": "stream",
     "text": [
      "The autoreload extension is already loaded. To reload it, use:\n",
      "  %reload_ext autoreload\n"
     ]
    }
   ],
   "source": [
    "%load_ext autoreload\n",
    "%autoreload 2\n",
    "\n",
    "from tensorflow import keras\n",
    "import matplotlib.pyplot as plt\n",
    "import seaborn as sns\n",
    "import pandas as pd\n",
    "import numpy as np\n",
    "import math \n",
    "\n",
    "from sklearn.preprocessing import OneHotEncoder, LabelEncoder\n",
    "from keras.layers import Dense, Activation, Dropout, Flatten\n",
    "from keras.models import Sequential\n",
    "from keras.callbacks import EarlyStopping\n",
    "\n",
    "import sys\n",
    "import platform\n",
    "\n",
    "sys.path.insert(1, '../')\n",
    "\n",
    "from src.plot import plot_heatmap\n",
    "from src.train import get_all_subsets, results_regression\n"
   ]
  },
  {
   "cell_type": "markdown",
   "metadata": {},
   "source": [
    "## Config"
   ]
  },
  {
   "cell_type": "code",
   "execution_count": 2,
   "metadata": {},
   "outputs": [],
   "source": [
    "# Evita mostrar números em formato científico (para melhor visualização)\n",
    "np.set_printoptions(suppress=True)\n",
    "\n",
    "# tamanhos padrão e visualização de plots\n",
    "PLOT_WIDE = (14,7)\n",
    "PLOT_MEDIUM = (10,8)\n",
    "sns.set_style(\"darkgrid\")"
   ]
  },
  {
   "cell_type": "markdown",
   "metadata": {},
   "source": [
    "## Load data"
   ]
  },
  {
   "cell_type": "code",
   "execution_count": 7,
   "metadata": {},
   "outputs": [],
   "source": [
    "WIN = r'C:\\Users\\psebastianv\\dev\\python\\projetos-e-testes\\other_python\\zap-project\\results\\imoveis_data.csv'\n",
    "LNX = r'./../../../../../python/other_python/zap-project/results/imoveis_data.csv'\n",
    "data = pd.read_csv(WIN if platform.platform().startswith(\"Windows\") else LNX)"
   ]
  },
  {
   "cell_type": "code",
   "execution_count": 8,
   "metadata": {},
   "outputs": [
    {
     "data": {
      "text/plain": [
       "(18065, 12)"
      ]
     },
     "execution_count": 8,
     "metadata": {},
     "output_type": "execute_result"
    }
   ],
   "source": [
    "data.shape"
   ]
  },
  {
   "cell_type": "code",
   "execution_count": 9,
   "metadata": {},
   "outputs": [
    {
     "data": {
      "text/html": [
       "<div>\n",
       "<style scoped>\n",
       "    .dataframe tbody tr th:only-of-type {\n",
       "        vertical-align: middle;\n",
       "    }\n",
       "\n",
       "    .dataframe tbody tr th {\n",
       "        vertical-align: top;\n",
       "    }\n",
       "\n",
       "    .dataframe thead th {\n",
       "        text-align: right;\n",
       "    }\n",
       "</style>\n",
       "<table border=\"1\" class=\"dataframe\">\n",
       "  <thead>\n",
       "    <tr style=\"text-align: right;\">\n",
       "      <th></th>\n",
       "      <th>Unnamed: 0</th>\n",
       "      <th>id</th>\n",
       "      <th>size</th>\n",
       "      <th>rooms</th>\n",
       "      <th>wc</th>\n",
       "      <th>garage_spots</th>\n",
       "      <th>price</th>\n",
       "      <th>neighborhood</th>\n",
       "      <th>city</th>\n",
       "      <th>update_time</th>\n",
       "      <th>price_sqm</th>\n",
       "      <th>link</th>\n",
       "    </tr>\n",
       "  </thead>\n",
       "  <tbody>\n",
       "    <tr>\n",
       "      <th>0</th>\n",
       "      <td>0.0</td>\n",
       "      <td>2528927815</td>\n",
       "      <td>130</td>\n",
       "      <td>3</td>\n",
       "      <td>3</td>\n",
       "      <td>2</td>\n",
       "      <td>2550000</td>\n",
       "      <td>Cabo Branco</td>\n",
       "      <td>João Pessoa</td>\n",
       "      <td>2023-08-16 19:33:46</td>\n",
       "      <td>19615.384615</td>\n",
       "      <td>NaN</td>\n",
       "    </tr>\n",
       "    <tr>\n",
       "      <th>1</th>\n",
       "      <td>1.0</td>\n",
       "      <td>2641054378</td>\n",
       "      <td>102</td>\n",
       "      <td>3</td>\n",
       "      <td>4</td>\n",
       "      <td>0</td>\n",
       "      <td>777695</td>\n",
       "      <td>Altiplano Cabo Branco</td>\n",
       "      <td>João Pessoa</td>\n",
       "      <td>2023-08-16 19:33:46</td>\n",
       "      <td>7624.460784</td>\n",
       "      <td>NaN</td>\n",
       "    </tr>\n",
       "    <tr>\n",
       "      <th>2</th>\n",
       "      <td>2.0</td>\n",
       "      <td>2617664208</td>\n",
       "      <td>66</td>\n",
       "      <td>3</td>\n",
       "      <td>1</td>\n",
       "      <td>1</td>\n",
       "      <td>755000</td>\n",
       "      <td>Ponta do Seixas</td>\n",
       "      <td>João Pessoa</td>\n",
       "      <td>2023-08-16 19:33:46</td>\n",
       "      <td>11439.393939</td>\n",
       "      <td>NaN</td>\n",
       "    </tr>\n",
       "    <tr>\n",
       "      <th>3</th>\n",
       "      <td>3.0</td>\n",
       "      <td>2612089563</td>\n",
       "      <td>108</td>\n",
       "      <td>3</td>\n",
       "      <td>3</td>\n",
       "      <td>1</td>\n",
       "      <td>375000</td>\n",
       "      <td>Tambaú</td>\n",
       "      <td>João Pessoa</td>\n",
       "      <td>2023-08-16 19:33:46</td>\n",
       "      <td>3472.222222</td>\n",
       "      <td>NaN</td>\n",
       "    </tr>\n",
       "    <tr>\n",
       "      <th>4</th>\n",
       "      <td>4.0</td>\n",
       "      <td>2530653710</td>\n",
       "      <td>57</td>\n",
       "      <td>2</td>\n",
       "      <td>2</td>\n",
       "      <td>1</td>\n",
       "      <td>178000</td>\n",
       "      <td>Ernesto Geisel</td>\n",
       "      <td>João Pessoa</td>\n",
       "      <td>2023-08-16 19:33:46</td>\n",
       "      <td>3122.807018</td>\n",
       "      <td>NaN</td>\n",
       "    </tr>\n",
       "  </tbody>\n",
       "</table>\n",
       "</div>"
      ],
      "text/plain": [
       "   Unnamed: 0          id  size rooms wc garage_spots    price  \\\n",
       "0         0.0  2528927815   130     3  3            2  2550000   \n",
       "1         1.0  2641054378   102     3  4            0   777695   \n",
       "2         2.0  2617664208    66     3  1            1   755000   \n",
       "3         3.0  2612089563   108     3  3            1   375000   \n",
       "4         4.0  2530653710    57     2  2            1   178000   \n",
       "\n",
       "            neighborhood         city          update_time     price_sqm link  \n",
       "0            Cabo Branco  João Pessoa  2023-08-16 19:33:46  19615.384615  NaN  \n",
       "1  Altiplano Cabo Branco  João Pessoa  2023-08-16 19:33:46   7624.460784  NaN  \n",
       "2        Ponta do Seixas  João Pessoa  2023-08-16 19:33:46  11439.393939  NaN  \n",
       "3                 Tambaú  João Pessoa  2023-08-16 19:33:46   3472.222222  NaN  \n",
       "4         Ernesto Geisel  João Pessoa  2023-08-16 19:33:46   3122.807018  NaN  "
      ]
     },
     "execution_count": 9,
     "metadata": {},
     "output_type": "execute_result"
    }
   ],
   "source": [
    "data.head()"
   ]
  },
  {
   "cell_type": "markdown",
   "metadata": {},
   "source": [
    "## Preprocessing"
   ]
  },
  {
   "cell_type": "code",
   "execution_count": 10,
   "metadata": {},
   "outputs": [
    {
     "data": {
      "text/plain": [
       "[(0, 'Unnamed: 0'),\n",
       " (1, 'id'),\n",
       " (2, 'size'),\n",
       " (3, 'rooms'),\n",
       " (4, 'wc'),\n",
       " (5, 'garage_spots'),\n",
       " (6, 'price'),\n",
       " (7, 'neighborhood'),\n",
       " (8, 'city'),\n",
       " (9, 'update_time'),\n",
       " (10, 'price_sqm'),\n",
       " (11, 'link')]"
      ]
     },
     "execution_count": 10,
     "metadata": {},
     "output_type": "execute_result"
    }
   ],
   "source": [
    "# fields numbers\n",
    "list(enumerate(data.columns))"
   ]
  },
  {
   "cell_type": "code",
   "execution_count": 11,
   "metadata": {},
   "outputs": [],
   "source": [
    "# Limpar colunas desnecessárias \n",
    "data.drop(data.columns[[0, 1, 5, 8, 9, 10, 11]], axis=1, inplace=True)"
   ]
  },
  {
   "cell_type": "code",
   "execution_count": 12,
   "metadata": {},
   "outputs": [
    {
     "data": {
      "text/html": [
       "<div>\n",
       "<style scoped>\n",
       "    .dataframe tbody tr th:only-of-type {\n",
       "        vertical-align: middle;\n",
       "    }\n",
       "\n",
       "    .dataframe tbody tr th {\n",
       "        vertical-align: top;\n",
       "    }\n",
       "\n",
       "    .dataframe thead th {\n",
       "        text-align: right;\n",
       "    }\n",
       "</style>\n",
       "<table border=\"1\" class=\"dataframe\">\n",
       "  <thead>\n",
       "    <tr style=\"text-align: right;\">\n",
       "      <th></th>\n",
       "      <th>size</th>\n",
       "      <th>rooms</th>\n",
       "      <th>wc</th>\n",
       "      <th>price</th>\n",
       "      <th>neighborhood</th>\n",
       "    </tr>\n",
       "  </thead>\n",
       "  <tbody>\n",
       "    <tr>\n",
       "      <th>0</th>\n",
       "      <td>130</td>\n",
       "      <td>3</td>\n",
       "      <td>3</td>\n",
       "      <td>2550000</td>\n",
       "      <td>Cabo Branco</td>\n",
       "    </tr>\n",
       "    <tr>\n",
       "      <th>1</th>\n",
       "      <td>102</td>\n",
       "      <td>3</td>\n",
       "      <td>4</td>\n",
       "      <td>777695</td>\n",
       "      <td>Altiplano Cabo Branco</td>\n",
       "    </tr>\n",
       "    <tr>\n",
       "      <th>2</th>\n",
       "      <td>66</td>\n",
       "      <td>3</td>\n",
       "      <td>1</td>\n",
       "      <td>755000</td>\n",
       "      <td>Ponta do Seixas</td>\n",
       "    </tr>\n",
       "    <tr>\n",
       "      <th>3</th>\n",
       "      <td>108</td>\n",
       "      <td>3</td>\n",
       "      <td>3</td>\n",
       "      <td>375000</td>\n",
       "      <td>Tambaú</td>\n",
       "    </tr>\n",
       "    <tr>\n",
       "      <th>4</th>\n",
       "      <td>57</td>\n",
       "      <td>2</td>\n",
       "      <td>2</td>\n",
       "      <td>178000</td>\n",
       "      <td>Ernesto Geisel</td>\n",
       "    </tr>\n",
       "  </tbody>\n",
       "</table>\n",
       "</div>"
      ],
      "text/plain": [
       "   size rooms wc    price           neighborhood\n",
       "0   130     3  3  2550000            Cabo Branco\n",
       "1   102     3  4   777695  Altiplano Cabo Branco\n",
       "2    66     3  1   755000        Ponta do Seixas\n",
       "3   108     3  3   375000                 Tambaú\n",
       "4    57     2  2   178000         Ernesto Geisel"
      ]
     },
     "execution_count": 12,
     "metadata": {},
     "output_type": "execute_result"
    }
   ],
   "source": [
    "data.head()"
   ]
  },
  {
   "cell_type": "code",
   "execution_count": 13,
   "metadata": {},
   "outputs": [
    {
     "data": {
      "text/plain": [
       "size            0\n",
       "rooms           0\n",
       "wc              0\n",
       "price           0\n",
       "neighborhood    0\n",
       "dtype: int64"
      ]
     },
     "execution_count": 13,
     "metadata": {},
     "output_type": "execute_result"
    }
   ],
   "source": [
    "# missing values\n",
    "data.isna().sum()"
   ]
  },
  {
   "cell_type": "code",
   "execution_count": 14,
   "metadata": {},
   "outputs": [
    {
     "data": {
      "text/plain": [
       "0"
      ]
     },
     "execution_count": 14,
     "metadata": {},
     "output_type": "execute_result"
    }
   ],
   "source": [
    "# Duplicates\n",
    "data.drop_duplicates(keep='first', inplace=True)\n",
    "data.duplicated().sum()"
   ]
  },
  {
   "cell_type": "code",
   "execution_count": 15,
   "metadata": {},
   "outputs": [
    {
     "data": {
      "text/plain": [
       "array(['3', '2', '4', '20', '1', '5', '17', '6', '1 - 2', '2 - 3', '8',\n",
       "       '13', '3 - 4'], dtype=object)"
      ]
     },
     "execution_count": 15,
     "metadata": {},
     "output_type": "execute_result"
    }
   ],
   "source": [
    "# nas características rooms, wc e garage_spots temos alguns valores não numéricos que indicam, por exemplo 2-3 \\\n",
    "# vamos rodar uma função para calcular a média desses valores e ter um resultado mais acurado \n",
    "data.rooms.unique()"
   ]
  },
  {
   "cell_type": "code",
   "execution_count": 16,
   "metadata": {},
   "outputs": [],
   "source": [
    "# Tratamento de valores numéricos que estão constando como str\n",
    "# por exemplo: rooms nem sempre é número: 1 - 2\n",
    "\n",
    "def update_data(i):\n",
    "    output = None\n",
    "    try:\n",
    "        output = int(i)\n",
    "    except:\n",
    "        output = np.array(i.split(' - ')).astype(int).mean()\n",
    "    \n",
    "    return output\n",
    "\n",
    "assert update_data('1') == 1, 'Não foi possível castear to int'\n",
    "assert update_data('2 - 3') == 2.5, 'Não foi possível castear to int'\n"
   ]
  },
  {
   "cell_type": "code",
   "execution_count": 17,
   "metadata": {},
   "outputs": [
    {
     "data": {
      "text/plain": [
       "(size              int64\n",
       " rooms           float64\n",
       " wc              float64\n",
       " price             int64\n",
       " neighborhood     object\n",
       " dtype: object,\n",
       "    size  rooms   wc    price           neighborhood\n",
       " 0   130    3.0  3.0  2550000            Cabo Branco\n",
       " 1   102    3.0  4.0   777695  Altiplano Cabo Branco\n",
       " 2    66    3.0  1.0   755000        Ponta do Seixas\n",
       " 3   108    3.0  3.0   375000                 Tambaú\n",
       " 4    57    2.0  2.0   178000         Ernesto Geisel)"
      ]
     },
     "execution_count": 17,
     "metadata": {},
     "output_type": "execute_result"
    }
   ],
   "source": [
    "# Atualizar 3 colunas\n",
    "for col in list(data.iloc[:, :4].select_dtypes('object').columns):\n",
    "    data[col] = data[col].map(lambda x : update_data(x)).astype(float)\n",
    "\n",
    "data.dtypes, data.head()"
   ]
  },
  {
   "cell_type": "code",
   "execution_count": 18,
   "metadata": {},
   "outputs": [
    {
     "data": {
      "image/png": "[encoded data removed]",
      "text/plain": [
       "<Figure size 1008x504 with 2 Axes>"
      ]
     },
     "metadata": {
      "needs_background": "light"
     },
     "output_type": "display_data"
    }
   ],
   "source": [
    "plot_heatmap(data.corr(numeric_only=True), \\\n",
    "             'Correlação de variáveis')"
   ]
  },
  {
   "cell_type": "code",
   "execution_count": 19,
   "metadata": {},
   "outputs": [
    {
     "data": {
      "text/html": [
       "<div>\n",
       "<style scoped>\n",
       "    .dataframe tbody tr th:only-of-type {\n",
       "        vertical-align: middle;\n",
       "    }\n",
       "\n",
       "    .dataframe tbody tr th {\n",
       "        vertical-align: top;\n",
       "    }\n",
       "\n",
       "    .dataframe thead th {\n",
       "        text-align: right;\n",
       "    }\n",
       "</style>\n",
       "<table border=\"1\" class=\"dataframe\">\n",
       "  <thead>\n",
       "    <tr style=\"text-align: right;\">\n",
       "      <th></th>\n",
       "      <th>size</th>\n",
       "      <th>rooms</th>\n",
       "      <th>wc</th>\n",
       "      <th>price</th>\n",
       "      <th>neighborhood</th>\n",
       "    </tr>\n",
       "  </thead>\n",
       "  <tbody>\n",
       "    <tr>\n",
       "      <th>0</th>\n",
       "      <td>130</td>\n",
       "      <td>3.0</td>\n",
       "      <td>3.0</td>\n",
       "      <td>2550000</td>\n",
       "      <td>Cabo Branco</td>\n",
       "    </tr>\n",
       "    <tr>\n",
       "      <th>1</th>\n",
       "      <td>102</td>\n",
       "      <td>3.0</td>\n",
       "      <td>4.0</td>\n",
       "      <td>777695</td>\n",
       "      <td>Altiplano Cabo Branco</td>\n",
       "    </tr>\n",
       "    <tr>\n",
       "      <th>2</th>\n",
       "      <td>66</td>\n",
       "      <td>3.0</td>\n",
       "      <td>1.0</td>\n",
       "      <td>755000</td>\n",
       "      <td>Ponta do Seixas</td>\n",
       "    </tr>\n",
       "    <tr>\n",
       "      <th>3</th>\n",
       "      <td>108</td>\n",
       "      <td>3.0</td>\n",
       "      <td>3.0</td>\n",
       "      <td>375000</td>\n",
       "      <td>Tambaú</td>\n",
       "    </tr>\n",
       "    <tr>\n",
       "      <th>4</th>\n",
       "      <td>57</td>\n",
       "      <td>2.0</td>\n",
       "      <td>2.0</td>\n",
       "      <td>178000</td>\n",
       "      <td>Ernesto Geisel</td>\n",
       "    </tr>\n",
       "  </tbody>\n",
       "</table>\n",
       "</div>"
      ],
      "text/plain": [
       "   size  rooms   wc    price           neighborhood\n",
       "0   130    3.0  3.0  2550000            Cabo Branco\n",
       "1   102    3.0  4.0   777695  Altiplano Cabo Branco\n",
       "2    66    3.0  1.0   755000        Ponta do Seixas\n",
       "3   108    3.0  3.0   375000                 Tambaú\n",
       "4    57    2.0  2.0   178000         Ernesto Geisel"
      ]
     },
     "execution_count": 19,
     "metadata": {},
     "output_type": "execute_result"
    }
   ],
   "source": [
    "data.head()"
   ]
  },
  {
   "cell_type": "code",
   "execution_count": 20,
   "metadata": {},
   "outputs": [],
   "source": [
    "# Aplicando one-hot encoding na coluna 'neighborhood'\n",
    "data = pd.get_dummies(data, columns=['neighborhood'], prefix='neighborhood', drop_first=True)"
   ]
  },
  {
   "cell_type": "code",
   "execution_count": 21,
   "metadata": {},
   "outputs": [
    {
     "data": {
      "text/plain": [
       "0"
      ]
     },
     "execution_count": 21,
     "metadata": {},
     "output_type": "execute_result"
    }
   ],
   "source": [
    "data.isna().sum().sum()"
   ]
  },
  {
   "cell_type": "markdown",
   "metadata": {},
   "source": [
    "## Particionamento da base"
   ]
  },
  {
   "cell_type": "code",
   "execution_count": 22,
   "metadata": {},
   "outputs": [],
   "source": [
    "y = data['price']\n",
    "X = data.drop('price', axis=1)"
   ]
  },
  {
   "cell_type": "code",
   "execution_count": 23,
   "metadata": {},
   "outputs": [],
   "source": [
    "# Normalizar\n",
    "y /= np.max(y)\n",
    "X /= np.max(X, axis=0)"
   ]
  },
  {
   "cell_type": "code",
   "execution_count": 24,
   "metadata": {},
   "outputs": [],
   "source": [
    "X_train, X_val, X_test, y_train, y_val, y_test = get_all_subsets(X, y)"
   ]
  },
  {
   "cell_type": "code",
   "execution_count": 25,
   "metadata": {},
   "outputs": [
    {
     "name": "stdout",
     "output_type": "stream",
     "text": [
      "X_train:  (9568, 152)\n",
      "X_val:  (2392, 152)\n",
      "X_test:  (2990, 152)\n",
      "y_train:  (9568,)\n",
      "y_val:  (2392,)\n",
      "y_test:  (2990,)\n"
     ]
    }
   ],
   "source": [
    "print('X_train: ', X_train.shape)\n",
    "print('X_val: ', X_val.shape)\n",
    "print('X_test: ', X_test.shape)\n",
    "print('y_train: ', y_train.shape)\n",
    "print('y_val: ', y_val.shape)\n",
    "print('y_test: ', y_test.shape)\n"
   ]
  },
  {
   "cell_type": "markdown",
   "metadata": {},
   "source": [
    "## Treinamento, definição de arquitetura"
   ]
  },
  {
   "cell_type": "code",
   "execution_count": 26,
   "metadata": {},
   "outputs": [
    {
     "data": {
      "text/plain": [
       "(152,)"
      ]
     },
     "metadata": {},
     "output_type": "display_data"
    },
    {
     "name": "stdout",
     "output_type": "stream",
     "text": [
      "Model: \"sequential\"\n",
      "_________________________________________________________________\n",
      " Layer (type)                Output Shape              Param #   \n",
      "=================================================================\n",
      " dense (Dense)               (None, 512)               78336     \n",
      "                                                                 \n",
      " dropout (Dropout)           (None, 512)               0         \n",
      "                                                                 \n",
      " dense_1 (Dense)             (None, 256)               131328    \n",
      "                                                                 \n",
      " dropout_1 (Dropout)         (None, 256)               0         \n",
      "                                                                 \n",
      " dense_2 (Dense)             (None, 64)                16448     \n",
      "                                                                 \n",
      " dropout_2 (Dropout)         (None, 64)                0         \n",
      "                                                                 \n",
      " dense_3 (Dense)             (None, 1)                 65        \n",
      "                                                                 \n",
      "=================================================================\n",
      "Total params: 226177 (883.50 KB)\n",
      "Trainable params: 226177 (883.50 KB)\n",
      "Non-trainable params: 0 (0.00 Byte)\n",
      "_________________________________________________________________\n"
     ]
    }
   ],
   "source": [
    "dropout_pct = 0.3\n",
    "shape = (X_train.shape[1],)\n",
    "\n",
    "display(shape)\n",
    "\n",
    "model = Sequential()\n",
    "model.add(Dense(units=512, activation='relu', input_shape=shape))\n",
    "model.add(Dropout(dropout_pct))\n",
    "model.add(Dense(units=256, activation='relu'))\n",
    "model.add(Dropout(dropout_pct))\n",
    "model.add(Dense(units=64, activation='relu'))\n",
    "model.add(Dropout(dropout_pct))\n",
    "\n",
    "model.add(Dense(units=1))\n",
    "\n",
    "model.summary()"
   ]
  },
  {
   "cell_type": "markdown",
   "metadata": {},
   "source": [
    "## Definição de otimizadores"
   ]
  },
  {
   "cell_type": "code",
   "execution_count": 27,
   "metadata": {},
   "outputs": [],
   "source": [
    "model.compile(optimizer='rmsprop', loss='mse', metrics=['mae'])"
   ]
  },
  {
   "cell_type": "code",
   "execution_count": 28,
   "metadata": {},
   "outputs": [
    {
     "ename": "ValueError",
     "evalue": "Failed to convert a NumPy array to a Tensor (Unsupported object type numpy.float64).",
     "output_type": "error",
     "traceback": [
      "\u001b[1;31m---------------------------------------------------------------------------\u001b[0m",
      "\u001b[1;31mValueError\u001b[0m                                Traceback (most recent call last)",
      "\u001b[1;32mc:\\Users\\psebastianv\\dev\\formacao_ML_minsait\\Notebooks\\Aula02\\exercicios\\redes-neurais-imoveis-v01.ipynb Cell 33\u001b[0m line \u001b[0;36m<cell line: 4>\u001b[1;34m()\u001b[0m\n\u001b[0;32m      <a href='vscode-notebook-cell:/c%3A/Users/psebastianv/dev/formacao_ML_minsait/Notebooks/Aula02/exercicios/redes-neurais-imoveis-v01.ipynb#X44sZmlsZQ%3D%3D?line=0'>1</a>\u001b[0m es \u001b[39m=\u001b[39m EarlyStopping(monitor\u001b[39m=\u001b[39m\u001b[39m'\u001b[39m\u001b[39mval_loss\u001b[39m\u001b[39m'\u001b[39m, min_delta\u001b[39m=\u001b[39m\u001b[39m0.001\u001b[39m, \\\n\u001b[0;32m      <a href='vscode-notebook-cell:/c%3A/Users/psebastianv/dev/formacao_ML_minsait/Notebooks/Aula02/exercicios/redes-neurais-imoveis-v01.ipynb#X44sZmlsZQ%3D%3D?line=1'>2</a>\u001b[0m                    patience\u001b[39m=\u001b[39m\u001b[39m10\u001b[39m, verbose\u001b[39m=\u001b[39m\u001b[39m1\u001b[39m, mode\u001b[39m=\u001b[39m\u001b[39m'\u001b[39m\u001b[39mauto\u001b[39m\u001b[39m'\u001b[39m)\n\u001b[1;32m----> <a href='vscode-notebook-cell:/c%3A/Users/psebastianv/dev/formacao_ML_minsait/Notebooks/Aula02/exercicios/redes-neurais-imoveis-v01.ipynb#X44sZmlsZQ%3D%3D?line=3'>4</a>\u001b[0m historico \u001b[39m=\u001b[39m model\u001b[39m.\u001b[39;49mfit(X_train,\n\u001b[0;32m      <a href='vscode-notebook-cell:/c%3A/Users/psebastianv/dev/formacao_ML_minsait/Notebooks/Aula02/exercicios/redes-neurais-imoveis-v01.ipynb#X44sZmlsZQ%3D%3D?line=4'>5</a>\u001b[0m                       y_train,\n\u001b[0;32m      <a href='vscode-notebook-cell:/c%3A/Users/psebastianv/dev/formacao_ML_minsait/Notebooks/Aula02/exercicios/redes-neurais-imoveis-v01.ipynb#X44sZmlsZQ%3D%3D?line=5'>6</a>\u001b[0m                       epochs\u001b[39m=\u001b[39;49m\u001b[39m1000\u001b[39;49m,\n\u001b[0;32m      <a href='vscode-notebook-cell:/c%3A/Users/psebastianv/dev/formacao_ML_minsait/Notebooks/Aula02/exercicios/redes-neurais-imoveis-v01.ipynb#X44sZmlsZQ%3D%3D?line=6'>7</a>\u001b[0m                       batch_size\u001b[39m=\u001b[39;49m\u001b[39m32\u001b[39;49m,\n\u001b[0;32m      <a href='vscode-notebook-cell:/c%3A/Users/psebastianv/dev/formacao_ML_minsait/Notebooks/Aula02/exercicios/redes-neurais-imoveis-v01.ipynb#X44sZmlsZQ%3D%3D?line=7'>8</a>\u001b[0m                       verbose\u001b[39m=\u001b[39;49m\u001b[39m1\u001b[39;49m,\n\u001b[0;32m      <a href='vscode-notebook-cell:/c%3A/Users/psebastianv/dev/formacao_ML_minsait/Notebooks/Aula02/exercicios/redes-neurais-imoveis-v01.ipynb#X44sZmlsZQ%3D%3D?line=8'>9</a>\u001b[0m                       validation_data\u001b[39m=\u001b[39;49m(X_val, y_val),\n\u001b[0;32m     <a href='vscode-notebook-cell:/c%3A/Users/psebastianv/dev/formacao_ML_minsait/Notebooks/Aula02/exercicios/redes-neurais-imoveis-v01.ipynb#X44sZmlsZQ%3D%3D?line=9'>10</a>\u001b[0m                       callbacks\u001b[39m=\u001b[39;49m[es])\n",
      "File \u001b[1;32m~\\AppData\\Local\\Packages\\PythonSoftwareFoundation.Python.3.10_qbz5n2kfra8p0\\LocalCache\\local-packages\\Python310\\site-packages\\keras\\src\\utils\\traceback_utils.py:70\u001b[0m, in \u001b[0;36mfilter_traceback.<locals>.error_handler\u001b[1;34m(*args, **kwargs)\u001b[0m\n\u001b[0;32m     67\u001b[0m     filtered_tb \u001b[39m=\u001b[39m _process_traceback_frames(e\u001b[39m.\u001b[39m__traceback__)\n\u001b[0;32m     68\u001b[0m     \u001b[39m# To get the full stack trace, call:\u001b[39;00m\n\u001b[0;32m     69\u001b[0m     \u001b[39m# `tf.debugging.disable_traceback_filtering()`\u001b[39;00m\n\u001b[1;32m---> 70\u001b[0m     \u001b[39mraise\u001b[39;00m e\u001b[39m.\u001b[39mwith_traceback(filtered_tb) \u001b[39mfrom\u001b[39;00m \u001b[39mNone\u001b[39m\n\u001b[0;32m     71\u001b[0m \u001b[39mfinally\u001b[39;00m:\n\u001b[0;32m     72\u001b[0m     \u001b[39mdel\u001b[39;00m filtered_tb\n",
      "File \u001b[1;32m~\\AppData\\Local\\Packages\\PythonSoftwareFoundation.Python.3.10_qbz5n2kfra8p0\\LocalCache\\local-packages\\Python310\\site-packages\\tensorflow\\python\\framework\\constant_op.py:102\u001b[0m, in \u001b[0;36mconvert_to_eager_tensor\u001b[1;34m(value, ctx, dtype)\u001b[0m\n\u001b[0;32m    100\u001b[0m     dtype \u001b[39m=\u001b[39m dtypes\u001b[39m.\u001b[39mas_dtype(dtype)\u001b[39m.\u001b[39mas_datatype_enum\n\u001b[0;32m    101\u001b[0m ctx\u001b[39m.\u001b[39mensure_initialized()\n\u001b[1;32m--> 102\u001b[0m \u001b[39mreturn\u001b[39;00m ops\u001b[39m.\u001b[39;49mEagerTensor(value, ctx\u001b[39m.\u001b[39;49mdevice_name, dtype)\n",
      "\u001b[1;31mValueError\u001b[0m: Failed to convert a NumPy array to a Tensor (Unsupported object type numpy.float64)."
     ]
    }
   ],
   "source": [
    "es = EarlyStopping(monitor='val_loss', min_delta=0.001, \\\n",
    "                   patience=10, verbose=1, mode='auto')\n",
    "\n",
    "historico = model.fit(X_train,\n",
    "                      y_train,\n",
    "                      epochs=1000,\n",
    "                      batch_size=32,\n",
    "                      verbose=1,\n",
    "                      validation_data=(X_val, y_val),\n",
    "                      callbacks=[es])\n"
   ]
  },
  {
   "cell_type": "code",
   "execution_count": null,
   "metadata": {},
   "outputs": [
    {
     "name": "stdout",
     "output_type": "stream",
     "text": [
      "107/107 [==============================] - 0s 966us/step\n"
     ]
    }
   ],
   "source": [
    "y_pred = model.predict(X_test)"
   ]
  },
  {
   "cell_type": "markdown",
   "metadata": {},
   "source": [
    "## Avaliação do modelo"
   ]
  },
  {
   "cell_type": "code",
   "execution_count": null,
   "metadata": {},
   "outputs": [
    {
     "name": "stdout",
     "output_type": "stream",
     "text": [
      "MSE: 0.0001803024715962548\n",
      "Erro médio quadrático (RMSE): 0.013427675584264567\n",
      "Erro médio absoluto (MAE): 0.00401786171934225\n",
      "Erro de porcentagem absoluta média (MAPE): 1.0\n",
      "R2 Score: -0.09833872858413994\n"
     ]
    },
    {
     "data": {
      "text/plain": [
       "(0.0001803024715962548,\n",
       " 0.013427675584264567,\n",
       " 0.00401786171934225,\n",
       " 1.0,\n",
       " -0.09833872858413994)"
      ]
     },
     "execution_count": 69,
     "metadata": {},
     "output_type": "execute_result"
    }
   ],
   "source": [
    "results_regression(y_test, y_pred.flatten(), True)"
   ]
  },
  {
   "cell_type": "code",
   "execution_count": null,
   "metadata": {},
   "outputs": [
    {
     "data": {
      "text/html": [
       "<div>\n",
       "<style scoped>\n",
       "    .dataframe tbody tr th:only-of-type {\n",
       "        vertical-align: middle;\n",
       "    }\n",
       "\n",
       "    .dataframe tbody tr th {\n",
       "        vertical-align: top;\n",
       "    }\n",
       "\n",
       "    .dataframe thead th {\n",
       "        text-align: right;\n",
       "    }\n",
       "</style>\n",
       "<table border=\"1\" class=\"dataframe\">\n",
       "  <thead>\n",
       "    <tr style=\"text-align: right;\">\n",
       "      <th></th>\n",
       "      <th>y_test</th>\n",
       "      <th>y_pred</th>\n",
       "      <th>diff</th>\n",
       "    </tr>\n",
       "  </thead>\n",
       "  <tbody>\n",
       "    <tr>\n",
       "      <th>6165</th>\n",
       "      <td>0.007088</td>\n",
       "      <td>0.004072</td>\n",
       "      <td>1.740797</td>\n",
       "    </tr>\n",
       "    <tr>\n",
       "      <th>7356</th>\n",
       "      <td>0.021769</td>\n",
       "      <td>0.005658</td>\n",
       "      <td>3.847156</td>\n",
       "    </tr>\n",
       "    <tr>\n",
       "      <th>15830</th>\n",
       "      <td>0.002374</td>\n",
       "      <td>0.004444</td>\n",
       "      <td>0.534245</td>\n",
       "    </tr>\n",
       "    <tr>\n",
       "      <th>11054</th>\n",
       "      <td>0.006054</td>\n",
       "      <td>0.004135</td>\n",
       "      <td>1.464339</td>\n",
       "    </tr>\n",
       "    <tr>\n",
       "      <th>20645</th>\n",
       "      <td>0.004755</td>\n",
       "      <td>0.005196</td>\n",
       "      <td>0.915102</td>\n",
       "    </tr>\n",
       "    <tr>\n",
       "      <th>13570</th>\n",
       "      <td>0.017007</td>\n",
       "      <td>0.004012</td>\n",
       "      <td>4.239414</td>\n",
       "    </tr>\n",
       "    <tr>\n",
       "      <th>5928</th>\n",
       "      <td>0.002381</td>\n",
       "      <td>0.004151</td>\n",
       "      <td>0.573570</td>\n",
       "    </tr>\n",
       "    <tr>\n",
       "      <th>2567</th>\n",
       "      <td>0.005102</td>\n",
       "      <td>0.004989</td>\n",
       "      <td>1.022675</td>\n",
       "    </tr>\n",
       "    <tr>\n",
       "      <th>16380</th>\n",
       "      <td>0.005612</td>\n",
       "      <td>0.004938</td>\n",
       "      <td>1.136510</td>\n",
       "    </tr>\n",
       "    <tr>\n",
       "      <th>20129</th>\n",
       "      <td>0.008844</td>\n",
       "      <td>0.005516</td>\n",
       "      <td>1.603323</td>\n",
       "    </tr>\n",
       "  </tbody>\n",
       "</table>\n",
       "</div>"
      ],
      "text/plain": [
       "         y_test    y_pred      diff\n",
       "6165   0.007088  0.004072  1.740797\n",
       "7356   0.021769  0.005658  3.847156\n",
       "15830  0.002374  0.004444  0.534245\n",
       "11054  0.006054  0.004135  1.464339\n",
       "20645  0.004755  0.005196  0.915102\n",
       "13570  0.017007  0.004012  4.239414\n",
       "5928   0.002381  0.004151  0.573570\n",
       "2567   0.005102  0.004989  1.022675\n",
       "16380  0.005612  0.004938  1.136510\n",
       "20129  0.008844  0.005516  1.603323"
      ]
     },
     "metadata": {},
     "output_type": "display_data"
    },
    {
     "data": {
      "text/plain": [
       "0.8681392524716569"
      ]
     },
     "metadata": {},
     "output_type": "display_data"
    }
   ],
   "source": [
    "results = pd.DataFrame({\n",
    "    'y_test': y_test,\n",
    "    'y_pred': y_pred.flatten()\n",
    "    })\n",
    "\n",
    "results['diff'] = y_test/y_pred.flatten()\n",
    "display(results.sample(10), results['diff'].mean())"
   ]
  }
 ],
 "metadata": {
  "kernelspec": {
   "display_name": "Python 3",
   "language": "python",
   "name": "python3"
  },
  "language_info": {
   "codemirror_mode": {
    "name": "ipython",
    "version": 3
   },
   "file_extension": ".py",
   "mimetype": "text/x-python",
   "name": "python",
   "nbconvert_exporter": "python",
   "pygments_lexer": "ipython3",
   "version": "3.10.11"
  }
 },
 "nbformat": 4,
 "nbformat_minor": 2
}
