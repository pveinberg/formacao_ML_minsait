{
 "cells": [
  {
   "cell_type": "code",
   "execution_count": 249,
   "metadata": {},
   "outputs": [],
   "source": [
    "import pandas as pd\n",
    "import numpy as np\n",
    "\n",
    "from keras.models import Sequential\n",
    "from keras.layers import Dense, Dropout, Flatten\n",
    "from keras.callbacks import EarlyStopping\n",
    "\n",
    "import matplotlib.pyplot as plt\n",
    "import seaborn as sns\n",
    "import pandas as pd\n",
    "\n",
    "from sklearn.datasets import load_iris\n",
    "from sklearn.preprocessing import OneHotEncoder\n",
    "from sklearn.model_selection import train_test_split\n",
    "from sklearn.metrics import confusion_matrix, accuracy_score, mean_absolute_error"
   ]
  },
  {
   "cell_type": "code",
   "execution_count": 250,
   "metadata": {},
   "outputs": [],
   "source": [
    "sns.set_style('darkgrid')\n",
    "PLOT_WIDE = (14,7)\n",
    "PLOT_MEDIUM = (8,4)"
   ]
  },
  {
   "cell_type": "code",
   "execution_count": 251,
   "metadata": {},
   "outputs": [],
   "source": [
    "data = load_iris()"
   ]
  },
  {
   "cell_type": "code",
   "execution_count": 252,
   "metadata": {},
   "outputs": [
    {
     "data": {
      "text/plain": [
       "(array([[5.1, 3.5, 1.4, 0.2],\n",
       "        [4.9, 3. , 1.4, 0.2],\n",
       "        [4.7, 3.2, 1.3, 0.2],\n",
       "        [4.6, 3.1, 1.5, 0.2],\n",
       "        [5. , 3.6, 1.4, 0.2]]),\n",
       " array([0, 0, 0, 0, 0]))"
      ]
     },
     "execution_count": 252,
     "metadata": {},
     "output_type": "execute_result"
    }
   ],
   "source": [
    "data.keys()\n",
    "\n",
    "data.data[:5], data.target[:5]"
   ]
  },
  {
   "cell_type": "code",
   "execution_count": 253,
   "metadata": {},
   "outputs": [
    {
     "data": {
      "text/plain": [
       "((150, 4), (150,))"
      ]
     },
     "execution_count": 253,
     "metadata": {},
     "output_type": "execute_result"
    }
   ],
   "source": [
    "X = data.data\n",
    "y = data.target\n",
    "\n",
    "X.shape, y.shape"
   ]
  },
  {
   "cell_type": "code",
   "execution_count": 254,
   "metadata": {},
   "outputs": [
    {
     "data": {
      "text/plain": [
       "3"
      ]
     },
     "execution_count": 254,
     "metadata": {},
     "output_type": "execute_result"
    }
   ],
   "source": [
    "# 3 classes \n",
    "len(np.unique(y))"
   ]
  },
  {
   "cell_type": "code",
   "execution_count": 255,
   "metadata": {},
   "outputs": [
    {
     "data": {
      "text/plain": [
       "4"
      ]
     },
     "execution_count": 255,
     "metadata": {},
     "output_type": "execute_result"
    }
   ],
   "source": [
    "# 4 features\n",
    "X.shape[1]"
   ]
  },
  {
   "cell_type": "code",
   "execution_count": 256,
   "metadata": {},
   "outputs": [],
   "source": [
    "y = y.reshape(-1,1)\n",
    "encoder = OneHotEncoder()\n",
    "y = encoder.fit_transform(y).toarray()"
   ]
  },
  {
   "cell_type": "code",
   "execution_count": 257,
   "metadata": {},
   "outputs": [],
   "source": [
    "# split train, test\n",
    "X_train, X_test, y_train, y_test = train_test_split(X, y, test_size=0.20, random_state=42)"
   ]
  },
  {
   "cell_type": "code",
   "execution_count": 258,
   "metadata": {},
   "outputs": [],
   "source": [
    "# Split train, validation\n",
    "X_train, X_val, y_train, y_val = train_test_split(X_train, y_train, test_size=0.2, random_state=42)"
   ]
  },
  {
   "cell_type": "code",
   "execution_count": 259,
   "metadata": {},
   "outputs": [
    {
     "name": "stdout",
     "output_type": "stream",
     "text": [
      "X_train:  (96, 4) float64\n",
      "X_val:  (24, 4) float64\n",
      "X_test:  (30, 4) float64\n",
      "y_train:  (96, 3) float64\n",
      "y_val:  (24, 3) float64\n",
      "y_test:  (30, 3) float64\n"
     ]
    }
   ],
   "source": [
    "print('X_train: ', X_train.shape, X_train.dtype)\n",
    "print('X_val: ', X_val.shape, X_val.dtype)\n",
    "print('X_test: ', X_test.shape, X_test.dtype)\n",
    "print('y_train: ', y_train.shape, y_train.dtype)\n",
    "print('y_val: ', y_val.shape, y_val.dtype)\n",
    "print('y_test: ', y_test.shape, y_test.dtype)\n"
   ]
  },
  {
   "cell_type": "code",
   "execution_count": 260,
   "metadata": {},
   "outputs": [
    {
     "data": {
      "text/plain": [
       "(8, 4)"
      ]
     },
     "execution_count": 260,
     "metadata": {},
     "output_type": "execute_result"
    }
   ],
   "source": [
    "m = X_train.shape[1] * 2\n",
    "n = X_train.shape[1]\n",
    "\n",
    "m, n"
   ]
  },
  {
   "cell_type": "code",
   "execution_count": 261,
   "metadata": {},
   "outputs": [
    {
     "name": "stdout",
     "output_type": "stream",
     "text": [
      "Model: \"sequential_10\"\n",
      "_________________________________________________________________\n",
      " Layer (type)                Output Shape              Param #   \n",
      "=================================================================\n",
      " dense_29 (Dense)            (None, 64)                320       \n",
      "                                                                 \n",
      " dropout_20 (Dropout)        (None, 64)                0         \n",
      "                                                                 \n",
      " dense_30 (Dense)            (None, 32)                2080      \n",
      "                                                                 \n",
      " dropout_21 (Dropout)        (None, 32)                0         \n",
      "                                                                 \n",
      " dense_31 (Dense)            (None, 16)                528       \n",
      "                                                                 \n",
      " dropout_22 (Dropout)        (None, 16)                0         \n",
      "                                                                 \n",
      " dense_32 (Dense)            (None, 3)                 51        \n",
      "                                                                 \n",
      "=================================================================\n",
      "Total params: 2979 (11.64 KB)\n",
      "Trainable params: 2979 (11.64 KB)\n",
      "Non-trainable params: 0 (0.00 Byte)\n",
      "_________________________________________________________________\n"
     ]
    }
   ],
   "source": [
    "dropout_pct = 0.3\n",
    "model = Sequential()\n",
    "model.add(Dense(units=64, activation='relu', input_dim=4))\n",
    "model.add(Dropout(dropout_pct))\n",
    "model.add(Dense(units=32, activation='relu'))\n",
    "model.add(Dropout(dropout_pct))\n",
    "model.add(Dense(units=16, activation='relu'))\n",
    "model.add(Dropout(dropout_pct))\n",
    "model.add(Dense(units=3, activation='softmax'))\n",
    "\n",
    "model.summary()"
   ]
  },
  {
   "cell_type": "code",
   "execution_count": 262,
   "metadata": {},
   "outputs": [],
   "source": [
    "model.compile(loss = 'categorical_crossentropy', \\\n",
    "              optimizer = 'Adam', metrics=['accuracy'])"
   ]
  },
  {
   "cell_type": "code",
   "execution_count": 263,
   "metadata": {},
   "outputs": [
    {
     "name": "stdout",
     "output_type": "stream",
     "text": [
      "Epoch 1/1000\n"
     ]
    },
    {
     "name": "stdout",
     "output_type": "stream",
     "text": [
      "3/3 [==============================] - 1s 83ms/step - loss: 1.5232 - accuracy: 0.3229 - val_loss: 1.1794 - val_accuracy: 0.2083\n",
      "Epoch 2/1000\n",
      "3/3 [==============================] - 0s 13ms/step - loss: 1.4052 - accuracy: 0.3333 - val_loss: 1.1022 - val_accuracy: 0.2083\n",
      "Epoch 3/1000\n",
      "3/3 [==============================] - 0s 14ms/step - loss: 1.5134 - accuracy: 0.3750 - val_loss: 1.0481 - val_accuracy: 0.5417\n",
      "Epoch 4/1000\n",
      "3/3 [==============================] - 0s 15ms/step - loss: 1.2327 - accuracy: 0.3750 - val_loss: 1.0144 - val_accuracy: 0.5417\n",
      "Epoch 5/1000\n",
      "3/3 [==============================] - 0s 16ms/step - loss: 1.1867 - accuracy: 0.4062 - val_loss: 0.9918 - val_accuracy: 0.7917\n",
      "Epoch 6/1000\n",
      "3/3 [==============================] - 0s 13ms/step - loss: 1.1894 - accuracy: 0.4062 - val_loss: 0.9710 - val_accuracy: 0.7917\n",
      "Epoch 7/1000\n",
      "3/3 [==============================] - 0s 13ms/step - loss: 1.2830 - accuracy: 0.2604 - val_loss: 0.9567 - val_accuracy: 0.7917\n",
      "Epoch 8/1000\n",
      "3/3 [==============================] - 0s 13ms/step - loss: 1.1646 - accuracy: 0.4062 - val_loss: 0.9455 - val_accuracy: 0.7917\n",
      "Epoch 9/1000\n",
      "3/3 [==============================] - 0s 12ms/step - loss: 1.0053 - accuracy: 0.4792 - val_loss: 0.9369 - val_accuracy: 0.7917\n",
      "Epoch 10/1000\n",
      "3/3 [==============================] - 0s 12ms/step - loss: 1.1516 - accuracy: 0.4167 - val_loss: 0.9316 - val_accuracy: 0.7917\n",
      "Epoch 11/1000\n",
      "3/3 [==============================] - 0s 12ms/step - loss: 1.1039 - accuracy: 0.3854 - val_loss: 0.9288 - val_accuracy: 0.7917\n",
      "Epoch 12/1000\n",
      "3/3 [==============================] - 0s 13ms/step - loss: 1.0042 - accuracy: 0.5000 - val_loss: 0.9311 - val_accuracy: 0.7917\n",
      "Epoch 13/1000\n",
      "3/3 [==============================] - 0s 13ms/step - loss: 0.9722 - accuracy: 0.5312 - val_loss: 0.9350 - val_accuracy: 0.7917\n",
      "Epoch 14/1000\n",
      "3/3 [==============================] - 0s 13ms/step - loss: 1.0520 - accuracy: 0.4479 - val_loss: 0.9335 - val_accuracy: 0.7917\n",
      "Epoch 15/1000\n",
      "3/3 [==============================] - 0s 13ms/step - loss: 0.9984 - accuracy: 0.5104 - val_loss: 0.9247 - val_accuracy: 0.7500\n",
      "Epoch 16/1000\n",
      "3/3 [==============================] - 0s 16ms/step - loss: 1.0018 - accuracy: 0.5625 - val_loss: 0.9115 - val_accuracy: 0.7917\n",
      "Epoch 17/1000\n",
      "3/3 [==============================] - 0s 14ms/step - loss: 0.9955 - accuracy: 0.4792 - val_loss: 0.8999 - val_accuracy: 0.9167\n",
      "Epoch 18/1000\n",
      "3/3 [==============================] - 0s 23ms/step - loss: 0.9839 - accuracy: 0.4792 - val_loss: 0.8909 - val_accuracy: 0.9167\n",
      "Epoch 19/1000\n",
      "3/3 [==============================] - 0s 18ms/step - loss: 0.9641 - accuracy: 0.5521 - val_loss: 0.8809 - val_accuracy: 0.8333\n",
      "Epoch 20/1000\n",
      "3/3 [==============================] - 0s 15ms/step - loss: 0.9949 - accuracy: 0.4896 - val_loss: 0.8749 - val_accuracy: 0.6667\n",
      "Epoch 21/1000\n",
      "3/3 [==============================] - 0s 13ms/step - loss: 0.9416 - accuracy: 0.5625 - val_loss: 0.8644 - val_accuracy: 0.6667\n",
      "Epoch 22/1000\n",
      "3/3 [==============================] - 0s 13ms/step - loss: 0.9044 - accuracy: 0.5104 - val_loss: 0.8531 - val_accuracy: 0.6250\n",
      "Epoch 23/1000\n",
      "3/3 [==============================] - 0s 14ms/step - loss: 0.8720 - accuracy: 0.6042 - val_loss: 0.8357 - val_accuracy: 0.7083\n",
      "Epoch 24/1000\n",
      "3/3 [==============================] - 0s 12ms/step - loss: 0.8897 - accuracy: 0.5833 - val_loss: 0.8195 - val_accuracy: 0.7083\n",
      "Epoch 25/1000\n",
      "3/3 [==============================] - 0s 14ms/step - loss: 0.9064 - accuracy: 0.5833 - val_loss: 0.8033 - val_accuracy: 0.7083\n",
      "Epoch 26/1000\n",
      "3/3 [==============================] - 0s 13ms/step - loss: 0.9442 - accuracy: 0.5625 - val_loss: 0.7887 - val_accuracy: 0.7500\n",
      "Epoch 27/1000\n",
      "3/3 [==============================] - 0s 12ms/step - loss: 0.8738 - accuracy: 0.6354 - val_loss: 0.7744 - val_accuracy: 0.8333\n",
      "Epoch 28/1000\n",
      "3/3 [==============================] - 0s 12ms/step - loss: 0.8639 - accuracy: 0.5312 - val_loss: 0.7616 - val_accuracy: 0.8333\n",
      "Epoch 29/1000\n",
      "3/3 [==============================] - 0s 16ms/step - loss: 0.9048 - accuracy: 0.5312 - val_loss: 0.7484 - val_accuracy: 0.8333\n",
      "Epoch 30/1000\n",
      "3/3 [==============================] - 0s 13ms/step - loss: 0.9019 - accuracy: 0.5938 - val_loss: 0.7364 - val_accuracy: 0.8750\n",
      "Epoch 31/1000\n",
      "3/3 [==============================] - 0s 15ms/step - loss: 0.8729 - accuracy: 0.5625 - val_loss: 0.7247 - val_accuracy: 0.9167\n",
      "Epoch 32/1000\n",
      "3/3 [==============================] - 0s 14ms/step - loss: 0.7366 - accuracy: 0.6354 - val_loss: 0.7096 - val_accuracy: 0.8750\n",
      "Epoch 33/1000\n",
      "3/3 [==============================] - 0s 12ms/step - loss: 0.8082 - accuracy: 0.6562 - val_loss: 0.6926 - val_accuracy: 0.8333\n",
      "Epoch 34/1000\n",
      "3/3 [==============================] - 0s 13ms/step - loss: 0.7732 - accuracy: 0.6979 - val_loss: 0.6763 - val_accuracy: 0.8333\n",
      "Epoch 35/1000\n",
      "3/3 [==============================] - 0s 13ms/step - loss: 0.7699 - accuracy: 0.5833 - val_loss: 0.6596 - val_accuracy: 0.7917\n",
      "Epoch 36/1000\n",
      "3/3 [==============================] - 0s 14ms/step - loss: 0.7665 - accuracy: 0.6979 - val_loss: 0.6430 - val_accuracy: 0.7917\n",
      "Epoch 37/1000\n",
      "3/3 [==============================] - 0s 14ms/step - loss: 0.8525 - accuracy: 0.6667 - val_loss: 0.6226 - val_accuracy: 0.8333\n",
      "Epoch 38/1000\n",
      "3/3 [==============================] - 0s 13ms/step - loss: 0.7937 - accuracy: 0.6667 - val_loss: 0.6073 - val_accuracy: 0.8333\n",
      "Epoch 39/1000\n",
      "3/3 [==============================] - 0s 13ms/step - loss: 0.7945 - accuracy: 0.6146 - val_loss: 0.5979 - val_accuracy: 0.8333\n",
      "Epoch 40/1000\n",
      "3/3 [==============================] - 0s 13ms/step - loss: 0.7893 - accuracy: 0.5938 - val_loss: 0.5895 - val_accuracy: 0.8333\n",
      "Epoch 41/1000\n",
      "3/3 [==============================] - 0s 12ms/step - loss: 0.6509 - accuracy: 0.7604 - val_loss: 0.5836 - val_accuracy: 0.8333\n",
      "Epoch 42/1000\n",
      "3/3 [==============================] - 0s 37ms/step - loss: 0.7420 - accuracy: 0.6250 - val_loss: 0.5759 - val_accuracy: 0.8333\n",
      "Epoch 43/1000\n",
      "3/3 [==============================] - 0s 20ms/step - loss: 0.7198 - accuracy: 0.6979 - val_loss: 0.5673 - val_accuracy: 0.8333\n",
      "Epoch 44/1000\n",
      "3/3 [==============================] - 0s 20ms/step - loss: 0.6876 - accuracy: 0.6979 - val_loss: 0.5595 - val_accuracy: 0.8333\n",
      "Epoch 45/1000\n",
      "3/3 [==============================] - 0s 17ms/step - loss: 0.6019 - accuracy: 0.7188 - val_loss: 0.5517 - val_accuracy: 0.8333\n",
      "Epoch 46/1000\n",
      "3/3 [==============================] - 0s 19ms/step - loss: 0.6858 - accuracy: 0.7083 - val_loss: 0.5475 - val_accuracy: 0.7500\n",
      "Epoch 47/1000\n",
      "3/3 [==============================] - 0s 17ms/step - loss: 0.6563 - accuracy: 0.6354 - val_loss: 0.5398 - val_accuracy: 0.7500\n",
      "Epoch 48/1000\n",
      "3/3 [==============================] - 0s 19ms/step - loss: 0.6574 - accuracy: 0.7188 - val_loss: 0.5378 - val_accuracy: 0.7083\n",
      "Epoch 49/1000\n",
      "3/3 [==============================] - 0s 12ms/step - loss: 0.5999 - accuracy: 0.7396 - val_loss: 0.5341 - val_accuracy: 0.7083\n",
      "Epoch 50/1000\n",
      "3/3 [==============================] - 0s 13ms/step - loss: 0.6549 - accuracy: 0.7604 - val_loss: 0.5221 - val_accuracy: 0.7083\n",
      "Epoch 51/1000\n",
      "3/3 [==============================] - 0s 13ms/step - loss: 0.5941 - accuracy: 0.6667 - val_loss: 0.5143 - val_accuracy: 0.7083\n",
      "Epoch 52/1000\n",
      "3/3 [==============================] - 0s 13ms/step - loss: 0.5332 - accuracy: 0.8021 - val_loss: 0.5026 - val_accuracy: 0.7500\n",
      "Epoch 53/1000\n",
      "3/3 [==============================] - 0s 14ms/step - loss: 0.5578 - accuracy: 0.7917 - val_loss: 0.4894 - val_accuracy: 0.8333\n",
      "Epoch 54/1000\n",
      "3/3 [==============================] - 0s 13ms/step - loss: 0.6422 - accuracy: 0.6458 - val_loss: 0.4792 - val_accuracy: 0.8333\n",
      "Epoch 55/1000\n",
      "3/3 [==============================] - 0s 12ms/step - loss: 0.5507 - accuracy: 0.7500 - val_loss: 0.4650 - val_accuracy: 0.8750\n",
      "Epoch 56/1000\n",
      "3/3 [==============================] - 0s 13ms/step - loss: 0.5870 - accuracy: 0.7396 - val_loss: 0.4532 - val_accuracy: 0.8750\n",
      "Epoch 57/1000\n",
      "3/3 [==============================] - 0s 13ms/step - loss: 0.5837 - accuracy: 0.6979 - val_loss: 0.4489 - val_accuracy: 0.8750\n",
      "Epoch 58/1000\n",
      "3/3 [==============================] - 0s 14ms/step - loss: 0.5474 - accuracy: 0.7708 - val_loss: 0.4429 - val_accuracy: 0.8750\n",
      "Epoch 59/1000\n",
      "3/3 [==============================] - 0s 13ms/step - loss: 0.4726 - accuracy: 0.7917 - val_loss: 0.4378 - val_accuracy: 0.8750\n",
      "Epoch 60/1000\n",
      "3/3 [==============================] - 0s 13ms/step - loss: 0.5379 - accuracy: 0.7500 - val_loss: 0.4332 - val_accuracy: 0.8750\n",
      "Epoch 61/1000\n",
      "3/3 [==============================] - 0s 14ms/step - loss: 0.5957 - accuracy: 0.7396 - val_loss: 0.4287 - val_accuracy: 0.8750\n",
      "Epoch 62/1000\n",
      "3/3 [==============================] - 0s 13ms/step - loss: 0.5138 - accuracy: 0.7396 - val_loss: 0.4237 - val_accuracy: 0.8750\n",
      "Epoch 63/1000\n",
      "3/3 [==============================] - 0s 16ms/step - loss: 0.5745 - accuracy: 0.6875 - val_loss: 0.4234 - val_accuracy: 0.8750\n",
      "Epoch 64/1000\n",
      "3/3 [==============================] - 0s 13ms/step - loss: 0.4900 - accuracy: 0.7917 - val_loss: 0.4205 - val_accuracy: 0.8750\n",
      "Epoch 65/1000\n",
      "3/3 [==============================] - 0s 15ms/step - loss: 0.5685 - accuracy: 0.7396 - val_loss: 0.4120 - val_accuracy: 0.8750\n",
      "Epoch 66/1000\n",
      "3/3 [==============================] - 0s 13ms/step - loss: 0.6066 - accuracy: 0.7500 - val_loss: 0.4065 - val_accuracy: 0.8750\n",
      "Epoch 67/1000\n",
      "3/3 [==============================] - 0s 13ms/step - loss: 0.4642 - accuracy: 0.7708 - val_loss: 0.4046 - val_accuracy: 0.8750\n",
      "Epoch 68/1000\n",
      "3/3 [==============================] - 0s 14ms/step - loss: 0.5410 - accuracy: 0.6979 - val_loss: 0.4047 - val_accuracy: 0.8750\n",
      "Epoch 69/1000\n",
      "3/3 [==============================] - 0s 13ms/step - loss: 0.5123 - accuracy: 0.7396 - val_loss: 0.4017 - val_accuracy: 0.8750\n",
      "Epoch 70/1000\n",
      "3/3 [==============================] - 0s 13ms/step - loss: 0.4405 - accuracy: 0.8438 - val_loss: 0.3989 - val_accuracy: 0.8750\n",
      "Epoch 71/1000\n",
      "3/3 [==============================] - 0s 13ms/step - loss: 0.4517 - accuracy: 0.7812 - val_loss: 0.3983 - val_accuracy: 0.8750\n",
      "Epoch 72/1000\n",
      "3/3 [==============================] - 0s 12ms/step - loss: 0.4347 - accuracy: 0.8438 - val_loss: 0.3960 - val_accuracy: 0.8750\n",
      "Epoch 73/1000\n",
      "3/3 [==============================] - 0s 13ms/step - loss: 0.4781 - accuracy: 0.7812 - val_loss: 0.3938 - val_accuracy: 0.8750\n",
      "Epoch 74/1000\n",
      "3/3 [==============================] - 0s 14ms/step - loss: 0.5070 - accuracy: 0.7604 - val_loss: 0.3869 - val_accuracy: 0.8750\n",
      "Epoch 75/1000\n",
      "3/3 [==============================] - 0s 23ms/step - loss: 0.4688 - accuracy: 0.7708 - val_loss: 0.3807 - val_accuracy: 0.8750\n",
      "Epoch 76/1000\n",
      "3/3 [==============================] - 0s 18ms/step - loss: 0.5312 - accuracy: 0.7188 - val_loss: 0.3767 - val_accuracy: 0.8750\n",
      "Epoch 77/1000\n",
      "3/3 [==============================] - 0s 13ms/step - loss: 0.4423 - accuracy: 0.8125 - val_loss: 0.3777 - val_accuracy: 0.8750\n",
      "Epoch 78/1000\n",
      "3/3 [==============================] - 0s 14ms/step - loss: 0.3893 - accuracy: 0.8438 - val_loss: 0.3705 - val_accuracy: 0.8750\n",
      "Epoch 79/1000\n",
      "3/3 [==============================] - 0s 13ms/step - loss: 0.4539 - accuracy: 0.7812 - val_loss: 0.3597 - val_accuracy: 0.8750\n",
      "Epoch 80/1000\n",
      "3/3 [==============================] - 0s 13ms/step - loss: 0.3855 - accuracy: 0.8125 - val_loss: 0.3469 - val_accuracy: 0.8750\n",
      "Epoch 81/1000\n",
      "3/3 [==============================] - 0s 13ms/step - loss: 0.4677 - accuracy: 0.7604 - val_loss: 0.3385 - val_accuracy: 0.8750\n",
      "Epoch 82/1000\n",
      "3/3 [==============================] - 0s 14ms/step - loss: 0.4862 - accuracy: 0.7083 - val_loss: 0.3423 - val_accuracy: 0.8750\n",
      "Epoch 83/1000\n",
      "3/3 [==============================] - 0s 13ms/step - loss: 0.4108 - accuracy: 0.8229 - val_loss: 0.3537 - val_accuracy: 0.8750\n",
      "Epoch 84/1000\n",
      "3/3 [==============================] - 0s 13ms/step - loss: 0.4225 - accuracy: 0.8125 - val_loss: 0.3641 - val_accuracy: 0.8750\n",
      "Epoch 85/1000\n",
      "3/3 [==============================] - 0s 13ms/step - loss: 0.4270 - accuracy: 0.7708 - val_loss: 0.3453 - val_accuracy: 0.8750\n",
      "Epoch 86/1000\n",
      "3/3 [==============================] - 0s 13ms/step - loss: 0.3965 - accuracy: 0.8333 - val_loss: 0.3273 - val_accuracy: 0.8750\n",
      "Epoch 87/1000\n",
      "3/3 [==============================] - 0s 15ms/step - loss: 0.4457 - accuracy: 0.8021 - val_loss: 0.3154 - val_accuracy: 0.9167\n",
      "Epoch 88/1000\n",
      "3/3 [==============================] - 0s 14ms/step - loss: 0.4540 - accuracy: 0.7708 - val_loss: 0.3065 - val_accuracy: 0.9167\n",
      "Epoch 89/1000\n",
      "3/3 [==============================] - 0s 16ms/step - loss: 0.4656 - accuracy: 0.7917 - val_loss: 0.2990 - val_accuracy: 0.9167\n",
      "Epoch 90/1000\n",
      "3/3 [==============================] - 0s 14ms/step - loss: 0.4051 - accuracy: 0.8438 - val_loss: 0.3005 - val_accuracy: 0.9167\n",
      "Epoch 91/1000\n",
      "3/3 [==============================] - 0s 15ms/step - loss: 0.4385 - accuracy: 0.8333 - val_loss: 0.3112 - val_accuracy: 0.8750\n",
      "Epoch 92/1000\n",
      "3/3 [==============================] - 0s 15ms/step - loss: 0.4618 - accuracy: 0.8021 - val_loss: 0.3257 - val_accuracy: 0.8750\n",
      "Epoch 93/1000\n",
      "3/3 [==============================] - 0s 16ms/step - loss: 0.3632 - accuracy: 0.8542 - val_loss: 0.3348 - val_accuracy: 0.8750\n",
      "Epoch 94/1000\n",
      "3/3 [==============================] - 0s 15ms/step - loss: 0.3267 - accuracy: 0.8854 - val_loss: 0.3298 - val_accuracy: 0.8750\n",
      "Epoch 95/1000\n",
      "3/3 [==============================] - 0s 15ms/step - loss: 0.5020 - accuracy: 0.7500 - val_loss: 0.3124 - val_accuracy: 0.8750\n",
      "Epoch 96/1000\n",
      "3/3 [==============================] - 0s 14ms/step - loss: 0.3510 - accuracy: 0.8646 - val_loss: 0.3058 - val_accuracy: 0.8750\n",
      "Epoch 97/1000\n",
      "3/3 [==============================] - 0s 16ms/step - loss: 0.3880 - accuracy: 0.8438 - val_loss: 0.2869 - val_accuracy: 0.9167\n",
      "Epoch 98/1000\n",
      "3/3 [==============================] - 0s 15ms/step - loss: 0.3877 - accuracy: 0.8021 - val_loss: 0.2810 - val_accuracy: 0.9167\n",
      "Epoch 99/1000\n",
      "3/3 [==============================] - 0s 14ms/step - loss: 0.3909 - accuracy: 0.8333 - val_loss: 0.2820 - val_accuracy: 0.9167\n",
      "Epoch 100/1000\n",
      "3/3 [==============================] - 0s 15ms/step - loss: 0.3015 - accuracy: 0.8854 - val_loss: 0.2840 - val_accuracy: 0.9167\n",
      "Epoch 101/1000\n",
      "3/3 [==============================] - 0s 14ms/step - loss: 0.3596 - accuracy: 0.8438 - val_loss: 0.2914 - val_accuracy: 0.8750\n",
      "Epoch 102/1000\n",
      "3/3 [==============================] - 0s 12ms/step - loss: 0.3730 - accuracy: 0.8542 - val_loss: 0.2838 - val_accuracy: 0.8750\n",
      "Epoch 103/1000\n",
      "3/3 [==============================] - 0s 13ms/step - loss: 0.4318 - accuracy: 0.8333 - val_loss: 0.2897 - val_accuracy: 0.8750\n",
      "Epoch 104/1000\n",
      "3/3 [==============================] - 0s 13ms/step - loss: 0.4001 - accuracy: 0.8125 - val_loss: 0.2997 - val_accuracy: 0.8750\n",
      "Epoch 105/1000\n",
      "3/3 [==============================] - 0s 14ms/step - loss: 0.3874 - accuracy: 0.8333 - val_loss: 0.2986 - val_accuracy: 0.8750\n",
      "Epoch 106/1000\n",
      "3/3 [==============================] - 0s 14ms/step - loss: 0.3518 - accuracy: 0.8750 - val_loss: 0.3134 - val_accuracy: 0.8750\n",
      "Epoch 107/1000\n",
      "3/3 [==============================] - 0s 13ms/step - loss: 0.2972 - accuracy: 0.9375 - val_loss: 0.3123 - val_accuracy: 0.8750\n",
      "Epoch 108/1000\n",
      "3/3 [==============================] - 0s 15ms/step - loss: 0.3578 - accuracy: 0.8438 - val_loss: 0.2875 - val_accuracy: 0.8750\n",
      "Epoch 108: early stopping\n"
     ]
    }
   ],
   "source": [
    "es = EarlyStopping(monitor = 'val_loss', min_delta = 0.001, \\\n",
    "                   patience = 10, verbose = 1, mode = 'auto')\n",
    "\n",
    "historico = model.fit(X_train,\n",
    "                        y_train,\n",
    "                        epochs = 1000,\n",
    "                        verbose = 1,\n",
    "                        validation_data = (X_val, y_val),\n",
    "                        callbacks=[es])"
   ]
  },
  {
   "cell_type": "code",
   "execution_count": 264,
   "metadata": {},
   "outputs": [
    {
     "name": "stdout",
     "output_type": "stream",
     "text": [
      "1/1 [==============================] - 0s 97ms/step\n",
      "ACCURACY SCORE:\n",
      "\n",
      "0.9666666666666667\n"
     ]
    },
    {
     "data": {
      "image/png": "[encoded data removed]",
      "text/plain": [
       "<Figure size 640x480 with 2 Axes>"
      ]
     },
     "metadata": {},
     "output_type": "display_data"
    },
    {
     "data": {
      "image/png": "[encoded data removed]",
      "text/plain": [
       "<Figure size 800x400 with 1 Axes>"
      ]
     },
     "metadata": {},
     "output_type": "display_data"
    }
   ],
   "source": [
    "def print_results(historico_):\n",
    "    loss = historico_.history['loss']\n",
    "    val_loss = historico_.history['val_loss']\n",
    "    epochs = range(len(loss))\n",
    "\n",
    "    plt.figure(figsize=PLOT_MEDIUM)\n",
    "    # sns.lineplot(None, x=epochs, y=loss, markers=True, dashes=False)\n",
    "    # sns.lineplot(None, x=epochs, y=val_loss)\n",
    "    sns.lineplot(None, x=epochs, y=loss, label='Loss')\n",
    "    sns.lineplot(None, x=epochs, y=val_loss, label='Validation Loss')\n",
    "    \n",
    "    # plt.plot(epochs, loss, 'bo', label = 'Training loss')\n",
    "    # plt.plot(epochs, val_loss, 'b', label = 'Validation loss')\n",
    "    plt.title('Training and validation loss')\n",
    "    plt.legend()\n",
    "    plt.show()\n",
    "\n",
    "def run_pred(model_, historico_, X_test_, y_test_):\n",
    "    y_pred = model_.predict(X_test_)\n",
    "    \n",
    "    print(\"ACCURACY SCORE:\\n\\r\")\n",
    "    print(accuracy_score(y_test_.argmax(1), y_pred.argmax(1)))\n",
    "\n",
    "    cf = confusion_matrix(y_test_.argmax(1), y_pred.argmax(1))\n",
    "    sns.heatmap(cf, annot=True, cmap='viridis')\n",
    "    plt.title(\"Confusion Matrix\")\n",
    "    plt.show()\n",
    "\n",
    "    print_results(historico_)\n",
    "\n",
    "run_pred(model, historico, X_test, y_test)\n"
   ]
  }
 ],
 "metadata": {
  "kernelspec": {
   "display_name": "Python 3",
   "language": "python",
   "name": "python3"
  },
  "language_info": {
   "codemirror_mode": {
    "name": "ipython",
    "version": 3
   },
   "file_extension": ".py",
   "mimetype": "text/x-python",
   "name": "python",
   "nbconvert_exporter": "python",
   "pygments_lexer": "ipython3",
   "version": "3.10.12"
  }
 },
 "nbformat": 4,
 "nbformat_minor": 2
}
