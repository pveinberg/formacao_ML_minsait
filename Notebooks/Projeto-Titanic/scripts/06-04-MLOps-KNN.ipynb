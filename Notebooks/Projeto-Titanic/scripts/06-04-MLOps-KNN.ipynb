{
 "cells": [
  {
   "cell_type": "markdown",
   "metadata": {},
   "source": [
    "TITANIC DATASET - ML - KNN\n",
    "=========================="
   ]
  },
  {
   "cell_type": "code",
   "execution_count": 10,
   "metadata": {},
   "outputs": [
    {
     "name": "stdout",
     "output_type": "stream",
     "text": [
      "The autoreload extension is already loaded. To reload it, use:\n",
      "  %reload_ext autoreload\n"
     ]
    }
   ],
   "source": [
    "%load_ext autoreload\n",
    "%autoreload 2\n",
    "\n",
    "import mlflow\n",
    "import pickle\n",
    "import pandas as pd \n",
    "import numpy as np \n",
    "\n",
    "from datetime import datetime\n",
    "from functions import get_metrics\n",
    "\n",
    "from matplotlib import pyplot as plt \n",
    "import seaborn as sns\n",
    "\n",
    "from sklearn.neighbors import KNeighborsClassifier\n",
    "from sklearn.model_selection import GridSearchCV\n",
    "from sklearn.metrics import accuracy_score"
   ]
  },
  {
   "cell_type": "markdown",
   "metadata": {},
   "source": [
    "## Configs"
   ]
  },
  {
   "cell_type": "code",
   "execution_count": 11,
   "metadata": {},
   "outputs": [],
   "source": [
    "EXPERIMENT_TITLE = \"Titanic Dataset Analyzes\"\n",
    "\n",
    "run_description = \"\"\"\n",
    "### Descrição\n",
    "\n",
    "Implementação usando [KNeighborsClassifier](https://scikit-learn.org/stable/modules/generated/sklearn.neighbors.KNeighborsClassifier.htmll)\n",
    "\"\"\"\n",
    "\n",
    "tags = {\n",
    "    \"date\": datetime.now(),\n",
    "    \"author\": \"Pablo Veinberg\",\n",
    "    \"version\": 1.0,\n",
    "    \"envoronment\": \"local\",\n",
    "    \"mlflow.note.content\": run_description,\n",
    "    \"mlflow.runName\": \"KNeighborsClassifier\",\n",
    "    \"data_source\": \"./../datasets/silver/train-encoded-not-normalize.parquet\",\n",
    "    \"train_test_dataset\": \"./../datasets/silver/titanic-train-test-data.pkl\"\n",
    "}\n",
    "\n",
    "params = {\n",
    "    \"token\": np.random.randint(10_000,high=99_000),\n",
    "    \"model_params\": {\n",
    "        \"weights\": [\"uniform\", \"distance\"],\n",
    "        \"n_neighbors\": range(1,31, 2),\n",
    "        \"algorithm\": [\"auto\", \"ball_tree\", \"kd_tree\", \"brute\"],\n",
    "        \"p\": [1, 2, 3], \n",
    "        \"metric\": [\"minkowski\", \"eucliedean\", \"canberra\"]\n",
    "    }\n",
    "}\n",
    "\n",
    "sns.set_style(\"darkgrid\")\n"
   ]
  },
  {
   "cell_type": "markdown",
   "metadata": {},
   "source": [
    "## Load"
   ]
  },
  {
   "cell_type": "code",
   "execution_count": 12,
   "metadata": {},
   "outputs": [
    {
     "name": "stderr",
     "output_type": "stream",
     "text": [
      "/home/pablo_veinberg/.local/lib/python3.10/site-packages/mlflow/data/dataset_source_registry.py:143: UserWarning: The specified dataset source can be interpreted in multiple ways: LocalArtifactDatasetSource, LocalArtifactDatasetSource. MLflow will assume that this is a LocalArtifactDatasetSource source.\n",
      "  return _dataset_source_registry.resolve(\n"
     ]
    }
   ],
   "source": [
    "dataset = pd.read_parquet(tags['data_source'])\n",
    "mlflow_dataset = mlflow.data.from_pandas(dataset, \\\n",
    "                                            source=tags['data_source'], \\\n",
    "                                            name=\"Titanic Dataset\")"
   ]
  },
  {
   "cell_type": "code",
   "execution_count": 13,
   "metadata": {},
   "outputs": [
    {
     "data": {
      "text/plain": [
       "((712, 8), (179, 8), (712,), (179,))"
      ]
     },
     "execution_count": 13,
     "metadata": {},
     "output_type": "execute_result"
    }
   ],
   "source": [
    "with open('./../datasets/silver/titanic-train-test-data.pkl', 'rb') as file:\n",
    "    X_train, X_test, y_train, y_test = pickle.load(file)\n",
    "\n",
    "X_train.shape, X_test.shape, y_train.shape, y_test.shape"
   ]
  },
  {
   "cell_type": "markdown",
   "metadata": {},
   "source": [
    "## Rodar experimentos"
   ]
  },
  {
   "cell_type": "code",
   "execution_count": 14,
   "metadata": {},
   "outputs": [],
   "source": [
    "# # run all then select best and log\n",
    "\n",
    "# accuracies = []\n",
    "# for k in range(params['min_n_neighbors'], params['max_n_neighbors'], 2):\n",
    "#     for p in (params['min_p'], params['max_p']):\n",
    "#         model = KNeighborsClassifier(\n",
    "#             n_neighbors=k, \\\n",
    "#             p=p,\n",
    "#             metric=params['metric']\n",
    "#         )\n",
    "\n",
    "#         model.fit(X_train, y_train)\n",
    "\n",
    "#         y_pred = model.predict(X_test)\n",
    "#         accuracies.append(\n",
    "#             (k, p, accuracy_score(y_test, y_pred)))\n",
    "\n"
   ]
  },
  {
   "cell_type": "markdown",
   "metadata": {},
   "source": [
    "### Analisar melhores parâmetros "
   ]
  },
  {
   "cell_type": "code",
   "execution_count": 15,
   "metadata": {},
   "outputs": [],
   "source": [
    "# sorted_by_accuracy = sorted(accuracies, key=lambda tup: tup[2], reverse=True)\n",
    "\n",
    "# params['n_neighbors'] = sorted_by_accuracy[0][0]\n",
    "# params['p'] = sorted_by_accuracy[0][1]\n",
    "# tags['accuracies'] = accuracies"
   ]
  },
  {
   "cell_type": "code",
   "execution_count": 16,
   "metadata": {},
   "outputs": [],
   "source": [
    "# plt_best_k_figpath = f\"./../results/knn_best_k_{params['token']}.png\"\n",
    "# sns.lineplot(x=[f\"k={row[0]}, p={row[1]}\" for row in accuracies], y=[row[2] for row in accuracies])\n",
    "# plt.xticks(rotation=90)\n",
    "# plt.title(\"Melhor k para este conjunto de dados.\")\n",
    "# plt.savefig(plt_best_k_figpath);"
   ]
  },
  {
   "cell_type": "markdown",
   "metadata": {},
   "source": [
    "## Processar melhor resultado"
   ]
  },
  {
   "cell_type": "code",
   "execution_count": 17,
   "metadata": {},
   "outputs": [
    {
     "name": "stderr",
     "output_type": "stream",
     "text": [
      "WARNING:root:Malformed experiment 'mlruns'. Detailed error Yaml file '/home/pablo_veinberg/dev/indra/formacao-machine-learning-minsait-2023/Notebooks/Projeto-Titanic/scripts/mlruns/mlruns/meta.yaml' does not exist.\n",
      "Traceback (most recent call last):\n",
      "  File \"/home/pablo_veinberg/.local/lib/python3.10/site-packages/mlflow/store/tracking/file_store.py\", line 302, in search_experiments\n",
      "    exp = self._get_experiment(exp_id, view_type)\n",
      "  File \"/home/pablo_veinberg/.local/lib/python3.10/site-packages/mlflow/store/tracking/file_store.py\", line 395, in _get_experiment\n",
      "    meta = FileStore._read_yaml(experiment_dir, FileStore.META_DATA_FILE_NAME)\n",
      "  File \"/home/pablo_veinberg/.local/lib/python3.10/site-packages/mlflow/store/tracking/file_store.py\", line 1303, in _read_yaml\n",
      "    return _read_helper(root, file_name, attempts_remaining=retries)\n",
      "  File \"/home/pablo_veinberg/.local/lib/python3.10/site-packages/mlflow/store/tracking/file_store.py\", line 1296, in _read_helper\n",
      "    result = read_yaml(root, file_name)\n",
      "  File \"/home/pablo_veinberg/.local/lib/python3.10/site-packages/mlflow/utils/file_utils.py\", line 303, in read_yaml\n",
      "    raise MissingConfigException(f\"Yaml file '{file_path}' does not exist.\")\n",
      "mlflow.exceptions.MissingConfigException: Yaml file '/home/pablo_veinberg/dev/indra/formacao-machine-learning-minsait-2023/Notebooks/Projeto-Titanic/scripts/mlruns/mlruns/meta.yaml' does not exist.\n",
      "/home/pablo_veinberg/.local/lib/python3.10/site-packages/mlflow/data/pandas_dataset.py:134: UserWarning: Hint: Inferred schema contains integer column(s). Integer columns in Python cannot represent missing values. If your input data contains missing values at inference time, it will be encoded as floats and will cause a schema enforcement error. The best way to avoid this problem is to infer the model schema based on a realistic data sample (training dataset) that includes missing values. Alternatively, you can declare integer columns as doubles (float64) whenever these columns may have missing values. See `Handling Integers With Missing Values <https://www.mlflow.org/docs/latest/models.html#handling-integers-with-missing-values>`_ for more details.\n",
      "  return _infer_schema(self._df)\n",
      "/home/pablo_veinberg/.local/lib/python3.10/site-packages/sklearn/model_selection/_validation.py:378: FitFailedWarning: \n",
      "2250 fits failed out of a total of 5400.\n",
      "The score on these train-test partitions for these parameters will be set to nan.\n",
      "If these failures are not expected, you can try to debug them by setting error_score='raise'.\n",
      "\n",
      "Below are more details about the failures:\n",
      "--------------------------------------------------------------------------------\n",
      "1800 fits failed with the following error:\n",
      "Traceback (most recent call last):\n",
      "  File \"/home/pablo_veinberg/.local/lib/python3.10/site-packages/sklearn/model_selection/_validation.py\", line 686, in _fit_and_score\n",
      "    estimator.fit(X_train, y_train, **fit_params)\n",
      "  File \"/home/pablo_veinberg/.local/lib/python3.10/site-packages/sklearn/neighbors/_classification.py\", line 213, in fit\n",
      "    self._validate_params()\n",
      "  File \"/home/pablo_veinberg/.local/lib/python3.10/site-packages/sklearn/base.py\", line 570, in _validate_params\n",
      "    validate_parameter_constraints(\n",
      "  File \"/home/pablo_veinberg/.local/lib/python3.10/site-packages/sklearn/utils/_param_validation.py\", line 97, in validate_parameter_constraints\n",
      "    raise InvalidParameterError(\n",
      "sklearn.utils._param_validation.InvalidParameterError: The 'metric' parameter of KNeighborsClassifier must be a str among {'sokalsneath', 'mahalanobis', 'seuclidean', 'cosine', 'precomputed', 'infinity', 'nan_euclidean', 'dice', 'sokalmichener', 'russellrao', 'yule', 'manhattan', 'kulsinski', 'euclidean', 'l1', 'haversine', 'l2', 'canberra', 'correlation', 'hamming', 'sqeuclidean', 'cityblock', 'pyfunc', 'chebyshev', 'wminkowski', 'rogerstanimoto', 'jaccard', 'matching', 'p', 'braycurtis', 'minkowski'} or a callable. Got 'eucliedean' instead.\n",
      "\n",
      "--------------------------------------------------------------------------------\n",
      "450 fits failed with the following error:\n",
      "Traceback (most recent call last):\n",
      "  File \"/home/pablo_veinberg/.local/lib/python3.10/site-packages/sklearn/model_selection/_validation.py\", line 686, in _fit_and_score\n",
      "    estimator.fit(X_train, y_train, **fit_params)\n",
      "  File \"/home/pablo_veinberg/.local/lib/python3.10/site-packages/sklearn/neighbors/_classification.py\", line 215, in fit\n",
      "    return self._fit(X, y)\n",
      "  File \"/home/pablo_veinberg/.local/lib/python3.10/site-packages/sklearn/neighbors/_base.py\", line 493, in _fit\n",
      "    self._check_algorithm_metric()\n",
      "  File \"/home/pablo_veinberg/.local/lib/python3.10/site-packages/sklearn/neighbors/_base.py\", line 434, in _check_algorithm_metric\n",
      "    raise ValueError(\n",
      "ValueError: Metric 'canberra' not valid. Use sorted(sklearn.neighbors.VALID_METRICS['kd_tree']) to get valid options. Metric can also be a callable function.\n",
      "\n",
      "  warnings.warn(some_fits_failed_message, FitFailedWarning)\n",
      "/home/pablo_veinberg/.local/lib/python3.10/site-packages/sklearn/model_selection/_search.py:953: UserWarning: One or more of the test scores are non-finite: [0.91994484 0.91994484 0.90168423 ... 0.90726879 0.88340392 0.90726879]\n",
      "  warnings.warn(\n"
     ]
    }
   ],
   "source": [
    "mlflow.set_experiment(EXPERIMENT_TITLE)\n",
    "\n",
    "with mlflow.start_run():\n",
    "\n",
    "    # Settings\n",
    "    mlflow.log_input(mlflow_dataset)\n",
    "    mlflow.set_tags(tags)\n",
    "    mlflow.log_params(params)\n",
    "\n",
    "    grid = GridSearchCV(estimator=KNeighborsClassifier(), \\\n",
    "                        param_grid=params[\"model_params\"])\n",
    "    grid.fit(X_train, y_train)\n",
    "\n",
    "    model = KNeighborsClassifier(**grid.best_params_)\n",
    "\n",
    "    model.fit(X_train, y_train)\n",
    "\n",
    "    y_pred = model.predict(X_test)\n",
    "\n",
    "    \n",
    "    plot_confusion_matrix_path = f\"./../results/conf_matrix_knn_{params['token']}.png\"\n",
    "    metrics = get_metrics(y_test, y_pred, plot_confusion_matrix_path, \"Matrix Confusion - Titanic Dataset\")\n",
    "    \n",
    "    mlflow.log_param(\"best_params\", grid.best_params_)\n",
    "    mlflow.log_metrics(metrics)    \n",
    "    mlflow.log_artifact(plot_confusion_matrix_path)\n",
    "    \n",
    "mlflow.end_run()"
   ]
  }
 ],
 "metadata": {
  "kernelspec": {
   "display_name": "Python 3",
   "language": "python",
   "name": "python3"
  },
  "language_info": {
   "codemirror_mode": {
    "name": "ipython",
    "version": 3
   },
   "file_extension": ".py",
   "mimetype": "text/x-python",
   "name": "python",
   "nbconvert_exporter": "python",
   "pygments_lexer": "ipython3",
   "version": "3.10.12"
  }
 },
 "nbformat": 4,
 "nbformat_minor": 2
}
