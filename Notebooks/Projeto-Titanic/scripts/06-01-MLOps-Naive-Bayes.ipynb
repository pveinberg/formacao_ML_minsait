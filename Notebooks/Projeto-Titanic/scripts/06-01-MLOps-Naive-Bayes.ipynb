{
 "cells": [
  {
   "cell_type": "markdown",
   "metadata": {},
   "source": [
    "TITANIC DATASET - ML - NAIVE BAYES\n",
    "=================================="
   ]
  },
  {
   "cell_type": "code",
   "execution_count": 10,
   "metadata": {},
   "outputs": [
    {
     "name": "stdout",
     "output_type": "stream",
     "text": [
      "The autoreload extension is already loaded. To reload it, use:\n",
      "  %reload_ext autoreload\n"
     ]
    }
   ],
   "source": [
    "%load_ext autoreload\n",
    "%autoreload 2\n",
    "\n",
    "import mlflow\n",
    "import pickle\n",
    "import pandas as pd \n",
    "import numpy as np \n",
    "from datetime import datetime\n",
    "from functions import get_metrics\n",
    "\n",
    "from sklearn.naive_bayes import GaussianNB\n",
    "from sklearn.model_selection import GridSearchCV, KFold"
   ]
  },
  {
   "cell_type": "markdown",
   "metadata": {},
   "source": [
    "## Configs"
   ]
  },
  {
   "cell_type": "code",
   "execution_count": 11,
   "metadata": {},
   "outputs": [],
   "source": [
    "EXPERIMENT_TITLE = \"Titanic Dataset Analyzes\"\n",
    "\n",
    "run_description = \"\"\"\n",
    "### Descrição\n",
    "\n",
    "Implementação usando [Naive Bayes](https://scikit-learn.org/stable/modules/naive_bayes.html)\n",
    "\"\"\"\n",
    "\n",
    "tags = {\n",
    "    \"date\": datetime.now(),\n",
    "    \"author\": \"Pablo Veinberg\",\n",
    "    \"version\": 1.0,\n",
    "    \"envoronment\": \"local\",\n",
    "    \"mlflow.note.content\": run_description,\n",
    "    \"mlflow.runName\": \"Naive Bayes\",\n",
    "    \"data_source\": \"./../datasets/silver/train-encoded-not-normalize.parquet\",\n",
    "    \"train_test_dataset\": \"./../datasets/silver/titanic-train-test-data.pkl\"\n",
    "}\n"
   ]
  },
  {
   "cell_type": "code",
   "execution_count": 12,
   "metadata": {},
   "outputs": [
    {
     "data": {
      "text/plain": [
       "((712, 8), (179, 8), (712,), (179,))"
      ]
     },
     "execution_count": 12,
     "metadata": {},
     "output_type": "execute_result"
    }
   ],
   "source": [
    "with open(tags['train_test_dataset'], 'rb') as file:\n",
    "    X_train, X_test, y_train, y_test = pickle.load(file)\n",
    "\n",
    "X_train.shape, X_test.shape, y_train.shape, y_test.shape"
   ]
  },
  {
   "cell_type": "markdown",
   "metadata": {},
   "source": [
    "## Process"
   ]
  },
  {
   "cell_type": "code",
   "execution_count": 13,
   "metadata": {},
   "outputs": [
    {
     "name": "stderr",
     "output_type": "stream",
     "text": [
      "WARNING:root:Malformed experiment 'mlruns'. Detailed error Yaml file '/home/pablo_veinberg/dev/indra/formacao-machine-learning-minsait-2023/Notebooks/Projeto-Titanic/scripts/mlruns/mlruns/meta.yaml' does not exist.\n",
      "Traceback (most recent call last):\n",
      "  File \"/home/pablo_veinberg/.local/lib/python3.10/site-packages/mlflow/store/tracking/file_store.py\", line 302, in search_experiments\n",
      "    exp = self._get_experiment(exp_id, view_type)\n",
      "  File \"/home/pablo_veinberg/.local/lib/python3.10/site-packages/mlflow/store/tracking/file_store.py\", line 395, in _get_experiment\n",
      "    meta = FileStore._read_yaml(experiment_dir, FileStore.META_DATA_FILE_NAME)\n",
      "  File \"/home/pablo_veinberg/.local/lib/python3.10/site-packages/mlflow/store/tracking/file_store.py\", line 1303, in _read_yaml\n",
      "    return _read_helper(root, file_name, attempts_remaining=retries)\n",
      "  File \"/home/pablo_veinberg/.local/lib/python3.10/site-packages/mlflow/store/tracking/file_store.py\", line 1296, in _read_helper\n",
      "    result = read_yaml(root, file_name)\n",
      "  File \"/home/pablo_veinberg/.local/lib/python3.10/site-packages/mlflow/utils/file_utils.py\", line 303, in read_yaml\n",
      "    raise MissingConfigException(f\"Yaml file '{file_path}' does not exist.\")\n",
      "mlflow.exceptions.MissingConfigException: Yaml file '/home/pablo_veinberg/dev/indra/formacao-machine-learning-minsait-2023/Notebooks/Projeto-Titanic/scripts/mlruns/mlruns/meta.yaml' does not exist.\n",
      "/home/pablo_veinberg/.local/lib/python3.10/site-packages/mlflow/data/dataset_source_registry.py:143: UserWarning: The specified dataset source can be interpreted in multiple ways: LocalArtifactDatasetSource, LocalArtifactDatasetSource. MLflow will assume that this is a LocalArtifactDatasetSource source.\n",
      "  return _dataset_source_registry.resolve(\n"
     ]
    }
   ],
   "source": [
    "mlflow.set_experiment(EXPERIMENT_TITLE)\n",
    "\n",
    "dataset = pd.read_parquet(tags['data_source'])\n",
    "mlflow_dataset = mlflow.data.from_pandas(dataset, \\\n",
    "                                            source=tags['data_source'], \\\n",
    "                                            name=\"Titanic Dataset\")"
   ]
  },
  {
   "cell_type": "code",
   "execution_count": 14,
   "metadata": {},
   "outputs": [],
   "source": [
    "params = {\n",
    "    \"token\": np.random.randint(10_000,high=99_000),\n",
    "    \"model_params\": {'priors': [dataset['Survived'].value_counts(normalize=True).values, [.5, .5]]}\n",
    "}"
   ]
  },
  {
   "cell_type": "code",
   "execution_count": 15,
   "metadata": {},
   "outputs": [
    {
     "name": "stderr",
     "output_type": "stream",
     "text": [
      "/home/pablo_veinberg/.local/lib/python3.10/site-packages/mlflow/data/pandas_dataset.py:134: UserWarning: Hint: Inferred schema contains integer column(s). Integer columns in Python cannot represent missing values. If your input data contains missing values at inference time, it will be encoded as floats and will cause a schema enforcement error. The best way to avoid this problem is to infer the model schema based on a realistic data sample (training dataset) that includes missing values. Alternatively, you can declare integer columns as doubles (float64) whenever these columns may have missing values. See `Handling Integers With Missing Values <https://www.mlflow.org/docs/latest/models.html#handling-integers-with-missing-values>`_ for more details.\n",
      "  return _infer_schema(self._df)\n"
     ]
    }
   ],
   "source": [
    "\n",
    "with mlflow.start_run():\n",
    "\n",
    "    # Settings\n",
    "    mlflow.log_input(mlflow_dataset)\n",
    "    mlflow.set_tags(tags)\n",
    "    mlflow.log_params(params)\n",
    "\n",
    "    grid_search = GridSearchCV(estimator=GaussianNB(), \\\n",
    "                               param_grid=params[\"model_params\"])\n",
    "    \n",
    "    grid_search.fit(X_train, y_train)\n",
    "    \n",
    "    model = GaussianNB(**grid_search.best_params_)\n",
    "    \n",
    "    model.fit(X_train, y_train)\n",
    "    y_pred = model.predict(X_test)\n",
    "\n",
    "\n",
    "    plt_matrix_confusion_image_path = f\"./../results/naive_bayes_m_confusion_{params['token']}.png\"\n",
    "    \n",
    "    metrics = get_metrics(y_test, y_pred, \\\n",
    "                        plt_matrix_confusion_image_path, \\\n",
    "                        \"Titanic - Naive Bayes Confusion Matrix\")\n",
    "    \n",
    "    mlflow.log_param(\"best_params\", grid_search.best_params_)\n",
    "    mlflow.log_metrics(metrics)\n",
    "    mlflow.log_artifact(plt_matrix_confusion_image_path)\n",
    "\n",
    "mlflow.end_run()\n"
   ]
  }
 ],
 "metadata": {
  "kernelspec": {
   "display_name": "Python 3",
   "language": "python",
   "name": "python3"
  },
  "language_info": {
   "codemirror_mode": {
    "name": "ipython",
    "version": 3
   },
   "file_extension": ".py",
   "mimetype": "text/x-python",
   "name": "python",
   "nbconvert_exporter": "python",
   "pygments_lexer": "ipython3",
   "version": "3.10.12"
  }
 },
 "nbformat": 4,
 "nbformat_minor": 2
}
