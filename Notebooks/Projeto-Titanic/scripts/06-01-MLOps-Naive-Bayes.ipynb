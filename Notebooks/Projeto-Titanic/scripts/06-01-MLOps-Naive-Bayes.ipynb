{
 "cells": [
  {
   "cell_type": "markdown",
   "metadata": {},
   "source": [
    "TITANIC DATASET - ML - NAIVE BAYES\n",
    "=================================="
   ]
  },
  {
   "cell_type": "code",
   "execution_count": 6,
   "metadata": {},
   "outputs": [
    {
     "name": "stdout",
     "output_type": "stream",
     "text": [
      "The autoreload extension is already loaded. To reload it, use:\n",
      "  %reload_ext autoreload\n"
     ]
    }
   ],
   "source": [
    "%load_ext autoreload\n",
    "%autoreload 2\n",
    "\n",
    "import mlflow\n",
    "import pickle\n",
    "import pandas as pd \n",
    "import numpy as np \n",
    "from datetime import datetime\n",
    "from functions import get_metrics\n",
    "\n",
    "from sklearn.naive_bayes import GaussianNB"
   ]
  },
  {
   "cell_type": "markdown",
   "metadata": {},
   "source": [
    "## Configs"
   ]
  },
  {
   "cell_type": "code",
   "execution_count": 7,
   "metadata": {},
   "outputs": [],
   "source": [
    "EXPERIMENT_TITLE = \"Titanic Dataset Analyzes\"\n",
    "\n",
    "run_description = \"\"\"\n",
    "### Descrição\n",
    "\n",
    "Implementação usando [Naive Bayes](https://scikit-learn.org/stable/modules/naive_bayes.html)\n",
    "\"\"\"\n",
    "\n",
    "tags = {\n",
    "    \"date\": datetime.now(),\n",
    "    \"author\": \"Pablo Veinberg\",\n",
    "    \"version\": 1.0,\n",
    "    \"envoronment\": \"local\",\n",
    "    \"mlflow.note.content\": run_description,\n",
    "    \"mlflow.runName\": \"Naive Bayes\",\n",
    "    \"data_source\": \"./../datasets/silver/train-encoded-not-normalize.parquet\",\n",
    "    \"train_test_dataset\": \"./../datasets/silver/titanic-train-test-data.pkl\"\n",
    "}\n",
    "\n",
    "params = {\n",
    "    \"token\": np.random.randint(10_000,high=99_000)\n",
    "    }\n"
   ]
  },
  {
   "cell_type": "code",
   "execution_count": 8,
   "metadata": {},
   "outputs": [
    {
     "data": {
      "text/plain": [
       "((712, 8), (179, 8), (712,), (179,))"
      ]
     },
     "execution_count": 8,
     "metadata": {},
     "output_type": "execute_result"
    }
   ],
   "source": [
    "with open(tags['train_test_dataset'], 'rb') as file:\n",
    "    X_train, X_test, y_train, y_test = pickle.load(file)\n",
    "\n",
    "X_train.shape, X_test.shape, y_train.shape, y_test.shape"
   ]
  },
  {
   "cell_type": "markdown",
   "metadata": {},
   "source": [
    "## Process"
   ]
  },
  {
   "cell_type": "code",
   "execution_count": 9,
   "metadata": {},
   "outputs": [
    {
     "name": "stderr",
     "output_type": "stream",
     "text": [
      "/home/pablo_veinberg/.local/lib/python3.10/site-packages/mlflow/data/dataset_source_registry.py:143: UserWarning: The specified dataset source can be interpreted in multiple ways: LocalArtifactDatasetSource, LocalArtifactDatasetSource. MLflow will assume that this is a LocalArtifactDatasetSource source.\n",
      "  return _dataset_source_registry.resolve(\n"
     ]
    }
   ],
   "source": [
    "mlflow.set_experiment(EXPERIMENT_TITLE)\n",
    "\n",
    "dataset = pd.read_parquet(tags['data_source'])\n",
    "mlflow_dataset = mlflow.data.from_pandas(dataset, \\\n",
    "                                            source=tags['data_source'], \\\n",
    "                                            name=\"Titanic Dataset\")"
   ]
  },
  {
   "cell_type": "code",
   "execution_count": 10,
   "metadata": {},
   "outputs": [
    {
     "name": "stderr",
     "output_type": "stream",
     "text": [
      "/home/pablo_veinberg/.local/lib/python3.10/site-packages/mlflow/data/pandas_dataset.py:134: UserWarning: Hint: Inferred schema contains integer column(s). Integer columns in Python cannot represent missing values. If your input data contains missing values at inference time, it will be encoded as floats and will cause a schema enforcement error. The best way to avoid this problem is to infer the model schema based on a realistic data sample (training dataset) that includes missing values. Alternatively, you can declare integer columns as doubles (float64) whenever these columns may have missing values. See `Handling Integers With Missing Values <https://www.mlflow.org/docs/latest/models.html#handling-integers-with-missing-values>`_ for more details.\n",
      "  return _infer_schema(self._df)\n"
     ]
    }
   ],
   "source": [
    "\n",
    "with mlflow.start_run():\n",
    "\n",
    "    # Settings\n",
    "    mlflow.log_input(mlflow_dataset)\n",
    "    mlflow.set_tags(tags)\n",
    "    mlflow.log_params(params)\n",
    "\n",
    "    model = GaussianNB()\n",
    "    model.fit(X_train, y_train)\n",
    "\n",
    "    y_pred = model.predict(X_test)\n",
    "\n",
    "\n",
    "    plt_matrix_confusion_image_path = f\"./../results/naive_bayes_m_confusion_{params['token']}.png\"\n",
    "    \n",
    "    metrics = get_metrics(y_test, y_pred, \\\n",
    "                        plt_matrix_confusion_image_path, \\\n",
    "                        \"Titanic - Naive Bayes Confusion Matrix\")\n",
    "    \n",
    "    mlflow.log_metrics(metrics)\n",
    "    mlflow.log_artifact(plt_matrix_confusion_image_path)\n",
    "\n",
    "mlflow.end_run()\n"
   ]
  }
 ],
 "metadata": {
  "kernelspec": {
   "display_name": "Python 3",
   "language": "python",
   "name": "python3"
  },
  "language_info": {
   "codemirror_mode": {
    "name": "ipython",
    "version": 3
   },
   "file_extension": ".py",
   "mimetype": "text/x-python",
   "name": "python",
   "nbconvert_exporter": "python",
   "pygments_lexer": "ipython3",
   "version": "3.10.12"
  }
 },
 "nbformat": 4,
 "nbformat_minor": 2
}
