{
 "cells": [
  {
   "cell_type": "code",
   "execution_count": 19,
   "metadata": {},
   "outputs": [
    {
     "name": "stdout",
     "output_type": "stream",
     "text": [
      "The autoreload extension is already loaded. To reload it, use:\n",
      "  %reload_ext autoreload\n"
     ]
    }
   ],
   "source": [
    "%load_ext autoreload\n",
    "%autoreload 2\n",
    "\n",
    "import mlflow\n",
    "import pickle\n",
    "import pandas as pd \n",
    "import numpy as np\n",
    "\n",
    "from datetime import datetime\n",
    "from functions import get_metrics, get_best_model\n",
    "\n",
    "from matplotlib import pyplot as plt \n",
    "import seaborn as sns\n",
    "\n",
    "from sklearn.linear_model import LogisticRegression"
   ]
  },
  {
   "cell_type": "markdown",
   "metadata": {},
   "source": [
    "## Configs"
   ]
  },
  {
   "cell_type": "code",
   "execution_count": 20,
   "metadata": {},
   "outputs": [],
   "source": [
    "EXPERIMENT_TITLE = \"Titanic Dataset Analyzes\"\n",
    "\n",
    "run_description = \"\"\"\n",
    "### Descrição\n",
    "\n",
    "Implementação usando [Logistic Regression](https://scikit-learn.org/stable/modules/generated/sklearn.linear_model.LogisticRegression.html)\n",
    "\"\"\"\n",
    "\n",
    "tags = {\n",
    "    \"date\": datetime.now(),\n",
    "    \"author\": \"Pablo Veinberg\",\n",
    "    \"version\": 1.0,\n",
    "    \"envoronment\": \"local\",\n",
    "    \"mlflow.note.content\": run_description,\n",
    "    \"mlflow.runName\": \"Logistic Regression\",\n",
    "    \"data_source\": \"./../datasets/silver/train-encoded-not-normalize.parquet\",\n",
    "    \"train_test_dataset\": \"./../datasets/silver/titanic-train-test-data.pkl\"\n",
    "}\n",
    "\n",
    "params = {\n",
    "    \"token\": np.random.randint(10_000,high=99_000),\n",
    "    \"model_params\": [{\n",
    "            \"penalty\": [\"l1\"],\n",
    "            \"solver\": [\"liblinear\", \"saga\"], \n",
    "         }, {\n",
    "            \"penalty\": [\"l2\", None],\n",
    "            \"solver\": [\"lbfgs\", \"liblinear\", \"newton-cg\", \"newton-cholesky\", \"sag\", \"saga\"]\n",
    "         }, {\n",
    "            \"penalty\": [\"elasticnet\"],\n",
    "            \"solver\": [\"saga\"]\n",
    "         }]\n",
    "}\n"
   ]
  },
  {
   "cell_type": "markdown",
   "metadata": {},
   "source": [
    "## Loads"
   ]
  },
  {
   "cell_type": "code",
   "execution_count": 21,
   "metadata": {},
   "outputs": [
    {
     "name": "stderr",
     "output_type": "stream",
     "text": [
      "/home/pablo_veinberg/.local/lib/python3.10/site-packages/mlflow/data/dataset_source_registry.py:143: UserWarning: The specified dataset source can be interpreted in multiple ways: LocalArtifactDatasetSource, LocalArtifactDatasetSource. MLflow will assume that this is a LocalArtifactDatasetSource source.\n",
      "  return _dataset_source_registry.resolve(\n"
     ]
    }
   ],
   "source": [
    "dataset = pd.read_parquet(tags['data_source'])\n",
    "mlflow_dataset = mlflow.data.from_pandas(dataset, \\\n",
    "                                            source=tags['data_source'], \\\n",
    "                                            name=\"Titanic Dataset\")"
   ]
  },
  {
   "cell_type": "code",
   "execution_count": 22,
   "metadata": {},
   "outputs": [
    {
     "data": {
      "text/plain": [
       "((712, 8), (179, 8), (712,), (179,))"
      ]
     },
     "execution_count": 22,
     "metadata": {},
     "output_type": "execute_result"
    }
   ],
   "source": [
    "with open('./../datasets/silver/titanic-train-test-data.pkl', 'rb') as file:\n",
    "    X_train, X_test, y_train, y_test = pickle.load(file)\n",
    "\n",
    "X_train.shape, X_test.shape, y_train.shape, y_test.shape"
   ]
  },
  {
   "cell_type": "markdown",
   "metadata": {},
   "source": [
    "## Process"
   ]
  },
  {
   "cell_type": "code",
   "execution_count": 23,
   "metadata": {},
   "outputs": [
    {
     "name": "stderr",
     "output_type": "stream",
     "text": [
      "WARNING:root:Malformed experiment 'mlruns'. Detailed error Yaml file '/home/pablo_veinberg/dev/indra/formacao-machine-learning-minsait-2023/Notebooks/Projeto-Titanic/scripts/mlruns/mlruns/meta.yaml' does not exist.\n",
      "Traceback (most recent call last):\n",
      "  File \"/home/pablo_veinberg/.local/lib/python3.10/site-packages/mlflow/store/tracking/file_store.py\", line 302, in search_experiments\n",
      "    exp = self._get_experiment(exp_id, view_type)\n",
      "  File \"/home/pablo_veinberg/.local/lib/python3.10/site-packages/mlflow/store/tracking/file_store.py\", line 395, in _get_experiment\n",
      "    meta = FileStore._read_yaml(experiment_dir, FileStore.META_DATA_FILE_NAME)\n",
      "  File \"/home/pablo_veinberg/.local/lib/python3.10/site-packages/mlflow/store/tracking/file_store.py\", line 1303, in _read_yaml\n",
      "    return _read_helper(root, file_name, attempts_remaining=retries)\n",
      "  File \"/home/pablo_veinberg/.local/lib/python3.10/site-packages/mlflow/store/tracking/file_store.py\", line 1296, in _read_helper\n",
      "    result = read_yaml(root, file_name)\n",
      "  File \"/home/pablo_veinberg/.local/lib/python3.10/site-packages/mlflow/utils/file_utils.py\", line 303, in read_yaml\n",
      "    raise MissingConfigException(f\"Yaml file '{file_path}' does not exist.\")\n",
      "mlflow.exceptions.MissingConfigException: Yaml file '/home/pablo_veinberg/dev/indra/formacao-machine-learning-minsait-2023/Notebooks/Projeto-Titanic/scripts/mlruns/mlruns/meta.yaml' does not exist.\n",
      "/home/pablo_veinberg/.local/lib/python3.10/site-packages/mlflow/data/pandas_dataset.py:134: UserWarning: Hint: Inferred schema contains integer column(s). Integer columns in Python cannot represent missing values. If your input data contains missing values at inference time, it will be encoded as floats and will cause a schema enforcement error. The best way to avoid this problem is to infer the model schema based on a realistic data sample (training dataset) that includes missing values. Alternatively, you can declare integer columns as doubles (float64) whenever these columns may have missing values. See `Handling Integers With Missing Values <https://www.mlflow.org/docs/latest/models.html#handling-integers-with-missing-values>`_ for more details.\n",
      "  return _infer_schema(self._df)\n"
     ]
    },
    {
     "name": "stderr",
     "output_type": "stream",
     "text": [
      "/home/pablo_veinberg/.local/lib/python3.10/site-packages/sklearn/model_selection/_validation.py:378: FitFailedWarning: \n",
      "10 fits failed out of a total of 75.\n",
      "The score on these train-test partitions for these parameters will be set to nan.\n",
      "If these failures are not expected, you can try to debug them by setting error_score='raise'.\n",
      "\n",
      "Below are more details about the failures:\n",
      "--------------------------------------------------------------------------------\n",
      "5 fits failed with the following error:\n",
      "Traceback (most recent call last):\n",
      "  File \"/home/pablo_veinberg/.local/lib/python3.10/site-packages/sklearn/model_selection/_validation.py\", line 686, in _fit_and_score\n",
      "    estimator.fit(X_train, y_train, **fit_params)\n",
      "  File \"/home/pablo_veinberg/.local/lib/python3.10/site-packages/sklearn/linear_model/_logistic.py\", line 1216, in fit\n",
      "    self.coef_, self.intercept_, self.n_iter_ = _fit_liblinear(\n",
      "  File \"/home/pablo_veinberg/.local/lib/python3.10/site-packages/sklearn/svm/_base.py\", line 1223, in _fit_liblinear\n",
      "    solver_type = _get_liblinear_solver_type(multi_class, penalty, loss, dual)\n",
      "  File \"/home/pablo_veinberg/.local/lib/python3.10/site-packages/sklearn/svm/_base.py\", line 1062, in _get_liblinear_solver_type\n",
      "    raise ValueError(\n",
      "ValueError: Unsupported set of arguments: The combination of penalty='None' and loss='logistic_regression' is not supported, Parameters: penalty=None, loss='logistic_regression', dual=False\n",
      "\n",
      "--------------------------------------------------------------------------------\n",
      "5 fits failed with the following error:\n",
      "Traceback (most recent call last):\n",
      "  File \"/home/pablo_veinberg/.local/lib/python3.10/site-packages/sklearn/model_selection/_validation.py\", line 686, in _fit_and_score\n",
      "    estimator.fit(X_train, y_train, **fit_params)\n",
      "  File \"/home/pablo_veinberg/.local/lib/python3.10/site-packages/sklearn/linear_model/_logistic.py\", line 1291, in fit\n",
      "    fold_coefs_ = Parallel(n_jobs=self.n_jobs, verbose=self.verbose, prefer=prefer)(\n",
      "  File \"/home/pablo_veinberg/.local/lib/python3.10/site-packages/joblib/parallel.py\", line 1085, in __call__\n",
      "    if self.dispatch_one_batch(iterator):\n",
      "  File \"/home/pablo_veinberg/.local/lib/python3.10/site-packages/joblib/parallel.py\", line 901, in dispatch_one_batch\n",
      "    self._dispatch(tasks)\n",
      "  File \"/home/pablo_veinberg/.local/lib/python3.10/site-packages/joblib/parallel.py\", line 819, in _dispatch\n",
      "    job = self._backend.apply_async(batch, callback=cb)\n",
      "  File \"/home/pablo_veinberg/.local/lib/python3.10/site-packages/joblib/_parallel_backends.py\", line 208, in apply_async\n",
      "    result = ImmediateResult(func)\n",
      "  File \"/home/pablo_veinberg/.local/lib/python3.10/site-packages/joblib/_parallel_backends.py\", line 597, in __init__\n",
      "    self.results = batch()\n",
      "  File \"/home/pablo_veinberg/.local/lib/python3.10/site-packages/joblib/parallel.py\", line 288, in __call__\n",
      "    return [func(*args, **kwargs)\n",
      "  File \"/home/pablo_veinberg/.local/lib/python3.10/site-packages/joblib/parallel.py\", line 288, in <listcomp>\n",
      "    return [func(*args, **kwargs)\n",
      "  File \"/home/pablo_veinberg/.local/lib/python3.10/site-packages/sklearn/utils/fixes.py\", line 117, in __call__\n",
      "    return self.function(*args, **kwargs)\n",
      "  File \"/home/pablo_veinberg/.local/lib/python3.10/site-packages/sklearn/linear_model/_logistic.py\", line 521, in _logistic_regression_path\n",
      "    alpha = (1.0 / C) * (1 - l1_ratio)\n",
      "TypeError: unsupported operand type(s) for -: 'int' and 'NoneType'\n",
      "\n",
      "  warnings.warn(some_fits_failed_message, FitFailedWarning)\n",
      "/home/pablo_veinberg/.local/lib/python3.10/site-packages/sklearn/model_selection/_search.py:953: UserWarning: One or more of the test scores are non-finite: [0.79348961 0.79489806 0.79348961 0.79348961 0.79348961 0.79348961\n",
      " 0.79348961 0.79348961 0.79348961        nan 0.79348961 0.79348961\n",
      " 0.79348961 0.79348961        nan]\n",
      "  warnings.warn(\n"
     ]
    }
   ],
   "source": [
    "mlflow.set_experiment(EXPERIMENT_TITLE)\n",
    "\n",
    "with mlflow.start_run():\n",
    "\n",
    "    # Settings\n",
    "    mlflow.log_input(mlflow_dataset)\n",
    "    mlflow.set_tags(tags)\n",
    "    mlflow.log_params(params)\n",
    "\n",
    "    \n",
    "    model = get_best_model(LogisticRegression(), params[\"model_params\"], X_train, y_train)\n",
    "    y_pred = model.predict(X_test)\n",
    "\n",
    "    plot_confusion_matrix_path = f\"./../results/random_forest_{params['token']}.png\"\n",
    "    metrics = get_metrics(y_test, y_pred, \\\n",
    "                        plot_confusion_matrix_path, \\\n",
    "                        \"Matrix Confusion - Titanic Dataset\")\n",
    "    mlflow.log_param(\"best_params\", model.best_params_)\n",
    "    mlflow.log_metrics(metrics)\n",
    "    mlflow.log_artifact(plot_confusion_matrix_path)\n",
    "    \n",
    "mlflow.end_run()"
   ]
  }
 ],
 "metadata": {
  "kernelspec": {
   "display_name": "Python 3",
   "language": "python",
   "name": "python3"
  },
  "language_info": {
   "codemirror_mode": {
    "name": "ipython",
    "version": 3
   },
   "file_extension": ".py",
   "mimetype": "text/x-python",
   "name": "python",
   "nbconvert_exporter": "python",
   "pygments_lexer": "ipython3",
   "version": "3.10.12"
  }
 },
 "nbformat": 4,
 "nbformat_minor": 2
}
