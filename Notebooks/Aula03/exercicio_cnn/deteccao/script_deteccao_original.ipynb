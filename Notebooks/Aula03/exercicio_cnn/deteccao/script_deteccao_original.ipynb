{
 "cells": [
  {
   "cell_type": "markdown",
   "metadata": {},
   "source": [
    "## Detecção CNN\n",
    "1. Usar a lib super_gradients(https://github.com/Deci-AI/super-gradients)\n",
    "2. Utilizar Yolox_nano,PP-YOLOE small ou SSD lite MobileNet v2\n",
    "   1. Para checar hiper parâmetros disponíveis:\n",
    "      1. https://github.com/Deci-AI/super-gradients/tree/master/src/super_gradients/recipes\n",
    "   2. Para checar modelos disponíveis\n",
    "      1. https://docs.deci.ai/super-gradients/latest/documentation/source/model_zoo.html#computer-vision-models-pretrained-checkpoints\n",
    "3. Visualizar resultados"
   ]
  },
  {
   "cell_type": "code",
   "execution_count": 1,
   "metadata": {},
   "outputs": [],
   "source": [
    "# !pip install super-gradients\n",
    "# !pip install Cmake\n",
    "# !pip install cython\n",
    "# !pip install git+https://github.com/philferriere/cocoapi.git#subdirectory=PythonAPI\n",
    "# !pip install prettyformatter"
   ]
  },
  {
   "cell_type": "code",
   "execution_count": 2,
   "metadata": {},
   "outputs": [
    {
     "name": "stderr",
     "output_type": "stream",
     "text": [
      "[2023-11-04 12:11:59] INFO - crash_tips_setup.py - Crash tips is enabled. You can set your environment variable to CRASH_HANDLER=FALSE to disable it\n"
     ]
    },
    {
     "name": "stdout",
     "output_type": "stream",
     "text": [
      "The console stream is logged into /home/pablo_veinberg/sg_logs/console.log\n"
     ]
    },
    {
     "name": "stderr",
     "output_type": "stream",
     "text": [
      "[2023-11-04 12:11:59] WARNING - __init__.py - Failed to import pytorch_quantization\n",
      "2023-11-04 12:12:00.724242: E tensorflow/compiler/xla/stream_executor/cuda/cuda_dnn.cc:9342] Unable to register cuDNN factory: Attempting to register factory for plugin cuDNN when one has already been registered\n",
      "2023-11-04 12:12:00.724271: E tensorflow/compiler/xla/stream_executor/cuda/cuda_fft.cc:609] Unable to register cuFFT factory: Attempting to register factory for plugin cuFFT when one has already been registered\n",
      "2023-11-04 12:12:00.724309: E tensorflow/compiler/xla/stream_executor/cuda/cuda_blas.cc:1518] Unable to register cuBLAS factory: Attempting to register factory for plugin cuBLAS when one has already been registered\n",
      "2023-11-04 12:12:00.731435: I tensorflow/core/platform/cpu_feature_guard.cc:182] This TensorFlow binary is optimized to use available CPU instructions in performance-critical operations.\n",
      "To enable the following instructions: AVX2 FMA, in other operations, rebuild TensorFlow with the appropriate compiler flags.\n",
      "[2023-11-04 12:12:03] WARNING - calibrator.py - Failed to import pytorch_quantization\n",
      "[2023-11-04 12:12:03] WARNING - export.py - Failed to import pytorch_quantization\n",
      "[2023-11-04 12:12:03] WARNING - selective_quantization_utils.py - Failed to import pytorch_quantization\n"
     ]
    }
   ],
   "source": [
    "import os\n",
    "os.environ['CUDA_VISIBLE_DEVICES'] = \"0\"\n",
    "\n",
    "\n",
    "NUM_CLASSES = 2\n",
    "\n",
    "import super_gradients\n",
    "\n",
    "from super_gradients.training import models\n",
    "from super_gradients.common.object_names import Models\n",
    "\n",
    "import pycocotools\n",
    "\n",
    "# O conjunto de dados possui apenas 2 classes = ['negative','positive']\n",
    "model = models.get(Models.YOLO_NAS_S, num_classes=NUM_CLASSES)\n",
    "\n",
    "import torch\n",
    "from torch.utils.data import Dataset\n",
    "import json\n",
    "from PIL import Image\n",
    "from torchvision import transforms, utils\n",
    "import numpy as np\n",
    "import glob\n",
    "import random"
   ]
  },
  {
   "cell_type": "code",
   "execution_count": 3,
   "metadata": {},
   "outputs": [
    {
     "data": {
      "text/plain": [
       "device(type='cpu')"
      ]
     },
     "execution_count": 3,
     "metadata": {},
     "output_type": "execute_result"
    }
   ],
   "source": [
    "device = torch.device('cpu')\n",
    "device"
   ]
  },
  {
   "cell_type": "code",
   "execution_count": 4,
   "metadata": {
    "notebookRunGroups": {
     "groupValue": "1"
    }
   },
   "outputs": [],
   "source": [
    "class CustomDataset(Dataset):\n",
    "    \"\"\"\n",
    "    A PyTorch Dataset class to be used in a PyTorch DataLoader to create batches.\n",
    "    \"\"\"\n",
    "\n",
    "    def __init__(self, data_folder, split, keep_difficult=False):\n",
    "        \"\"\"\n",
    "        :param data_folder: folder where data files are stored\n",
    "        :param split: split, one of 'TRAIN' or 'TEST'\n",
    "        :param keep_difficult: keep or discard objects that are considered difficult to detect?\n",
    "        \"\"\"\n",
    "        self.split = split.lower()\n",
    "\n",
    "        assert self.split in {'train', 'test'}, \"Não achados os diretórios train / test\"\n",
    "\n",
    "        self.data_folder = data_folder\n",
    "        self.keep_difficult = keep_difficult\n",
    "\n",
    "        # Read data files\n",
    "        self.images = glob.glob(data_folder+\"images/\"+self.split+\"/\"+\"*.jpg\")\n",
    "        # self.images = [i.replace(\"\\\\\",\"/\") for i in self.images]\n",
    "        self.images = random.sample(self.images,20)\n",
    "\n",
    "    def __getitem__(self, i):\n",
    "        # Read image and label\n",
    "        image = Image.open(self.images[i].replace(\"\\n\",\"\").replace(\"\\\\\",\"/\"), mode='r').resize((320, 320))\n",
    "        image = image.convert(\"RGB\")\n",
    "        # image_tensor = torch.tensor(np.expand_dims(image,axis=-1)).permute(2, 0, 1).float()\n",
    "        image_tensor = torch.tensor(np.array(image)).permute(2, 0, 1).float()\n",
    "        labels = np.loadtxt(self.images[i].replace(\"jpg\",\"txt\").replace(\"images\", \"labels\"))\n",
    "        if len(labels.shape) == 1:\n",
    "            labels = np.transpose(np.expand_dims(labels,axis=-1))\n",
    "        return image_tensor, torch.tensor(labels,dtype=torch.float)\n",
    "        \n",
    "\n",
    "    def __len__(self):\n",
    "        return len(self.images)\n"
   ]
  },
  {
   "cell_type": "markdown",
   "metadata": {},
   "source": [
    "###  Carregar dataset"
   ]
  },
  {
   "cell_type": "code",
   "execution_count": 5,
   "metadata": {},
   "outputs": [],
   "source": [
    "base_path = './../../../../Datasets/Exercicio_Deteccao/'\n",
    "train_dataset = CustomDataset(base_path, split=\"train\")\n",
    "val_dataset = CustomDataset(base_path, split=\"test\")"
   ]
  },
  {
   "cell_type": "code",
   "execution_count": 6,
   "metadata": {
    "notebookRunGroups": {
     "groupValue": "1"
    }
   },
   "outputs": [],
   "source": [
    "from torch.utils.data import Dataset, DataLoader\n",
    "from super_gradients.training.utils.collate_fn.detection_collate_fn import DetectionCollateFN\n",
    "\n",
    "train_dataloader = DataLoader(train_dataset, \\\n",
    "    batch_size=4, \\\n",
    "    shuffle=True, \\\n",
    "    num_workers=0, \\\n",
    "    collate_fn=DetectionCollateFN())\n",
    "\n",
    "val_dataloader = DataLoader(val_dataset, \\\n",
    "    batch_size=4, \\\n",
    "    shuffle=False, \\\n",
    "    num_workers=0, \\\n",
    "    collate_fn=DetectionCollateFN())"
   ]
  },
  {
   "cell_type": "code",
   "execution_count": 7,
   "metadata": {},
   "outputs": [],
   "source": [
    "from super_gradients.training import training_hyperparams\n",
    "from prettyformatter import pprint\n",
    "\n",
    "train_params = training_hyperparams.get('coco2017_yolo_nas_s')\n",
    "print('Training parameters:')\n",
    "pprint(train_params, json=True)"
   ]
  },
  {
   "cell_type": "code",
   "execution_count": 8,
   "metadata": {},
   "outputs": [],
   "source": [
    "train_params['max_epochs'] = 10\n",
    "# train_params['lr_warmup_epochs'] = 0\n",
    "# train_params['lr_cooldown_epochs'] = 0\n",
    "train_params['criterion_params']['num_classes'] = NUM_CLASSES\n",
    "# train_params['average_best_models'] = False\n",
    "# train_params['initial_lr'] = 0.01\n",
    "# train_params['cosine_final_lr_ratio'] = 0.9\n",
    "# train_params['mixed_precision'] = False\n",
    "# train_params['phase_callbacks'] = []\n",
    "# train_params['lr_warmup_steps'] = 10\n",
    "# train_params['valid_metrics_list'] = \\\n",
    "#     [{\"DetectionMetrics\": {\\\n",
    "#         \"post_prediction_callback\": super_gradients.training.utils.ssd_utils.SSDPostPredictCallback(), \\\n",
    "#         \"num_cls\": NUM_CLASSES}}]"
   ]
  },
  {
   "cell_type": "code",
   "execution_count": 9,
   "metadata": {},
   "outputs": [],
   "source": [
    "from super_gradients.training import Trainer, MultiGPUMode\n",
    "CHECKPOINT_DIR = '.'\n",
    "\n",
    "if device == 'cpu':\n",
    "    super_gradients.setup_device(device='cpu')\n",
    "else:\n",
    "    super_gradients.setup_device(num_gpus=-1)"
   ]
  },
  {
   "cell_type": "code",
   "execution_count": 10,
   "metadata": {},
   "outputs": [
    {
     "name": "stdout",
     "output_type": "stream",
     "text": [
      "Training parameters:\n",
      "{\n",
      "    \"resume\"    : null,\n",
      "    \"run_id\"    : null,\n",
      "    \"resume_path\"       : null,\n",
      "    \"resume_from_remote_sg_logger\"      : false,\n",
      "    \"ckpt_name\" : \"ckpt_latest.pth\",\n",
      "    \"lr_mode\"   : \"CosineLRScheduler\",\n",
      "    \"lr_schedule_function\"  : null,\n",
      "    \"lr_warmup_epochs\"  : 0,\n",
      "    \"lr_warmup_steps\"   : 1000,\n",
      "    \"lr_cooldown_epochs\": 0,\n",
      "    \"warmup_initial_lr\" : 1e-06,\n",
      "    \"step_lr_update_freq\"   : null,\n",
      "    \"cosine_final_lr_ratio\" : 0.1,\n",
      "    \"warmup_mode\"       : \"LinearBatchLRWarmup\",\n",
      "    \"lr_updates\": [],\n",
      "    \"pre_prediction_callback\"   : null,\n",
      "    \"optimizer\" : \"AdamW\",\n",
      "    \"optimizer_params\"  : {\"weight_decay\": 1e-05},\n",
      "    \"load_opt_params\"   : true,\n",
      "    \"zero_weight_decay_on_bias_and_bn\"  : true,\n",
      "    \"loss\"      : \"PPYoloELoss\",\n",
      "    \"criterion_params\"  : {\"use_static_assigner\": false, \"num_classes\": 80, \"reg_max\": 16},\n",
      "    \"ema\"       : true,\n",
      "    \"ema_params\": {\"decay\": 0.9997, \"decay_type\": \"threshold\", \"beta\": 15},\n",
      "    \"train_metrics_list\": [],\n",
      "    \"valid_metrics_list\":\n",
      "        [\n",
      "            {\n",
      "                \"DetectionMetrics\":\n",
      "                    {\n",
      "                        \"score_thres\"       : 0.1,\n",
      "                        \"top_k_predictions\" : 300,\n",
      "                        \"num_cls\"   : 80,\n",
      "                        \"normalize_targets\" : true,\n",
      "                        \"post_prediction_callback\"  : PPYoloEPostPredictionCallback()\n",
      "                    }\n",
      "            }\n",
      "        ],\n",
      "    \"metric_to_watch\"   : \"mAP@0.50:0.95\",\n",
      "    \"greater_metric_to_watch_is_better\" : true,\n",
      "    \"launch_tensorboard\": false,\n",
      "    \"tensorboard_port\"  : null,\n",
      "    \"tb_files_user_prompt\"  : false,\n",
      "    \"save_tensorboard_to_s3\": false,\n",
      "    \"precise_bn\": false,\n",
      "    \"precise_bn_batch_size\" : null,\n",
      "    \"sync_bn\"   : true,\n",
      "    \"silent_mode\"       : false,\n",
      "    \"mixed_precision\"   : true,\n",
      "    \"save_ckpt_epoch_list\"  : [100, 200, 250],\n",
      "    \"average_best_models\"   : true,\n",
      "    \"dataset_statistics\": false,\n",
      "    \"batch_accumulate\"  : 1,\n",
      "    \"run_validation_freq\"   : 1,\n",
      "    \"run_test_freq\"     : 1,\n",
      "    \"save_model\": true,\n",
      "    \"seed\"      : 42,\n",
      "    \"phase_callbacks\"   : [],\n",
      "    \"log_installed_packages\": true,\n",
      "    \"clip_grad_norm\"    : null,\n",
      "    \"ckpt_best_name\"    : \"ckpt_best.pth\",\n",
      "    \"max_train_batches\" : null,\n",
      "    \"max_valid_batches\" : null,\n",
      "    \"sg_logger\" : \"base_sg_logger\",\n",
      "    \"sg_logger_params\":\n",
      "        {\n",
      "            \"tb_files_user_prompt\"      : false,\n",
      "            \"launch_tensorboard\": false,\n",
      "            \"tensorboard_port\"  : null,\n",
      "            \"save_checkpoints_remote\"   : false,\n",
      "            \"save_tensorboard_remote\"   : false,\n",
      "            \"save_logs_remote\"  : false,\n",
      "            \"monitor_system\"    : true\n",
      "        },\n",
      "    \"torch_compile\"     : false,\n",
      "    \"torch_compile_loss\": false,\n",
      "    \"torch_compile_options\":\n",
      "        {\n",
      "            \"mode\"      : \"reduce-overhead\",\n",
      "            \"fullgraph\" : false,\n",
      "            \"dynamic\"   : false,\n",
      "            \"backend\"   : \"inductor\",\n",
      "            \"options\"   : null,\n",
      "            \"disable\"   : false\n",
      "        },\n",
      "    \"_convert_\" : \"all\",\n",
      "    \"max_epochs\": 300,\n",
      "    \"initial_lr\": 0.0002\n",
      "}\n"
     ]
    },
    {
     "name": "stderr",
     "output_type": "stream",
     "text": [
      "[2023-11-04 12:12:06] INFO - sg_trainer.py - Starting a new run with `run_id=RUN_20231104_121206_195450`\n",
      "[2023-11-04 12:12:06] INFO - sg_trainer.py - Checkpoints directory: ./transfer_learning_object_detection_yolo_nas_s/RUN_20231104_121206_195450\n",
      "[2023-11-04 12:12:06] INFO - sg_trainer.py - Using EMA with params {'decay': 0.9997, 'decay_type': 'threshold', 'beta': 15}\n",
      "[2023-11-04 12:12:06] WARNING - callbacks.py - Number of warmup steps (1000) is greater than number of steps in epoch (5). Warmup steps will be capped to number of steps in epoch to avoid interfering with any pre-epoch LR schedulers.\n",
      "/home/pablo_veinberg/.local/lib/python3.10/site-packages/super_gradients/training/utils/collate_fn/detection_collate_fn.py:29: UserWarning: To copy construct from a tensor, it is recommended to use sourceTensor.clone().detach() or sourceTensor.clone().detach().requires_grad_(True), rather than torch.tensor(sourceTensor).\n",
      "  images_batch = [torch.tensor(img) for img in images_batch]\n",
      "/home/pablo_veinberg/.local/lib/python3.10/site-packages/super_gradients/training/utils/collate_fn/detection_collate_fn.py:43: UserWarning: To copy construct from a tensor, it is recommended to use sourceTensor.clone().detach() or sourceTensor.clone().detach().requires_grad_(True), rather than torch.tensor(sourceTensor).\n",
      "  labels_batch = [torch.tensor(labels) for labels in labels_batch]\n",
      "[2023-11-04 12:12:06] INFO - sg_trainer_utils.py - TRAINING PARAMETERS:\n",
      "    - Mode:                         OFF\n",
      "    - Number of GPUs:               1          (1 available on the machine)\n",
      "    - Full dataset size:            20         (len(train_set))\n",
      "    - Batch size per GPU:           4          (batch_size)\n",
      "    - Batch Accumulate:             1          (batch_accumulate)\n",
      "    - Total batch size:             4          (num_gpus * batch_size)\n",
      "    - Effective Batch size:         4          (num_gpus * batch_size * batch_accumulate)\n",
      "    - Iterations per epoch:         5          (len(train_loader))\n",
      "    - Gradient updates per epoch:   5          (len(train_loader) / batch_accumulate)\n",
      "\n",
      "[2023-11-04 12:12:06] INFO - sg_trainer.py - Started training for 10 epochs (0/9)\n",
      "\n",
      "Train epoch 0:   0%|          | 0/5 [00:00<?, ?it/s]"
     ]
    },
    {
     "name": "stdout",
     "output_type": "stream",
     "text": [
      "The console stream is now moved to ./transfer_learning_object_detection_yolo_nas_s/RUN_20231104_121206_195450/console_Nov04_12_12_06.txt\n"
     ]
    },
    {
     "name": "stderr",
     "output_type": "stream",
     "text": [
      "Train epoch 0: 100%|██████████| 5/5 [00:05<00:00,  1.08s/it, PPYoloELoss/loss=0.36, PPYoloELoss/loss_cls=0.36, PPYoloELoss/loss_dfl=-, PPYoloELoss/loss_iou=0, gpu_mem=0.591]  \n",
      "Validating: 100%|██████████| 5/5 [00:00<00:00,  5.21it/s]\n",
      "[2023-11-04 12:12:13] INFO - base_sg_logger.py - Checkpoint saved in ./transfer_learning_object_detection_yolo_nas_s/RUN_20231104_121206_195450/ckpt_best.pth\n",
      "[2023-11-04 12:12:13] INFO - sg_trainer.py - Best checkpoint overriden: validation mAP@0.50:0.95: 0.0\n"
     ]
    },
    {
     "name": "stdout",
     "output_type": "stream",
     "text": [
      "===========================================================\n",
      "SUMMARY OF EPOCH 0\n",
      "├── Train\n",
      "│   ├── Ppyoloeloss/loss_cls = 0.3603\n",
      "│   ├── Ppyoloeloss/loss_iou = 0.0\n",
      "│   ├── Ppyoloeloss/loss_dfl = -0.0\n",
      "│   └── Ppyoloeloss/loss = 0.3603\n",
      "└── Validation\n",
      "    ├── Ppyoloeloss/loss_cls = 0.0126\n",
      "    ├── Ppyoloeloss/loss_iou = 0.0\n",
      "    ├── Ppyoloeloss/loss_dfl = -0.0\n",
      "    ├── Ppyoloeloss/loss = 0.0126\n",
      "    ├── Precision@0.50:0.95 = 0.0\n",
      "    ├── Recall@0.50:0.95 = 0.0\n",
      "    ├── Map@0.50:0.95 = 0.0\n",
      "    └── F1@0.50:0.95 = 0.0\n",
      "\n",
      "===========================================================\n"
     ]
    },
    {
     "name": "stderr",
     "output_type": "stream",
     "text": [
      "Train epoch 1: 100%|██████████| 5/5 [00:04<00:00,  1.14it/s, PPYoloELoss/loss=0.223, PPYoloELoss/loss_cls=0.223, PPYoloELoss/loss_dfl=-, PPYoloELoss/loss_iou=0, gpu_mem=0.703]\n",
      "Validating epoch 1: 100%|██████████| 5/5 [00:01<00:00,  4.90it/s]\n"
     ]
    },
    {
     "name": "stdout",
     "output_type": "stream",
     "text": [
      "===========================================================\n",
      "SUMMARY OF EPOCH 1\n",
      "├── Train\n",
      "│   ├── Ppyoloeloss/loss_cls = 0.223\n",
      "│   │   ├── Epoch N-1      = 0.3603 (\u001b[32m↘ -0.1373\u001b[0m)\n",
      "│   │   └── Best until now = 0.3603 (\u001b[32m↘ -0.1373\u001b[0m)\n",
      "│   ├── Ppyoloeloss/loss_iou = 0.0\n",
      "│   │   ├── Epoch N-1      = 0.0    (\u001b[37m= 0.0\u001b[0m)\n",
      "│   │   └── Best until now = 0.0    (\u001b[37m= 0.0\u001b[0m)\n",
      "│   ├── Ppyoloeloss/loss_dfl = -0.0\n",
      "│   │   ├── Epoch N-1      = -0.0   (\u001b[37m= 0.0\u001b[0m)\n",
      "│   │   └── Best until now = -0.0   (\u001b[37m= 0.0\u001b[0m)\n",
      "│   └── Ppyoloeloss/loss = 0.223\n",
      "│       ├── Epoch N-1      = 0.3603 (\u001b[32m↘ -0.1373\u001b[0m)\n",
      "│       └── Best until now = 0.3603 (\u001b[32m↘ -0.1373\u001b[0m)\n",
      "└── Validation\n",
      "    ├── Ppyoloeloss/loss_cls = 0.0127\n",
      "    │   ├── Epoch N-1      = 0.0126 (\u001b[31m↗ 1e-04\u001b[0m)\n",
      "    │   └── Best until now = 0.0126 (\u001b[31m↗ 1e-04\u001b[0m)\n",
      "    ├── Ppyoloeloss/loss_iou = 0.0\n",
      "    │   ├── Epoch N-1      = 0.0    (\u001b[37m= 0.0\u001b[0m)\n",
      "    │   └── Best until now = 0.0    (\u001b[37m= 0.0\u001b[0m)\n",
      "    ├── Ppyoloeloss/loss_dfl = -0.0\n",
      "    │   ├── Epoch N-1      = -0.0   (\u001b[37m= 0.0\u001b[0m)\n",
      "    │   └── Best until now = -0.0   (\u001b[37m= 0.0\u001b[0m)\n",
      "    ├── Ppyoloeloss/loss = 0.0127\n",
      "    │   ├── Epoch N-1      = 0.0126 (\u001b[31m↗ 1e-04\u001b[0m)\n",
      "    │   └── Best until now = 0.0126 (\u001b[31m↗ 1e-04\u001b[0m)\n",
      "    ├── Precision@0.50:0.95 = 0.0\n",
      "    │   ├── Epoch N-1      = 0.0    (\u001b[37m= 0.0\u001b[0m)\n",
      "    │   └── Best until now = 0.0    (\u001b[37m= 0.0\u001b[0m)\n",
      "    ├── Recall@0.50:0.95 = 0.0\n",
      "    │   ├── Epoch N-1      = 0.0    (\u001b[37m= 0.0\u001b[0m)\n",
      "    │   └── Best until now = 0.0    (\u001b[37m= 0.0\u001b[0m)\n",
      "    ├── Map@0.50:0.95 = 0.0\n",
      "    │   ├── Epoch N-1      = 0.0    (\u001b[37m= 0.0\u001b[0m)\n",
      "    │   └── Best until now = 0.0    (\u001b[37m= 0.0\u001b[0m)\n",
      "    └── F1@0.50:0.95 = 0.0\n",
      "        ├── Epoch N-1      = 0.0    (\u001b[37m= 0.0\u001b[0m)\n",
      "        └── Best until now = 0.0    (\u001b[37m= 0.0\u001b[0m)\n",
      "\n",
      "===========================================================\n"
     ]
    },
    {
     "name": "stderr",
     "output_type": "stream",
     "text": [
      "Train epoch 2: 100%|██████████| 5/5 [00:04<00:00,  1.15it/s, PPYoloELoss/loss=0.0257, PPYoloELoss/loss_cls=0.0257, PPYoloELoss/loss_dfl=-, PPYoloELoss/loss_iou=0, gpu_mem=0.7]\n",
      "Validating epoch 2: 100%|██████████| 5/5 [00:00<00:00,  5.15it/s]\n"
     ]
    },
    {
     "name": "stdout",
     "output_type": "stream",
     "text": [
      "===========================================================\n",
      "SUMMARY OF EPOCH 2\n",
      "├── Train\n",
      "│   ├── Ppyoloeloss/loss_cls = 0.0257\n",
      "│   │   ├── Epoch N-1      = 0.223  (\u001b[32m↘ -0.1973\u001b[0m)\n",
      "│   │   └── Best until now = 0.223  (\u001b[32m↘ -0.1973\u001b[0m)\n",
      "│   ├── Ppyoloeloss/loss_iou = 0.0\n",
      "│   │   ├── Epoch N-1      = 0.0    (\u001b[37m= 0.0\u001b[0m)\n",
      "│   │   └── Best until now = 0.0    (\u001b[37m= 0.0\u001b[0m)\n",
      "│   ├── Ppyoloeloss/loss_dfl = -0.0\n",
      "│   │   ├── Epoch N-1      = -0.0   (\u001b[37m= 0.0\u001b[0m)\n",
      "│   │   └── Best until now = -0.0   (\u001b[37m= 0.0\u001b[0m)\n",
      "│   └── Ppyoloeloss/loss = 0.0257\n",
      "│       ├── Epoch N-1      = 0.223  (\u001b[32m↘ -0.1973\u001b[0m)\n",
      "│       └── Best until now = 0.223  (\u001b[32m↘ -0.1973\u001b[0m)\n",
      "└── Validation\n",
      "    ├── Ppyoloeloss/loss_cls = 0.0131\n",
      "    │   ├── Epoch N-1      = 0.0127 (\u001b[31m↗ 0.0004\u001b[0m)\n",
      "    │   └── Best until now = 0.0126 (\u001b[31m↗ 0.0005\u001b[0m)\n",
      "    ├── Ppyoloeloss/loss_iou = 0.0\n",
      "    │   ├── Epoch N-1      = 0.0    (\u001b[37m= 0.0\u001b[0m)\n",
      "    │   └── Best until now = 0.0    (\u001b[37m= 0.0\u001b[0m)\n",
      "    ├── Ppyoloeloss/loss_dfl = -0.0\n",
      "    │   ├── Epoch N-1      = -0.0   (\u001b[37m= 0.0\u001b[0m)\n",
      "    │   └── Best until now = -0.0   (\u001b[37m= 0.0\u001b[0m)\n",
      "    ├── Ppyoloeloss/loss = 0.0131\n",
      "    │   ├── Epoch N-1      = 0.0127 (\u001b[31m↗ 0.0004\u001b[0m)\n",
      "    │   └── Best until now = 0.0126 (\u001b[31m↗ 0.0005\u001b[0m)\n",
      "    ├── Precision@0.50:0.95 = 0.0\n",
      "    │   ├── Epoch N-1      = 0.0    (\u001b[37m= 0.0\u001b[0m)\n",
      "    │   └── Best until now = 0.0    (\u001b[37m= 0.0\u001b[0m)\n",
      "    ├── Recall@0.50:0.95 = 0.0\n",
      "    │   ├── Epoch N-1      = 0.0    (\u001b[37m= 0.0\u001b[0m)\n",
      "    │   └── Best until now = 0.0    (\u001b[37m= 0.0\u001b[0m)\n",
      "    ├── Map@0.50:0.95 = 0.0\n",
      "    │   ├── Epoch N-1      = 0.0    (\u001b[37m= 0.0\u001b[0m)\n",
      "    │   └── Best until now = 0.0    (\u001b[37m= 0.0\u001b[0m)\n",
      "    └── F1@0.50:0.95 = 0.0\n",
      "        ├── Epoch N-1      = 0.0    (\u001b[37m= 0.0\u001b[0m)\n",
      "        └── Best until now = 0.0    (\u001b[37m= 0.0\u001b[0m)\n",
      "\n",
      "===========================================================\n"
     ]
    },
    {
     "name": "stderr",
     "output_type": "stream",
     "text": [
      "Train epoch 3: 100%|██████████| 5/5 [00:04<00:00,  1.08it/s, PPYoloELoss/loss=0.0259, PPYoloELoss/loss_cls=0.0259, PPYoloELoss/loss_dfl=-, PPYoloELoss/loss_iou=0, gpu_mem=0.7]\n",
      "Validating epoch 3: 100%|██████████| 5/5 [00:01<00:00,  4.48it/s]\n"
     ]
    },
    {
     "name": "stdout",
     "output_type": "stream",
     "text": [
      "===========================================================\n",
      "SUMMARY OF EPOCH 3\n",
      "├── Train\n",
      "│   ├── Ppyoloeloss/loss_cls = 0.0259\n",
      "│   │   ├── Epoch N-1      = 0.0257 (\u001b[31m↗ 0.0002\u001b[0m)\n",
      "│   │   └── Best until now = 0.0257 (\u001b[31m↗ 0.0002\u001b[0m)\n",
      "│   ├── Ppyoloeloss/loss_iou = 0.0\n",
      "│   │   ├── Epoch N-1      = 0.0    (\u001b[37m= 0.0\u001b[0m)\n",
      "│   │   └── Best until now = 0.0    (\u001b[37m= 0.0\u001b[0m)\n",
      "│   ├── Ppyoloeloss/loss_dfl = -0.0\n",
      "│   │   ├── Epoch N-1      = -0.0   (\u001b[37m= 0.0\u001b[0m)\n",
      "│   │   └── Best until now = -0.0   (\u001b[37m= 0.0\u001b[0m)\n",
      "│   └── Ppyoloeloss/loss = 0.0259\n",
      "│       ├── Epoch N-1      = 0.0257 (\u001b[31m↗ 0.0002\u001b[0m)\n",
      "│       └── Best until now = 0.0257 (\u001b[31m↗ 0.0002\u001b[0m)\n",
      "└── Validation\n",
      "    ├── Ppyoloeloss/loss_cls = 0.0136\n",
      "    │   ├── Epoch N-1      = 0.0131 (\u001b[31m↗ 0.0005\u001b[0m)\n",
      "    │   └── Best until now = 0.0126 (\u001b[31m↗ 0.001\u001b[0m)\n",
      "    ├── Ppyoloeloss/loss_iou = 0.0\n",
      "    │   ├── Epoch N-1      = 0.0    (\u001b[37m= 0.0\u001b[0m)\n",
      "    │   └── Best until now = 0.0    (\u001b[37m= 0.0\u001b[0m)\n",
      "    ├── Ppyoloeloss/loss_dfl = -0.0\n",
      "    │   ├── Epoch N-1      = -0.0   (\u001b[37m= 0.0\u001b[0m)\n",
      "    │   └── Best until now = -0.0   (\u001b[37m= 0.0\u001b[0m)\n",
      "    ├── Ppyoloeloss/loss = 0.0136\n",
      "    │   ├── Epoch N-1      = 0.0131 (\u001b[31m↗ 0.0005\u001b[0m)\n",
      "    │   └── Best until now = 0.0126 (\u001b[31m↗ 0.001\u001b[0m)\n",
      "    ├── Precision@0.50:0.95 = 0.0\n",
      "    │   ├── Epoch N-1      = 0.0    (\u001b[37m= 0.0\u001b[0m)\n",
      "    │   └── Best until now = 0.0    (\u001b[37m= 0.0\u001b[0m)\n",
      "    ├── Recall@0.50:0.95 = 0.0\n",
      "    │   ├── Epoch N-1      = 0.0    (\u001b[37m= 0.0\u001b[0m)\n",
      "    │   └── Best until now = 0.0    (\u001b[37m= 0.0\u001b[0m)\n",
      "    ├── Map@0.50:0.95 = 0.0\n",
      "    │   ├── Epoch N-1      = 0.0    (\u001b[37m= 0.0\u001b[0m)\n",
      "    │   └── Best until now = 0.0    (\u001b[37m= 0.0\u001b[0m)\n",
      "    └── F1@0.50:0.95 = 0.0\n",
      "        ├── Epoch N-1      = 0.0    (\u001b[37m= 0.0\u001b[0m)\n",
      "        └── Best until now = 0.0    (\u001b[37m= 0.0\u001b[0m)\n",
      "\n",
      "===========================================================\n"
     ]
    },
    {
     "name": "stderr",
     "output_type": "stream",
     "text": [
      "Train epoch 4: 100%|██████████| 5/5 [00:04<00:00,  1.14it/s, PPYoloELoss/loss=0.0236, PPYoloELoss/loss_cls=0.0236, PPYoloELoss/loss_dfl=-, PPYoloELoss/loss_iou=0, gpu_mem=0.7]\n",
      "Validating epoch 4: 100%|██████████| 5/5 [00:00<00:00,  5.04it/s]\n"
     ]
    },
    {
     "name": "stdout",
     "output_type": "stream",
     "text": [
      "===========================================================\n",
      "SUMMARY OF EPOCH 4\n",
      "├── Train\n",
      "│   ├── Ppyoloeloss/loss_cls = 0.0236\n",
      "│   │   ├── Epoch N-1      = 0.0259 (\u001b[32m↘ -0.0024\u001b[0m)\n",
      "│   │   └── Best until now = 0.0257 (\u001b[32m↘ -0.0021\u001b[0m)\n",
      "│   ├── Ppyoloeloss/loss_iou = 0.0\n",
      "│   │   ├── Epoch N-1      = 0.0    (\u001b[37m= 0.0\u001b[0m)\n",
      "│   │   └── Best until now = 0.0    (\u001b[37m= 0.0\u001b[0m)\n",
      "│   ├── Ppyoloeloss/loss_dfl = -0.0\n",
      "│   │   ├── Epoch N-1      = -0.0   (\u001b[37m= 0.0\u001b[0m)\n",
      "│   │   └── Best until now = -0.0   (\u001b[37m= 0.0\u001b[0m)\n",
      "│   └── Ppyoloeloss/loss = 0.0236\n",
      "│       ├── Epoch N-1      = 0.0259 (\u001b[32m↘ -0.0024\u001b[0m)\n",
      "│       └── Best until now = 0.0257 (\u001b[32m↘ -0.0021\u001b[0m)\n",
      "└── Validation\n",
      "    ├── Ppyoloeloss/loss_cls = 0.014\n",
      "    │   ├── Epoch N-1      = 0.0136 (\u001b[31m↗ 0.0004\u001b[0m)\n",
      "    │   └── Best until now = 0.0126 (\u001b[31m↗ 0.0014\u001b[0m)\n",
      "    ├── Ppyoloeloss/loss_iou = 0.0\n",
      "    │   ├── Epoch N-1      = 0.0    (\u001b[37m= 0.0\u001b[0m)\n",
      "    │   └── Best until now = 0.0    (\u001b[37m= 0.0\u001b[0m)\n",
      "    ├── Ppyoloeloss/loss_dfl = -0.0\n",
      "    │   ├── Epoch N-1      = -0.0   (\u001b[37m= 0.0\u001b[0m)\n",
      "    │   └── Best until now = -0.0   (\u001b[37m= 0.0\u001b[0m)\n",
      "    ├── Ppyoloeloss/loss = 0.014\n",
      "    │   ├── Epoch N-1      = 0.0136 (\u001b[31m↗ 0.0004\u001b[0m)\n",
      "    │   └── Best until now = 0.0126 (\u001b[31m↗ 0.0014\u001b[0m)\n",
      "    ├── Precision@0.50:0.95 = 0.0\n",
      "    │   ├── Epoch N-1      = 0.0    (\u001b[37m= 0.0\u001b[0m)\n",
      "    │   └── Best until now = 0.0    (\u001b[37m= 0.0\u001b[0m)\n",
      "    ├── Recall@0.50:0.95 = 0.0\n",
      "    │   ├── Epoch N-1      = 0.0    (\u001b[37m= 0.0\u001b[0m)\n",
      "    │   └── Best until now = 0.0    (\u001b[37m= 0.0\u001b[0m)\n",
      "    ├── Map@0.50:0.95 = 0.0\n",
      "    │   ├── Epoch N-1      = 0.0    (\u001b[37m= 0.0\u001b[0m)\n",
      "    │   └── Best until now = 0.0    (\u001b[37m= 0.0\u001b[0m)\n",
      "    └── F1@0.50:0.95 = 0.0\n",
      "        ├── Epoch N-1      = 0.0    (\u001b[37m= 0.0\u001b[0m)\n",
      "        └── Best until now = 0.0    (\u001b[37m= 0.0\u001b[0m)\n",
      "\n",
      "===========================================================\n"
     ]
    },
    {
     "name": "stderr",
     "output_type": "stream",
     "text": [
      "Train epoch 5: 100%|██████████| 5/5 [00:04<00:00,  1.17it/s, PPYoloELoss/loss=0.0212, PPYoloELoss/loss_cls=0.0212, PPYoloELoss/loss_dfl=-, PPYoloELoss/loss_iou=0, gpu_mem=0.7]\n",
      "Validating epoch 5: 100%|██████████| 5/5 [00:00<00:00,  5.20it/s]\n"
     ]
    },
    {
     "name": "stdout",
     "output_type": "stream",
     "text": [
      "===========================================================\n",
      "SUMMARY OF EPOCH 5\n",
      "├── Train\n",
      "│   ├── Ppyoloeloss/loss_cls = 0.0212\n",
      "│   │   ├── Epoch N-1      = 0.0236 (\u001b[32m↘ -0.0024\u001b[0m)\n",
      "│   │   └── Best until now = 0.0236 (\u001b[32m↘ -0.0024\u001b[0m)\n",
      "│   ├── Ppyoloeloss/loss_iou = 0.0\n",
      "│   │   ├── Epoch N-1      = 0.0    (\u001b[37m= 0.0\u001b[0m)\n",
      "│   │   └── Best until now = 0.0    (\u001b[37m= 0.0\u001b[0m)\n",
      "│   ├── Ppyoloeloss/loss_dfl = -0.0\n",
      "│   │   ├── Epoch N-1      = -0.0   (\u001b[37m= 0.0\u001b[0m)\n",
      "│   │   └── Best until now = -0.0   (\u001b[37m= 0.0\u001b[0m)\n",
      "│   └── Ppyoloeloss/loss = 0.0212\n",
      "│       ├── Epoch N-1      = 0.0236 (\u001b[32m↘ -0.0024\u001b[0m)\n",
      "│       └── Best until now = 0.0236 (\u001b[32m↘ -0.0024\u001b[0m)\n",
      "└── Validation\n",
      "    ├── Ppyoloeloss/loss_cls = 0.0143\n",
      "    │   ├── Epoch N-1      = 0.014  (\u001b[31m↗ 0.0003\u001b[0m)\n",
      "    │   └── Best until now = 0.0126 (\u001b[31m↗ 0.0016\u001b[0m)\n",
      "    ├── Ppyoloeloss/loss_iou = 0.0\n",
      "    │   ├── Epoch N-1      = 0.0    (\u001b[37m= 0.0\u001b[0m)\n",
      "    │   └── Best until now = 0.0    (\u001b[37m= 0.0\u001b[0m)\n",
      "    ├── Ppyoloeloss/loss_dfl = -0.0\n",
      "    │   ├── Epoch N-1      = -0.0   (\u001b[37m= 0.0\u001b[0m)\n",
      "    │   └── Best until now = -0.0   (\u001b[37m= 0.0\u001b[0m)\n",
      "    ├── Ppyoloeloss/loss = 0.0143\n",
      "    │   ├── Epoch N-1      = 0.014  (\u001b[31m↗ 0.0003\u001b[0m)\n",
      "    │   └── Best until now = 0.0126 (\u001b[31m↗ 0.0016\u001b[0m)\n",
      "    ├── Precision@0.50:0.95 = 0.0\n",
      "    │   ├── Epoch N-1      = 0.0    (\u001b[37m= 0.0\u001b[0m)\n",
      "    │   └── Best until now = 0.0    (\u001b[37m= 0.0\u001b[0m)\n",
      "    ├── Recall@0.50:0.95 = 0.0\n",
      "    │   ├── Epoch N-1      = 0.0    (\u001b[37m= 0.0\u001b[0m)\n",
      "    │   └── Best until now = 0.0    (\u001b[37m= 0.0\u001b[0m)\n",
      "    ├── Map@0.50:0.95 = 0.0\n",
      "    │   ├── Epoch N-1      = 0.0    (\u001b[37m= 0.0\u001b[0m)\n",
      "    │   └── Best until now = 0.0    (\u001b[37m= 0.0\u001b[0m)\n",
      "    └── F1@0.50:0.95 = 0.0\n",
      "        ├── Epoch N-1      = 0.0    (\u001b[37m= 0.0\u001b[0m)\n",
      "        └── Best until now = 0.0    (\u001b[37m= 0.0\u001b[0m)\n",
      "\n",
      "===========================================================\n"
     ]
    },
    {
     "name": "stderr",
     "output_type": "stream",
     "text": [
      "Train epoch 6: 100%|██████████| 5/5 [00:04<00:00,  1.16it/s, PPYoloELoss/loss=0.0193, PPYoloELoss/loss_cls=0.0193, PPYoloELoss/loss_dfl=-, PPYoloELoss/loss_iou=0, gpu_mem=0.7]\n",
      "Validating epoch 6: 100%|██████████| 5/5 [00:00<00:00,  5.22it/s]\n"
     ]
    },
    {
     "name": "stdout",
     "output_type": "stream",
     "text": [
      "===========================================================\n",
      "SUMMARY OF EPOCH 6\n",
      "├── Train\n",
      "│   ├── Ppyoloeloss/loss_cls = 0.0193\n",
      "│   │   ├── Epoch N-1      = 0.0212 (\u001b[32m↘ -0.0019\u001b[0m)\n",
      "│   │   └── Best until now = 0.0212 (\u001b[32m↘ -0.0019\u001b[0m)\n",
      "│   ├── Ppyoloeloss/loss_iou = 0.0\n",
      "│   │   ├── Epoch N-1      = 0.0    (\u001b[37m= 0.0\u001b[0m)\n",
      "│   │   └── Best until now = 0.0    (\u001b[37m= 0.0\u001b[0m)\n",
      "│   ├── Ppyoloeloss/loss_dfl = -0.0\n",
      "│   │   ├── Epoch N-1      = -0.0   (\u001b[37m= 0.0\u001b[0m)\n",
      "│   │   └── Best until now = -0.0   (\u001b[37m= 0.0\u001b[0m)\n",
      "│   └── Ppyoloeloss/loss = 0.0193\n",
      "│       ├── Epoch N-1      = 0.0212 (\u001b[32m↘ -0.0019\u001b[0m)\n",
      "│       └── Best until now = 0.0212 (\u001b[32m↘ -0.0019\u001b[0m)\n",
      "└── Validation\n",
      "    ├── Ppyoloeloss/loss_cls = 0.0143\n",
      "    │   ├── Epoch N-1      = 0.0143 (\u001b[31m↗ 0.0\u001b[0m)\n",
      "    │   └── Best until now = 0.0126 (\u001b[31m↗ 0.0017\u001b[0m)\n",
      "    ├── Ppyoloeloss/loss_iou = 0.0\n",
      "    │   ├── Epoch N-1      = 0.0    (\u001b[37m= 0.0\u001b[0m)\n",
      "    │   └── Best until now = 0.0    (\u001b[37m= 0.0\u001b[0m)\n",
      "    ├── Ppyoloeloss/loss_dfl = -0.0\n",
      "    │   ├── Epoch N-1      = -0.0   (\u001b[37m= 0.0\u001b[0m)\n",
      "    │   └── Best until now = -0.0   (\u001b[37m= 0.0\u001b[0m)\n",
      "    ├── Ppyoloeloss/loss = 0.0143\n",
      "    │   ├── Epoch N-1      = 0.0143 (\u001b[31m↗ 0.0\u001b[0m)\n",
      "    │   └── Best until now = 0.0126 (\u001b[31m↗ 0.0017\u001b[0m)\n",
      "    ├── Precision@0.50:0.95 = 0.0\n",
      "    │   ├── Epoch N-1      = 0.0    (\u001b[37m= 0.0\u001b[0m)\n",
      "    │   └── Best until now = 0.0    (\u001b[37m= 0.0\u001b[0m)\n",
      "    ├── Recall@0.50:0.95 = 0.0\n",
      "    │   ├── Epoch N-1      = 0.0    (\u001b[37m= 0.0\u001b[0m)\n",
      "    │   └── Best until now = 0.0    (\u001b[37m= 0.0\u001b[0m)\n",
      "    ├── Map@0.50:0.95 = 0.0\n",
      "    │   ├── Epoch N-1      = 0.0    (\u001b[37m= 0.0\u001b[0m)\n",
      "    │   └── Best until now = 0.0    (\u001b[37m= 0.0\u001b[0m)\n",
      "    └── F1@0.50:0.95 = 0.0\n",
      "        ├── Epoch N-1      = 0.0    (\u001b[37m= 0.0\u001b[0m)\n",
      "        └── Best until now = 0.0    (\u001b[37m= 0.0\u001b[0m)\n",
      "\n",
      "===========================================================\n"
     ]
    },
    {
     "name": "stderr",
     "output_type": "stream",
     "text": [
      "Train epoch 7: 100%|██████████| 5/5 [00:04<00:00,  1.18it/s, PPYoloELoss/loss=0.0179, PPYoloELoss/loss_cls=0.0179, PPYoloELoss/loss_dfl=-, PPYoloELoss/loss_iou=0, gpu_mem=0.7]\n",
      "Validating epoch 7: 100%|██████████| 5/5 [00:00<00:00,  5.23it/s]\n"
     ]
    },
    {
     "name": "stdout",
     "output_type": "stream",
     "text": [
      "===========================================================\n",
      "SUMMARY OF EPOCH 7\n",
      "├── Train\n",
      "│   ├── Ppyoloeloss/loss_cls = 0.0179\n",
      "│   │   ├── Epoch N-1      = 0.0193 (\u001b[32m↘ -0.0013\u001b[0m)\n",
      "│   │   └── Best until now = 0.0193 (\u001b[32m↘ -0.0013\u001b[0m)\n",
      "│   ├── Ppyoloeloss/loss_iou = 0.0\n",
      "│   │   ├── Epoch N-1      = 0.0    (\u001b[37m= 0.0\u001b[0m)\n",
      "│   │   └── Best until now = 0.0    (\u001b[37m= 0.0\u001b[0m)\n",
      "│   ├── Ppyoloeloss/loss_dfl = -0.0\n",
      "│   │   ├── Epoch N-1      = -0.0   (\u001b[37m= 0.0\u001b[0m)\n",
      "│   │   └── Best until now = -0.0   (\u001b[37m= 0.0\u001b[0m)\n",
      "│   └── Ppyoloeloss/loss = 0.0179\n",
      "│       ├── Epoch N-1      = 0.0193 (\u001b[32m↘ -0.0013\u001b[0m)\n",
      "│       └── Best until now = 0.0193 (\u001b[32m↘ -0.0013\u001b[0m)\n",
      "└── Validation\n",
      "    ├── Ppyoloeloss/loss_cls = 0.0141\n",
      "    │   ├── Epoch N-1      = 0.0143 (\u001b[32m↘ -0.0002\u001b[0m)\n",
      "    │   └── Best until now = 0.0126 (\u001b[31m↗ 0.0015\u001b[0m)\n",
      "    ├── Ppyoloeloss/loss_iou = 0.0\n",
      "    │   ├── Epoch N-1      = 0.0    (\u001b[37m= 0.0\u001b[0m)\n",
      "    │   └── Best until now = 0.0    (\u001b[37m= 0.0\u001b[0m)\n",
      "    ├── Ppyoloeloss/loss_dfl = -0.0\n",
      "    │   ├── Epoch N-1      = -0.0   (\u001b[37m= 0.0\u001b[0m)\n",
      "    │   └── Best until now = -0.0   (\u001b[37m= 0.0\u001b[0m)\n",
      "    ├── Ppyoloeloss/loss = 0.0141\n",
      "    │   ├── Epoch N-1      = 0.0143 (\u001b[32m↘ -0.0002\u001b[0m)\n",
      "    │   └── Best until now = 0.0126 (\u001b[31m↗ 0.0015\u001b[0m)\n",
      "    ├── Precision@0.50:0.95 = 0.0\n",
      "    │   ├── Epoch N-1      = 0.0    (\u001b[37m= 0.0\u001b[0m)\n",
      "    │   └── Best until now = 0.0    (\u001b[37m= 0.0\u001b[0m)\n",
      "    ├── Recall@0.50:0.95 = 0.0\n",
      "    │   ├── Epoch N-1      = 0.0    (\u001b[37m= 0.0\u001b[0m)\n",
      "    │   └── Best until now = 0.0    (\u001b[37m= 0.0\u001b[0m)\n",
      "    ├── Map@0.50:0.95 = 0.0\n",
      "    │   ├── Epoch N-1      = 0.0    (\u001b[37m= 0.0\u001b[0m)\n",
      "    │   └── Best until now = 0.0    (\u001b[37m= 0.0\u001b[0m)\n",
      "    └── F1@0.50:0.95 = 0.0\n",
      "        ├── Epoch N-1      = 0.0    (\u001b[37m= 0.0\u001b[0m)\n",
      "        └── Best until now = 0.0    (\u001b[37m= 0.0\u001b[0m)\n",
      "\n",
      "===========================================================\n"
     ]
    },
    {
     "name": "stderr",
     "output_type": "stream",
     "text": [
      "Train epoch 8: 100%|██████████| 5/5 [00:04<00:00,  1.16it/s, PPYoloELoss/loss=0.0166, PPYoloELoss/loss_cls=0.0166, PPYoloELoss/loss_dfl=-, PPYoloELoss/loss_iou=0, gpu_mem=0.7]\n",
      "Validating epoch 8: 100%|██████████| 5/5 [00:00<00:00,  5.17it/s]\n"
     ]
    },
    {
     "name": "stdout",
     "output_type": "stream",
     "text": [
      "===========================================================\n",
      "SUMMARY OF EPOCH 8\n",
      "├── Train\n",
      "│   ├── Ppyoloeloss/loss_cls = 0.0166\n",
      "│   │   ├── Epoch N-1      = 0.0179 (\u001b[32m↘ -0.0014\u001b[0m)\n",
      "│   │   └── Best until now = 0.0179 (\u001b[32m↘ -0.0014\u001b[0m)\n",
      "│   ├── Ppyoloeloss/loss_iou = 0.0\n",
      "│   │   ├── Epoch N-1      = 0.0    (\u001b[37m= 0.0\u001b[0m)\n",
      "│   │   └── Best until now = 0.0    (\u001b[37m= 0.0\u001b[0m)\n",
      "│   ├── Ppyoloeloss/loss_dfl = -0.0\n",
      "│   │   ├── Epoch N-1      = -0.0   (\u001b[37m= 0.0\u001b[0m)\n",
      "│   │   └── Best until now = -0.0   (\u001b[37m= 0.0\u001b[0m)\n",
      "│   └── Ppyoloeloss/loss = 0.0166\n",
      "│       ├── Epoch N-1      = 0.0179 (\u001b[32m↘ -0.0014\u001b[0m)\n",
      "│       └── Best until now = 0.0179 (\u001b[32m↘ -0.0014\u001b[0m)\n",
      "└── Validation\n",
      "    ├── Ppyoloeloss/loss_cls = 0.0138\n",
      "    │   ├── Epoch N-1      = 0.0141 (\u001b[32m↘ -0.0003\u001b[0m)\n",
      "    │   └── Best until now = 0.0126 (\u001b[31m↗ 0.0012\u001b[0m)\n",
      "    ├── Ppyoloeloss/loss_iou = 0.0\n",
      "    │   ├── Epoch N-1      = 0.0    (\u001b[37m= 0.0\u001b[0m)\n",
      "    │   └── Best until now = 0.0    (\u001b[37m= 0.0\u001b[0m)\n",
      "    ├── Ppyoloeloss/loss_dfl = -0.0\n",
      "    │   ├── Epoch N-1      = -0.0   (\u001b[37m= 0.0\u001b[0m)\n",
      "    │   └── Best until now = -0.0   (\u001b[37m= 0.0\u001b[0m)\n",
      "    ├── Ppyoloeloss/loss = 0.0138\n",
      "    │   ├── Epoch N-1      = 0.0141 (\u001b[32m↘ -0.0003\u001b[0m)\n",
      "    │   └── Best until now = 0.0126 (\u001b[31m↗ 0.0012\u001b[0m)\n",
      "    ├── Precision@0.50:0.95 = 0.0\n",
      "    │   ├── Epoch N-1      = 0.0    (\u001b[37m= 0.0\u001b[0m)\n",
      "    │   └── Best until now = 0.0    (\u001b[37m= 0.0\u001b[0m)\n",
      "    ├── Recall@0.50:0.95 = 0.0\n",
      "    │   ├── Epoch N-1      = 0.0    (\u001b[37m= 0.0\u001b[0m)\n",
      "    │   └── Best until now = 0.0    (\u001b[37m= 0.0\u001b[0m)\n",
      "    ├── Map@0.50:0.95 = 0.0\n",
      "    │   ├── Epoch N-1      = 0.0    (\u001b[37m= 0.0\u001b[0m)\n",
      "    │   └── Best until now = 0.0    (\u001b[37m= 0.0\u001b[0m)\n",
      "    └── F1@0.50:0.95 = 0.0\n",
      "        ├── Epoch N-1      = 0.0    (\u001b[37m= 0.0\u001b[0m)\n",
      "        └── Best until now = 0.0    (\u001b[37m= 0.0\u001b[0m)\n",
      "\n",
      "===========================================================\n"
     ]
    },
    {
     "name": "stderr",
     "output_type": "stream",
     "text": [
      "Train epoch 9: 100%|██████████| 5/5 [00:04<00:00,  1.16it/s, PPYoloELoss/loss=0.0153, PPYoloELoss/loss_cls=0.0153, PPYoloELoss/loss_dfl=-, PPYoloELoss/loss_iou=0, gpu_mem=0.7]\n",
      "Validating epoch 9: 100%|██████████| 5/5 [00:00<00:00,  5.21it/s]\n"
     ]
    },
    {
     "name": "stdout",
     "output_type": "stream",
     "text": [
      "===========================================================\n",
      "SUMMARY OF EPOCH 9\n",
      "├── Train\n",
      "│   ├── Ppyoloeloss/loss_cls = 0.0153\n",
      "│   │   ├── Epoch N-1      = 0.0166 (\u001b[32m↘ -0.0012\u001b[0m)\n",
      "│   │   └── Best until now = 0.0166 (\u001b[32m↘ -0.0012\u001b[0m)\n",
      "│   ├── Ppyoloeloss/loss_iou = 0.0\n",
      "│   │   ├── Epoch N-1      = 0.0    (\u001b[37m= 0.0\u001b[0m)\n",
      "│   │   └── Best until now = 0.0    (\u001b[37m= 0.0\u001b[0m)\n",
      "│   ├── Ppyoloeloss/loss_dfl = -0.0\n",
      "│   │   ├── Epoch N-1      = -0.0   (\u001b[37m= 0.0\u001b[0m)\n",
      "│   │   └── Best until now = -0.0   (\u001b[37m= 0.0\u001b[0m)\n",
      "│   └── Ppyoloeloss/loss = 0.0153\n",
      "│       ├── Epoch N-1      = 0.0166 (\u001b[32m↘ -0.0012\u001b[0m)\n",
      "│       └── Best until now = 0.0166 (\u001b[32m↘ -0.0012\u001b[0m)\n",
      "└── Validation\n",
      "    ├── Ppyoloeloss/loss_cls = 0.0134\n",
      "    │   ├── Epoch N-1      = 0.0138 (\u001b[32m↘ -0.0004\u001b[0m)\n",
      "    │   └── Best until now = 0.0126 (\u001b[31m↗ 0.0007\u001b[0m)\n",
      "    ├── Ppyoloeloss/loss_iou = 0.0\n",
      "    │   ├── Epoch N-1      = 0.0    (\u001b[37m= 0.0\u001b[0m)\n",
      "    │   └── Best until now = 0.0    (\u001b[37m= 0.0\u001b[0m)\n",
      "    ├── Ppyoloeloss/loss_dfl = -0.0\n",
      "    │   ├── Epoch N-1      = -0.0   (\u001b[37m= 0.0\u001b[0m)\n",
      "    │   └── Best until now = -0.0   (\u001b[37m= 0.0\u001b[0m)\n",
      "    ├── Ppyoloeloss/loss = 0.0134\n",
      "    │   ├── Epoch N-1      = 0.0138 (\u001b[32m↘ -0.0004\u001b[0m)\n",
      "    │   └── Best until now = 0.0126 (\u001b[31m↗ 0.0007\u001b[0m)\n",
      "    ├── Precision@0.50:0.95 = 0.0\n",
      "    │   ├── Epoch N-1      = 0.0    (\u001b[37m= 0.0\u001b[0m)\n",
      "    │   └── Best until now = 0.0    (\u001b[37m= 0.0\u001b[0m)\n",
      "    ├── Recall@0.50:0.95 = 0.0\n",
      "    │   ├── Epoch N-1      = 0.0    (\u001b[37m= 0.0\u001b[0m)\n",
      "    │   └── Best until now = 0.0    (\u001b[37m= 0.0\u001b[0m)\n",
      "    ├── Map@0.50:0.95 = 0.0\n",
      "    │   ├── Epoch N-1      = 0.0    (\u001b[37m= 0.0\u001b[0m)\n",
      "    │   └── Best until now = 0.0    (\u001b[37m= 0.0\u001b[0m)\n",
      "    └── F1@0.50:0.95 = 0.0\n",
      "        ├── Epoch N-1      = 0.0    (\u001b[37m= 0.0\u001b[0m)\n",
      "        └── Best until now = 0.0    (\u001b[37m= 0.0\u001b[0m)\n",
      "\n",
      "===========================================================\n"
     ]
    },
    {
     "name": "stderr",
     "output_type": "stream",
     "text": [
      "[2023-11-04 12:13:50] INFO - sg_trainer.py - RUNNING ADDITIONAL TEST ON THE AVERAGED MODEL...\n",
      "Validating epoch 10:  80%|████████  | 4/5 [00:00<00:00,  5.06it/s]"
     ]
    }
   ],
   "source": [
    "%%time\n",
    "from super_gradients.training.processing import ImagePermute, ComposeProcessing\n",
    "\n",
    "image_processor = ComposeProcessing([\\\n",
    "    # Resize(320),\n",
    "    ImagePermute(permutation=(2, 0, 1)),])\n",
    "\n",
    "model.set_dataset_processing_params(iou=0.5, \\\n",
    "                                    class_names=['negative','positive'], \\\n",
    "                                    conf=0.5, \\\n",
    "                                    image_processor=image_processor)\n",
    "\n",
    "trainer = Trainer(experiment_name='transfer_learning_object_detection_yolo_nas_s', \\\n",
    "                  ckpt_root_dir=CHECKPOINT_DIR)\n",
    "\n",
    "trainer.train(model=model, \\\n",
    "                training_params=train_params, \\\n",
    "                train_loader=train_dataloader, \\\n",
    "                valid_loader=val_dataloader)\n"
   ]
  },
  {
   "cell_type": "code",
   "execution_count": 16,
   "metadata": {},
   "outputs": [
    {
     "name": "stdout",
     "output_type": "stream",
     "text": [
      "0\n"
     ]
    },
    {
     "name": "stderr",
     "output_type": "stream",
     "text": [
      "[2023-11-04 13:47:14] INFO - pipelines.py - Fusing some of the model's layers. If this takes too much memory, you can deactivate it by setting `fuse_model=False`\n"
     ]
    },
    {
     "data": {
      "image/png": "[encoded data removed]",
      "text/plain": [
       "<Figure size 320x320 with 1 Axes>"
      ]
     },
     "metadata": {},
     "output_type": "display_data"
    },
    {
     "name": "stderr",
     "output_type": "stream",
     "text": [
      "[2023-11-04 13:47:14] WARNING - image.py - Clipping input data to the valid range for imshow with RGB data ([0..1] for floats or [0..255] for integers).\n",
      "[2023-11-04 13:47:14] INFO - pipelines.py - Fusing some of the model's layers. If this takes too much memory, you can deactivate it by setting `fuse_model=False`\n"
     ]
    },
    {
     "name": "stdout",
     "output_type": "stream",
     "text": [
      "1\n"
     ]
    },
    {
     "data": {
      "image/png": "[encoded data removed]",
      "text/plain": [
       "<Figure size 320x320 with 1 Axes>"
      ]
     },
     "metadata": {},
     "output_type": "display_data"
    },
    {
     "name": "stderr",
     "output_type": "stream",
     "text": [
      "[2023-11-04 13:47:14] WARNING - image.py - Clipping input data to the valid range for imshow with RGB data ([0..1] for floats or [0..255] for integers).\n",
      "[2023-11-04 13:47:14] INFO - pipelines.py - Fusing some of the model's layers. If this takes too much memory, you can deactivate it by setting `fuse_model=False`\n"
     ]
    },
    {
     "name": "stdout",
     "output_type": "stream",
     "text": [
      "2\n"
     ]
    },
    {
     "data": {
      "image/png": "[encoded data removed]",
      "text/plain": [
       "<Figure size 320x320 with 1 Axes>"
      ]
     },
     "metadata": {},
     "output_type": "display_data"
    },
    {
     "name": "stderr",
     "output_type": "stream",
     "text": [
      "[2023-11-04 13:47:15] WARNING - image.py - Clipping input data to the valid range for imshow with RGB data ([0..1] for floats or [0..255] for integers).\n",
      "[2023-11-04 13:47:15] INFO - pipelines.py - Fusing some of the model's layers. If this takes too much memory, you can deactivate it by setting `fuse_model=False`\n"
     ]
    },
    {
     "name": "stdout",
     "output_type": "stream",
     "text": [
      "3\n"
     ]
    },
    {
     "data": {
      "image/png": "[encoded data removed]",
      "text/plain": [
       "<Figure size 320x320 with 1 Axes>"
      ]
     },
     "metadata": {},
     "output_type": "display_data"
    },
    {
     "name": "stderr",
     "output_type": "stream",
     "text": [
      "[2023-11-04 13:47:15] WARNING - image.py - Clipping input data to the valid range for imshow with RGB data ([0..1] for floats or [0..255] for integers).\n",
      "[2023-11-04 13:47:15] INFO - pipelines.py - Fusing some of the model's layers. If this takes too much memory, you can deactivate it by setting `fuse_model=False`\n"
     ]
    },
    {
     "name": "stdout",
     "output_type": "stream",
     "text": [
      "4\n"
     ]
    },
    {
     "data": {
      "image/png": "[encoded data removed]",
      "text/plain": [
       "<Figure size 320x320 with 1 Axes>"
      ]
     },
     "metadata": {},
     "output_type": "display_data"
    },
    {
     "name": "stderr",
     "output_type": "stream",
     "text": [
      "[2023-11-04 13:47:15] WARNING - image.py - Clipping input data to the valid range for imshow with RGB data ([0..1] for floats or [0..255] for integers).\n",
      "[2023-11-04 13:47:16] INFO - pipelines.py - Fusing some of the model's layers. If this takes too much memory, you can deactivate it by setting `fuse_model=False`\n"
     ]
    },
    {
     "name": "stdout",
     "output_type": "stream",
     "text": [
      "5\n"
     ]
    },
    {
     "data": {
      "image/png": "[encoded data removed]",
      "text/plain": [
       "<Figure size 320x320 with 1 Axes>"
      ]
     },
     "metadata": {},
     "output_type": "display_data"
    },
    {
     "name": "stderr",
     "output_type": "stream",
     "text": [
      "[2023-11-04 13:47:16] WARNING - image.py - Clipping input data to the valid range for imshow with RGB data ([0..1] for floats or [0..255] for integers).\n",
      "[2023-11-04 13:47:16] INFO - pipelines.py - Fusing some of the model's layers. If this takes too much memory, you can deactivate it by setting `fuse_model=False`\n"
     ]
    },
    {
     "name": "stdout",
     "output_type": "stream",
     "text": [
      "6\n"
     ]
    },
    {
     "data": {
      "image/png": "[encoded data removed]",
      "text/plain": [
       "<Figure size 320x320 with 1 Axes>"
      ]
     },
     "metadata": {},
     "output_type": "display_data"
    },
    {
     "name": "stderr",
     "output_type": "stream",
     "text": [
      "[2023-11-04 13:47:16] WARNING - image.py - Clipping input data to the valid range for imshow with RGB data ([0..1] for floats or [0..255] for integers).\n",
      "[2023-11-04 13:47:16] INFO - pipelines.py - Fusing some of the model's layers. If this takes too much memory, you can deactivate it by setting `fuse_model=False`\n"
     ]
    },
    {
     "name": "stdout",
     "output_type": "stream",
     "text": [
      "7\n"
     ]
    },
    {
     "data": {
      "image/png": "[encoded data removed]",
      "text/plain": [
       "<Figure size 320x320 with 1 Axes>"
      ]
     },
     "metadata": {},
     "output_type": "display_data"
    },
    {
     "name": "stderr",
     "output_type": "stream",
     "text": [
      "[2023-11-04 13:47:17] WARNING - image.py - Clipping input data to the valid range for imshow with RGB data ([0..1] for floats or [0..255] for integers).\n",
      "[2023-11-04 13:47:17] INFO - pipelines.py - Fusing some of the model's layers. If this takes too much memory, you can deactivate it by setting `fuse_model=False`\n"
     ]
    },
    {
     "name": "stdout",
     "output_type": "stream",
     "text": [
      "8\n"
     ]
    },
    {
     "data": {
      "image/png": "[encoded data removed]",
      "text/plain": [
       "<Figure size 320x320 with 1 Axes>"
      ]
     },
     "metadata": {},
     "output_type": "display_data"
    },
    {
     "name": "stderr",
     "output_type": "stream",
     "text": [
      "[2023-11-04 13:47:17] WARNING - image.py - Clipping input data to the valid range for imshow with RGB data ([0..1] for floats or [0..255] for integers).\n",
      "[2023-11-04 13:47:17] INFO - pipelines.py - Fusing some of the model's layers. If this takes too much memory, you can deactivate it by setting `fuse_model=False`\n"
     ]
    },
    {
     "name": "stdout",
     "output_type": "stream",
     "text": [
      "9\n"
     ]
    },
    {
     "data": {
      "image/png": "[encoded data removed]",
      "text/plain": [
       "<Figure size 320x320 with 1 Axes>"
      ]
     },
     "metadata": {},
     "output_type": "display_data"
    },
    {
     "name": "stderr",
     "output_type": "stream",
     "text": [
      "[2023-11-04 13:47:17] WARNING - image.py - Clipping input data to the valid range for imshow with RGB data ([0..1] for floats or [0..255] for integers).\n",
      "[2023-11-04 13:47:17] INFO - pipelines.py - Fusing some of the model's layers. If this takes too much memory, you can deactivate it by setting `fuse_model=False`\n"
     ]
    },
    {
     "name": "stdout",
     "output_type": "stream",
     "text": [
      "10\n"
     ]
    },
    {
     "data": {
      "image/png": "[encoded data removed]",
      "text/plain": [
       "<Figure size 320x320 with 1 Axes>"
      ]
     },
     "metadata": {},
     "output_type": "display_data"
    },
    {
     "name": "stderr",
     "output_type": "stream",
     "text": [
      "[2023-11-04 13:47:17] WARNING - image.py - Clipping input data to the valid range for imshow with RGB data ([0..1] for floats or [0..255] for integers).\n",
      "[2023-11-04 13:47:17] INFO - pipelines.py - Fusing some of the model's layers. If this takes too much memory, you can deactivate it by setting `fuse_model=False`\n"
     ]
    },
    {
     "name": "stdout",
     "output_type": "stream",
     "text": [
      "11\n"
     ]
    },
    {
     "data": {
      "image/png": "[encoded data removed]",
      "text/plain": [
       "<Figure size 320x320 with 1 Axes>"
      ]
     },
     "metadata": {},
     "output_type": "display_data"
    },
    {
     "name": "stderr",
     "output_type": "stream",
     "text": [
      "[2023-11-04 13:47:18] WARNING - image.py - Clipping input data to the valid range for imshow with RGB data ([0..1] for floats or [0..255] for integers).\n",
      "[2023-11-04 13:47:18] INFO - pipelines.py - Fusing some of the model's layers. If this takes too much memory, you can deactivate it by setting `fuse_model=False`\n"
     ]
    },
    {
     "name": "stdout",
     "output_type": "stream",
     "text": [
      "12\n"
     ]
    },
    {
     "data": {
      "image/png": "[encoded data removed]",
      "text/plain": [
       "<Figure size 320x320 with 1 Axes>"
      ]
     },
     "metadata": {},
     "output_type": "display_data"
    },
    {
     "name": "stderr",
     "output_type": "stream",
     "text": [
      "[2023-11-04 13:47:18] WARNING - image.py - Clipping input data to the valid range for imshow with RGB data ([0..1] for floats or [0..255] for integers).\n",
      "[2023-11-04 13:47:18] INFO - pipelines.py - Fusing some of the model's layers. If this takes too much memory, you can deactivate it by setting `fuse_model=False`\n"
     ]
    },
    {
     "name": "stdout",
     "output_type": "stream",
     "text": [
      "13\n"
     ]
    },
    {
     "data": {
      "image/png": "[encoded data removed]",
      "text/plain": [
       "<Figure size 320x320 with 1 Axes>"
      ]
     },
     "metadata": {},
     "output_type": "display_data"
    },
    {
     "name": "stderr",
     "output_type": "stream",
     "text": [
      "[2023-11-04 13:47:18] WARNING - image.py - Clipping input data to the valid range for imshow with RGB data ([0..1] for floats or [0..255] for integers).\n",
      "[2023-11-04 13:47:18] INFO - pipelines.py - Fusing some of the model's layers. If this takes too much memory, you can deactivate it by setting `fuse_model=False`\n"
     ]
    },
    {
     "name": "stdout",
     "output_type": "stream",
     "text": [
      "14\n"
     ]
    },
    {
     "data": {
      "image/png": "[encoded data removed]",
      "text/plain": [
       "<Figure size 320x320 with 1 Axes>"
      ]
     },
     "metadata": {},
     "output_type": "display_data"
    },
    {
     "name": "stderr",
     "output_type": "stream",
     "text": [
      "[2023-11-04 13:47:19] WARNING - image.py - Clipping input data to the valid range for imshow with RGB data ([0..1] for floats or [0..255] for integers).\n",
      "[2023-11-04 13:47:19] INFO - pipelines.py - Fusing some of the model's layers. If this takes too much memory, you can deactivate it by setting `fuse_model=False`\n"
     ]
    },
    {
     "name": "stdout",
     "output_type": "stream",
     "text": [
      "15\n"
     ]
    },
    {
     "data": {
      "image/png": "[encoded data removed]",
      "text/plain": [
       "<Figure size 320x320 with 1 Axes>"
      ]
     },
     "metadata": {},
     "output_type": "display_data"
    },
    {
     "name": "stderr",
     "output_type": "stream",
     "text": [
      "[2023-11-04 13:47:19] WARNING - image.py - Clipping input data to the valid range for imshow with RGB data ([0..1] for floats or [0..255] for integers).\n",
      "[2023-11-04 13:47:19] INFO - pipelines.py - Fusing some of the model's layers. If this takes too much memory, you can deactivate it by setting `fuse_model=False`\n"
     ]
    },
    {
     "name": "stdout",
     "output_type": "stream",
     "text": [
      "16\n"
     ]
    },
    {
     "data": {
      "image/png": "[encoded data removed]",
      "text/plain": [
       "<Figure size 320x320 with 1 Axes>"
      ]
     },
     "metadata": {},
     "output_type": "display_data"
    },
    {
     "name": "stderr",
     "output_type": "stream",
     "text": [
      "[2023-11-04 13:47:19] WARNING - image.py - Clipping input data to the valid range for imshow with RGB data ([0..1] for floats or [0..255] for integers).\n",
      "[2023-11-04 13:47:19] INFO - pipelines.py - Fusing some of the model's layers. If this takes too much memory, you can deactivate it by setting `fuse_model=False`\n"
     ]
    },
    {
     "name": "stdout",
     "output_type": "stream",
     "text": [
      "17\n"
     ]
    },
    {
     "data": {
      "image/png": "[encoded data removed]",
      "text/plain": [
       "<Figure size 320x320 with 1 Axes>"
      ]
     },
     "metadata": {},
     "output_type": "display_data"
    },
    {
     "name": "stderr",
     "output_type": "stream",
     "text": [
      "[2023-11-04 13:47:20] WARNING - image.py - Clipping input data to the valid range for imshow with RGB data ([0..1] for floats or [0..255] for integers).\n",
      "[2023-11-04 13:47:20] INFO - pipelines.py - Fusing some of the model's layers. If this takes too much memory, you can deactivate it by setting `fuse_model=False`\n"
     ]
    },
    {
     "name": "stdout",
     "output_type": "stream",
     "text": [
      "18\n"
     ]
    },
    {
     "data": {
      "image/png": "[encoded data removed]",
      "text/plain": [
       "<Figure size 320x320 with 1 Axes>"
      ]
     },
     "metadata": {},
     "output_type": "display_data"
    },
    {
     "name": "stderr",
     "output_type": "stream",
     "text": [
      "[2023-11-04 13:47:20] WARNING - image.py - Clipping input data to the valid range for imshow with RGB data ([0..1] for floats or [0..255] for integers).\n"
     ]
    }
   ],
   "source": [
    "for pos in range(len(val_dataset)-1):\n",
    "    print(pos)\n",
    "    val_dataset.__getitem__(pos)[0]\n",
    "    predicoes = model.predict(val_dataset.__getitem__(pos)[0])\n",
    "    predicoes.show()"
   ]
  },
  {
   "cell_type": "code",
   "execution_count": 15,
   "metadata": {},
   "outputs": [
    {
     "data": {
      "text/plain": [
       "20"
      ]
     },
     "execution_count": 15,
     "metadata": {},
     "output_type": "execute_result"
    }
   ],
   "source": [
    "len(val_dataset)"
   ]
  }
 ],
 "metadata": {
  "kernelspec": {
   "display_name": "valor_venal",
   "language": "python",
   "name": "python3"
  },
  "language_info": {
   "codemirror_mode": {
    "name": "ipython",
    "version": 3
   },
   "file_extension": ".py",
   "mimetype": "text/x-python",
   "name": "python",
   "nbconvert_exporter": "python",
   "pygments_lexer": "ipython3",
   "version": "3.10.12"
  }
 },
 "nbformat": 4,
 "nbformat_minor": 2
}
