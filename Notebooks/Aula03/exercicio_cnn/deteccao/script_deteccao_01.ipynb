{
 "cells": [
  {
   "cell_type": "code",
   "execution_count": null,
   "metadata": {},
   "outputs": [],
   "source": [
    "import super_gradients\n",
    "import pycocotools\n",
    "!pip install Cmake\n",
    "!pip install cython "
   ]
  }
 ],
 "metadata": {
  "language_info": {
   "name": "python"
  }
 },
 "nbformat": 4,
 "nbformat_minor": 2
}
