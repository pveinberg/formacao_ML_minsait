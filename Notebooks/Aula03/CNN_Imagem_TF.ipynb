{
 "cells": [
  {
   "cell_type": "code",
   "execution_count": 1,
   "metadata": {},
   "outputs": [
    {
     "name": "stderr",
     "output_type": "stream",
     "text": [
      "2023-11-02 16:40:13.642612: E tensorflow/compiler/xla/stream_executor/cuda/cuda_dnn.cc:9342] Unable to register cuDNN factory: Attempting to register factory for plugin cuDNN when one has already been registered\n",
      "2023-11-02 16:40:13.642636: E tensorflow/compiler/xla/stream_executor/cuda/cuda_fft.cc:609] Unable to register cuFFT factory: Attempting to register factory for plugin cuFFT when one has already been registered\n",
      "2023-11-02 16:40:13.644524: E tensorflow/compiler/xla/stream_executor/cuda/cuda_blas.cc:1518] Unable to register cuBLAS factory: Attempting to register factory for plugin cuBLAS when one has already been registered\n",
      "2023-11-02 16:40:13.761909: I tensorflow/core/platform/cpu_feature_guard.cc:182] This TensorFlow binary is optimized to use available CPU instructions in performance-critical operations.\n",
      "To enable the following instructions: AVX2 FMA, in other operations, rebuild TensorFlow with the appropriate compiler flags.\n",
      "2023-11-02 16:40:17.468050: I tensorflow/compiler/xla/stream_executor/cuda/cuda_gpu_executor.cc:894] successful NUMA node read from SysFS had negative value (-1), but there must be at least one NUMA node, so returning NUMA node zero. See more at https://github.com/torvalds/linux/blob/v6.0/Documentation/ABI/testing/sysfs-bus-pci#L344-L355\n",
      "2023-11-02 16:40:17.489987: I tensorflow/compiler/xla/stream_executor/cuda/cuda_gpu_executor.cc:894] successful NUMA node read from SysFS had negative value (-1), but there must be at least one NUMA node, so returning NUMA node zero. See more at https://github.com/torvalds/linux/blob/v6.0/Documentation/ABI/testing/sysfs-bus-pci#L344-L355\n",
      "2023-11-02 16:40:17.490269: I tensorflow/compiler/xla/stream_executor/cuda/cuda_gpu_executor.cc:894] successful NUMA node read from SysFS had negative value (-1), but there must be at least one NUMA node, so returning NUMA node zero. See more at https://github.com/torvalds/linux/blob/v6.0/Documentation/ABI/testing/sysfs-bus-pci#L344-L355\n"
     ]
    }
   ],
   "source": [
    "import tensorflow as tf\n",
    "import matplotlib.pyplot as plt\n",
    "import numpy as np\n",
    "from sklearn.preprocessing import OneHotEncoder\n",
    "#configurando para rodar em CPU\n",
    "tf.config.set_visible_devices([],'GPU')"
   ]
  },
  {
   "cell_type": "markdown",
   "metadata": {},
   "source": [
    "### Prática\n",
    "1. Aquisição e pré-processamento dos dados\n",
    "2. Treinamento\n",
    "* Implementar arquitetura\n",
    "* Definir otimizadores, métricas e regularizadores\n",
    "3. Teste (avaliação de desempenho)"
   ]
  },
  {
   "cell_type": "markdown",
   "metadata": {},
   "source": [
    "# Classificação"
   ]
  },
  {
   "cell_type": "markdown",
   "metadata": {},
   "source": [
    "#### 1. Aquisição dos dados"
   ]
  },
  {
   "cell_type": "code",
   "execution_count": 2,
   "metadata": {},
   "outputs": [],
   "source": [
    "(x_train, y_train), (x_test, y_test) = tf.keras.datasets.mnist.load_data()"
   ]
  },
  {
   "cell_type": "code",
   "execution_count": 3,
   "metadata": {},
   "outputs": [
    {
     "name": "stdout",
     "output_type": "stream",
     "text": [
      "(60000, 28, 28)\n",
      "(10000, 28, 28)\n",
      "(10000,)\n"
     ]
    }
   ],
   "source": [
    "print(x_train.shape)\n",
    "print(x_test.shape)\n",
    "print(y_test.shape)"
   ]
  },
  {
   "cell_type": "code",
   "execution_count": 4,
   "metadata": {},
   "outputs": [
    {
     "data": {
      "text/plain": [
       "array([[  0,   0,   0,   0,   0,   0,   0,   0,   0,   0,   0,   0,   0,\n",
       "          0,   0,   0,   0,   0,   0,   0,   0,   0,   0,   0,   0,   0,\n",
       "          0,   0],\n",
       "       [  0,   0,   0,   0,   0,   0,   0,   0,   0,   0,   0,   0,   0,\n",
       "          0,   0,   0,   0,   0,   0,   0,   0,   0,   0,   0,   0,   0,\n",
       "          0,   0],\n",
       "       [  0,   0,   0,   0,   0,   0,   0,   0,   0,   0,   0,   0,   0,\n",
       "          0,   0,   0,   0,   0,   0,   0,   0,   0,   0,   0,   0,   0,\n",
       "          0,   0],\n",
       "       [  0,   0,   0,   0,   0,   0,   0,   0,   0,   0,   0,   0,   0,\n",
       "          0,   0,   0,   0,   0,   0,   0,   0,   0,   0,   0,   0,   0,\n",
       "          0,   0],\n",
       "       [  0,   0,   0,   0,   0,   0,   0,   0,   0,   0,   0,   0,   0,\n",
       "          0,   0,   0,   0,   0,   0,   0,   0,   0,   0,   0,   0,   0,\n",
       "          0,   0],\n",
       "       [  0,   0,   0,   0,   0,   0,   0,   0,   0,   0,   0,   0,   3,\n",
       "         18,  18,  18, 126, 136, 175,  26, 166, 255, 247, 127,   0,   0,\n",
       "          0,   0],\n",
       "       [  0,   0,   0,   0,   0,   0,   0,   0,  30,  36,  94, 154, 170,\n",
       "        253, 253, 253, 253, 253, 225, 172, 253, 242, 195,  64,   0,   0,\n",
       "          0,   0],\n",
       "       [  0,   0,   0,   0,   0,   0,   0,  49, 238, 253, 253, 253, 253,\n",
       "        253, 253, 253, 253, 251,  93,  82,  82,  56,  39,   0,   0,   0,\n",
       "          0,   0],\n",
       "       [  0,   0,   0,   0,   0,   0,   0,  18, 219, 253, 253, 253, 253,\n",
       "        253, 198, 182, 247, 241,   0,   0,   0,   0,   0,   0,   0,   0,\n",
       "          0,   0],\n",
       "       [  0,   0,   0,   0,   0,   0,   0,   0,  80, 156, 107, 253, 253,\n",
       "        205,  11,   0,  43, 154,   0,   0,   0,   0,   0,   0,   0,   0,\n",
       "          0,   0],\n",
       "       [  0,   0,   0,   0,   0,   0,   0,   0,   0,  14,   1, 154, 253,\n",
       "         90,   0,   0,   0,   0,   0,   0,   0,   0,   0,   0,   0,   0,\n",
       "          0,   0],\n",
       "       [  0,   0,   0,   0,   0,   0,   0,   0,   0,   0,   0, 139, 253,\n",
       "        190,   2,   0,   0,   0,   0,   0,   0,   0,   0,   0,   0,   0,\n",
       "          0,   0],\n",
       "       [  0,   0,   0,   0,   0,   0,   0,   0,   0,   0,   0,  11, 190,\n",
       "        253,  70,   0,   0,   0,   0,   0,   0,   0,   0,   0,   0,   0,\n",
       "          0,   0],\n",
       "       [  0,   0,   0,   0,   0,   0,   0,   0,   0,   0,   0,   0,  35,\n",
       "        241, 225, 160, 108,   1,   0,   0,   0,   0,   0,   0,   0,   0,\n",
       "          0,   0],\n",
       "       [  0,   0,   0,   0,   0,   0,   0,   0,   0,   0,   0,   0,   0,\n",
       "         81, 240, 253, 253, 119,  25,   0,   0,   0,   0,   0,   0,   0,\n",
       "          0,   0],\n",
       "       [  0,   0,   0,   0,   0,   0,   0,   0,   0,   0,   0,   0,   0,\n",
       "          0,  45, 186, 253, 253, 150,  27,   0,   0,   0,   0,   0,   0,\n",
       "          0,   0],\n",
       "       [  0,   0,   0,   0,   0,   0,   0,   0,   0,   0,   0,   0,   0,\n",
       "          0,   0,  16,  93, 252, 253, 187,   0,   0,   0,   0,   0,   0,\n",
       "          0,   0],\n",
       "       [  0,   0,   0,   0,   0,   0,   0,   0,   0,   0,   0,   0,   0,\n",
       "          0,   0,   0,   0, 249, 253, 249,  64,   0,   0,   0,   0,   0,\n",
       "          0,   0],\n",
       "       [  0,   0,   0,   0,   0,   0,   0,   0,   0,   0,   0,   0,   0,\n",
       "          0,  46, 130, 183, 253, 253, 207,   2,   0,   0,   0,   0,   0,\n",
       "          0,   0],\n",
       "       [  0,   0,   0,   0,   0,   0,   0,   0,   0,   0,   0,   0,  39,\n",
       "        148, 229, 253, 253, 253, 250, 182,   0,   0,   0,   0,   0,   0,\n",
       "          0,   0],\n",
       "       [  0,   0,   0,   0,   0,   0,   0,   0,   0,   0,  24, 114, 221,\n",
       "        253, 253, 253, 253, 201,  78,   0,   0,   0,   0,   0,   0,   0,\n",
       "          0,   0],\n",
       "       [  0,   0,   0,   0,   0,   0,   0,   0,  23,  66, 213, 253, 253,\n",
       "        253, 253, 198,  81,   2,   0,   0,   0,   0,   0,   0,   0,   0,\n",
       "          0,   0],\n",
       "       [  0,   0,   0,   0,   0,   0,  18, 171, 219, 253, 253, 253, 253,\n",
       "        195,  80,   9,   0,   0,   0,   0,   0,   0,   0,   0,   0,   0,\n",
       "          0,   0],\n",
       "       [  0,   0,   0,   0,  55, 172, 226, 253, 253, 253, 253, 244, 133,\n",
       "         11,   0,   0,   0,   0,   0,   0,   0,   0,   0,   0,   0,   0,\n",
       "          0,   0],\n",
       "       [  0,   0,   0,   0, 136, 253, 253, 253, 212, 135, 132,  16,   0,\n",
       "          0,   0,   0,   0,   0,   0,   0,   0,   0,   0,   0,   0,   0,\n",
       "          0,   0],\n",
       "       [  0,   0,   0,   0,   0,   0,   0,   0,   0,   0,   0,   0,   0,\n",
       "          0,   0,   0,   0,   0,   0,   0,   0,   0,   0,   0,   0,   0,\n",
       "          0,   0],\n",
       "       [  0,   0,   0,   0,   0,   0,   0,   0,   0,   0,   0,   0,   0,\n",
       "          0,   0,   0,   0,   0,   0,   0,   0,   0,   0,   0,   0,   0,\n",
       "          0,   0],\n",
       "       [  0,   0,   0,   0,   0,   0,   0,   0,   0,   0,   0,   0,   0,\n",
       "          0,   0,   0,   0,   0,   0,   0,   0,   0,   0,   0,   0,   0,\n",
       "          0,   0]], dtype=uint8)"
      ]
     },
     "execution_count": 4,
     "metadata": {},
     "output_type": "execute_result"
    }
   ],
   "source": [
    "x_train[0]"
   ]
  },
  {
   "cell_type": "code",
   "execution_count": 5,
   "metadata": {},
   "outputs": [
    {
     "data": {
      "image/png": "[encoded data removed]",
      "text/plain": [
       "<Figure size 640x480 with 1 Axes>"
      ]
     },
     "metadata": {},
     "output_type": "display_data"
    }
   ],
   "source": [
    "# Escolhendo uma imagem para plotar\n",
    "sample = 10\n",
    "image = x_train[sample]\n",
    "\n",
    "# Plotando a imagem\n",
    "fig = plt.figure\n",
    "plt.imshow(image, cmap='gray')\n",
    "plt.show()"
   ]
  },
  {
   "cell_type": "markdown",
   "metadata": {},
   "source": [
    "#### 2. Pré-processamento"
   ]
  },
  {
   "cell_type": "markdown",
   "metadata": {},
   "source": [
    "#### Normalização"
   ]
  },
  {
   "cell_type": "code",
   "execution_count": 6,
   "metadata": {},
   "outputs": [],
   "source": [
    "m = np.max(x_train)\n",
    "x_train = x_train/m\n",
    "x_test = x_test/m"
   ]
  },
  {
   "cell_type": "markdown",
   "metadata": {},
   "source": [
    "#### One hot encoder na variável alvo"
   ]
  },
  {
   "cell_type": "code",
   "execution_count": 7,
   "metadata": {},
   "outputs": [
    {
     "data": {
      "text/plain": [
       "array([5, 0, 4, ..., 5, 6, 8], dtype=uint8)"
      ]
     },
     "execution_count": 7,
     "metadata": {},
     "output_type": "execute_result"
    }
   ],
   "source": [
    "y_train"
   ]
  },
  {
   "cell_type": "code",
   "execution_count": 8,
   "metadata": {},
   "outputs": [],
   "source": [
    "hot = OneHotEncoder()\n",
    "y_train = hot.fit_transform(y_train.reshape(-1, 1)).toarray()\n",
    "y_test = hot.transform(y_test.reshape(-1, 1)).toarray()"
   ]
  },
  {
   "cell_type": "code",
   "execution_count": 9,
   "metadata": {},
   "outputs": [
    {
     "data": {
      "text/plain": [
       "array([[0., 0., 0., ..., 0., 0., 0.],\n",
       "       [1., 0., 0., ..., 0., 0., 0.],\n",
       "       [0., 0., 0., ..., 0., 0., 0.],\n",
       "       ...,\n",
       "       [0., 0., 0., ..., 0., 0., 0.],\n",
       "       [0., 0., 0., ..., 0., 0., 0.],\n",
       "       [0., 0., 0., ..., 0., 1., 0.]])"
      ]
     },
     "execution_count": 9,
     "metadata": {},
     "output_type": "execute_result"
    }
   ],
   "source": [
    "y_train"
   ]
  },
  {
   "cell_type": "markdown",
   "metadata": {},
   "source": [
    "#### 3. Particionamento de base de dados"
   ]
  },
  {
   "cell_type": "code",
   "execution_count": 10,
   "metadata": {},
   "outputs": [
    {
     "data": {
      "text/plain": [
       "((48000, 28, 28),\n",
       " (12000, 28, 28),\n",
       " (10000, 28, 28),\n",
       " (48000, 10),\n",
       " (12000, 10),\n",
       " (10000, 10))"
      ]
     },
     "execution_count": 10,
     "metadata": {},
     "output_type": "execute_result"
    }
   ],
   "source": [
    "from sklearn.model_selection import train_test_split\n",
    "\n",
    "x_treino, x_val, y_treino, y_val = train_test_split(x_train, y_train, test_size = 0.2, random_state = 13)\n",
    "\n",
    "x_treino.shape, x_val.shape, x_test.shape, y_treino.shape, y_val.shape, y_test.shape, "
   ]
  },
  {
   "cell_type": "code",
   "execution_count": 11,
   "metadata": {},
   "outputs": [],
   "source": [
    "from keras.layers import Dense, Activation, Dropout, Flatten,  Conv2D,MaxPool2D, Conv1D\n",
    "from keras.models import Sequential\n",
    "from keras.callbacks import EarlyStopping"
   ]
  },
  {
   "cell_type": "markdown",
   "metadata": {},
   "source": [
    "#### 4. Treinamento - definição de arquitetura\n",
    "1. Definir quantas camadas são necessárias par o problema\n",
    "2. A quantidade de neurônios em cada camada\n",
    "3. A função de ativação de cada camada\n",
    "4. A função de ativação da saída\n",
    "* softmax (saída não binária)\n",
    "* sigmoid (saída binária)"
   ]
  },
  {
   "cell_type": "code",
   "execution_count": 12,
   "metadata": {
    "notebookRunGroups": {
     "groupValue": "1"
    }
   },
   "outputs": [],
   "source": [
    "rede_simples = Sequential()\n",
    "rede_simples.add(Conv2D(filters=1,kernel_size=3,activation='relu',input_shape=[28,28,1]))\n",
    "# rede_simples.add(MaxPool2D(pool_size=(2,2)))\n",
    "rede_simples.add(Flatten())\n",
    "rede_simples.add(Dense(25,activation='relu'))\n",
    "rede_simples.add(Dense(10,activation='softmax'))"
   ]
  },
  {
   "cell_type": "markdown",
   "metadata": {},
   "source": [
    "### 5. Definir otimizadores"
   ]
  },
  {
   "cell_type": "code",
   "execution_count": 13,
   "metadata": {
    "notebookRunGroups": {
     "groupValue": "1"
    }
   },
   "outputs": [],
   "source": [
    "rede_simples.compile(loss = 'categorical_crossentropy', optimizer = 'Adam', metrics=['accuracy'])"
   ]
  },
  {
   "cell_type": "markdown",
   "metadata": {},
   "source": [
    "#### 6. Treinamento\n",
    "\n",
    "1. Adicionar conjuntos de treinamento e validação\n",
    "2. Determinar a quantidade de épocas"
   ]
  },
  {
   "cell_type": "code",
   "execution_count": 14,
   "metadata": {},
   "outputs": [],
   "source": [
    "x_treino = np.expand_dims(x_treino,axis=-1)\n",
    "x_val = np.expand_dims(x_val,axis=-1)"
   ]
  },
  {
   "cell_type": "code",
   "execution_count": 15,
   "metadata": {
    "notebookRunGroups": {
     "groupValue": "1"
    }
   },
   "outputs": [
    {
     "name": "stdout",
     "output_type": "stream",
     "text": [
      "Epoch 1/100\n"
     ]
    },
    {
     "name": "stdout",
     "output_type": "stream",
     "text": [
      "  12/1500 [..............................] - ETA: 6s - loss: 2.1988 - accuracy: 0.2422   "
     ]
    },
    {
     "name": "stderr",
     "output_type": "stream",
     "text": [
      "2023-11-02 16:40:19.438519: I tensorflow/compiler/xla/service/service.cc:168] XLA service 0x7fbc9000c820 initialized for platform Host (this does not guarantee that XLA will be used). Devices:\n",
      "2023-11-02 16:40:19.438540: I tensorflow/compiler/xla/service/service.cc:176]   StreamExecutor device (0): Host, Default Version\n",
      "2023-11-02 16:40:19.461732: I tensorflow/compiler/mlir/tensorflow/utils/dump_mlir_util.cc:269] disabling MLIR crash reproducer, set env var `MLIR_CRASH_REPRODUCER_DIRECTORY` to enable.\n",
      "2023-11-02 16:40:19.548533: I ./tensorflow/compiler/jit/device_compiler.h:186] Compiled cluster using XLA!  This line is logged at most once for the lifetime of the process.\n",
      "2023-11-02 16:40:19.549791: E ./tensorflow/compiler/xla/stream_executor/stream_executor_internal.h:124] SetPriority unimplemented for this stream.\n",
      "2023-11-02 16:40:19.549940: E ./tensorflow/compiler/xla/stream_executor/stream_executor_internal.h:124] SetPriority unimplemented for this stream.\n",
      "2023-11-02 16:40:19.559017: E ./tensorflow/compiler/xla/stream_executor/stream_executor_internal.h:124] SetPriority unimplemented for this stream.\n",
      "2023-11-02 16:40:19.569018: E ./tensorflow/compiler/xla/stream_executor/stream_executor_internal.h:124] SetPriority unimplemented for this stream.\n"
     ]
    },
    {
     "name": "stdout",
     "output_type": "stream",
     "text": [
      " 437/1500 [=======>......................] - ETA: 4s - loss: 0.6353 - accuracy: 0.8174"
     ]
    },
    {
     "name": "stderr",
     "output_type": "stream",
     "text": [
      "2023-11-02 16:40:21.074044: E ./tensorflow/compiler/xla/stream_executor/stream_executor_internal.h:124] SetPriority unimplemented for this stream.\n"
     ]
    },
    {
     "name": "stdout",
     "output_type": "stream",
     "text": [
      "1500/1500 [==============================] - 7s 4ms/step - loss: 0.4028 - accuracy: 0.8841 - val_loss: 0.2597 - val_accuracy: 0.9239\n",
      "Epoch 2/100\n",
      "1500/1500 [==============================] - 7s 5ms/step - loss: 0.2377 - accuracy: 0.9316 - val_loss: 0.2266 - val_accuracy: 0.9333\n",
      "Epoch 3/100\n",
      "1500/1500 [==============================] - 7s 5ms/step - loss: 0.1960 - accuracy: 0.9422 - val_loss: 0.1986 - val_accuracy: 0.9436\n",
      "Epoch 4/100\n",
      "1500/1500 [==============================] - 7s 5ms/step - loss: 0.1705 - accuracy: 0.9493 - val_loss: 0.1774 - val_accuracy: 0.9499\n",
      "Epoch 5/100\n",
      "1500/1500 [==============================] - 9s 6ms/step - loss: 0.1523 - accuracy: 0.9542 - val_loss: 0.1746 - val_accuracy: 0.9504\n",
      "Epoch 6/100\n",
      " 131/1500 [=>............................] - ETA: 6s - loss: 0.1345 - accuracy: 0.9592"
     ]
    },
    {
     "name": "stderr",
     "output_type": "stream",
     "text": [
      "2023-11-02 16:40:57.600152: E ./tensorflow/compiler/xla/stream_executor/stream_executor_internal.h:124] SetPriority unimplemented for this stream.\n"
     ]
    },
    {
     "name": "stdout",
     "output_type": "stream",
     "text": [
      "1500/1500 [==============================] - 7s 5ms/step - loss: 0.1375 - accuracy: 0.9590 - val_loss: 0.1859 - val_accuracy: 0.9426\n",
      "Epoch 7/100\n",
      "1500/1500 [==============================] - 7s 5ms/step - loss: 0.1286 - accuracy: 0.9619 - val_loss: 0.1677 - val_accuracy: 0.9522\n",
      "Epoch 8/100\n",
      "1500/1500 [==============================] - 8s 5ms/step - loss: 0.1202 - accuracy: 0.9635 - val_loss: 0.1509 - val_accuracy: 0.9578\n",
      "Epoch 9/100\n",
      "1500/1500 [==============================] - 7s 5ms/step - loss: 0.1127 - accuracy: 0.9651 - val_loss: 0.1596 - val_accuracy: 0.9565\n",
      "Epoch 10/100\n",
      "1500/1500 [==============================] - 7s 5ms/step - loss: 0.1049 - accuracy: 0.9674 - val_loss: 0.1500 - val_accuracy: 0.9589\n",
      "Epoch 11/100\n",
      "1500/1500 [==============================] - 7s 5ms/step - loss: 0.0975 - accuracy: 0.9696 - val_loss: 0.1486 - val_accuracy: 0.9572\n",
      "Epoch 12/100\n",
      "1500/1500 [==============================] - 7s 5ms/step - loss: 0.0907 - accuracy: 0.9723 - val_loss: 0.1439 - val_accuracy: 0.9596\n",
      "Epoch 13/100\n",
      "1500/1500 [==============================] - 7s 5ms/step - loss: 0.0871 - accuracy: 0.9727 - val_loss: 0.1441 - val_accuracy: 0.9617\n",
      "Epoch 14/100\n",
      "1500/1500 [==============================] - 7s 5ms/step - loss: 0.0821 - accuracy: 0.9742 - val_loss: 0.1482 - val_accuracy: 0.9590\n",
      "Epoch 15/100\n",
      "1500/1500 [==============================] - 7s 5ms/step - loss: 0.0785 - accuracy: 0.9760 - val_loss: 0.1426 - val_accuracy: 0.9622\n",
      "Epoch 16/100\n",
      "1500/1500 [==============================] - 7s 5ms/step - loss: 0.0748 - accuracy: 0.9765 - val_loss: 0.1500 - val_accuracy: 0.9617\n",
      "Epoch 17/100\n",
      "1500/1500 [==============================] - 7s 5ms/step - loss: 0.0729 - accuracy: 0.9760 - val_loss: 0.1460 - val_accuracy: 0.9616\n",
      "Epoch 18/100\n",
      "1500/1500 [==============================] - 7s 5ms/step - loss: 0.0690 - accuracy: 0.9774 - val_loss: 0.1532 - val_accuracy: 0.9599\n",
      "Epoch 19/100\n",
      "1500/1500 [==============================] - 7s 5ms/step - loss: 0.0664 - accuracy: 0.9792 - val_loss: 0.1435 - val_accuracy: 0.9632\n",
      "Epoch 20/100\n",
      "1500/1500 [==============================] - 7s 5ms/step - loss: 0.0643 - accuracy: 0.9794 - val_loss: 0.1503 - val_accuracy: 0.9626\n",
      "Epoch 21/100\n",
      "1500/1500 [==============================] - 7s 5ms/step - loss: 0.0618 - accuracy: 0.9798 - val_loss: 0.1467 - val_accuracy: 0.9632\n",
      "Epoch 22/100\n",
      "1500/1500 [==============================] - 7s 5ms/step - loss: 0.0584 - accuracy: 0.9810 - val_loss: 0.1555 - val_accuracy: 0.9605\n",
      "Epoch 23/100\n",
      "1500/1500 [==============================] - 7s 5ms/step - loss: 0.0567 - accuracy: 0.9809 - val_loss: 0.1624 - val_accuracy: 0.9606\n",
      "Epoch 24/100\n",
      "1500/1500 [==============================] - 7s 5ms/step - loss: 0.0548 - accuracy: 0.9820 - val_loss: 0.1659 - val_accuracy: 0.9608\n",
      "Epoch 25/100\n",
      "1500/1500 [==============================] - 7s 5ms/step - loss: 0.0536 - accuracy: 0.9823 - val_loss: 0.1648 - val_accuracy: 0.9605\n",
      "Epoch 26/100\n",
      "1500/1500 [==============================] - 7s 5ms/step - loss: 0.0516 - accuracy: 0.9827 - val_loss: 0.1683 - val_accuracy: 0.9613\n",
      "Epoch 27/100\n",
      "1500/1500 [==============================] - 7s 5ms/step - loss: 0.0491 - accuracy: 0.9837 - val_loss: 0.1666 - val_accuracy: 0.9606\n",
      "Epoch 28/100\n",
      "1500/1500 [==============================] - 7s 5ms/step - loss: 0.0464 - accuracy: 0.9844 - val_loss: 0.1667 - val_accuracy: 0.9622\n",
      "Epoch 29/100\n",
      "1500/1500 [==============================] - 7s 5ms/step - loss: 0.0461 - accuracy: 0.9842 - val_loss: 0.1768 - val_accuracy: 0.9615\n",
      "Epoch 30/100\n",
      "1500/1500 [==============================] - 7s 5ms/step - loss: 0.0442 - accuracy: 0.9851 - val_loss: 0.1753 - val_accuracy: 0.9597\n",
      "Epoch 31/100\n",
      "1500/1500 [==============================] - 7s 5ms/step - loss: 0.0411 - accuracy: 0.9868 - val_loss: 0.1883 - val_accuracy: 0.9613\n",
      "Epoch 32/100\n",
      "1500/1500 [==============================] - 7s 5ms/step - loss: 0.0421 - accuracy: 0.9859 - val_loss: 0.1756 - val_accuracy: 0.9615\n",
      "Epoch 33/100\n",
      "1500/1500 [==============================] - 7s 5ms/step - loss: 0.0387 - accuracy: 0.9868 - val_loss: 0.1872 - val_accuracy: 0.9597\n",
      "Epoch 34/100\n",
      "1500/1500 [==============================] - 7s 5ms/step - loss: 0.0386 - accuracy: 0.9870 - val_loss: 0.1982 - val_accuracy: 0.9593\n",
      "Epoch 35/100\n",
      "1500/1500 [==============================] - 7s 5ms/step - loss: 0.0359 - accuracy: 0.9878 - val_loss: 0.1991 - val_accuracy: 0.9597\n",
      "Epoch 36/100\n",
      "1500/1500 [==============================] - 8s 5ms/step - loss: 0.0352 - accuracy: 0.9879 - val_loss: 0.2030 - val_accuracy: 0.9588\n",
      "Epoch 37/100\n",
      "1500/1500 [==============================] - 7s 5ms/step - loss: 0.0356 - accuracy: 0.9879 - val_loss: 0.2020 - val_accuracy: 0.9583\n",
      "Epoch 38/100\n",
      "1500/1500 [==============================] - 7s 5ms/step - loss: 0.0327 - accuracy: 0.9890 - val_loss: 0.1990 - val_accuracy: 0.9593\n",
      "Epoch 39/100\n",
      "1500/1500 [==============================] - 7s 4ms/step - loss: 0.0313 - accuracy: 0.9894 - val_loss: 0.2092 - val_accuracy: 0.9597\n",
      "Epoch 40/100\n",
      "1500/1500 [==============================] - 7s 5ms/step - loss: 0.0297 - accuracy: 0.9895 - val_loss: 0.2116 - val_accuracy: 0.9577\n",
      "Epoch 41/100\n",
      "1500/1500 [==============================] - 7s 4ms/step - loss: 0.0279 - accuracy: 0.9905 - val_loss: 0.2173 - val_accuracy: 0.9597\n",
      "Epoch 42/100\n",
      "1500/1500 [==============================] - 7s 4ms/step - loss: 0.0296 - accuracy: 0.9896 - val_loss: 0.2183 - val_accuracy: 0.9582\n",
      "Epoch 43/100\n",
      "1500/1500 [==============================] - 7s 4ms/step - loss: 0.0265 - accuracy: 0.9912 - val_loss: 0.2253 - val_accuracy: 0.9593\n",
      "Epoch 44/100\n",
      "1500/1500 [==============================] - 7s 4ms/step - loss: 0.0259 - accuracy: 0.9912 - val_loss: 0.2352 - val_accuracy: 0.9586\n",
      "Epoch 45/100\n",
      "1500/1500 [==============================] - 7s 4ms/step - loss: 0.0266 - accuracy: 0.9909 - val_loss: 0.2387 - val_accuracy: 0.9586\n",
      "Epoch 46/100\n",
      "1500/1500 [==============================] - 7s 4ms/step - loss: 0.0233 - accuracy: 0.9923 - val_loss: 0.2345 - val_accuracy: 0.9589\n",
      "Epoch 47/100\n",
      "1500/1500 [==============================] - 7s 4ms/step - loss: 0.0241 - accuracy: 0.9916 - val_loss: 0.2499 - val_accuracy: 0.9560\n",
      "Epoch 48/100\n",
      "1500/1500 [==============================] - 7s 4ms/step - loss: 0.0231 - accuracy: 0.9919 - val_loss: 0.2489 - val_accuracy: 0.9588\n",
      "Epoch 49/100\n",
      "1500/1500 [==============================] - 7s 4ms/step - loss: 0.0220 - accuracy: 0.9926 - val_loss: 0.2548 - val_accuracy: 0.9572\n",
      "Epoch 50/100\n",
      "1500/1500 [==============================] - 7s 4ms/step - loss: 0.0215 - accuracy: 0.9924 - val_loss: 0.2535 - val_accuracy: 0.9579\n",
      "Epoch 51/100\n",
      "1500/1500 [==============================] - 7s 4ms/step - loss: 0.0208 - accuracy: 0.9930 - val_loss: 0.2563 - val_accuracy: 0.9591\n",
      "Epoch 52/100\n",
      "1500/1500 [==============================] - 7s 4ms/step - loss: 0.0202 - accuracy: 0.9929 - val_loss: 0.2592 - val_accuracy: 0.9574\n",
      "Epoch 53/100\n",
      "1500/1500 [==============================] - 7s 4ms/step - loss: 0.0185 - accuracy: 0.9939 - val_loss: 0.2761 - val_accuracy: 0.9582\n",
      "Epoch 54/100\n",
      "1500/1500 [==============================] - 7s 4ms/step - loss: 0.0210 - accuracy: 0.9926 - val_loss: 0.2771 - val_accuracy: 0.9588\n",
      "Epoch 55/100\n",
      "1500/1500 [==============================] - 7s 4ms/step - loss: 0.0168 - accuracy: 0.9942 - val_loss: 0.2710 - val_accuracy: 0.9591\n",
      "Epoch 56/100\n",
      "1500/1500 [==============================] - 7s 4ms/step - loss: 0.0179 - accuracy: 0.9937 - val_loss: 0.2962 - val_accuracy: 0.9567\n",
      "Epoch 57/100\n",
      "1500/1500 [==============================] - 7s 4ms/step - loss: 0.0172 - accuracy: 0.9941 - val_loss: 0.2845 - val_accuracy: 0.9592\n",
      "Epoch 58/100\n",
      "1500/1500 [==============================] - 7s 4ms/step - loss: 0.0169 - accuracy: 0.9944 - val_loss: 0.2842 - val_accuracy: 0.9586\n",
      "Epoch 59/100\n",
      "1500/1500 [==============================] - 7s 4ms/step - loss: 0.0157 - accuracy: 0.9947 - val_loss: 0.3007 - val_accuracy: 0.9572\n",
      "Epoch 60/100\n",
      "1500/1500 [==============================] - 7s 4ms/step - loss: 0.0150 - accuracy: 0.9947 - val_loss: 0.2960 - val_accuracy: 0.9579\n",
      "Epoch 61/100\n",
      "1500/1500 [==============================] - 7s 4ms/step - loss: 0.0158 - accuracy: 0.9946 - val_loss: 0.3070 - val_accuracy: 0.9572\n",
      "Epoch 62/100\n",
      "1500/1500 [==============================] - 7s 4ms/step - loss: 0.0159 - accuracy: 0.9946 - val_loss: 0.3042 - val_accuracy: 0.9564\n",
      "Epoch 63/100\n",
      "1500/1500 [==============================] - 7s 4ms/step - loss: 0.0144 - accuracy: 0.9950 - val_loss: 0.3033 - val_accuracy: 0.9570\n",
      "Epoch 64/100\n",
      "1500/1500 [==============================] - 7s 4ms/step - loss: 0.0141 - accuracy: 0.9950 - val_loss: 0.3267 - val_accuracy: 0.9560\n",
      "Epoch 65/100\n",
      "1500/1500 [==============================] - 7s 4ms/step - loss: 0.0140 - accuracy: 0.9956 - val_loss: 0.3242 - val_accuracy: 0.9562\n",
      "Epoch 66/100\n",
      "1500/1500 [==============================] - 7s 4ms/step - loss: 0.0157 - accuracy: 0.9948 - val_loss: 0.3181 - val_accuracy: 0.9584\n",
      "Epoch 67/100\n",
      "1500/1500 [==============================] - 7s 4ms/step - loss: 0.0116 - accuracy: 0.9959 - val_loss: 0.3331 - val_accuracy: 0.9559\n",
      "Epoch 68/100\n",
      "1500/1500 [==============================] - 7s 4ms/step - loss: 0.0127 - accuracy: 0.9958 - val_loss: 0.3266 - val_accuracy: 0.9572\n",
      "Epoch 69/100\n",
      "1500/1500 [==============================] - 7s 4ms/step - loss: 0.0124 - accuracy: 0.9960 - val_loss: 0.3570 - val_accuracy: 0.9540\n",
      "Epoch 70/100\n",
      "1500/1500 [==============================] - 7s 4ms/step - loss: 0.0116 - accuracy: 0.9958 - val_loss: 0.3246 - val_accuracy: 0.9582\n",
      "Epoch 71/100\n",
      "1500/1500 [==============================] - 7s 4ms/step - loss: 0.0116 - accuracy: 0.9960 - val_loss: 0.3420 - val_accuracy: 0.9557\n",
      "Epoch 72/100\n",
      "1500/1500 [==============================] - 7s 4ms/step - loss: 0.0111 - accuracy: 0.9961 - val_loss: 0.3358 - val_accuracy: 0.9575\n",
      "Epoch 73/100\n",
      "1500/1500 [==============================] - 7s 4ms/step - loss: 0.0123 - accuracy: 0.9955 - val_loss: 0.3746 - val_accuracy: 0.9544\n",
      "Epoch 74/100\n",
      "1500/1500 [==============================] - 7s 4ms/step - loss: 0.0109 - accuracy: 0.9965 - val_loss: 0.3581 - val_accuracy: 0.9553\n",
      "Epoch 75/100\n",
      "1500/1500 [==============================] - 7s 4ms/step - loss: 0.0114 - accuracy: 0.9964 - val_loss: 0.3651 - val_accuracy: 0.9570\n",
      "Epoch 76/100\n",
      "1500/1500 [==============================] - 7s 4ms/step - loss: 0.0118 - accuracy: 0.9957 - val_loss: 0.3673 - val_accuracy: 0.9551\n",
      "Epoch 77/100\n",
      "1500/1500 [==============================] - 7s 4ms/step - loss: 0.0096 - accuracy: 0.9968 - val_loss: 0.3599 - val_accuracy: 0.9578\n",
      "Epoch 78/100\n",
      "1500/1500 [==============================] - 7s 4ms/step - loss: 0.0105 - accuracy: 0.9962 - val_loss: 0.3685 - val_accuracy: 0.9571\n",
      "Epoch 79/100\n",
      "1500/1500 [==============================] - 7s 4ms/step - loss: 0.0107 - accuracy: 0.9961 - val_loss: 0.3715 - val_accuracy: 0.9567\n",
      "Epoch 80/100\n",
      "1500/1500 [==============================] - 7s 4ms/step - loss: 0.0106 - accuracy: 0.9965 - val_loss: 0.3851 - val_accuracy: 0.9547\n",
      "Epoch 81/100\n",
      "1500/1500 [==============================] - 7s 4ms/step - loss: 0.0080 - accuracy: 0.9973 - val_loss: 0.3983 - val_accuracy: 0.9569\n",
      "Epoch 82/100\n",
      "1500/1500 [==============================] - 7s 4ms/step - loss: 0.0113 - accuracy: 0.9961 - val_loss: 0.3727 - val_accuracy: 0.9565\n",
      "Epoch 83/100\n",
      "1500/1500 [==============================] - 7s 4ms/step - loss: 0.0086 - accuracy: 0.9974 - val_loss: 0.3907 - val_accuracy: 0.9555\n",
      "Epoch 84/100\n",
      "1500/1500 [==============================] - 7s 4ms/step - loss: 0.0082 - accuracy: 0.9973 - val_loss: 0.3904 - val_accuracy: 0.9571\n",
      "Epoch 85/100\n",
      "1500/1500 [==============================] - 7s 4ms/step - loss: 0.0102 - accuracy: 0.9966 - val_loss: 0.3997 - val_accuracy: 0.9542\n",
      "Epoch 86/100\n",
      "1500/1500 [==============================] - 7s 4ms/step - loss: 0.0089 - accuracy: 0.9971 - val_loss: 0.4068 - val_accuracy: 0.9554\n",
      "Epoch 87/100\n",
      "1500/1500 [==============================] - 7s 4ms/step - loss: 0.0104 - accuracy: 0.9962 - val_loss: 0.4013 - val_accuracy: 0.9547\n",
      "Epoch 88/100\n",
      "1500/1500 [==============================] - 7s 4ms/step - loss: 0.0067 - accuracy: 0.9977 - val_loss: 0.3963 - val_accuracy: 0.9574\n",
      "Epoch 89/100\n",
      "1500/1500 [==============================] - 7s 4ms/step - loss: 0.0082 - accuracy: 0.9970 - val_loss: 0.4084 - val_accuracy: 0.9569\n",
      "Epoch 90/100\n",
      "1500/1500 [==============================] - 7s 4ms/step - loss: 0.0092 - accuracy: 0.9969 - val_loss: 0.3911 - val_accuracy: 0.9569\n",
      "Epoch 91/100\n",
      "1500/1500 [==============================] - 7s 4ms/step - loss: 0.0070 - accuracy: 0.9981 - val_loss: 0.4258 - val_accuracy: 0.9548\n",
      "Epoch 92/100\n",
      "1500/1500 [==============================] - 7s 4ms/step - loss: 0.0108 - accuracy: 0.9964 - val_loss: 0.4193 - val_accuracy: 0.9554\n",
      "Epoch 93/100\n",
      "1500/1500 [==============================] - 7s 4ms/step - loss: 0.0068 - accuracy: 0.9976 - val_loss: 0.4162 - val_accuracy: 0.9582\n",
      "Epoch 94/100\n",
      "1500/1500 [==============================] - 7s 4ms/step - loss: 0.0087 - accuracy: 0.9969 - val_loss: 0.4071 - val_accuracy: 0.9567\n",
      "Epoch 95/100\n",
      "1500/1500 [==============================] - 7s 4ms/step - loss: 0.0068 - accuracy: 0.9977 - val_loss: 0.4323 - val_accuracy: 0.9568\n",
      "Epoch 96/100\n",
      "1500/1500 [==============================] - 7s 4ms/step - loss: 0.0089 - accuracy: 0.9969 - val_loss: 0.4392 - val_accuracy: 0.9558\n",
      "Epoch 97/100\n",
      "1500/1500 [==============================] - 7s 4ms/step - loss: 0.0060 - accuracy: 0.9979 - val_loss: 0.4286 - val_accuracy: 0.9566\n",
      "Epoch 98/100\n",
      "1500/1500 [==============================] - 7s 4ms/step - loss: 0.0076 - accuracy: 0.9975 - val_loss: 0.4268 - val_accuracy: 0.9561\n",
      "Epoch 99/100\n",
      "1500/1500 [==============================] - 7s 4ms/step - loss: 0.0065 - accuracy: 0.9979 - val_loss: 0.4157 - val_accuracy: 0.9580\n",
      "Epoch 100/100\n",
      "1500/1500 [==============================] - 7s 4ms/step - loss: 0.0086 - accuracy: 0.9971 - val_loss: 0.4394 - val_accuracy: 0.9561\n"
     ]
    }
   ],
   "source": [
    "#### 6. Treinamento\n",
    "\n",
    "historico = rede_simples.fit(x_treino, \n",
    "                             y_treino, \n",
    "                             epochs = 100, \n",
    "                             verbose = 1,\n",
    "                             validation_data = (x_val, y_val))"
   ]
  },
  {
   "cell_type": "markdown",
   "metadata": {},
   "source": [
    "##### 7. Avaliação do modelo"
   ]
  },
  {
   "cell_type": "code",
   "execution_count": 16,
   "metadata": {},
   "outputs": [
    {
     "name": "stdout",
     "output_type": "stream",
     "text": [
      "313/313 [==============================] - 1s 2ms/step\n"
     ]
    },
    {
     "data": {
      "text/plain": [
       "0.9595"
      ]
     },
     "execution_count": 16,
     "metadata": {},
     "output_type": "execute_result"
    }
   ],
   "source": [
    "from sklearn.metrics import confusion_matrix\n",
    "from sklearn.metrics import accuracy_score\n",
    "\n",
    "x_test = np.expand_dims(x_test,axis=-1)\n",
    "pred_simples = rede_simples.predict(x_test)\n",
    "\n",
    "accuracy_score(y_test.argmax(1), pred_simples.argmax(1))"
   ]
  },
  {
   "cell_type": "code",
   "execution_count": 17,
   "metadata": {},
   "outputs": [
    {
     "data": {
      "image/png": "[encoded data removed]",
      "text/plain": [
       "<Figure size 640x480 with 1 Axes>"
      ]
     },
     "metadata": {},
     "output_type": "display_data"
    }
   ],
   "source": [
    "loss = historico.history['loss']\n",
    "val_loss = historico.history['val_loss']\n",
    "epochs = range(len(loss))\n",
    "plt.figure()\n",
    "plt.plot(epochs, loss, 'bo', label = 'Training loss')\n",
    "plt.plot(epochs, val_loss, 'b', label = 'Validation loss')\n",
    "plt.title('Training and validation loss')\n",
    "plt.legend()\n",
    "plt.show()"
   ]
  },
  {
   "cell_type": "markdown",
   "metadata": {},
   "source": [
    "#### 8. Regularização\n",
    "1. Early Stopping: determinar quando encerrar o treinamento\n",
    "2. Dropout: selecionar neurônios aleatoriamente para o treinamento"
   ]
  },
  {
   "cell_type": "code",
   "execution_count": 18,
   "metadata": {},
   "outputs": [
    {
     "name": "stdout",
     "output_type": "stream",
     "text": [
      "Epoch 1/150\n",
      "1500/1500 [==============================] - 6s 4ms/step - loss: 0.0068 - accuracy: 0.9977 - val_loss: 0.4232 - val_accuracy: 0.9573\n",
      "Epoch 2/150\n",
      "1500/1500 [==============================] - 6s 4ms/step - loss: 0.0087 - accuracy: 0.9969 - val_loss: 0.4349 - val_accuracy: 0.9562\n",
      "Epoch 3/150\n",
      "1500/1500 [==============================] - 6s 4ms/step - loss: 0.0083 - accuracy: 0.9972 - val_loss: 0.4467 - val_accuracy: 0.9545\n",
      "Epoch 4/150\n",
      "1500/1500 [==============================] - 6s 4ms/step - loss: 0.0067 - accuracy: 0.9978 - val_loss: 0.4497 - val_accuracy: 0.9530\n",
      "Epoch 5/150\n",
      "1500/1500 [==============================] - 6s 4ms/step - loss: 0.0060 - accuracy: 0.9981 - val_loss: 0.4636 - val_accuracy: 0.9549\n",
      "Epoch 6/150\n",
      "1500/1500 [==============================] - 6s 4ms/step - loss: 0.0077 - accuracy: 0.9973 - val_loss: 0.4438 - val_accuracy: 0.9574\n",
      "Epoch 7/150\n",
      "1500/1500 [==============================] - 6s 4ms/step - loss: 0.0081 - accuracy: 0.9973 - val_loss: 0.4498 - val_accuracy: 0.9541\n",
      "Epoch 8/150\n",
      "1500/1500 [==============================] - 6s 4ms/step - loss: 0.0043 - accuracy: 0.9987 - val_loss: 0.4538 - val_accuracy: 0.9560\n",
      "Epoch 9/150\n",
      "1500/1500 [==============================] - 6s 4ms/step - loss: 0.0072 - accuracy: 0.9972 - val_loss: 0.4838 - val_accuracy: 0.9548\n",
      "Epoch 10/150\n",
      "1500/1500 [==============================] - 6s 4ms/step - loss: 0.0073 - accuracy: 0.9976 - val_loss: 0.4486 - val_accuracy: 0.9573\n",
      "Epoch 11/150\n",
      "1500/1500 [==============================] - 6s 4ms/step - loss: 0.0046 - accuracy: 0.9985 - val_loss: 0.4668 - val_accuracy: 0.9571\n",
      "Epoch 11: early stopping\n"
     ]
    }
   ],
   "source": [
    "es = EarlyStopping(monitor = 'val_loss', min_delta = 0.001, patience = 10, verbose = 1, mode = 'auto')\n",
    "\n",
    "# Setamos os pesos iniciais iguais à versão antes do treinamento pra ter um comparativo mais real.\n",
    "#rede_simples.set_weights(pesos_iniciais)\n",
    "\n",
    "historico = rede_simples.fit(x_treino, \n",
    "                             y_treino, \n",
    "                             epochs = 150, \n",
    "                             verbose = 1,\n",
    "                             validation_data = (x_val, y_val),\n",
    "                             callbacks = [es])"
   ]
  },
  {
   "cell_type": "code",
   "execution_count": 19,
   "metadata": {},
   "outputs": [
    {
     "data": {
      "image/png": "[encoded data removed]",
      "text/plain": [
       "<Figure size 640x480 with 1 Axes>"
      ]
     },
     "metadata": {},
     "output_type": "display_data"
    }
   ],
   "source": [
    "loss = historico.history['loss']\n",
    "val_loss = historico.history['val_loss']\n",
    "epochs = range(len(loss))\n",
    "plt.figure()\n",
    "plt.plot(epochs, loss, 'bo', label = 'Training loss')\n",
    "plt.plot(epochs, val_loss, 'b', label = 'Validation loss')\n",
    "plt.title('Training and validation loss')\n",
    "plt.legend()\n",
    "plt.show()"
   ]
  },
  {
   "cell_type": "code",
   "execution_count": 20,
   "metadata": {},
   "outputs": [
    {
     "name": "stdout",
     "output_type": "stream",
     "text": [
      "313/313 [==============================] - 1s 2ms/step\n"
     ]
    },
    {
     "data": {
      "text/plain": [
       "0.9596"
      ]
     },
     "execution_count": 20,
     "metadata": {},
     "output_type": "execute_result"
    }
   ],
   "source": [
    "from sklearn.metrics import confusion_matrix\n",
    "from sklearn.metrics import accuracy_score\n",
    "\n",
    "pred_es = rede_simples.predict(x_test)\n",
    "\n",
    "accuracy_score(y_test.argmax(1), pred_es.argmax(1))"
   ]
  },
  {
   "cell_type": "code",
   "execution_count": 21,
   "metadata": {},
   "outputs": [
    {
     "data": {
      "text/plain": [
       "array([[ 965,    0,    2,    2,    0,    0,    6,    1,    2,    2],\n",
       "       [   0, 1113,    3,    2,    2,    0,    3,    3,    9,    0],\n",
       "       [   3,    4,  970,   10,    7,    1,    4,   12,   19,    2],\n",
       "       [   1,    2,    5,  961,    1,   15,    0,    8,   10,    7],\n",
       "       [   1,    0,    3,    0,  949,    0,    4,    2,    1,   22],\n",
       "       [   5,    0,    0,   23,    1,  828,   14,    3,   13,    5],\n",
       "       [   3,    2,    1,    1,    8,    8,  933,    0,    1,    1],\n",
       "       [   2,    5,   10,    3,    6,    0,    0,  979,    8,   15],\n",
       "       [   8,    2,    1,   12,    6,    3,    2,    3,  927,   10],\n",
       "       [   2,    2,    1,    6,   15,    2,    0,    7,    3,  971]])"
      ]
     },
     "execution_count": 21,
     "metadata": {},
     "output_type": "execute_result"
    }
   ],
   "source": [
    "confusion_matrix(y_test.argmax(1), pred_es.argmax(1))"
   ]
  },
  {
   "cell_type": "markdown",
   "metadata": {},
   "source": [
    "### Regularização - Dropout\n",
    "\n",
    "* Alterna quais neurônios vão otimizar os pesos a cada rodada do treinamento"
   ]
  },
  {
   "cell_type": "code",
   "execution_count": 22,
   "metadata": {},
   "outputs": [],
   "source": [
    "rede_dropout = Sequential()\n",
    "rede_dropout.add(Conv2D(filters=1,kernel_size=3,activation='relu',input_shape=[28,28,1]))\n",
    "rede_dropout.add(Dropout(0.3))\n",
    "rede_dropout.add(MaxPool2D(pool_size=(2,2)))\n",
    "rede_dropout.add(Flatten())\n",
    "rede_dropout.add(Dense(25,activation='relu'))\n",
    "rede_dropout.add(Dropout(0.3))\n",
    "rede_dropout.add(Dense(10,activation='softmax'))\n",
    "\n",
    "rede_dropout.compile(loss = 'categorical_crossentropy', optimizer = 'Adam', metrics=['accuracy'])\n"
   ]
  },
  {
   "cell_type": "code",
   "execution_count": 23,
   "metadata": {},
   "outputs": [
    {
     "name": "stdout",
     "output_type": "stream",
     "text": [
      "Epoch 1/150\n",
      "1500/1500 [==============================] - 8s 5ms/step - loss: 0.7437 - accuracy: 0.7596 - val_loss: 0.3507 - val_accuracy: 0.9137\n",
      "Epoch 2/150\n",
      "1500/1500 [==============================] - 7s 5ms/step - loss: 0.4631 - accuracy: 0.8543 - val_loss: 0.3035 - val_accuracy: 0.9207\n",
      "Epoch 3/150\n",
      "1500/1500 [==============================] - 7s 5ms/step - loss: 0.4184 - accuracy: 0.8685 - val_loss: 0.2817 - val_accuracy: 0.9283\n",
      "Epoch 4/150\n",
      "1500/1500 [==============================] - 7s 5ms/step - loss: 0.4040 - accuracy: 0.8726 - val_loss: 0.2745 - val_accuracy: 0.9314\n",
      "Epoch 5/150\n",
      "1500/1500 [==============================] - 7s 5ms/step - loss: 0.3874 - accuracy: 0.8769 - val_loss: 0.2489 - val_accuracy: 0.9342\n",
      "Epoch 6/150\n",
      "1500/1500 [==============================] - 7s 5ms/step - loss: 0.3751 - accuracy: 0.8805 - val_loss: 0.2393 - val_accuracy: 0.9358\n",
      "Epoch 7/150\n",
      "1500/1500 [==============================] - 7s 5ms/step - loss: 0.3658 - accuracy: 0.8845 - val_loss: 0.2369 - val_accuracy: 0.9377\n",
      "Epoch 8/150\n",
      "1500/1500 [==============================] - 7s 5ms/step - loss: 0.3589 - accuracy: 0.8855 - val_loss: 0.2312 - val_accuracy: 0.9403\n",
      "Epoch 9/150\n",
      "1500/1500 [==============================] - 7s 5ms/step - loss: 0.3567 - accuracy: 0.8877 - val_loss: 0.2301 - val_accuracy: 0.9389\n",
      "Epoch 10/150\n",
      "1500/1500 [==============================] - 7s 5ms/step - loss: 0.3484 - accuracy: 0.8892 - val_loss: 0.2333 - val_accuracy: 0.9390\n",
      "Epoch 11/150\n",
      "1500/1500 [==============================] - 8s 5ms/step - loss: 0.3477 - accuracy: 0.8897 - val_loss: 0.2276 - val_accuracy: 0.9409\n",
      "Epoch 12/150\n",
      "1500/1500 [==============================] - 8s 5ms/step - loss: 0.3456 - accuracy: 0.8896 - val_loss: 0.2258 - val_accuracy: 0.9400\n",
      "Epoch 13/150\n",
      "1500/1500 [==============================] - 7s 5ms/step - loss: 0.3425 - accuracy: 0.8918 - val_loss: 0.2199 - val_accuracy: 0.9402\n",
      "Epoch 14/150\n",
      "1500/1500 [==============================] - 7s 5ms/step - loss: 0.3431 - accuracy: 0.8913 - val_loss: 0.2176 - val_accuracy: 0.9415\n",
      "Epoch 15/150\n",
      "1500/1500 [==============================] - 7s 5ms/step - loss: 0.3372 - accuracy: 0.8927 - val_loss: 0.2192 - val_accuracy: 0.9375\n",
      "Epoch 16/150\n",
      "1500/1500 [==============================] - 7s 5ms/step - loss: 0.3378 - accuracy: 0.8925 - val_loss: 0.2078 - val_accuracy: 0.9417\n",
      "Epoch 17/150\n",
      "1500/1500 [==============================] - 7s 5ms/step - loss: 0.3349 - accuracy: 0.8948 - val_loss: 0.2228 - val_accuracy: 0.9411\n",
      "Epoch 18/150\n",
      "1500/1500 [==============================] - 7s 5ms/step - loss: 0.3318 - accuracy: 0.8964 - val_loss: 0.2235 - val_accuracy: 0.9425\n",
      "Epoch 19/150\n",
      "1500/1500 [==============================] - 7s 5ms/step - loss: 0.3276 - accuracy: 0.8965 - val_loss: 0.2238 - val_accuracy: 0.9377\n",
      "Epoch 20/150\n",
      "1500/1500 [==============================] - 7s 5ms/step - loss: 0.3350 - accuracy: 0.8940 - val_loss: 0.2120 - val_accuracy: 0.9402\n",
      "Epoch 21/150\n",
      "1500/1500 [==============================] - 7s 5ms/step - loss: 0.3267 - accuracy: 0.8961 - val_loss: 0.2116 - val_accuracy: 0.9404\n",
      "Epoch 22/150\n",
      "1500/1500 [==============================] - 7s 5ms/step - loss: 0.3287 - accuracy: 0.8955 - val_loss: 0.2164 - val_accuracy: 0.9420\n",
      "Epoch 23/150\n",
      "1500/1500 [==============================] - 8s 5ms/step - loss: 0.3297 - accuracy: 0.8936 - val_loss: 0.2061 - val_accuracy: 0.9422\n",
      "Epoch 24/150\n",
      "1500/1500 [==============================] - 7s 5ms/step - loss: 0.3280 - accuracy: 0.8960 - val_loss: 0.2009 - val_accuracy: 0.9457\n",
      "Epoch 25/150\n",
      "1500/1500 [==============================] - 7s 5ms/step - loss: 0.3240 - accuracy: 0.8970 - val_loss: 0.2104 - val_accuracy: 0.9427\n",
      "Epoch 26/150\n",
      "1500/1500 [==============================] - 7s 5ms/step - loss: 0.3251 - accuracy: 0.8968 - val_loss: 0.2106 - val_accuracy: 0.9395\n",
      "Epoch 27/150\n",
      "1500/1500 [==============================] - 8s 5ms/step - loss: 0.3239 - accuracy: 0.8985 - val_loss: 0.2321 - val_accuracy: 0.9369\n",
      "Epoch 28/150\n",
      "1500/1500 [==============================] - 7s 5ms/step - loss: 0.3222 - accuracy: 0.8966 - val_loss: 0.2071 - val_accuracy: 0.9414\n",
      "Epoch 29/150\n",
      "1500/1500 [==============================] - 7s 5ms/step - loss: 0.3226 - accuracy: 0.8981 - val_loss: 0.2044 - val_accuracy: 0.9442\n",
      "Epoch 30/150\n",
      "1500/1500 [==============================] - 7s 5ms/step - loss: 0.3205 - accuracy: 0.8991 - val_loss: 0.2018 - val_accuracy: 0.9431\n",
      "Epoch 31/150\n",
      "1500/1500 [==============================] - 7s 5ms/step - loss: 0.3191 - accuracy: 0.8976 - val_loss: 0.2016 - val_accuracy: 0.9429\n",
      "Epoch 32/150\n",
      "1500/1500 [==============================] - 7s 5ms/step - loss: 0.3211 - accuracy: 0.8987 - val_loss: 0.2055 - val_accuracy: 0.9431\n",
      "Epoch 33/150\n",
      "1500/1500 [==============================] - 7s 5ms/step - loss: 0.3170 - accuracy: 0.8998 - val_loss: 0.2029 - val_accuracy: 0.9417\n",
      "Epoch 34/150\n",
      "1500/1500 [==============================] - 7s 5ms/step - loss: 0.3181 - accuracy: 0.8980 - val_loss: 0.2048 - val_accuracy: 0.9437\n",
      "Epoch 34: early stopping\n"
     ]
    }
   ],
   "source": [
    "historico = rede_dropout.fit(x_treino, \n",
    "                             y_treino, \n",
    "                             epochs = 150, \n",
    "                             verbose = 1,\n",
    "                             validation_data = (x_val, y_val),\n",
    "                             callbacks = [es])"
   ]
  },
  {
   "cell_type": "code",
   "execution_count": 24,
   "metadata": {},
   "outputs": [
    {
     "data": {
      "image/png": "[encoded data removed]",
      "text/plain": [
       "<Figure size 640x480 with 1 Axes>"
      ]
     },
     "metadata": {},
     "output_type": "display_data"
    }
   ],
   "source": [
    "loss = historico.history['loss']\n",
    "val_loss = historico.history['val_loss']\n",
    "epochs = range(len(loss))\n",
    "plt.figure()\n",
    "plt.plot(epochs, loss, 'bo', label = 'Training loss')\n",
    "plt.plot(epochs, val_loss, 'b', label = 'Validation loss')\n",
    "plt.title('Training and validation loss')\n",
    "plt.legend()\n",
    "plt.show()"
   ]
  },
  {
   "cell_type": "code",
   "execution_count": 25,
   "metadata": {},
   "outputs": [
    {
     "name": "stdout",
     "output_type": "stream",
     "text": [
      "313/313 [==============================] - 1s 2ms/step\n"
     ]
    },
    {
     "data": {
      "text/plain": [
       "0.951"
      ]
     },
     "execution_count": 25,
     "metadata": {},
     "output_type": "execute_result"
    }
   ],
   "source": [
    "pred_dropout = rede_dropout.predict(x_test)\n",
    "\n",
    "accuracy_score(y_test.argmax(1), pred_dropout.argmax(1))"
   ]
  },
  {
   "cell_type": "code",
   "execution_count": 26,
   "metadata": {},
   "outputs": [
    {
     "data": {
      "text/plain": [
       "array([[ 965,    0,    1,    1,    0,    2,    7,    2,    2,    0],\n",
       "       [   0, 1116,    2,    2,    0,    1,    3,    0,   11,    0],\n",
       "       [   6,    5,  975,    6,   11,    1,    5,    6,   17,    0],\n",
       "       [   3,    1,    6,  948,    2,   13,    0,   11,   24,    2],\n",
       "       [   1,    3,    2,    0,  948,    0,   11,    2,    1,   14],\n",
       "       [  11,    0,    1,   15,    7,  812,   10,    3,   28,    5],\n",
       "       [   7,    3,    0,    0,    5,    5,  935,    0,    3,    0],\n",
       "       [   2,   10,   13,    5,    7,    0,    0,  966,    1,   24],\n",
       "       [  15,    7,    4,    5,    7,    5,    8,    5,  912,    6],\n",
       "       [   9,    5,    1,    7,   30,   10,    0,    7,    7,  933]])"
      ]
     },
     "execution_count": 26,
     "metadata": {},
     "output_type": "execute_result"
    }
   ],
   "source": [
    "confusion_matrix(y_test.argmax(1), pred_dropout.argmax(1))"
   ]
  },
  {
   "cell_type": "markdown",
   "metadata": {},
   "source": [
    "# Regressão"
   ]
  },
  {
   "cell_type": "code",
   "execution_count": 27,
   "metadata": {},
   "outputs": [],
   "source": [
    "(x_train, y_train), (x_test, y_test) = tf.keras.datasets.boston_housing.load_data()"
   ]
  },
  {
   "cell_type": "code",
   "execution_count": 28,
   "metadata": {},
   "outputs": [],
   "source": [
    "mean = x_train.mean(axis=0)\n",
    "x_train -= mean\n",
    "std = x_train.std(axis=0)\n",
    "x_train /= std\n",
    "\n",
    "x_test -= mean\n",
    "x_test /= std"
   ]
  },
  {
   "cell_type": "code",
   "execution_count": 29,
   "metadata": {},
   "outputs": [
    {
     "data": {
      "text/plain": [
       "((323, 13), (81, 13), (102, 13), (323,), (81,), (102,))"
      ]
     },
     "execution_count": 29,
     "metadata": {},
     "output_type": "execute_result"
    }
   ],
   "source": [
    "from sklearn.model_selection import train_test_split\n",
    "\n",
    "x_treino, x_val, y_treino, y_val = train_test_split(x_train, y_train, test_size = 0.2, random_state = 13)\n",
    "\n",
    "x_treino.shape, x_val.shape, x_test.shape, y_treino.shape, y_val.shape, y_test.shape, "
   ]
  },
  {
   "cell_type": "code",
   "execution_count": 30,
   "metadata": {},
   "outputs": [],
   "source": [
    "model = Sequential()\n",
    "model.add(Conv1D(3,1, activation='relu', input_shape=(len(x_train[1]),1)))\n",
    "model.add(Dense(64, activation='relu'))\n",
    "model.add(Dense(1))\n",
    "\n",
    "model.compile(optimizer='rmsprop',\n",
    "              loss='mse',\n",
    "              metrics=['mae'])"
   ]
  },
  {
   "cell_type": "code",
   "execution_count": 31,
   "metadata": {},
   "outputs": [
    {
     "name": "stdout",
     "output_type": "stream",
     "text": [
      "Model: \"sequential_2\"\n",
      "_________________________________________________________________\n",
      " Layer (type)                Output Shape              Param #   \n",
      "=================================================================\n",
      " conv1d (Conv1D)             (None, 13, 3)             6         \n",
      "                                                                 \n",
      " dense_4 (Dense)             (None, 13, 64)            256       \n",
      "                                                                 \n",
      " dense_5 (Dense)             (None, 13, 1)             65        \n",
      "                                                                 \n",
      "=================================================================\n",
      "Total params: 327 (1.28 KB)\n",
      "Trainable params: 327 (1.28 KB)\n",
      "Non-trainable params: 0 (0.00 Byte)\n",
      "_________________________________________________________________\n"
     ]
    }
   ],
   "source": [
    "model.summary()"
   ]
  },
  {
   "cell_type": "code",
   "execution_count": 32,
   "metadata": {},
   "outputs": [],
   "source": [
    "x_treino = np.expand_dims(x_treino,axis=1)"
   ]
  },
  {
   "cell_type": "code",
   "execution_count": 33,
   "metadata": {},
   "outputs": [],
   "source": [
    "x_train = np.expand_dims(x_train,axis=-1)"
   ]
  },
  {
   "cell_type": "code",
   "execution_count": 34,
   "metadata": {},
   "outputs": [],
   "source": [
    "valid = (x_val,y_val)"
   ]
  },
  {
   "cell_type": "code",
   "execution_count": 35,
   "metadata": {},
   "outputs": [
    {
     "name": "stdout",
     "output_type": "stream",
     "text": [
      "Epoch 1/150\n"
     ]
    },
    {
     "name": "stdout",
     "output_type": "stream",
     "text": [
      "6/6 [==============================] - 1s 35ms/step - loss: 562.8471 - mae: 21.8769 - val_loss: 631.0889 - val_mae: 23.3740\n",
      "Epoch 2/150\n",
      "6/6 [==============================] - 0s 6ms/step - loss: 557.6104 - mae: 21.7556 - val_loss: 626.1984 - val_mae: 23.2674\n",
      "Epoch 3/150\n",
      "6/6 [==============================] - 0s 6ms/step - loss: 553.0422 - mae: 21.6493 - val_loss: 622.0339 - val_mae: 23.1762\n",
      "Epoch 4/150\n",
      "6/6 [==============================] - 0s 6ms/step - loss: 548.9990 - mae: 21.5537 - val_loss: 617.7330 - val_mae: 23.0814\n",
      "Epoch 5/150\n",
      "6/6 [==============================] - 0s 6ms/step - loss: 544.8366 - mae: 21.4559 - val_loss: 613.2219 - val_mae: 22.9813\n",
      "Epoch 6/150\n",
      "6/6 [==============================] - 0s 6ms/step - loss: 540.4218 - mae: 21.3515 - val_loss: 608.5209 - val_mae: 22.8764\n",
      "Epoch 7/150\n",
      "6/6 [==============================] - 0s 6ms/step - loss: 535.8856 - mae: 21.2428 - val_loss: 604.1276 - val_mae: 22.7777\n",
      "Epoch 8/150\n",
      "6/6 [==============================] - 0s 6ms/step - loss: 531.6008 - mae: 21.1395 - val_loss: 599.5788 - val_mae: 22.6748\n",
      "Epoch 9/150\n",
      "6/6 [==============================] - 0s 6ms/step - loss: 527.1223 - mae: 21.0299 - val_loss: 594.5412 - val_mae: 22.5601\n",
      "Epoch 10/150\n",
      "6/6 [==============================] - 0s 6ms/step - loss: 522.2302 - mae: 20.9101 - val_loss: 589.2061 - val_mae: 22.4380\n",
      "Epoch 11/150\n",
      "6/6 [==============================] - 0s 6ms/step - loss: 517.0410 - mae: 20.7837 - val_loss: 583.5490 - val_mae: 22.3075\n",
      "Epoch 12/150\n",
      "6/6 [==============================] - 0s 6ms/step - loss: 511.6672 - mae: 20.6495 - val_loss: 577.9744 - val_mae: 22.1779\n",
      "Epoch 13/150\n",
      "6/6 [==============================] - 0s 6ms/step - loss: 506.3259 - mae: 20.5159 - val_loss: 572.1665 - val_mae: 22.0421\n",
      "Epoch 14/150\n",
      "6/6 [==============================] - 0s 6ms/step - loss: 500.7934 - mae: 20.3742 - val_loss: 566.7899 - val_mae: 21.9152\n",
      "Epoch 15/150\n",
      "6/6 [==============================] - 0s 6ms/step - loss: 495.4730 - mae: 20.2391 - val_loss: 560.9396 - val_mae: 21.7763\n",
      "Epoch 16/150\n",
      "6/6 [==============================] - 0s 6ms/step - loss: 489.7640 - mae: 20.0937 - val_loss: 554.8568 - val_mae: 21.6302\n",
      "Epoch 17/150\n",
      "6/6 [==============================] - 0s 6ms/step - loss: 484.0619 - mae: 19.9402 - val_loss: 548.1503 - val_mae: 21.4679\n",
      "Epoch 18/150\n",
      "6/6 [==============================] - 0s 6ms/step - loss: 477.5556 - mae: 19.7736 - val_loss: 541.2249 - val_mae: 21.2987\n",
      "Epoch 19/150\n",
      "6/6 [==============================] - 0s 6ms/step - loss: 470.8915 - mae: 19.5985 - val_loss: 534.8556 - val_mae: 21.1411\n",
      "Epoch 20/150\n",
      "6/6 [==============================] - 0s 6ms/step - loss: 464.6772 - mae: 19.4344 - val_loss: 528.1065 - val_mae: 20.9727\n",
      "Epoch 21/150\n",
      "6/6 [==============================] - 0s 6ms/step - loss: 458.2275 - mae: 19.2590 - val_loss: 520.6978 - val_mae: 20.7862\n",
      "Epoch 22/150\n",
      "6/6 [==============================] - 0s 6ms/step - loss: 451.1265 - mae: 19.0661 - val_loss: 513.0298 - val_mae: 20.5908\n",
      "Epoch 23/150\n",
      "6/6 [==============================] - 0s 6ms/step - loss: 443.7804 - mae: 18.8674 - val_loss: 505.3007 - val_mae: 20.3928\n",
      "Epoch 24/150\n",
      "6/6 [==============================] - 0s 6ms/step - loss: 436.4891 - mae: 18.6623 - val_loss: 497.8421 - val_mae: 20.1999\n",
      "Epoch 25/150\n",
      "6/6 [==============================] - 0s 6ms/step - loss: 429.4136 - mae: 18.4641 - val_loss: 489.5849 - val_mae: 19.9831\n",
      "Epoch 26/150\n",
      "6/6 [==============================] - 0s 6ms/step - loss: 421.7124 - mae: 18.2456 - val_loss: 481.7496 - val_mae: 19.7757\n",
      "Epoch 27/150\n",
      "6/6 [==============================] - 0s 6ms/step - loss: 414.2282 - mae: 18.0305 - val_loss: 474.3599 - val_mae: 19.5786\n",
      "Epoch 28/150\n",
      "6/6 [==============================] - 0s 6ms/step - loss: 407.3294 - mae: 17.8293 - val_loss: 465.9665 - val_mae: 19.3530\n",
      "Epoch 29/150\n",
      "6/6 [==============================] - 0s 6ms/step - loss: 399.6589 - mae: 17.6072 - val_loss: 457.5750 - val_mae: 19.1256\n",
      "Epoch 30/150\n",
      "6/6 [==============================] - 0s 6ms/step - loss: 391.7523 - mae: 17.3768 - val_loss: 449.2944 - val_mae: 18.8992\n",
      "Epoch 31/150\n",
      "6/6 [==============================] - 0s 6ms/step - loss: 383.8658 - mae: 17.1383 - val_loss: 441.1299 - val_mae: 18.6739\n",
      "Epoch 32/150\n",
      "6/6 [==============================] - 0s 5ms/step - loss: 376.6764 - mae: 16.9119 - val_loss: 432.1155 - val_mae: 18.4230\n",
      "Epoch 33/150\n",
      "6/6 [==============================] - 0s 6ms/step - loss: 368.1812 - mae: 16.6591 - val_loss: 423.3259 - val_mae: 18.1765\n",
      "Epoch 34/150\n",
      "6/6 [==============================] - 0s 6ms/step - loss: 360.3474 - mae: 16.4192 - val_loss: 414.1386 - val_mae: 17.9166\n",
      "Epoch 35/150\n",
      "6/6 [==============================] - 0s 6ms/step - loss: 351.9823 - mae: 16.1673 - val_loss: 405.9856 - val_mae: 17.6833\n",
      "Epoch 36/150\n",
      "6/6 [==============================] - 0s 6ms/step - loss: 344.5053 - mae: 15.9314 - val_loss: 397.7739 - val_mae: 17.4464\n",
      "Epoch 37/150\n",
      "6/6 [==============================] - 0s 6ms/step - loss: 336.9887 - mae: 15.6958 - val_loss: 388.6251 - val_mae: 17.1800\n",
      "Epoch 38/150\n",
      "6/6 [==============================] - 0s 6ms/step - loss: 329.2029 - mae: 15.4394 - val_loss: 379.9696 - val_mae: 16.9264\n",
      "Epoch 39/150\n",
      "6/6 [==============================] - 0s 6ms/step - loss: 321.3380 - mae: 15.1962 - val_loss: 371.5988 - val_mae: 16.6775\n",
      "Epoch 40/150\n",
      "6/6 [==============================] - 0s 6ms/step - loss: 313.7589 - mae: 14.9585 - val_loss: 363.8657 - val_mae: 16.4448\n",
      "Epoch 41/150\n",
      "6/6 [==============================] - 0s 6ms/step - loss: 307.1879 - mae: 14.7248 - val_loss: 355.5341 - val_mae: 16.1903\n",
      "Epoch 42/150\n",
      "6/6 [==============================] - 0s 6ms/step - loss: 299.1976 - mae: 14.4730 - val_loss: 347.5568 - val_mae: 15.9450\n",
      "Epoch 43/150\n",
      "6/6 [==============================] - 0s 6ms/step - loss: 292.3999 - mae: 14.2507 - val_loss: 338.8513 - val_mae: 15.6748\n",
      "Epoch 44/150\n",
      "6/6 [==============================] - 0s 6ms/step - loss: 285.3852 - mae: 14.0038 - val_loss: 330.9573 - val_mae: 15.4295\n",
      "Epoch 45/150\n",
      "6/6 [==============================] - 0s 6ms/step - loss: 278.7401 - mae: 13.7854 - val_loss: 322.6271 - val_mae: 15.1676\n",
      "Epoch 46/150\n",
      "6/6 [==============================] - 0s 6ms/step - loss: 271.7846 - mae: 13.5577 - val_loss: 314.6640 - val_mae: 14.9176\n",
      "Epoch 47/150\n",
      "6/6 [==============================] - 0s 6ms/step - loss: 265.4174 - mae: 13.3328 - val_loss: 307.4075 - val_mae: 14.6862\n",
      "Epoch 48/150\n",
      "6/6 [==============================] - 0s 6ms/step - loss: 258.9625 - mae: 13.0968 - val_loss: 299.5680 - val_mae: 14.4321\n",
      "Epoch 49/150\n",
      "6/6 [==============================] - 0s 6ms/step - loss: 252.3549 - mae: 12.8807 - val_loss: 291.2776 - val_mae: 14.1605\n",
      "Epoch 50/150\n",
      "6/6 [==============================] - 0s 6ms/step - loss: 245.5327 - mae: 12.6475 - val_loss: 286.3193 - val_mae: 14.0011\n",
      "Epoch 51/150\n",
      "6/6 [==============================] - 0s 6ms/step - loss: 241.6663 - mae: 12.5022 - val_loss: 281.2303 - val_mae: 13.8356\n",
      "Epoch 52/150\n",
      "6/6 [==============================] - 0s 6ms/step - loss: 236.8776 - mae: 12.3348 - val_loss: 274.2198 - val_mae: 13.6009\n",
      "Epoch 53/150\n",
      "6/6 [==============================] - 0s 6ms/step - loss: 231.7767 - mae: 12.1408 - val_loss: 267.9362 - val_mae: 13.3896\n",
      "Epoch 54/150\n",
      "6/6 [==============================] - 0s 6ms/step - loss: 225.8810 - mae: 11.9607 - val_loss: 261.3468 - val_mae: 13.1655\n",
      "Epoch 55/150\n",
      "6/6 [==============================] - 0s 6ms/step - loss: 220.6847 - mae: 11.7459 - val_loss: 254.6006 - val_mae: 12.9332\n",
      "Epoch 56/150\n",
      "6/6 [==============================] - 0s 6ms/step - loss: 215.3954 - mae: 11.5587 - val_loss: 248.5002 - val_mae: 12.7220\n",
      "Epoch 57/150\n",
      "6/6 [==============================] - 0s 6ms/step - loss: 210.0526 - mae: 11.3569 - val_loss: 241.6803 - val_mae: 12.4806\n",
      "Epoch 58/150\n",
      "6/6 [==============================] - 0s 6ms/step - loss: 204.3495 - mae: 11.1510 - val_loss: 234.8407 - val_mae: 12.2384\n",
      "Epoch 59/150\n",
      "6/6 [==============================] - 0s 6ms/step - loss: 198.9858 - mae: 10.9489 - val_loss: 227.4404 - val_mae: 11.9681\n",
      "Epoch 60/150\n",
      "6/6 [==============================] - 0s 6ms/step - loss: 193.1256 - mae: 10.7274 - val_loss: 222.3204 - val_mae: 11.7825\n",
      "Epoch 61/150\n",
      "6/6 [==============================] - 0s 6ms/step - loss: 188.8213 - mae: 10.5646 - val_loss: 217.7218 - val_mae: 11.6153\n",
      "Epoch 62/150\n",
      "6/6 [==============================] - 0s 6ms/step - loss: 184.3201 - mae: 10.4050 - val_loss: 211.1354 - val_mae: 11.3660\n",
      "Epoch 63/150\n",
      "6/6 [==============================] - 0s 5ms/step - loss: 179.8212 - mae: 10.2104 - val_loss: 205.8433 - val_mae: 11.1663\n",
      "Epoch 64/150\n",
      "6/6 [==============================] - 0s 6ms/step - loss: 175.7637 - mae: 10.0502 - val_loss: 201.7629 - val_mae: 11.0152\n",
      "Epoch 65/150\n",
      "6/6 [==============================] - 0s 6ms/step - loss: 171.7108 - mae: 9.9077 - val_loss: 195.9571 - val_mae: 10.7906\n",
      "Epoch 66/150\n",
      "6/6 [==============================] - 0s 6ms/step - loss: 168.1732 - mae: 9.7677 - val_loss: 190.8400 - val_mae: 10.5914\n",
      "Epoch 67/150\n",
      "6/6 [==============================] - 0s 6ms/step - loss: 163.6426 - mae: 9.5781 - val_loss: 185.4698 - val_mae: 10.3813\n",
      "Epoch 68/150\n",
      "6/6 [==============================] - 0s 6ms/step - loss: 158.7770 - mae: 9.3867 - val_loss: 180.9010 - val_mae: 10.2034\n",
      "Epoch 69/150\n",
      "6/6 [==============================] - 0s 6ms/step - loss: 154.7973 - mae: 9.2368 - val_loss: 175.0700 - val_mae: 9.9714\n",
      "Epoch 70/150\n",
      "6/6 [==============================] - 0s 6ms/step - loss: 151.4750 - mae: 9.0973 - val_loss: 171.6066 - val_mae: 9.8375\n",
      "Epoch 71/150\n",
      "6/6 [==============================] - 0s 6ms/step - loss: 147.5164 - mae: 8.9439 - val_loss: 167.2330 - val_mae: 9.6625\n",
      "Epoch 72/150\n",
      "6/6 [==============================] - 0s 6ms/step - loss: 144.2032 - mae: 8.8171 - val_loss: 164.3310 - val_mae: 9.5492\n",
      "Epoch 73/150\n",
      "6/6 [==============================] - 0s 6ms/step - loss: 142.1198 - mae: 8.7265 - val_loss: 160.0116 - val_mae: 9.3749\n",
      "Epoch 74/150\n",
      "6/6 [==============================] - 0s 6ms/step - loss: 138.5801 - mae: 8.5756 - val_loss: 155.8420 - val_mae: 9.2064\n",
      "Epoch 75/150\n",
      "6/6 [==============================] - 0s 6ms/step - loss: 135.9192 - mae: 8.4736 - val_loss: 151.6101 - val_mae: 9.0358\n",
      "Epoch 76/150\n",
      "6/6 [==============================] - 0s 6ms/step - loss: 132.1703 - mae: 8.3430 - val_loss: 146.2258 - val_mae: 8.8175\n",
      "Epoch 77/150\n",
      "6/6 [==============================] - 0s 6ms/step - loss: 128.9691 - mae: 8.2020 - val_loss: 143.8725 - val_mae: 8.7250\n",
      "Epoch 78/150\n",
      "6/6 [==============================] - 0s 6ms/step - loss: 127.1029 - mae: 8.1286 - val_loss: 141.8745 - val_mae: 8.6451\n",
      "Epoch 79/150\n",
      "6/6 [==============================] - 0s 6ms/step - loss: 124.9736 - mae: 8.0604 - val_loss: 138.2494 - val_mae: 8.4958\n",
      "Epoch 80/150\n",
      "6/6 [==============================] - 0s 6ms/step - loss: 122.2925 - mae: 7.9543 - val_loss: 134.1946 - val_mae: 8.3297\n",
      "Epoch 81/150\n",
      "6/6 [==============================] - 0s 6ms/step - loss: 120.2758 - mae: 7.8687 - val_loss: 130.3362 - val_mae: 8.1693\n",
      "Epoch 82/150\n",
      "6/6 [==============================] - 0s 6ms/step - loss: 117.9914 - mae: 7.7878 - val_loss: 128.6143 - val_mae: 8.0983\n",
      "Epoch 83/150\n",
      "6/6 [==============================] - 0s 6ms/step - loss: 116.5253 - mae: 7.7347 - val_loss: 126.8632 - val_mae: 8.0275\n",
      "Epoch 84/150\n",
      "6/6 [==============================] - 0s 6ms/step - loss: 115.2251 - mae: 7.6913 - val_loss: 123.6066 - val_mae: 7.8966\n",
      "Epoch 85/150\n",
      "6/6 [==============================] - 0s 6ms/step - loss: 112.9046 - mae: 7.6007 - val_loss: 122.7372 - val_mae: 7.8618\n",
      "Epoch 86/150\n",
      "6/6 [==============================] - 0s 6ms/step - loss: 112.4338 - mae: 7.5878 - val_loss: 122.2944 - val_mae: 7.8432\n",
      "Epoch 87/150\n",
      "6/6 [==============================] - 0s 6ms/step - loss: 111.0123 - mae: 7.5285 - val_loss: 120.6629 - val_mae: 7.7777\n",
      "Epoch 88/150\n",
      "6/6 [==============================] - 0s 6ms/step - loss: 110.1893 - mae: 7.4909 - val_loss: 118.5314 - val_mae: 7.6942\n",
      "Epoch 89/150\n",
      "6/6 [==============================] - 0s 6ms/step - loss: 108.9619 - mae: 7.4522 - val_loss: 115.8444 - val_mae: 7.5938\n",
      "Epoch 90/150\n",
      "6/6 [==============================] - 0s 6ms/step - loss: 107.7683 - mae: 7.4148 - val_loss: 115.3576 - val_mae: 7.5727\n",
      "Epoch 91/150\n",
      "6/6 [==============================] - 0s 6ms/step - loss: 107.0281 - mae: 7.3889 - val_loss: 113.7886 - val_mae: 7.5140\n",
      "Epoch 92/150\n",
      "6/6 [==============================] - 0s 6ms/step - loss: 105.7875 - mae: 7.3375 - val_loss: 112.7793 - val_mae: 7.4750\n",
      "Epoch 93/150\n",
      "6/6 [==============================] - 0s 6ms/step - loss: 105.6956 - mae: 7.3465 - val_loss: 112.6902 - val_mae: 7.4652\n",
      "Epoch 94/150\n",
      "6/6 [==============================] - 0s 6ms/step - loss: 104.8027 - mae: 7.3030 - val_loss: 111.9612 - val_mae: 7.4357\n",
      "Epoch 95/150\n",
      "6/6 [==============================] - 0s 6ms/step - loss: 104.0500 - mae: 7.2761 - val_loss: 111.4583 - val_mae: 7.4131\n",
      "Epoch 96/150\n",
      "6/6 [==============================] - 0s 6ms/step - loss: 103.4144 - mae: 7.2519 - val_loss: 111.3336 - val_mae: 7.4034\n",
      "Epoch 97/150\n",
      "6/6 [==============================] - 0s 6ms/step - loss: 103.0590 - mae: 7.2288 - val_loss: 110.5674 - val_mae: 7.3736\n",
      "Epoch 98/150\n",
      "6/6 [==============================] - 0s 6ms/step - loss: 102.4843 - mae: 7.2179 - val_loss: 108.9518 - val_mae: 7.3151\n",
      "Epoch 99/150\n",
      "6/6 [==============================] - 0s 6ms/step - loss: 101.7366 - mae: 7.1916 - val_loss: 107.7042 - val_mae: 7.2702\n",
      "Epoch 100/150\n",
      "6/6 [==============================] - 0s 8ms/step - loss: 100.9669 - mae: 7.1688 - val_loss: 107.4197 - val_mae: 7.2548\n",
      "Epoch 101/150\n",
      "6/6 [==============================] - 0s 6ms/step - loss: 100.7258 - mae: 7.1462 - val_loss: 106.5830 - val_mae: 7.2224\n",
      "Epoch 102/150\n",
      "6/6 [==============================] - 0s 6ms/step - loss: 100.0348 - mae: 7.1245 - val_loss: 105.7966 - val_mae: 7.1920\n",
      "Epoch 103/150\n",
      "6/6 [==============================] - 0s 6ms/step - loss: 99.1766 - mae: 7.1010 - val_loss: 103.7681 - val_mae: 7.1400\n",
      "Epoch 104/150\n",
      "6/6 [==============================] - 0s 6ms/step - loss: 98.8175 - mae: 7.1090 - val_loss: 102.9569 - val_mae: 7.1167\n",
      "Epoch 105/150\n",
      "6/6 [==============================] - 0s 6ms/step - loss: 98.0280 - mae: 7.0819 - val_loss: 102.8208 - val_mae: 7.1025\n",
      "Epoch 106/150\n",
      "6/6 [==============================] - 0s 6ms/step - loss: 97.7946 - mae: 7.0660 - val_loss: 101.3801 - val_mae: 7.0735\n",
      "Epoch 107/150\n",
      "6/6 [==============================] - 0s 6ms/step - loss: 97.6229 - mae: 7.0853 - val_loss: 101.3182 - val_mae: 7.0604\n",
      "Epoch 108/150\n",
      "6/6 [==============================] - 0s 6ms/step - loss: 97.0297 - mae: 7.0482 - val_loss: 101.8944 - val_mae: 7.0597\n",
      "Epoch 109/150\n",
      "6/6 [==============================] - 0s 6ms/step - loss: 96.7832 - mae: 7.0219 - val_loss: 101.5393 - val_mae: 7.0446\n",
      "Epoch 110/150\n",
      "6/6 [==============================] - 0s 6ms/step - loss: 96.5350 - mae: 7.0115 - val_loss: 100.7856 - val_mae: 7.0253\n",
      "Epoch 111/150\n",
      "6/6 [==============================] - 0s 6ms/step - loss: 96.0307 - mae: 7.0009 - val_loss: 99.7657 - val_mae: 7.0034\n",
      "Epoch 112/150\n",
      "6/6 [==============================] - 0s 6ms/step - loss: 95.6968 - mae: 7.0059 - val_loss: 98.8998 - val_mae: 6.9882\n",
      "Epoch 113/150\n",
      "6/6 [==============================] - 0s 6ms/step - loss: 95.1643 - mae: 7.0015 - val_loss: 99.2839 - val_mae: 6.9755\n",
      "Epoch 114/150\n",
      "6/6 [==============================] - 0s 6ms/step - loss: 95.0238 - mae: 6.9748 - val_loss: 99.8597 - val_mae: 6.9729\n",
      "Epoch 115/150\n",
      "6/6 [==============================] - 0s 6ms/step - loss: 94.4839 - mae: 6.9314 - val_loss: 99.1831 - val_mae: 6.9570\n",
      "Epoch 116/150\n",
      "6/6 [==============================] - 0s 6ms/step - loss: 94.3511 - mae: 6.9390 - val_loss: 99.3391 - val_mae: 6.9515\n",
      "Epoch 117/150\n",
      "6/6 [==============================] - 0s 6ms/step - loss: 94.0128 - mae: 6.9165 - val_loss: 99.6367 - val_mae: 6.9505\n",
      "Epoch 118/150\n",
      "6/6 [==============================] - 0s 6ms/step - loss: 93.9297 - mae: 6.9081 - val_loss: 98.5785 - val_mae: 6.9262\n",
      "Epoch 119/150\n",
      "6/6 [==============================] - 0s 6ms/step - loss: 93.3209 - mae: 6.8850 - val_loss: 97.0035 - val_mae: 6.9095\n",
      "Epoch 120/150\n",
      "6/6 [==============================] - 0s 6ms/step - loss: 93.2407 - mae: 6.9204 - val_loss: 96.9537 - val_mae: 6.9014\n",
      "Epoch 121/150\n",
      "6/6 [==============================] - 0s 6ms/step - loss: 93.0433 - mae: 6.9168 - val_loss: 96.3571 - val_mae: 6.8938\n",
      "Epoch 122/150\n",
      "6/6 [==============================] - 0s 6ms/step - loss: 92.8343 - mae: 6.9159 - val_loss: 96.8619 - val_mae: 6.8833\n",
      "Epoch 123/150\n",
      "6/6 [==============================] - 0s 6ms/step - loss: 92.5440 - mae: 6.8774 - val_loss: 96.4311 - val_mae: 6.8740\n",
      "Epoch 124/150\n",
      "6/6 [==============================] - 0s 6ms/step - loss: 92.1591 - mae: 6.8668 - val_loss: 95.2774 - val_mae: 6.8688\n",
      "Epoch 125/150\n",
      "6/6 [==============================] - 0s 6ms/step - loss: 92.3421 - mae: 6.9066 - val_loss: 96.0355 - val_mae: 6.8541\n",
      "Epoch 126/150\n",
      "6/6 [==============================] - 0s 6ms/step - loss: 91.8969 - mae: 6.8542 - val_loss: 96.1583 - val_mae: 6.8476\n",
      "Epoch 127/150\n",
      "6/6 [==============================] - 0s 6ms/step - loss: 91.7711 - mae: 6.8479 - val_loss: 95.4758 - val_mae: 6.8394\n",
      "Epoch 128/150\n",
      "6/6 [==============================] - 0s 6ms/step - loss: 91.2969 - mae: 6.8403 - val_loss: 94.3642 - val_mae: 6.8371\n",
      "Epoch 129/150\n",
      "6/6 [==============================] - 0s 6ms/step - loss: 91.2893 - mae: 6.8713 - val_loss: 93.5775 - val_mae: 6.8391\n",
      "Epoch 130/150\n",
      "6/6 [==============================] - 0s 6ms/step - loss: 91.2047 - mae: 6.8924 - val_loss: 93.4342 - val_mae: 6.8313\n",
      "Epoch 131/150\n",
      "6/6 [==============================] - 0s 6ms/step - loss: 91.1311 - mae: 6.8884 - val_loss: 94.1695 - val_mae: 6.8143\n",
      "Epoch 132/150\n",
      "6/6 [==============================] - 0s 6ms/step - loss: 90.8120 - mae: 6.8377 - val_loss: 94.3199 - val_mae: 6.8072\n",
      "Epoch 133/150\n",
      "6/6 [==============================] - 0s 8ms/step - loss: 90.5114 - mae: 6.8208 - val_loss: 93.5651 - val_mae: 6.8036\n",
      "Epoch 134/150\n",
      "6/6 [==============================] - 0s 7ms/step - loss: 90.4138 - mae: 6.8335 - val_loss: 93.4403 - val_mae: 6.7969\n",
      "Epoch 135/150\n",
      "6/6 [==============================] - 0s 6ms/step - loss: 90.2354 - mae: 6.8260 - val_loss: 93.6036 - val_mae: 6.7881\n",
      "Epoch 136/150\n",
      "6/6 [==============================] - 0s 6ms/step - loss: 89.9666 - mae: 6.8074 - val_loss: 93.6875 - val_mae: 6.7784\n",
      "Epoch 137/150\n",
      "6/6 [==============================] - 0s 6ms/step - loss: 89.8033 - mae: 6.8045 - val_loss: 92.8000 - val_mae: 6.7720\n",
      "Epoch 138/150\n",
      "6/6 [==============================] - 0s 6ms/step - loss: 89.5599 - mae: 6.8093 - val_loss: 92.6583 - val_mae: 6.7639\n",
      "Epoch 139/150\n",
      "6/6 [==============================] - 0s 6ms/step - loss: 89.4922 - mae: 6.7995 - val_loss: 93.2198 - val_mae: 6.7548\n",
      "Epoch 140/150\n",
      "6/6 [==============================] - 0s 6ms/step - loss: 89.1578 - mae: 6.7561 - val_loss: 91.7778 - val_mae: 6.7529\n",
      "Epoch 141/150\n",
      "6/6 [==============================] - 0s 6ms/step - loss: 89.0468 - mae: 6.7909 - val_loss: 92.1551 - val_mae: 6.7417\n",
      "Epoch 142/150\n",
      "6/6 [==============================] - 0s 6ms/step - loss: 88.9220 - mae: 6.7791 - val_loss: 91.6032 - val_mae: 6.7388\n",
      "Epoch 143/150\n",
      "6/6 [==============================] - 0s 6ms/step - loss: 88.7516 - mae: 6.7792 - val_loss: 92.5617 - val_mae: 6.7277\n",
      "Epoch 144/150\n",
      "6/6 [==============================] - 0s 6ms/step - loss: 88.5461 - mae: 6.7241 - val_loss: 92.7863 - val_mae: 6.7230\n",
      "Epoch 145/150\n",
      "6/6 [==============================] - 0s 6ms/step - loss: 88.3850 - mae: 6.7171 - val_loss: 93.1405 - val_mae: 6.7203\n",
      "Epoch 146/150\n",
      "6/6 [==============================] - 0s 6ms/step - loss: 88.5898 - mae: 6.7085 - val_loss: 91.6312 - val_mae: 6.7169\n",
      "Epoch 147/150\n",
      "6/6 [==============================] - 0s 6ms/step - loss: 88.2224 - mae: 6.7434 - val_loss: 92.2358 - val_mae: 6.7126\n",
      "Epoch 148/150\n",
      "6/6 [==============================] - 0s 6ms/step - loss: 88.2221 - mae: 6.7165 - val_loss: 91.3694 - val_mae: 6.7103\n",
      "Epoch 149/150\n",
      "6/6 [==============================] - 0s 6ms/step - loss: 88.0113 - mae: 6.7372 - val_loss: 91.5505 - val_mae: 6.7045\n",
      "Epoch 150/150\n",
      "6/6 [==============================] - 0s 6ms/step - loss: 87.9169 - mae: 6.7232 - val_loss: 92.4083 - val_mae: 6.6999\n"
     ]
    }
   ],
   "source": [
    "es = EarlyStopping(monitor = 'val_loss', min_delta = 0.001, patience = 10, verbose = 1, mode = 'auto')\n",
    "callbacks = [es]\n",
    "historico = model.fit(x_train, \n",
    "                             y_train, \n",
    "                             epochs = 150, \n",
    "                             batch_size=64,\n",
    "                             verbose = 1,\n",
    "                             validation_split = 0.2 ,\n",
    "                             shuffle=True,\n",
    "                             callbacks = callbacks)"
   ]
  },
  {
   "cell_type": "code",
   "execution_count": 36,
   "metadata": {},
   "outputs": [],
   "source": [
    "x_test = np.expand_dims(x_test, axis=-1)"
   ]
  },
  {
   "cell_type": "code",
   "execution_count": 37,
   "metadata": {},
   "outputs": [
    {
     "data": {
      "text/plain": [
       "(102, 13, 1)"
      ]
     },
     "execution_count": 37,
     "metadata": {},
     "output_type": "execute_result"
    }
   ],
   "source": [
    "x_test.shape"
   ]
  },
  {
   "cell_type": "code",
   "execution_count": 38,
   "metadata": {},
   "outputs": [
    {
     "name": "stdout",
     "output_type": "stream",
     "text": [
      "4/4 [==============================] - 0s 2ms/step\n"
     ]
    }
   ],
   "source": [
    "pred_simples = model.predict(x_test)"
   ]
  },
  {
   "cell_type": "code",
   "execution_count": 39,
   "metadata": {},
   "outputs": [
    {
     "data": {
      "text/plain": [
       "6.405823135375977"
      ]
     },
     "execution_count": 39,
     "metadata": {},
     "output_type": "execute_result"
    }
   ],
   "source": [
    "from sklearn.metrics import mean_absolute_error\n",
    "\n",
    "mean_absolute_error(y_test, np.mean(pred_simples,axis=1))"
   ]
  },
  {
   "cell_type": "code",
   "execution_count": 40,
   "metadata": {},
   "outputs": [
    {
     "data": {
      "text/html": [
       "<div>\n",
       "<style scoped>\n",
       "    .dataframe tbody tr th:only-of-type {\n",
       "        vertical-align: middle;\n",
       "    }\n",
       "\n",
       "    .dataframe tbody tr th {\n",
       "        vertical-align: top;\n",
       "    }\n",
       "\n",
       "    .dataframe thead th {\n",
       "        text-align: right;\n",
       "    }\n",
       "</style>\n",
       "<table border=\"1\" class=\"dataframe\">\n",
       "  <thead>\n",
       "    <tr style=\"text-align: right;\">\n",
       "      <th></th>\n",
       "      <th>y_test</th>\n",
       "      <th>y_pred</th>\n",
       "    </tr>\n",
       "  </thead>\n",
       "  <tbody>\n",
       "    <tr>\n",
       "      <th>0</th>\n",
       "      <td>7.2</td>\n",
       "      <td>22.031139</td>\n",
       "    </tr>\n",
       "    <tr>\n",
       "      <th>1</th>\n",
       "      <td>18.8</td>\n",
       "      <td>21.085009</td>\n",
       "    </tr>\n",
       "    <tr>\n",
       "      <th>2</th>\n",
       "      <td>19.0</td>\n",
       "      <td>21.170500</td>\n",
       "    </tr>\n",
       "    <tr>\n",
       "      <th>3</th>\n",
       "      <td>27.0</td>\n",
       "      <td>22.102200</td>\n",
       "    </tr>\n",
       "    <tr>\n",
       "      <th>4</th>\n",
       "      <td>22.2</td>\n",
       "      <td>21.267979</td>\n",
       "    </tr>\n",
       "    <tr>\n",
       "      <th>...</th>\n",
       "      <td>...</td>\n",
       "      <td>...</td>\n",
       "    </tr>\n",
       "    <tr>\n",
       "      <th>97</th>\n",
       "      <td>21.9</td>\n",
       "      <td>22.374277</td>\n",
       "    </tr>\n",
       "    <tr>\n",
       "      <th>98</th>\n",
       "      <td>24.1</td>\n",
       "      <td>21.735363</td>\n",
       "    </tr>\n",
       "    <tr>\n",
       "      <th>99</th>\n",
       "      <td>50.0</td>\n",
       "      <td>22.406820</td>\n",
       "    </tr>\n",
       "    <tr>\n",
       "      <th>100</th>\n",
       "      <td>26.7</td>\n",
       "      <td>21.768974</td>\n",
       "    </tr>\n",
       "    <tr>\n",
       "      <th>101</th>\n",
       "      <td>25.0</td>\n",
       "      <td>21.415321</td>\n",
       "    </tr>\n",
       "  </tbody>\n",
       "</table>\n",
       "<p>102 rows × 2 columns</p>\n",
       "</div>"
      ],
      "text/plain": [
       "     y_test     y_pred\n",
       "0       7.2  22.031139\n",
       "1      18.8  21.085009\n",
       "2      19.0  21.170500\n",
       "3      27.0  22.102200\n",
       "4      22.2  21.267979\n",
       "..      ...        ...\n",
       "97     21.9  22.374277\n",
       "98     24.1  21.735363\n",
       "99     50.0  22.406820\n",
       "100    26.7  21.768974\n",
       "101    25.0  21.415321\n",
       "\n",
       "[102 rows x 2 columns]"
      ]
     },
     "execution_count": 40,
     "metadata": {},
     "output_type": "execute_result"
    }
   ],
   "source": [
    "import pandas as pd\n",
    "\n",
    "resultado = pd.DataFrame()\n",
    "resultado['y_test'] = y_test\n",
    "resultado['y_pred'] = np.mean(pred_simples,axis=1)\n",
    "\n",
    "resultado"
   ]
  }
 ],
 "metadata": {
  "kernelspec": {
   "display_name": "valor_venal",
   "language": "python",
   "name": "python3"
  },
  "language_info": {
   "codemirror_mode": {
    "name": "ipython",
    "version": 3
   },
   "file_extension": ".py",
   "mimetype": "text/x-python",
   "name": "python",
   "nbconvert_exporter": "python",
   "pygments_lexer": "ipython3",
   "version": "3.10.12"
  }
 },
 "nbformat": 4,
 "nbformat_minor": 2
}
