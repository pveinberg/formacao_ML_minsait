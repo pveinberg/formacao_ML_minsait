{
 "cells": [
  {
   "cell_type": "code",
   "execution_count": 1,
   "metadata": {},
   "outputs": [
    {
     "name": "stderr",
     "output_type": "stream",
     "text": [
      "2023-11-01 07:38:35.762427: E tensorflow/compiler/xla/stream_executor/cuda/cuda_dnn.cc:9342] Unable to register cuDNN factory: Attempting to register factory for plugin cuDNN when one has already been registered\n",
      "2023-11-01 07:38:35.762529: E tensorflow/compiler/xla/stream_executor/cuda/cuda_fft.cc:609] Unable to register cuFFT factory: Attempting to register factory for plugin cuFFT when one has already been registered\n",
      "2023-11-01 07:38:35.764645: E tensorflow/compiler/xla/stream_executor/cuda/cuda_blas.cc:1518] Unable to register cuBLAS factory: Attempting to register factory for plugin cuBLAS when one has already been registered\n",
      "2023-11-01 07:38:35.928927: I tensorflow/core/platform/cpu_feature_guard.cc:182] This TensorFlow binary is optimized to use available CPU instructions in performance-critical operations.\n",
      "To enable the following instructions: AVX2 FMA, in other operations, rebuild TensorFlow with the appropriate compiler flags.\n",
      "2023-11-01 07:38:39.561254: I tensorflow/compiler/xla/stream_executor/cuda/cuda_gpu_executor.cc:894] successful NUMA node read from SysFS had negative value (-1), but there must be at least one NUMA node, so returning NUMA node zero. See more at https://github.com/torvalds/linux/blob/v6.0/Documentation/ABI/testing/sysfs-bus-pci#L344-L355\n",
      "2023-11-01 07:38:39.583388: I tensorflow/compiler/xla/stream_executor/cuda/cuda_gpu_executor.cc:894] successful NUMA node read from SysFS had negative value (-1), but there must be at least one NUMA node, so returning NUMA node zero. See more at https://github.com/torvalds/linux/blob/v6.0/Documentation/ABI/testing/sysfs-bus-pci#L344-L355\n",
      "2023-11-01 07:38:39.583687: I tensorflow/compiler/xla/stream_executor/cuda/cuda_gpu_executor.cc:894] successful NUMA node read from SysFS had negative value (-1), but there must be at least one NUMA node, so returning NUMA node zero. See more at https://github.com/torvalds/linux/blob/v6.0/Documentation/ABI/testing/sysfs-bus-pci#L344-L355\n"
     ]
    }
   ],
   "source": [
    "import tensorflow as tf\n",
    "import matplotlib.pyplot as plt\n",
    "import numpy as np\n",
    "from sklearn.preprocessing import OneHotEncoder\n",
    "#configurando para rodar em CPU\n",
    "tf.config.set_visible_devices([],'GPU')"
   ]
  },
  {
   "cell_type": "markdown",
   "metadata": {},
   "source": [
    "### Prática\n",
    "1. Aquisição e pré-processamento dos dados\n",
    "2. Treinamento\n",
    "* Implementar arquitetura\n",
    "* Definir otimizadores, métricas e regularizadores\n",
    "3. Teste (avaliação de desempenho)"
   ]
  },
  {
   "cell_type": "markdown",
   "metadata": {},
   "source": [
    "# Classificação"
   ]
  },
  {
   "cell_type": "markdown",
   "metadata": {},
   "source": [
    "#### 1. Aquisição dos dados"
   ]
  },
  {
   "cell_type": "code",
   "execution_count": 2,
   "metadata": {},
   "outputs": [],
   "source": [
    "(x_train, y_train), (x_test, y_test) = tf.keras.datasets.mnist.load_data()"
   ]
  },
  {
   "cell_type": "code",
   "execution_count": 3,
   "metadata": {},
   "outputs": [
    {
     "name": "stdout",
     "output_type": "stream",
     "text": [
      "(60000, 28, 28)\n",
      "(10000, 28, 28)\n",
      "(10000,)\n"
     ]
    }
   ],
   "source": [
    "print(x_train.shape)\n",
    "print(x_test.shape)\n",
    "print(y_test.shape)"
   ]
  },
  {
   "cell_type": "code",
   "execution_count": 4,
   "metadata": {},
   "outputs": [
    {
     "data": {
      "text/plain": [
       "array([[  0,   0,   0,   0,   0,   0,   0,   0,   0,   0,   0,   0,   0,\n",
       "          0,   0,   0,   0,   0,   0,   0,   0,   0,   0,   0,   0,   0,\n",
       "          0,   0],\n",
       "       [  0,   0,   0,   0,   0,   0,   0,   0,   0,   0,   0,   0,   0,\n",
       "          0,   0,   0,   0,   0,   0,   0,   0,   0,   0,   0,   0,   0,\n",
       "          0,   0],\n",
       "       [  0,   0,   0,   0,   0,   0,   0,   0,   0,   0,   0,   0,   0,\n",
       "          0,   0,   0,   0,   0,   0,   0,   0,   0,   0,   0,   0,   0,\n",
       "          0,   0],\n",
       "       [  0,   0,   0,   0,   0,   0,   0,   0,   0,   0,   0,   0,   0,\n",
       "          0,   0,   0,   0,   0,   0,   0,   0,   0,   0,   0,   0,   0,\n",
       "          0,   0],\n",
       "       [  0,   0,   0,   0,   0,   0,   0,   0,   0,   0,   0,   0,   0,\n",
       "          0,   0,   0,   0,   0,   0,   0,   0,   0,   0,   0,   0,   0,\n",
       "          0,   0],\n",
       "       [  0,   0,   0,   0,   0,   0,   0,   0,   0,   0,   0,   0,   3,\n",
       "         18,  18,  18, 126, 136, 175,  26, 166, 255, 247, 127,   0,   0,\n",
       "          0,   0],\n",
       "       [  0,   0,   0,   0,   0,   0,   0,   0,  30,  36,  94, 154, 170,\n",
       "        253, 253, 253, 253, 253, 225, 172, 253, 242, 195,  64,   0,   0,\n",
       "          0,   0],\n",
       "       [  0,   0,   0,   0,   0,   0,   0,  49, 238, 253, 253, 253, 253,\n",
       "        253, 253, 253, 253, 251,  93,  82,  82,  56,  39,   0,   0,   0,\n",
       "          0,   0],\n",
       "       [  0,   0,   0,   0,   0,   0,   0,  18, 219, 253, 253, 253, 253,\n",
       "        253, 198, 182, 247, 241,   0,   0,   0,   0,   0,   0,   0,   0,\n",
       "          0,   0],\n",
       "       [  0,   0,   0,   0,   0,   0,   0,   0,  80, 156, 107, 253, 253,\n",
       "        205,  11,   0,  43, 154,   0,   0,   0,   0,   0,   0,   0,   0,\n",
       "          0,   0],\n",
       "       [  0,   0,   0,   0,   0,   0,   0,   0,   0,  14,   1, 154, 253,\n",
       "         90,   0,   0,   0,   0,   0,   0,   0,   0,   0,   0,   0,   0,\n",
       "          0,   0],\n",
       "       [  0,   0,   0,   0,   0,   0,   0,   0,   0,   0,   0, 139, 253,\n",
       "        190,   2,   0,   0,   0,   0,   0,   0,   0,   0,   0,   0,   0,\n",
       "          0,   0],\n",
       "       [  0,   0,   0,   0,   0,   0,   0,   0,   0,   0,   0,  11, 190,\n",
       "        253,  70,   0,   0,   0,   0,   0,   0,   0,   0,   0,   0,   0,\n",
       "          0,   0],\n",
       "       [  0,   0,   0,   0,   0,   0,   0,   0,   0,   0,   0,   0,  35,\n",
       "        241, 225, 160, 108,   1,   0,   0,   0,   0,   0,   0,   0,   0,\n",
       "          0,   0],\n",
       "       [  0,   0,   0,   0,   0,   0,   0,   0,   0,   0,   0,   0,   0,\n",
       "         81, 240, 253, 253, 119,  25,   0,   0,   0,   0,   0,   0,   0,\n",
       "          0,   0],\n",
       "       [  0,   0,   0,   0,   0,   0,   0,   0,   0,   0,   0,   0,   0,\n",
       "          0,  45, 186, 253, 253, 150,  27,   0,   0,   0,   0,   0,   0,\n",
       "          0,   0],\n",
       "       [  0,   0,   0,   0,   0,   0,   0,   0,   0,   0,   0,   0,   0,\n",
       "          0,   0,  16,  93, 252, 253, 187,   0,   0,   0,   0,   0,   0,\n",
       "          0,   0],\n",
       "       [  0,   0,   0,   0,   0,   0,   0,   0,   0,   0,   0,   0,   0,\n",
       "          0,   0,   0,   0, 249, 253, 249,  64,   0,   0,   0,   0,   0,\n",
       "          0,   0],\n",
       "       [  0,   0,   0,   0,   0,   0,   0,   0,   0,   0,   0,   0,   0,\n",
       "          0,  46, 130, 183, 253, 253, 207,   2,   0,   0,   0,   0,   0,\n",
       "          0,   0],\n",
       "       [  0,   0,   0,   0,   0,   0,   0,   0,   0,   0,   0,   0,  39,\n",
       "        148, 229, 253, 253, 253, 250, 182,   0,   0,   0,   0,   0,   0,\n",
       "          0,   0],\n",
       "       [  0,   0,   0,   0,   0,   0,   0,   0,   0,   0,  24, 114, 221,\n",
       "        253, 253, 253, 253, 201,  78,   0,   0,   0,   0,   0,   0,   0,\n",
       "          0,   0],\n",
       "       [  0,   0,   0,   0,   0,   0,   0,   0,  23,  66, 213, 253, 253,\n",
       "        253, 253, 198,  81,   2,   0,   0,   0,   0,   0,   0,   0,   0,\n",
       "          0,   0],\n",
       "       [  0,   0,   0,   0,   0,   0,  18, 171, 219, 253, 253, 253, 253,\n",
       "        195,  80,   9,   0,   0,   0,   0,   0,   0,   0,   0,   0,   0,\n",
       "          0,   0],\n",
       "       [  0,   0,   0,   0,  55, 172, 226, 253, 253, 253, 253, 244, 133,\n",
       "         11,   0,   0,   0,   0,   0,   0,   0,   0,   0,   0,   0,   0,\n",
       "          0,   0],\n",
       "       [  0,   0,   0,   0, 136, 253, 253, 253, 212, 135, 132,  16,   0,\n",
       "          0,   0,   0,   0,   0,   0,   0,   0,   0,   0,   0,   0,   0,\n",
       "          0,   0],\n",
       "       [  0,   0,   0,   0,   0,   0,   0,   0,   0,   0,   0,   0,   0,\n",
       "          0,   0,   0,   0,   0,   0,   0,   0,   0,   0,   0,   0,   0,\n",
       "          0,   0],\n",
       "       [  0,   0,   0,   0,   0,   0,   0,   0,   0,   0,   0,   0,   0,\n",
       "          0,   0,   0,   0,   0,   0,   0,   0,   0,   0,   0,   0,   0,\n",
       "          0,   0],\n",
       "       [  0,   0,   0,   0,   0,   0,   0,   0,   0,   0,   0,   0,   0,\n",
       "          0,   0,   0,   0,   0,   0,   0,   0,   0,   0,   0,   0,   0,\n",
       "          0,   0]], dtype=uint8)"
      ]
     },
     "execution_count": 4,
     "metadata": {},
     "output_type": "execute_result"
    }
   ],
   "source": [
    "x_train[0]"
   ]
  },
  {
   "cell_type": "code",
   "execution_count": 5,
   "metadata": {},
   "outputs": [
    {
     "data": {
      "image/png": "[encoded data removed]",
      "text/plain": [
       "<Figure size 640x480 with 1 Axes>"
      ]
     },
     "metadata": {},
     "output_type": "display_data"
    }
   ],
   "source": [
    "# Escolhendo uma imagem para plotar\n",
    "sample = 10\n",
    "image = x_train[sample]\n",
    "\n",
    "# Plotando a imagem\n",
    "fig = plt.figure\n",
    "plt.imshow(image, cmap='gray')\n",
    "plt.show()"
   ]
  },
  {
   "cell_type": "markdown",
   "metadata": {},
   "source": [
    "#### 2. Pré-processamento"
   ]
  },
  {
   "cell_type": "markdown",
   "metadata": {},
   "source": [
    "#### Normalização"
   ]
  },
  {
   "cell_type": "code",
   "execution_count": 6,
   "metadata": {},
   "outputs": [],
   "source": [
    "m = np.max(x_train)\n",
    "x_train = x_train/m\n",
    "x_test = x_test/m"
   ]
  },
  {
   "cell_type": "markdown",
   "metadata": {},
   "source": [
    "#### One hot encoder na variável alvo"
   ]
  },
  {
   "cell_type": "code",
   "execution_count": 7,
   "metadata": {},
   "outputs": [
    {
     "data": {
      "text/plain": [
       "array([5, 0, 4, ..., 5, 6, 8], dtype=uint8)"
      ]
     },
     "execution_count": 7,
     "metadata": {},
     "output_type": "execute_result"
    }
   ],
   "source": [
    "y_train"
   ]
  },
  {
   "cell_type": "code",
   "execution_count": 8,
   "metadata": {},
   "outputs": [],
   "source": [
    "hot = OneHotEncoder()\n",
    "y_train = hot.fit_transform(y_train.reshape(-1, 1)).toarray()\n",
    "y_test = hot.transform(y_test.reshape(-1, 1)).toarray()"
   ]
  },
  {
   "cell_type": "code",
   "execution_count": 9,
   "metadata": {},
   "outputs": [
    {
     "data": {
      "text/plain": [
       "array([[0., 0., 0., ..., 0., 0., 0.],\n",
       "       [1., 0., 0., ..., 0., 0., 0.],\n",
       "       [0., 0., 0., ..., 0., 0., 0.],\n",
       "       ...,\n",
       "       [0., 0., 0., ..., 0., 0., 0.],\n",
       "       [0., 0., 0., ..., 0., 0., 0.],\n",
       "       [0., 0., 0., ..., 0., 1., 0.]])"
      ]
     },
     "execution_count": 9,
     "metadata": {},
     "output_type": "execute_result"
    }
   ],
   "source": [
    "y_train"
   ]
  },
  {
   "cell_type": "markdown",
   "metadata": {},
   "source": [
    "#### 3. Particionamento de base de dados"
   ]
  },
  {
   "cell_type": "code",
   "execution_count": 10,
   "metadata": {},
   "outputs": [
    {
     "data": {
      "text/plain": [
       "((48000, 28, 28),\n",
       " (12000, 28, 28),\n",
       " (10000, 28, 28),\n",
       " (48000, 10),\n",
       " (12000, 10),\n",
       " (10000, 10))"
      ]
     },
     "execution_count": 10,
     "metadata": {},
     "output_type": "execute_result"
    }
   ],
   "source": [
    "from sklearn.model_selection import train_test_split\n",
    "\n",
    "x_treino, x_val, y_treino, y_val = train_test_split(x_train, y_train, test_size = 0.2, random_state = 13)\n",
    "\n",
    "x_treino.shape, x_val.shape, x_test.shape, y_treino.shape, y_val.shape, y_test.shape, "
   ]
  },
  {
   "cell_type": "code",
   "execution_count": 11,
   "metadata": {},
   "outputs": [],
   "source": [
    "from keras.layers import Dense, Activation, Dropout, Flatten,  Conv2D,MaxPool2D, Conv1D\n",
    "from keras.models import Sequential\n",
    "from keras.callbacks import EarlyStopping"
   ]
  },
  {
   "cell_type": "markdown",
   "metadata": {},
   "source": [
    "#### 4. Treinamento - definição de arquitetura\n",
    "1. Definir quantas camadas são necessárias par o problema\n",
    "2. A quantidade de neurônios em cada camada\n",
    "3. A função de ativação de cada camada\n",
    "4. A função de ativação da saída\n",
    "* softmax (saída não binária)\n",
    "* sigmoid (saída binária)"
   ]
  },
  {
   "cell_type": "code",
   "execution_count": 12,
   "metadata": {
    "notebookRunGroups": {
     "groupValue": "1"
    }
   },
   "outputs": [],
   "source": [
    "rede_simples = Sequential()\n",
    "rede_simples.add(Conv2D(filters=1,kernel_size=3,activation='relu',input_shape=[28,28,1]))\n",
    "# rede_simples.add(MaxPool2D(pool_size=(2,2)))\n",
    "rede_simples.add(Flatten())\n",
    "rede_simples.add(Dense(25,activation='relu'))\n",
    "rede_simples.add(Dense(10,activation='softmax'))"
   ]
  },
  {
   "cell_type": "markdown",
   "metadata": {},
   "source": [
    "### 5. Definir otimizadores"
   ]
  },
  {
   "cell_type": "code",
   "execution_count": 13,
   "metadata": {
    "notebookRunGroups": {
     "groupValue": "1"
    }
   },
   "outputs": [],
   "source": [
    "rede_simples.compile(loss = 'categorical_crossentropy', optimizer = 'Adam', metrics=['accuracy'])"
   ]
  },
  {
   "cell_type": "markdown",
   "metadata": {},
   "source": [
    "#### 6. Treinamento\n",
    "\n",
    "1. Adicionar conjuntos de treinamento e validação\n",
    "2. Determinar a quantidade de épocas"
   ]
  },
  {
   "cell_type": "code",
   "execution_count": 14,
   "metadata": {},
   "outputs": [],
   "source": [
    "x_treino = np.expand_dims(x_treino,axis=-1)\n",
    "x_val = np.expand_dims(x_val,axis=-1)"
   ]
  },
  {
   "cell_type": "code",
   "execution_count": 15,
   "metadata": {
    "notebookRunGroups": {
     "groupValue": "1"
    }
   },
   "outputs": [
    {
     "name": "stdout",
     "output_type": "stream",
     "text": [
      "Epoch 1/100\n"
     ]
    },
    {
     "name": "stdout",
     "output_type": "stream",
     "text": [
      "  14/1500 [..............................] - ETA: 5s - loss: 2.2920 - accuracy: 0.1406   "
     ]
    },
    {
     "name": "stderr",
     "output_type": "stream",
     "text": [
      "2023-11-01 07:38:41.373163: I tensorflow/compiler/xla/service/service.cc:168] XLA service 0x7f6eb800c450 initialized for platform Host (this does not guarantee that XLA will be used). Devices:\n",
      "2023-11-01 07:38:41.373184: I tensorflow/compiler/xla/service/service.cc:176]   StreamExecutor device (0): Host, Default Version\n",
      "2023-11-01 07:38:41.397396: I tensorflow/compiler/mlir/tensorflow/utils/dump_mlir_util.cc:269] disabling MLIR crash reproducer, set env var `MLIR_CRASH_REPRODUCER_DIRECTORY` to enable.\n",
      "2023-11-01 07:38:41.486628: I ./tensorflow/compiler/jit/device_compiler.h:186] Compiled cluster using XLA!  This line is logged at most once for the lifetime of the process.\n",
      "2023-11-01 07:38:41.487754: E ./tensorflow/compiler/xla/stream_executor/stream_executor_internal.h:124] SetPriority unimplemented for this stream.\n",
      "2023-11-01 07:38:41.490979: E ./tensorflow/compiler/xla/stream_executor/stream_executor_internal.h:124] SetPriority unimplemented for this stream.\n",
      "2023-11-01 07:38:41.491071: E ./tensorflow/compiler/xla/stream_executor/stream_executor_internal.h:124] SetPriority unimplemented for this stream.\n",
      "2023-11-01 07:38:41.501652: E ./tensorflow/compiler/xla/stream_executor/stream_executor_internal.h:124] SetPriority unimplemented for this stream.\n"
     ]
    },
    {
     "name": "stdout",
     "output_type": "stream",
     "text": [
      "1044/1500 [===================>..........] - ETA: 1s - loss: 0.6571 - accuracy: 0.8092"
     ]
    },
    {
     "name": "stderr",
     "output_type": "stream",
     "text": [
      "2023-11-01 07:38:45.067144: E ./tensorflow/compiler/xla/stream_executor/stream_executor_internal.h:124] SetPriority unimplemented for this stream.\n"
     ]
    },
    {
     "name": "stdout",
     "output_type": "stream",
     "text": [
      "1500/1500 [==============================] - 7s 4ms/step - loss: 0.5615 - accuracy: 0.8364 - val_loss: 0.2993 - val_accuracy: 0.9118\n",
      "Epoch 2/100\n",
      "1500/1500 [==============================] - 6s 4ms/step - loss: 0.2790 - accuracy: 0.9161 - val_loss: 0.2409 - val_accuracy: 0.9315\n",
      "Epoch 3/100\n",
      "1500/1500 [==============================] - 6s 4ms/step - loss: 0.2288 - accuracy: 0.9314 - val_loss: 0.2205 - val_accuracy: 0.9368\n",
      "Epoch 4/100\n",
      "1500/1500 [==============================] - 7s 5ms/step - loss: 0.1966 - accuracy: 0.9410 - val_loss: 0.2194 - val_accuracy: 0.9333\n",
      "Epoch 5/100\n",
      "1500/1500 [==============================] - 7s 5ms/step - loss: 0.1733 - accuracy: 0.9464 - val_loss: 0.1849 - val_accuracy: 0.9437\n",
      "Epoch 6/100\n",
      "1500/1500 [==============================] - 7s 4ms/step - loss: 0.1557 - accuracy: 0.9514 - val_loss: 0.1696 - val_accuracy: 0.9488\n",
      "Epoch 7/100\n",
      "1500/1500 [==============================] - 7s 4ms/step - loss: 0.1412 - accuracy: 0.9567 - val_loss: 0.1736 - val_accuracy: 0.9492\n",
      "Epoch 8/100\n",
      "1500/1500 [==============================] - 7s 4ms/step - loss: 0.1331 - accuracy: 0.9591 - val_loss: 0.1562 - val_accuracy: 0.9523\n",
      "Epoch 9/100\n",
      "1500/1500 [==============================] - 7s 4ms/step - loss: 0.1240 - accuracy: 0.9622 - val_loss: 0.1577 - val_accuracy: 0.9517\n",
      "Epoch 10/100\n",
      "1500/1500 [==============================] - 7s 4ms/step - loss: 0.1161 - accuracy: 0.9638 - val_loss: 0.1456 - val_accuracy: 0.9567\n",
      "Epoch 11/100\n",
      "1500/1500 [==============================] - 7s 4ms/step - loss: 0.1097 - accuracy: 0.9650 - val_loss: 0.1404 - val_accuracy: 0.9574\n",
      "Epoch 12/100\n",
      "1500/1500 [==============================] - 7s 4ms/step - loss: 0.1055 - accuracy: 0.9667 - val_loss: 0.1598 - val_accuracy: 0.9526\n",
      "Epoch 13/100\n",
      "1500/1500 [==============================] - 7s 4ms/step - loss: 0.1010 - accuracy: 0.9683 - val_loss: 0.1482 - val_accuracy: 0.9552\n",
      "Epoch 14/100\n",
      "1500/1500 [==============================] - 7s 4ms/step - loss: 0.0971 - accuracy: 0.9690 - val_loss: 0.1425 - val_accuracy: 0.9571\n",
      "Epoch 15/100\n",
      "1500/1500 [==============================] - 7s 4ms/step - loss: 0.0933 - accuracy: 0.9701 - val_loss: 0.1407 - val_accuracy: 0.9582\n",
      "Epoch 16/100\n",
      "1500/1500 [==============================] - 7s 4ms/step - loss: 0.0894 - accuracy: 0.9713 - val_loss: 0.1428 - val_accuracy: 0.9569\n",
      "Epoch 17/100\n",
      "1500/1500 [==============================] - 7s 4ms/step - loss: 0.0854 - accuracy: 0.9718 - val_loss: 0.1503 - val_accuracy: 0.9548\n",
      "Epoch 18/100\n",
      "1500/1500 [==============================] - 7s 4ms/step - loss: 0.0821 - accuracy: 0.9735 - val_loss: 0.1587 - val_accuracy: 0.9529\n",
      "Epoch 19/100\n",
      "1500/1500 [==============================] - 7s 4ms/step - loss: 0.0803 - accuracy: 0.9739 - val_loss: 0.1455 - val_accuracy: 0.9591\n",
      "Epoch 20/100\n",
      "1500/1500 [==============================] - 7s 4ms/step - loss: 0.0777 - accuracy: 0.9744 - val_loss: 0.1453 - val_accuracy: 0.9577\n",
      "Epoch 21/100\n",
      "1500/1500 [==============================] - 7s 4ms/step - loss: 0.0743 - accuracy: 0.9762 - val_loss: 0.1554 - val_accuracy: 0.9548\n",
      "Epoch 22/100\n",
      "1500/1500 [==============================] - 7s 4ms/step - loss: 0.0718 - accuracy: 0.9764 - val_loss: 0.1610 - val_accuracy: 0.9544\n",
      "Epoch 23/100\n",
      "1500/1500 [==============================] - 7s 4ms/step - loss: 0.0698 - accuracy: 0.9770 - val_loss: 0.1530 - val_accuracy: 0.9569\n",
      "Epoch 24/100\n",
      "1500/1500 [==============================] - 7s 4ms/step - loss: 0.0677 - accuracy: 0.9775 - val_loss: 0.1556 - val_accuracy: 0.9563\n",
      "Epoch 25/100\n",
      "1500/1500 [==============================] - 7s 4ms/step - loss: 0.0650 - accuracy: 0.9787 - val_loss: 0.1627 - val_accuracy: 0.9551\n",
      "Epoch 26/100\n",
      "1500/1500 [==============================] - 7s 4ms/step - loss: 0.0630 - accuracy: 0.9789 - val_loss: 0.1646 - val_accuracy: 0.9553\n",
      "Epoch 27/100\n",
      "1500/1500 [==============================] - 7s 5ms/step - loss: 0.0609 - accuracy: 0.9795 - val_loss: 0.1632 - val_accuracy: 0.9557\n",
      "Epoch 28/100\n",
      "1500/1500 [==============================] - 7s 4ms/step - loss: 0.0608 - accuracy: 0.9794 - val_loss: 0.1555 - val_accuracy: 0.9597\n",
      "Epoch 29/100\n",
      "1500/1500 [==============================] - 7s 4ms/step - loss: 0.0580 - accuracy: 0.9803 - val_loss: 0.1682 - val_accuracy: 0.9579\n",
      "Epoch 30/100\n",
      "1500/1500 [==============================] - 7s 5ms/step - loss: 0.0562 - accuracy: 0.9811 - val_loss: 0.1639 - val_accuracy: 0.9559\n",
      "Epoch 31/100\n",
      "1500/1500 [==============================] - 7s 4ms/step - loss: 0.0554 - accuracy: 0.9809 - val_loss: 0.1611 - val_accuracy: 0.9580\n",
      "Epoch 32/100\n",
      "1500/1500 [==============================] - 7s 4ms/step - loss: 0.0536 - accuracy: 0.9819 - val_loss: 0.1649 - val_accuracy: 0.9577\n",
      "Epoch 33/100\n",
      "1500/1500 [==============================] - 7s 4ms/step - loss: 0.0508 - accuracy: 0.9829 - val_loss: 0.1702 - val_accuracy: 0.9564\n",
      "Epoch 34/100\n",
      "1500/1500 [==============================] - 7s 4ms/step - loss: 0.0488 - accuracy: 0.9835 - val_loss: 0.1712 - val_accuracy: 0.9573\n",
      "Epoch 35/100\n",
      "1500/1500 [==============================] - 7s 4ms/step - loss: 0.0490 - accuracy: 0.9827 - val_loss: 0.1806 - val_accuracy: 0.9542\n",
      "Epoch 36/100\n",
      "1500/1500 [==============================] - 7s 4ms/step - loss: 0.0480 - accuracy: 0.9829 - val_loss: 0.1820 - val_accuracy: 0.9568\n",
      "Epoch 37/100\n",
      "1500/1500 [==============================] - 7s 4ms/step - loss: 0.0469 - accuracy: 0.9838 - val_loss: 0.1741 - val_accuracy: 0.9548\n",
      "Epoch 38/100\n",
      "1500/1500 [==============================] - 7s 4ms/step - loss: 0.0439 - accuracy: 0.9849 - val_loss: 0.1817 - val_accuracy: 0.9563\n",
      "Epoch 39/100\n",
      "1500/1500 [==============================] - 7s 4ms/step - loss: 0.0437 - accuracy: 0.9855 - val_loss: 0.1843 - val_accuracy: 0.9573\n",
      "Epoch 40/100\n",
      "1500/1500 [==============================] - 7s 4ms/step - loss: 0.0410 - accuracy: 0.9858 - val_loss: 0.1870 - val_accuracy: 0.9551\n",
      "Epoch 41/100\n",
      "1500/1500 [==============================] - 7s 4ms/step - loss: 0.0421 - accuracy: 0.9852 - val_loss: 0.2002 - val_accuracy: 0.9554\n",
      "Epoch 42/100\n",
      "1500/1500 [==============================] - 7s 4ms/step - loss: 0.0408 - accuracy: 0.9860 - val_loss: 0.1991 - val_accuracy: 0.9569\n",
      "Epoch 43/100\n",
      "1500/1500 [==============================] - 7s 4ms/step - loss: 0.0389 - accuracy: 0.9860 - val_loss: 0.2035 - val_accuracy: 0.9559\n",
      "Epoch 44/100\n",
      "1500/1500 [==============================] - 7s 4ms/step - loss: 0.0384 - accuracy: 0.9863 - val_loss: 0.2009 - val_accuracy: 0.9578\n",
      "Epoch 45/100\n",
      "1500/1500 [==============================] - 7s 4ms/step - loss: 0.0371 - accuracy: 0.9869 - val_loss: 0.2113 - val_accuracy: 0.9550\n",
      "Epoch 46/100\n",
      "1500/1500 [==============================] - 7s 4ms/step - loss: 0.0365 - accuracy: 0.9870 - val_loss: 0.2090 - val_accuracy: 0.9553\n",
      "Epoch 47/100\n",
      "1500/1500 [==============================] - 7s 4ms/step - loss: 0.0356 - accuracy: 0.9878 - val_loss: 0.2080 - val_accuracy: 0.9566\n",
      "Epoch 48/100\n",
      "1500/1500 [==============================] - 7s 4ms/step - loss: 0.0352 - accuracy: 0.9876 - val_loss: 0.2065 - val_accuracy: 0.9563\n",
      "Epoch 49/100\n",
      "1500/1500 [==============================] - 7s 4ms/step - loss: 0.0322 - accuracy: 0.9889 - val_loss: 0.2448 - val_accuracy: 0.9528\n",
      "Epoch 50/100\n",
      "1500/1500 [==============================] - 7s 4ms/step - loss: 0.0327 - accuracy: 0.9884 - val_loss: 0.2297 - val_accuracy: 0.9548\n",
      "Epoch 51/100\n",
      "1500/1500 [==============================] - 7s 4ms/step - loss: 0.0311 - accuracy: 0.9893 - val_loss: 0.2236 - val_accuracy: 0.9554\n",
      "Epoch 52/100\n",
      "1500/1500 [==============================] - 7s 4ms/step - loss: 0.0319 - accuracy: 0.9885 - val_loss: 0.2228 - val_accuracy: 0.9576\n",
      "Epoch 53/100\n",
      "1500/1500 [==============================] - 7s 4ms/step - loss: 0.0299 - accuracy: 0.9895 - val_loss: 0.2266 - val_accuracy: 0.9556\n",
      "Epoch 54/100\n",
      "1500/1500 [==============================] - 7s 4ms/step - loss: 0.0314 - accuracy: 0.9886 - val_loss: 0.2360 - val_accuracy: 0.9563\n",
      "Epoch 55/100\n",
      "1500/1500 [==============================] - 7s 4ms/step - loss: 0.0281 - accuracy: 0.9896 - val_loss: 0.2444 - val_accuracy: 0.9546\n",
      "Epoch 56/100\n",
      "1500/1500 [==============================] - 7s 4ms/step - loss: 0.0271 - accuracy: 0.9911 - val_loss: 0.2402 - val_accuracy: 0.9557\n",
      "Epoch 57/100\n",
      "1500/1500 [==============================] - 7s 5ms/step - loss: 0.0267 - accuracy: 0.9904 - val_loss: 0.2569 - val_accuracy: 0.9518\n",
      "Epoch 58/100\n",
      "1500/1500 [==============================] - 7s 4ms/step - loss: 0.0289 - accuracy: 0.9899 - val_loss: 0.2443 - val_accuracy: 0.9552\n",
      "Epoch 59/100\n",
      "1500/1500 [==============================] - 7s 4ms/step - loss: 0.0259 - accuracy: 0.9909 - val_loss: 0.2481 - val_accuracy: 0.9539\n",
      "Epoch 60/100\n",
      "1500/1500 [==============================] - 7s 4ms/step - loss: 0.0261 - accuracy: 0.9906 - val_loss: 0.2544 - val_accuracy: 0.9548\n",
      "Epoch 61/100\n",
      "1500/1500 [==============================] - 7s 4ms/step - loss: 0.0251 - accuracy: 0.9905 - val_loss: 0.2600 - val_accuracy: 0.9529\n",
      "Epoch 62/100\n",
      "1500/1500 [==============================] - 7s 4ms/step - loss: 0.0268 - accuracy: 0.9905 - val_loss: 0.2537 - val_accuracy: 0.9540\n",
      "Epoch 63/100\n",
      "1500/1500 [==============================] - 7s 4ms/step - loss: 0.0251 - accuracy: 0.9910 - val_loss: 0.2543 - val_accuracy: 0.9569\n",
      "Epoch 64/100\n",
      "1500/1500 [==============================] - 7s 4ms/step - loss: 0.0233 - accuracy: 0.9921 - val_loss: 0.2720 - val_accuracy: 0.9536\n",
      "Epoch 65/100\n",
      "1500/1500 [==============================] - 7s 4ms/step - loss: 0.0235 - accuracy: 0.9909 - val_loss: 0.2816 - val_accuracy: 0.9541\n",
      "Epoch 66/100\n",
      "1500/1500 [==============================] - 7s 4ms/step - loss: 0.0227 - accuracy: 0.9921 - val_loss: 0.2684 - val_accuracy: 0.9542\n",
      "Epoch 67/100\n",
      "1500/1500 [==============================] - 7s 4ms/step - loss: 0.0229 - accuracy: 0.9922 - val_loss: 0.2609 - val_accuracy: 0.9532\n",
      "Epoch 68/100\n",
      "1500/1500 [==============================] - 7s 4ms/step - loss: 0.0245 - accuracy: 0.9913 - val_loss: 0.2790 - val_accuracy: 0.9542\n",
      "Epoch 69/100\n",
      "1500/1500 [==============================] - 7s 4ms/step - loss: 0.0220 - accuracy: 0.9921 - val_loss: 0.2808 - val_accuracy: 0.9526\n",
      "Epoch 70/100\n",
      "1500/1500 [==============================] - 7s 4ms/step - loss: 0.0223 - accuracy: 0.9918 - val_loss: 0.2802 - val_accuracy: 0.9542\n",
      "Epoch 71/100\n",
      "1500/1500 [==============================] - 7s 4ms/step - loss: 0.0196 - accuracy: 0.9928 - val_loss: 0.2740 - val_accuracy: 0.9548\n",
      "Epoch 72/100\n",
      "1500/1500 [==============================] - 7s 5ms/step - loss: 0.0199 - accuracy: 0.9933 - val_loss: 0.2991 - val_accuracy: 0.9543\n",
      "Epoch 73/100\n",
      "1500/1500 [==============================] - 7s 4ms/step - loss: 0.0189 - accuracy: 0.9929 - val_loss: 0.3028 - val_accuracy: 0.9536\n",
      "Epoch 74/100\n",
      "1500/1500 [==============================] - 7s 4ms/step - loss: 0.0191 - accuracy: 0.9934 - val_loss: 0.3076 - val_accuracy: 0.9534\n",
      "Epoch 75/100\n",
      "1500/1500 [==============================] - 7s 4ms/step - loss: 0.0206 - accuracy: 0.9925 - val_loss: 0.3073 - val_accuracy: 0.9547\n",
      "Epoch 76/100\n",
      "1500/1500 [==============================] - 7s 4ms/step - loss: 0.0182 - accuracy: 0.9936 - val_loss: 0.3103 - val_accuracy: 0.9525\n",
      "Epoch 77/100\n",
      "1500/1500 [==============================] - 7s 4ms/step - loss: 0.0212 - accuracy: 0.9920 - val_loss: 0.3002 - val_accuracy: 0.9536\n",
      "Epoch 78/100\n",
      "1500/1500 [==============================] - 7s 4ms/step - loss: 0.0177 - accuracy: 0.9939 - val_loss: 0.3039 - val_accuracy: 0.9540\n",
      "Epoch 79/100\n",
      "1500/1500 [==============================] - 7s 4ms/step - loss: 0.0178 - accuracy: 0.9936 - val_loss: 0.3236 - val_accuracy: 0.9525\n",
      "Epoch 80/100\n",
      "1500/1500 [==============================] - 7s 4ms/step - loss: 0.0175 - accuracy: 0.9940 - val_loss: 0.3252 - val_accuracy: 0.9532\n",
      "Epoch 81/100\n",
      "1500/1500 [==============================] - 7s 4ms/step - loss: 0.0193 - accuracy: 0.9928 - val_loss: 0.3289 - val_accuracy: 0.9542\n",
      "Epoch 82/100\n",
      "1500/1500 [==============================] - 7s 4ms/step - loss: 0.0182 - accuracy: 0.9941 - val_loss: 0.3223 - val_accuracy: 0.9538\n",
      "Epoch 83/100\n",
      "1500/1500 [==============================] - 7s 4ms/step - loss: 0.0158 - accuracy: 0.9944 - val_loss: 0.3289 - val_accuracy: 0.9516\n",
      "Epoch 84/100\n",
      "1500/1500 [==============================] - 7s 4ms/step - loss: 0.0181 - accuracy: 0.9936 - val_loss: 0.3263 - val_accuracy: 0.9531\n",
      "Epoch 85/100\n",
      "1500/1500 [==============================] - 7s 5ms/step - loss: 0.0145 - accuracy: 0.9949 - val_loss: 0.3438 - val_accuracy: 0.9522\n",
      "Epoch 86/100\n",
      "1500/1500 [==============================] - 7s 4ms/step - loss: 0.0174 - accuracy: 0.9936 - val_loss: 0.3280 - val_accuracy: 0.9540\n",
      "Epoch 87/100\n",
      "1500/1500 [==============================] - 7s 4ms/step - loss: 0.0154 - accuracy: 0.9950 - val_loss: 0.3371 - val_accuracy: 0.9536\n",
      "Epoch 88/100\n",
      "1500/1500 [==============================] - 7s 4ms/step - loss: 0.0170 - accuracy: 0.9942 - val_loss: 0.3549 - val_accuracy: 0.9532\n",
      "Epoch 89/100\n",
      "1500/1500 [==============================] - 7s 4ms/step - loss: 0.0130 - accuracy: 0.9956 - val_loss: 0.3592 - val_accuracy: 0.9516\n",
      "Epoch 90/100\n",
      "1500/1500 [==============================] - 7s 4ms/step - loss: 0.0152 - accuracy: 0.9946 - val_loss: 0.3566 - val_accuracy: 0.9553\n",
      "Epoch 91/100\n",
      "1500/1500 [==============================] - 7s 4ms/step - loss: 0.0160 - accuracy: 0.9942 - val_loss: 0.3529 - val_accuracy: 0.9523\n",
      "Epoch 92/100\n",
      "1500/1500 [==============================] - 7s 4ms/step - loss: 0.0150 - accuracy: 0.9948 - val_loss: 0.4099 - val_accuracy: 0.9465\n",
      "Epoch 93/100\n",
      "1500/1500 [==============================] - 7s 4ms/step - loss: 0.0155 - accuracy: 0.9946 - val_loss: 0.3694 - val_accuracy: 0.9498\n",
      "Epoch 94/100\n",
      "1500/1500 [==============================] - 7s 4ms/step - loss: 0.0130 - accuracy: 0.9954 - val_loss: 0.3584 - val_accuracy: 0.9539\n",
      "Epoch 95/100\n",
      "1500/1500 [==============================] - 7s 4ms/step - loss: 0.0153 - accuracy: 0.9948 - val_loss: 0.3430 - val_accuracy: 0.9554\n",
      "Epoch 96/100\n",
      "1500/1500 [==============================] - 7s 4ms/step - loss: 0.0141 - accuracy: 0.9951 - val_loss: 0.3618 - val_accuracy: 0.9559\n",
      "Epoch 97/100\n",
      "1500/1500 [==============================] - 7s 4ms/step - loss: 0.0153 - accuracy: 0.9944 - val_loss: 0.3543 - val_accuracy: 0.9549\n",
      "Epoch 98/100\n",
      "1500/1500 [==============================] - 7s 4ms/step - loss: 0.0109 - accuracy: 0.9960 - val_loss: 0.3922 - val_accuracy: 0.9504\n",
      "Epoch 99/100\n",
      "1500/1500 [==============================] - 7s 4ms/step - loss: 0.0155 - accuracy: 0.9944 - val_loss: 0.3598 - val_accuracy: 0.9544\n",
      "Epoch 100/100\n",
      "1500/1500 [==============================] - 7s 4ms/step - loss: 0.0119 - accuracy: 0.9955 - val_loss: 0.3706 - val_accuracy: 0.9539\n"
     ]
    }
   ],
   "source": [
    "#### 6. Treinamento\n",
    "\n",
    "historico = rede_simples.fit(x_treino, \n",
    "                             y_treino, \n",
    "                             epochs = 100, \n",
    "                             verbose = 1,\n",
    "                             validation_data = (x_val, y_val))"
   ]
  },
  {
   "cell_type": "markdown",
   "metadata": {},
   "source": [
    "##### 7. Avaliação do modelo"
   ]
  },
  {
   "cell_type": "code",
   "execution_count": 16,
   "metadata": {},
   "outputs": [
    {
     "name": "stdout",
     "output_type": "stream",
     "text": [
      "313/313 [==============================] - 1s 2ms/step\n"
     ]
    },
    {
     "data": {
      "text/plain": [
       "0.9573"
      ]
     },
     "execution_count": 16,
     "metadata": {},
     "output_type": "execute_result"
    }
   ],
   "source": [
    "from sklearn.metrics import confusion_matrix\n",
    "from sklearn.metrics import accuracy_score\n",
    "\n",
    "x_test = np.expand_dims(x_test,axis=-1)\n",
    "pred_simples = rede_simples.predict(x_test)\n",
    "\n",
    "accuracy_score(y_test.argmax(1), pred_simples.argmax(1))"
   ]
  },
  {
   "cell_type": "code",
   "execution_count": 17,
   "metadata": {},
   "outputs": [
    {
     "data": {
      "image/png": "[encoded data removed]",
      "text/plain": [
       "<Figure size 640x480 with 1 Axes>"
      ]
     },
     "metadata": {},
     "output_type": "display_data"
    }
   ],
   "source": [
    "loss = historico.history['loss']\n",
    "val_loss = historico.history['val_loss']\n",
    "epochs = range(len(loss))\n",
    "plt.figure()\n",
    "plt.plot(epochs, loss, 'bo', label = 'Training loss')\n",
    "plt.plot(epochs, val_loss, 'b', label = 'Validation loss')\n",
    "plt.title('Training and validation loss')\n",
    "plt.legend()\n",
    "plt.show()"
   ]
  },
  {
   "cell_type": "markdown",
   "metadata": {},
   "source": [
    "#### 8. Regularização\n",
    "1. Early Stopping: determinar quando encerrar o treinamento\n",
    "2. Dropout: selecionar neurônios aleatoriamente para o treinamento"
   ]
  },
  {
   "cell_type": "code",
   "execution_count": 18,
   "metadata": {},
   "outputs": [
    {
     "name": "stdout",
     "output_type": "stream",
     "text": [
      "Epoch 1/150\n",
      "1500/1500 [==============================] - 7s 4ms/step - loss: 0.0150 - accuracy: 0.9945 - val_loss: 0.3764 - val_accuracy: 0.9527\n",
      "Epoch 2/150\n",
      "1500/1500 [==============================] - 7s 5ms/step - loss: 0.0117 - accuracy: 0.9962 - val_loss: 0.3811 - val_accuracy: 0.9538\n",
      "Epoch 3/150\n",
      "1500/1500 [==============================] - 7s 4ms/step - loss: 0.0134 - accuracy: 0.9952 - val_loss: 0.3900 - val_accuracy: 0.9513\n",
      "Epoch 4/150\n",
      "1500/1500 [==============================] - 6s 4ms/step - loss: 0.0119 - accuracy: 0.9961 - val_loss: 0.3790 - val_accuracy: 0.9513\n",
      "Epoch 5/150\n",
      "1500/1500 [==============================] - 6s 4ms/step - loss: 0.0129 - accuracy: 0.9952 - val_loss: 0.3994 - val_accuracy: 0.9511\n",
      "Epoch 6/150\n",
      "1500/1500 [==============================] - 6s 4ms/step - loss: 0.0140 - accuracy: 0.9948 - val_loss: 0.3758 - val_accuracy: 0.9515\n",
      "Epoch 7/150\n",
      "1500/1500 [==============================] - 6s 4ms/step - loss: 0.0103 - accuracy: 0.9964 - val_loss: 0.3886 - val_accuracy: 0.9531\n",
      "Epoch 8/150\n",
      "1500/1500 [==============================] - 7s 5ms/step - loss: 0.0150 - accuracy: 0.9944 - val_loss: 0.4104 - val_accuracy: 0.9488\n",
      "Epoch 9/150\n",
      "1500/1500 [==============================] - 7s 5ms/step - loss: 0.0121 - accuracy: 0.9955 - val_loss: 0.3944 - val_accuracy: 0.9516\n",
      "Epoch 10/150\n",
      "1500/1500 [==============================] - 7s 4ms/step - loss: 0.0108 - accuracy: 0.9961 - val_loss: 0.3981 - val_accuracy: 0.9538\n",
      "Epoch 11/150\n",
      "1500/1500 [==============================] - 7s 5ms/step - loss: 0.0114 - accuracy: 0.9961 - val_loss: 0.4050 - val_accuracy: 0.9541\n",
      "Epoch 11: early stopping\n"
     ]
    }
   ],
   "source": [
    "es = EarlyStopping(monitor = 'val_loss', min_delta = 0.001, patience = 10, verbose = 1, mode = 'auto')\n",
    "\n",
    "# Setamos os pesos iniciais iguais à versão antes do treinamento pra ter um comparativo mais real.\n",
    "#rede_simples.set_weights(pesos_iniciais)\n",
    "\n",
    "historico = rede_simples.fit(x_treino, \n",
    "                             y_treino, \n",
    "                             epochs = 150, \n",
    "                             verbose = 1,\n",
    "                             validation_data = (x_val, y_val),\n",
    "                             callbacks = [es])"
   ]
  },
  {
   "cell_type": "code",
   "execution_count": 19,
   "metadata": {},
   "outputs": [
    {
     "data": {
      "image/png": "[encoded data removed]",
      "text/plain": [
       "<Figure size 640x480 with 1 Axes>"
      ]
     },
     "metadata": {},
     "output_type": "display_data"
    }
   ],
   "source": [
    "loss = historico.history['loss']\n",
    "val_loss = historico.history['val_loss']\n",
    "epochs = range(len(loss))\n",
    "plt.figure()\n",
    "plt.plot(epochs, loss, 'bo', label = 'Training loss')\n",
    "plt.plot(epochs, val_loss, 'b', label = 'Validation loss')\n",
    "plt.title('Training and validation loss')\n",
    "plt.legend()\n",
    "plt.show()"
   ]
  },
  {
   "cell_type": "code",
   "execution_count": 20,
   "metadata": {},
   "outputs": [
    {
     "name": "stdout",
     "output_type": "stream",
     "text": [
      "313/313 [==============================] - 1s 2ms/step\n"
     ]
    },
    {
     "data": {
      "text/plain": [
       "0.9571"
      ]
     },
     "execution_count": 20,
     "metadata": {},
     "output_type": "execute_result"
    }
   ],
   "source": [
    "from sklearn.metrics import confusion_matrix\n",
    "from sklearn.metrics import accuracy_score\n",
    "\n",
    "pred_es = rede_simples.predict(x_test)\n",
    "\n",
    "accuracy_score(y_test.argmax(1), pred_es.argmax(1))"
   ]
  },
  {
   "cell_type": "code",
   "execution_count": 21,
   "metadata": {},
   "outputs": [
    {
     "data": {
      "text/plain": [
       "array([[ 958,    0,    4,    1,    0,    1,   10,    1,    5,    0],\n",
       "       [   0, 1123,    4,    0,    1,    0,    2,    3,    2,    0],\n",
       "       [   2,    4,  995,    5,    3,    0,    4,   10,    4,    5],\n",
       "       [   1,    0,   14,  963,    0,    7,    0,    7,   11,    7],\n",
       "       [   1,    1,    7,    0,  950,    0,    3,    1,    0,   19],\n",
       "       [   1,    2,    3,   13,    1,  842,   13,    0,   10,    7],\n",
       "       [  19,    2,    3,    0,    2,    2,  928,    0,    1,    1],\n",
       "       [   0,    8,   12,    5,    5,    0,    0,  984,    4,   10],\n",
       "       [  16,    6,   29,    6,    1,    5,    3,   12,  888,    8],\n",
       "       [   3,    5,    4,    1,   32,    4,    1,   12,    7,  940]])"
      ]
     },
     "execution_count": 21,
     "metadata": {},
     "output_type": "execute_result"
    }
   ],
   "source": [
    "confusion_matrix(y_test.argmax(1), pred_es.argmax(1))"
   ]
  },
  {
   "cell_type": "markdown",
   "metadata": {},
   "source": [
    "### Regularização - Dropout\n",
    "\n",
    "* Alterna quais neurônios vão otimizar os pesos a cada rodada do treinamento"
   ]
  },
  {
   "cell_type": "code",
   "execution_count": 22,
   "metadata": {},
   "outputs": [],
   "source": [
    "rede_dropout = Sequential()\n",
    "rede_dropout.add(Conv2D(filters=1,kernel_size=3,activation='relu',input_shape=[28,28,1]))\n",
    "rede_dropout.add(Dropout(0.3))\n",
    "rede_dropout.add(MaxPool2D(pool_size=(2,2)))\n",
    "rede_dropout.add(Flatten())\n",
    "rede_dropout.add(Dense(25,activation='relu'))\n",
    "rede_dropout.add(Dropout(0.3))\n",
    "rede_dropout.add(Dense(10,activation='softmax'))\n",
    "\n",
    "rede_dropout.compile(loss = 'categorical_crossentropy', optimizer = 'Adam', metrics=['accuracy'])\n"
   ]
  },
  {
   "cell_type": "code",
   "execution_count": 23,
   "metadata": {},
   "outputs": [
    {
     "name": "stdout",
     "output_type": "stream",
     "text": [
      "Epoch 1/150\n",
      "1500/1500 [==============================] - 9s 6ms/step - loss: 0.7667 - accuracy: 0.7523 - val_loss: 0.3577 - val_accuracy: 0.9131\n",
      "Epoch 2/150\n",
      "1500/1500 [==============================] - 8s 5ms/step - loss: 0.4539 - accuracy: 0.8606 - val_loss: 0.2887 - val_accuracy: 0.9201\n",
      "Epoch 3/150\n",
      "1500/1500 [==============================] - 8s 5ms/step - loss: 0.4175 - accuracy: 0.8706 - val_loss: 0.2788 - val_accuracy: 0.9217\n",
      "Epoch 4/150\n",
      "1500/1500 [==============================] - 8s 5ms/step - loss: 0.3965 - accuracy: 0.8756 - val_loss: 0.2690 - val_accuracy: 0.9299\n",
      "Epoch 5/150\n",
      "1500/1500 [==============================] - 8s 5ms/step - loss: 0.3805 - accuracy: 0.8806 - val_loss: 0.2590 - val_accuracy: 0.9318\n",
      "Epoch 6/150\n",
      "1500/1500 [==============================] - 9s 6ms/step - loss: 0.3696 - accuracy: 0.8829 - val_loss: 0.2466 - val_accuracy: 0.9342\n",
      "Epoch 7/150\n",
      "1500/1500 [==============================] - 9s 6ms/step - loss: 0.3657 - accuracy: 0.8844 - val_loss: 0.2372 - val_accuracy: 0.9387\n",
      "Epoch 8/150\n",
      "1500/1500 [==============================] - 9s 6ms/step - loss: 0.3572 - accuracy: 0.8875 - val_loss: 0.2334 - val_accuracy: 0.9380\n",
      "Epoch 9/150\n",
      "1500/1500 [==============================] - 8s 5ms/step - loss: 0.3542 - accuracy: 0.8880 - val_loss: 0.2307 - val_accuracy: 0.9395\n",
      "Epoch 10/150\n",
      "1500/1500 [==============================] - 8s 5ms/step - loss: 0.3523 - accuracy: 0.8871 - val_loss: 0.2251 - val_accuracy: 0.9392\n",
      "Epoch 11/150\n",
      "1500/1500 [==============================] - 8s 5ms/step - loss: 0.3469 - accuracy: 0.8913 - val_loss: 0.2191 - val_accuracy: 0.9403\n",
      "Epoch 12/150\n",
      "1500/1500 [==============================] - 8s 5ms/step - loss: 0.3425 - accuracy: 0.8926 - val_loss: 0.2181 - val_accuracy: 0.9410\n",
      "Epoch 13/150\n",
      "1500/1500 [==============================] - 8s 5ms/step - loss: 0.3430 - accuracy: 0.8915 - val_loss: 0.2153 - val_accuracy: 0.9402\n",
      "Epoch 14/150\n",
      "1500/1500 [==============================] - 8s 5ms/step - loss: 0.3392 - accuracy: 0.8919 - val_loss: 0.2324 - val_accuracy: 0.9392\n",
      "Epoch 15/150\n",
      "1500/1500 [==============================] - 8s 5ms/step - loss: 0.3370 - accuracy: 0.8946 - val_loss: 0.2127 - val_accuracy: 0.9424\n",
      "Epoch 16/150\n",
      "1500/1500 [==============================] - 8s 5ms/step - loss: 0.3354 - accuracy: 0.8950 - val_loss: 0.2089 - val_accuracy: 0.9433\n",
      "Epoch 17/150\n",
      "1500/1500 [==============================] - 8s 5ms/step - loss: 0.3370 - accuracy: 0.8945 - val_loss: 0.2231 - val_accuracy: 0.9391\n",
      "Epoch 18/150\n",
      "1500/1500 [==============================] - 8s 5ms/step - loss: 0.3297 - accuracy: 0.8959 - val_loss: 0.2071 - val_accuracy: 0.9434\n",
      "Epoch 19/150\n",
      "1500/1500 [==============================] - 8s 5ms/step - loss: 0.3302 - accuracy: 0.8957 - val_loss: 0.2029 - val_accuracy: 0.9448\n",
      "Epoch 20/150\n",
      "1500/1500 [==============================] - 8s 5ms/step - loss: 0.3274 - accuracy: 0.8965 - val_loss: 0.2025 - val_accuracy: 0.9449\n",
      "Epoch 21/150\n",
      "1500/1500 [==============================] - 8s 5ms/step - loss: 0.3297 - accuracy: 0.8969 - val_loss: 0.2035 - val_accuracy: 0.9442\n",
      "Epoch 22/150\n",
      "1500/1500 [==============================] - 9s 6ms/step - loss: 0.3263 - accuracy: 0.8977 - val_loss: 0.2006 - val_accuracy: 0.9443\n",
      "Epoch 23/150\n",
      "1500/1500 [==============================] - 7s 5ms/step - loss: 0.3260 - accuracy: 0.8974 - val_loss: 0.2083 - val_accuracy: 0.9421\n",
      "Epoch 24/150\n",
      "1500/1500 [==============================] - 7s 5ms/step - loss: 0.3243 - accuracy: 0.8969 - val_loss: 0.1984 - val_accuracy: 0.9447\n",
      "Epoch 25/150\n",
      "1500/1500 [==============================] - 8s 5ms/step - loss: 0.3209 - accuracy: 0.8978 - val_loss: 0.2089 - val_accuracy: 0.9433\n",
      "Epoch 26/150\n",
      "1500/1500 [==============================] - 8s 5ms/step - loss: 0.3231 - accuracy: 0.8985 - val_loss: 0.2028 - val_accuracy: 0.9452\n",
      "Epoch 27/150\n",
      "1500/1500 [==============================] - 8s 5ms/step - loss: 0.3211 - accuracy: 0.8994 - val_loss: 0.2028 - val_accuracy: 0.9446\n",
      "Epoch 28/150\n",
      "1500/1500 [==============================] - 8s 5ms/step - loss: 0.3184 - accuracy: 0.9003 - val_loss: 0.2095 - val_accuracy: 0.9438\n",
      "Epoch 29/150\n",
      "1500/1500 [==============================] - 8s 5ms/step - loss: 0.3239 - accuracy: 0.8975 - val_loss: 0.1924 - val_accuracy: 0.9468\n",
      "Epoch 30/150\n",
      "1500/1500 [==============================] - 8s 5ms/step - loss: 0.3210 - accuracy: 0.8984 - val_loss: 0.1952 - val_accuracy: 0.9466\n",
      "Epoch 31/150\n",
      "1500/1500 [==============================] - 11s 8ms/step - loss: 0.3180 - accuracy: 0.8991 - val_loss: 0.1986 - val_accuracy: 0.9454\n",
      "Epoch 32/150\n",
      "1500/1500 [==============================] - 9s 6ms/step - loss: 0.3214 - accuracy: 0.9000 - val_loss: 0.1982 - val_accuracy: 0.9442\n",
      "Epoch 33/150\n",
      "1500/1500 [==============================] - 8s 5ms/step - loss: 0.3167 - accuracy: 0.9006 - val_loss: 0.2090 - val_accuracy: 0.9436\n",
      "Epoch 34/150\n",
      "1500/1500 [==============================] - 8s 5ms/step - loss: 0.3183 - accuracy: 0.9011 - val_loss: 0.1954 - val_accuracy: 0.9445\n",
      "Epoch 35/150\n",
      "1500/1500 [==============================] - 8s 5ms/step - loss: 0.3144 - accuracy: 0.9014 - val_loss: 0.1989 - val_accuracy: 0.9450\n",
      "Epoch 36/150\n",
      "1500/1500 [==============================] - 8s 5ms/step - loss: 0.3107 - accuracy: 0.9029 - val_loss: 0.1918 - val_accuracy: 0.9469\n",
      "Epoch 37/150\n",
      "1500/1500 [==============================] - 8s 5ms/step - loss: 0.3185 - accuracy: 0.8996 - val_loss: 0.1896 - val_accuracy: 0.9484\n",
      "Epoch 38/150\n",
      "1500/1500 [==============================] - 8s 5ms/step - loss: 0.3184 - accuracy: 0.9008 - val_loss: 0.1863 - val_accuracy: 0.9484\n",
      "Epoch 39/150\n",
      "1500/1500 [==============================] - 8s 5ms/step - loss: 0.3104 - accuracy: 0.9018 - val_loss: 0.1876 - val_accuracy: 0.9467\n",
      "Epoch 40/150\n",
      "1500/1500 [==============================] - 8s 5ms/step - loss: 0.3103 - accuracy: 0.9015 - val_loss: 0.1960 - val_accuracy: 0.9468\n",
      "Epoch 41/150\n",
      "1500/1500 [==============================] - 8s 5ms/step - loss: 0.3060 - accuracy: 0.9037 - val_loss: 0.2010 - val_accuracy: 0.9451\n",
      "Epoch 42/150\n",
      "1500/1500 [==============================] - 8s 5ms/step - loss: 0.3141 - accuracy: 0.9016 - val_loss: 0.1902 - val_accuracy: 0.9466\n",
      "Epoch 43/150\n",
      "1500/1500 [==============================] - 10s 7ms/step - loss: 0.3117 - accuracy: 0.9009 - val_loss: 0.1952 - val_accuracy: 0.9462\n",
      "Epoch 44/150\n",
      "1500/1500 [==============================] - 20s 14ms/step - loss: 0.3109 - accuracy: 0.9013 - val_loss: 0.1954 - val_accuracy: 0.9428\n",
      "Epoch 45/150\n",
      "1500/1500 [==============================] - 18s 12ms/step - loss: 0.3105 - accuracy: 0.9020 - val_loss: 0.1846 - val_accuracy: 0.9473\n",
      "Epoch 46/150\n",
      "1500/1500 [==============================] - 10s 7ms/step - loss: 0.3078 - accuracy: 0.9039 - val_loss: 0.1899 - val_accuracy: 0.9472\n",
      "Epoch 47/150\n",
      "1500/1500 [==============================] - 8s 5ms/step - loss: 0.3077 - accuracy: 0.9030 - val_loss: 0.1908 - val_accuracy: 0.9472\n",
      "Epoch 48/150\n",
      "1500/1500 [==============================] - 8s 5ms/step - loss: 0.3082 - accuracy: 0.9026 - val_loss: 0.1877 - val_accuracy: 0.9468\n",
      "Epoch 49/150\n",
      "1500/1500 [==============================] - 10s 7ms/step - loss: 0.3023 - accuracy: 0.9052 - val_loss: 0.1893 - val_accuracy: 0.9462\n",
      "Epoch 50/150\n",
      "1500/1500 [==============================] - 8s 5ms/step - loss: 0.3053 - accuracy: 0.9045 - val_loss: 0.1962 - val_accuracy: 0.9449\n",
      "Epoch 51/150\n",
      "1500/1500 [==============================] - 9s 6ms/step - loss: 0.3082 - accuracy: 0.9019 - val_loss: 0.1851 - val_accuracy: 0.9481\n",
      "Epoch 52/150\n",
      "1500/1500 [==============================] - 8s 6ms/step - loss: 0.3065 - accuracy: 0.9046 - val_loss: 0.1873 - val_accuracy: 0.9468\n",
      "Epoch 53/150\n",
      "1500/1500 [==============================] - 8s 6ms/step - loss: 0.3074 - accuracy: 0.9046 - val_loss: 0.1930 - val_accuracy: 0.9466\n",
      "Epoch 54/150\n",
      "1500/1500 [==============================] - 8s 6ms/step - loss: 0.3073 - accuracy: 0.9033 - val_loss: 0.1848 - val_accuracy: 0.9466\n",
      "Epoch 55/150\n",
      "1500/1500 [==============================] - 8s 5ms/step - loss: 0.3082 - accuracy: 0.9022 - val_loss: 0.1893 - val_accuracy: 0.9452\n",
      "Epoch 55: early stopping\n"
     ]
    }
   ],
   "source": [
    "historico = rede_dropout.fit(x_treino, \n",
    "                             y_treino, \n",
    "                             epochs = 150, \n",
    "                             verbose = 1,\n",
    "                             validation_data = (x_val, y_val),\n",
    "                             callbacks = [es])"
   ]
  },
  {
   "cell_type": "code",
   "execution_count": 24,
   "metadata": {},
   "outputs": [
    {
     "data": {
      "image/png": "[encoded data removed]",
      "text/plain": [
       "<Figure size 640x480 with 1 Axes>"
      ]
     },
     "metadata": {},
     "output_type": "display_data"
    }
   ],
   "source": [
    "loss = historico.history['loss']\n",
    "val_loss = historico.history['val_loss']\n",
    "epochs = range(len(loss))\n",
    "plt.figure()\n",
    "plt.plot(epochs, loss, 'bo', label = 'Training loss')\n",
    "plt.plot(epochs, val_loss, 'b', label = 'Validation loss')\n",
    "plt.title('Training and validation loss')\n",
    "plt.legend()\n",
    "plt.show()"
   ]
  },
  {
   "cell_type": "code",
   "execution_count": 25,
   "metadata": {},
   "outputs": [
    {
     "name": "stdout",
     "output_type": "stream",
     "text": [
      "166/313 [==============>...............] - ETA: 0s"
     ]
    },
    {
     "name": "stdout",
     "output_type": "stream",
     "text": [
      "313/313 [==============================] - 1s 3ms/step\n"
     ]
    },
    {
     "data": {
      "text/plain": [
       "0.9479"
      ]
     },
     "execution_count": 25,
     "metadata": {},
     "output_type": "execute_result"
    }
   ],
   "source": [
    "pred_dropout = rede_dropout.predict(x_test)\n",
    "\n",
    "accuracy_score(y_test.argmax(1), pred_dropout.argmax(1))"
   ]
  },
  {
   "cell_type": "code",
   "execution_count": 26,
   "metadata": {},
   "outputs": [
    {
     "data": {
      "text/plain": [
       "array([[ 970,    0,    0,    1,    4,    1,    2,    1,    1,    0],\n",
       "       [   0, 1106,    4,    2,    0,    1,    6,    0,   16,    0],\n",
       "       [   7,    1,  963,   10,    9,    1,    8,    9,   24,    0],\n",
       "       [   3,    2,   16,  941,    0,   14,    0,   16,   14,    4],\n",
       "       [   0,    0,    3,    0,  946,    0,   10,    4,    2,   17],\n",
       "       [  10,    0,    1,   15,    4,  830,   16,    5,    8,    3],\n",
       "       [  12,    2,    0,    0,    7,    5,  931,    0,    1,    0],\n",
       "       [   2,    8,   16,    4,    3,    0,    0,  980,    0,   15],\n",
       "       [  17,    6,    3,    4,    9,   10,   13,   11,  896,    5],\n",
       "       [   8,    6,    1,   10,   42,    7,    0,   14,    5,  916]])"
      ]
     },
     "execution_count": 26,
     "metadata": {},
     "output_type": "execute_result"
    }
   ],
   "source": [
    "confusion_matrix(y_test.argmax(1), pred_dropout.argmax(1))"
   ]
  },
  {
   "cell_type": "markdown",
   "metadata": {},
   "source": [
    "# Regressão"
   ]
  },
  {
   "cell_type": "code",
   "execution_count": 27,
   "metadata": {},
   "outputs": [],
   "source": [
    "(x_train, y_train), (x_test, y_test) = tf.keras.datasets.boston_housing.load_data()"
   ]
  },
  {
   "cell_type": "code",
   "execution_count": 28,
   "metadata": {},
   "outputs": [],
   "source": [
    "mean = x_train.mean(axis=0)\n",
    "x_train -= mean\n",
    "std = x_train.std(axis=0)\n",
    "x_train /= std\n",
    "\n",
    "x_test -= mean\n",
    "x_test /= std"
   ]
  },
  {
   "cell_type": "code",
   "execution_count": 29,
   "metadata": {},
   "outputs": [
    {
     "data": {
      "text/plain": [
       "((323, 13), (81, 13), (102, 13), (323,), (81,), (102,))"
      ]
     },
     "execution_count": 29,
     "metadata": {},
     "output_type": "execute_result"
    }
   ],
   "source": [
    "from sklearn.model_selection import train_test_split\n",
    "\n",
    "x_treino, x_val, y_treino, y_val = train_test_split(x_train, y_train, test_size = 0.2, random_state = 13)\n",
    "\n",
    "x_treino.shape, x_val.shape, x_test.shape, y_treino.shape, y_val.shape, y_test.shape, "
   ]
  },
  {
   "cell_type": "code",
   "execution_count": 30,
   "metadata": {},
   "outputs": [],
   "source": [
    "model = Sequential()\n",
    "model.add(Conv1D(3,1, activation='relu', input_shape=(len(x_train[1]),1)))\n",
    "model.add(Dense(64, activation='relu'))\n",
    "model.add(Dense(1))\n",
    "\n",
    "model.compile(optimizer='rmsprop',\n",
    "              loss='mse',\n",
    "              metrics=['mae'])"
   ]
  },
  {
   "cell_type": "code",
   "execution_count": 31,
   "metadata": {},
   "outputs": [
    {
     "name": "stdout",
     "output_type": "stream",
     "text": [
      "Model: \"sequential_2\"\n",
      "_________________________________________________________________\n",
      " Layer (type)                Output Shape              Param #   \n",
      "=================================================================\n",
      " conv1d (Conv1D)             (None, 13, 3)             6         \n",
      "                                                                 \n",
      " dense_4 (Dense)             (None, 13, 64)            256       \n",
      "                                                                 \n",
      " dense_5 (Dense)             (None, 13, 1)             65        \n",
      "                                                                 \n",
      "=================================================================\n",
      "Total params: 327 (1.28 KB)\n",
      "Trainable params: 327 (1.28 KB)\n",
      "Non-trainable params: 0 (0.00 Byte)\n",
      "_________________________________________________________________\n"
     ]
    }
   ],
   "source": [
    "model.summary()"
   ]
  },
  {
   "cell_type": "code",
   "execution_count": 32,
   "metadata": {},
   "outputs": [],
   "source": [
    "x_treino = np.expand_dims(x_treino,axis=1)"
   ]
  },
  {
   "cell_type": "code",
   "execution_count": 33,
   "metadata": {},
   "outputs": [],
   "source": [
    "x_train = np.expand_dims(x_train,axis=-1)"
   ]
  },
  {
   "cell_type": "code",
   "execution_count": 34,
   "metadata": {},
   "outputs": [],
   "source": [
    "valid = (x_val,y_val)"
   ]
  },
  {
   "cell_type": "code",
   "execution_count": 35,
   "metadata": {},
   "outputs": [
    {
     "name": "stdout",
     "output_type": "stream",
     "text": [
      "Epoch 1/150\n",
      "6/6 [==============================] - 1s 44ms/step - loss: 571.0369 - mae: 22.0644 - val_loss: 638.9532 - val_mae: 23.5463\n",
      "Epoch 2/150\n",
      "6/6 [==============================] - 0s 7ms/step - loss: 565.8749 - mae: 21.9482 - val_loss: 634.3478 - val_mae: 23.4480\n",
      "Epoch 3/150\n",
      "6/6 [==============================] - 0s 8ms/step - loss: 561.5872 - mae: 21.8503 - val_loss: 629.1774 - val_mae: 23.3370\n",
      "Epoch 4/150\n",
      "6/6 [==============================] - 0s 7ms/step - loss: 556.9340 - mae: 21.7431 - val_loss: 624.4966 - val_mae: 23.2359\n",
      "Epoch 5/150\n",
      "6/6 [==============================] - 0s 8ms/step - loss: 552.6193 - mae: 21.6426 - val_loss: 619.5878 - val_mae: 23.1292\n",
      "Epoch 6/150\n",
      "6/6 [==============================] - 0s 7ms/step - loss: 548.0963 - mae: 21.5372 - val_loss: 614.7988 - val_mae: 23.0244\n",
      "Epoch 7/150\n",
      "6/6 [==============================] - 0s 6ms/step - loss: 543.6354 - mae: 21.4319 - val_loss: 609.9155 - val_mae: 22.9168\n",
      "Epoch 8/150\n",
      "6/6 [==============================] - 0s 6ms/step - loss: 539.0133 - mae: 21.3237 - val_loss: 604.8720 - val_mae: 22.8050\n",
      "Epoch 9/150\n",
      "6/6 [==============================] - 0s 7ms/step - loss: 534.3119 - mae: 21.2111 - val_loss: 599.1800 - val_mae: 22.6779\n",
      "Epoch 10/150\n",
      "6/6 [==============================] - 0s 8ms/step - loss: 529.0799 - mae: 21.0847 - val_loss: 593.7729 - val_mae: 22.5562\n",
      "Epoch 11/150\n",
      "6/6 [==============================] - 0s 8ms/step - loss: 524.0276 - mae: 20.9615 - val_loss: 587.8774 - val_mae: 22.4225\n",
      "Epoch 12/150\n",
      "6/6 [==============================] - 0s 8ms/step - loss: 518.5860 - mae: 20.8270 - val_loss: 582.0338 - val_mae: 22.2887\n",
      "Epoch 13/150\n",
      "1/6 [====>.........................] - ETA: 0s - loss: 527.6533 - mae: 21.3115"
     ]
    },
    {
     "name": "stderr",
     "output_type": "stream",
     "text": [
      "2023-11-01 07:58:56.628067: E ./tensorflow/compiler/xla/stream_executor/stream_executor_internal.h:124] SetPriority unimplemented for this stream.\n"
     ]
    },
    {
     "name": "stdout",
     "output_type": "stream",
     "text": [
      "6/6 [==============================] - 0s 8ms/step - loss: 513.1032 - mae: 20.6915 - val_loss: 575.6897 - val_mae: 22.1423\n",
      "Epoch 14/150\n",
      "6/6 [==============================] - 0s 7ms/step - loss: 507.2245 - mae: 20.5448 - val_loss: 569.1984 - val_mae: 21.9911\n",
      "Epoch 15/150\n",
      "1/6 [====>.........................] - ETA: 0s - loss: 616.4890 - mae: 22.3848"
     ]
    },
    {
     "name": "stdout",
     "output_type": "stream",
     "text": [
      "6/6 [==============================] - 0s 14ms/step - loss: 501.1854 - mae: 20.3907 - val_loss: 562.5417 - val_mae: 21.8345\n",
      "Epoch 16/150\n",
      "6/6 [==============================] - 0s 10ms/step - loss: 494.8015 - mae: 20.2340 - val_loss: 554.2441 - val_mae: 21.6369\n",
      "Epoch 17/150\n",
      "6/6 [==============================] - 0s 8ms/step - loss: 487.7415 - mae: 20.0463 - val_loss: 547.6615 - val_mae: 21.4786\n",
      "Epoch 18/150\n",
      "6/6 [==============================] - 0s 10ms/step - loss: 481.5125 - mae: 19.8834 - val_loss: 540.8677 - val_mae: 21.3133\n",
      "Epoch 19/150\n",
      "6/6 [==============================] - 0s 8ms/step - loss: 475.0937 - mae: 19.7183 - val_loss: 533.5137 - val_mae: 21.1325\n",
      "Epoch 20/150\n",
      "6/6 [==============================] - 0s 8ms/step - loss: 468.3385 - mae: 19.5363 - val_loss: 525.1732 - val_mae: 20.9246\n",
      "Epoch 21/150\n",
      "6/6 [==============================] - 0s 8ms/step - loss: 460.7863 - mae: 19.3329 - val_loss: 516.2161 - val_mae: 20.6983\n",
      "Epoch 22/150\n",
      "6/6 [==============================] - 0s 7ms/step - loss: 452.8683 - mae: 19.1118 - val_loss: 508.1098 - val_mae: 20.4910\n",
      "Epoch 23/150\n",
      "6/6 [==============================] - 0s 7ms/step - loss: 445.4261 - mae: 18.9073 - val_loss: 500.0957 - val_mae: 20.2833\n",
      "Epoch 24/150\n",
      "6/6 [==============================] - 0s 7ms/step - loss: 437.7007 - mae: 18.7018 - val_loss: 491.7710 - val_mae: 20.0647\n",
      "Epoch 25/150\n",
      "6/6 [==============================] - 0s 7ms/step - loss: 430.5041 - mae: 18.4829 - val_loss: 482.9559 - val_mae: 19.8297\n",
      "Epoch 26/150\n",
      "6/6 [==============================] - 0s 7ms/step - loss: 422.5962 - mae: 18.2541 - val_loss: 473.2708 - val_mae: 19.5677\n",
      "Epoch 27/150\n",
      "6/6 [==============================] - 0s 7ms/step - loss: 414.0448 - mae: 18.0019 - val_loss: 463.8416 - val_mae: 19.3087\n",
      "Epoch 28/150\n",
      "6/6 [==============================] - 0s 7ms/step - loss: 405.3197 - mae: 17.7521 - val_loss: 455.1569 - val_mae: 19.0668\n",
      "Epoch 29/150\n",
      "6/6 [==============================] - 0s 7ms/step - loss: 397.8557 - mae: 17.5204 - val_loss: 445.7061 - val_mae: 18.7996\n",
      "Epoch 30/150\n",
      "6/6 [==============================] - 0s 6ms/step - loss: 389.3409 - mae: 17.2658 - val_loss: 435.8811 - val_mae: 18.5175\n",
      "Epoch 31/150\n",
      "6/6 [==============================] - 0s 6ms/step - loss: 380.5976 - mae: 17.0011 - val_loss: 426.4743 - val_mae: 18.2433\n",
      "Epoch 32/150\n",
      "6/6 [==============================] - 0s 6ms/step - loss: 372.5600 - mae: 16.7426 - val_loss: 418.0246 - val_mae: 17.9942\n",
      "Epoch 33/150\n",
      "6/6 [==============================] - 0s 6ms/step - loss: 365.0264 - mae: 16.5028 - val_loss: 407.7627 - val_mae: 17.6865\n",
      "Epoch 34/150\n",
      "6/6 [==============================] - 0s 6ms/step - loss: 356.1171 - mae: 16.2297 - val_loss: 398.7906 - val_mae: 17.4143\n",
      "Epoch 35/150\n",
      "6/6 [==============================] - 0s 6ms/step - loss: 348.4953 - mae: 15.9712 - val_loss: 389.4763 - val_mae: 17.1275\n",
      "Epoch 36/150\n",
      "6/6 [==============================] - 0s 6ms/step - loss: 340.3083 - mae: 15.7120 - val_loss: 381.1773 - val_mae: 16.8695\n",
      "Epoch 37/150\n",
      "6/6 [==============================] - 0s 7ms/step - loss: 333.0884 - mae: 15.4653 - val_loss: 372.2527 - val_mae: 16.5881\n",
      "Epoch 38/150\n",
      "6/6 [==============================] - 0s 6ms/step - loss: 325.5233 - mae: 15.2121 - val_loss: 362.2622 - val_mae: 16.2690\n",
      "Epoch 39/150\n",
      "6/6 [==============================] - 0s 6ms/step - loss: 317.0701 - mae: 14.9304 - val_loss: 354.0364 - val_mae: 16.0040\n",
      "Epoch 40/150\n",
      "6/6 [==============================] - 0s 7ms/step - loss: 310.1788 - mae: 14.7006 - val_loss: 344.8913 - val_mae: 15.7044\n",
      "Epoch 41/150\n",
      "6/6 [==============================] - 0s 7ms/step - loss: 302.2962 - mae: 14.4294 - val_loss: 336.6546 - val_mae: 15.4326\n",
      "Epoch 42/150\n",
      "6/6 [==============================] - 0s 6ms/step - loss: 295.7478 - mae: 14.1979 - val_loss: 327.9814 - val_mae: 15.1433\n",
      "Epoch 43/150\n",
      "6/6 [==============================] - 0s 6ms/step - loss: 288.7646 - mae: 13.9554 - val_loss: 318.6096 - val_mae: 14.8278\n",
      "Epoch 44/150\n",
      "6/6 [==============================] - 0s 6ms/step - loss: 281.0982 - mae: 13.7000 - val_loss: 311.8782 - val_mae: 14.6013\n",
      "Epoch 45/150\n",
      "6/6 [==============================] - 0s 6ms/step - loss: 275.7744 - mae: 13.4992 - val_loss: 303.7315 - val_mae: 14.3244\n",
      "Epoch 46/150\n",
      "6/6 [==============================] - 0s 7ms/step - loss: 269.4290 - mae: 13.2701 - val_loss: 296.6385 - val_mae: 14.0825\n",
      "Epoch 47/150\n",
      "6/6 [==============================] - 0s 6ms/step - loss: 263.4770 - mae: 13.0669 - val_loss: 289.5549 - val_mae: 13.8407\n",
      "Epoch 48/150\n",
      "6/6 [==============================] - 0s 6ms/step - loss: 258.8225 - mae: 12.8952 - val_loss: 282.8646 - val_mae: 13.6144\n",
      "Epoch 49/150\n",
      "6/6 [==============================] - 0s 6ms/step - loss: 253.7940 - mae: 12.7164 - val_loss: 277.6793 - val_mae: 13.4415\n",
      "Epoch 50/150\n",
      "6/6 [==============================] - 0s 7ms/step - loss: 249.6579 - mae: 12.5805 - val_loss: 272.3326 - val_mae: 13.2624\n",
      "Epoch 51/150\n",
      "6/6 [==============================] - 0s 6ms/step - loss: 245.3323 - mae: 12.4296 - val_loss: 266.1879 - val_mae: 13.0562\n",
      "Epoch 52/150\n",
      "6/6 [==============================] - 0s 6ms/step - loss: 241.1509 - mae: 12.2825 - val_loss: 260.1458 - val_mae: 12.8517\n",
      "Epoch 53/150\n",
      "6/6 [==============================] - 0s 6ms/step - loss: 236.9899 - mae: 12.1412 - val_loss: 256.3231 - val_mae: 12.7265\n",
      "Epoch 54/150\n",
      "6/6 [==============================] - 0s 7ms/step - loss: 232.4808 - mae: 11.9881 - val_loss: 251.0499 - val_mae: 12.5503\n",
      "Epoch 55/150\n",
      "6/6 [==============================] - 0s 6ms/step - loss: 230.0875 - mae: 11.9053 - val_loss: 248.3504 - val_mae: 12.4655\n",
      "Epoch 56/150\n",
      "6/6 [==============================] - 0s 6ms/step - loss: 227.4130 - mae: 11.8159 - val_loss: 244.3359 - val_mae: 12.3330\n",
      "Epoch 57/150\n",
      "6/6 [==============================] - 0s 7ms/step - loss: 224.4733 - mae: 11.7110 - val_loss: 240.1009 - val_mae: 12.1941\n",
      "Epoch 58/150\n",
      "6/6 [==============================] - 0s 6ms/step - loss: 219.9618 - mae: 11.5829 - val_loss: 235.1451 - val_mae: 12.0318\n",
      "Epoch 59/150\n",
      "6/6 [==============================] - 0s 6ms/step - loss: 217.5022 - mae: 11.4857 - val_loss: 231.8893 - val_mae: 11.9269\n",
      "Epoch 60/150\n",
      "6/6 [==============================] - 0s 7ms/step - loss: 214.6899 - mae: 11.3963 - val_loss: 228.5176 - val_mae: 11.8177\n",
      "Epoch 61/150\n",
      "6/6 [==============================] - 0s 7ms/step - loss: 211.2245 - mae: 11.2856 - val_loss: 225.4211 - val_mae: 11.7178\n",
      "Epoch 62/150\n",
      "6/6 [==============================] - 0s 7ms/step - loss: 208.5345 - mae: 11.1969 - val_loss: 220.5287 - val_mae: 11.5584\n",
      "Epoch 63/150\n",
      "6/6 [==============================] - 0s 6ms/step - loss: 205.4709 - mae: 11.0985 - val_loss: 218.3098 - val_mae: 11.4865\n",
      "Epoch 64/150\n",
      "6/6 [==============================] - 0s 7ms/step - loss: 202.1538 - mae: 10.9927 - val_loss: 216.1996 - val_mae: 11.4177\n",
      "Epoch 65/150\n",
      "6/6 [==============================] - 0s 6ms/step - loss: 198.8858 - mae: 10.8942 - val_loss: 213.7420 - val_mae: 11.3368\n",
      "Epoch 66/150\n",
      "6/6 [==============================] - 0s 6ms/step - loss: 197.8495 - mae: 10.8480 - val_loss: 210.0082 - val_mae: 11.2134\n",
      "Epoch 67/150\n",
      "6/6 [==============================] - 0s 6ms/step - loss: 194.1433 - mae: 10.7252 - val_loss: 205.4245 - val_mae: 11.0632\n",
      "Epoch 68/150\n",
      "6/6 [==============================] - 0s 6ms/step - loss: 191.5855 - mae: 10.6318 - val_loss: 203.7763 - val_mae: 11.0059\n",
      "Epoch 69/150\n",
      "6/6 [==============================] - 0s 6ms/step - loss: 189.0229 - mae: 10.5564 - val_loss: 200.4299 - val_mae: 10.8955\n",
      "Epoch 70/150\n",
      "6/6 [==============================] - 0s 6ms/step - loss: 186.3457 - mae: 10.4673 - val_loss: 196.9228 - val_mae: 10.7818\n",
      "Epoch 71/150\n",
      "6/6 [==============================] - 0s 6ms/step - loss: 183.6207 - mae: 10.3725 - val_loss: 194.2810 - val_mae: 10.6894\n",
      "Epoch 72/150\n",
      "6/6 [==============================] - 0s 6ms/step - loss: 180.1677 - mae: 10.2586 - val_loss: 190.3004 - val_mae: 10.5617\n",
      "Epoch 73/150\n",
      "6/6 [==============================] - 0s 6ms/step - loss: 177.7112 - mae: 10.1743 - val_loss: 188.4135 - val_mae: 10.4920\n",
      "Epoch 74/150\n",
      "6/6 [==============================] - 0s 6ms/step - loss: 175.3760 - mae: 10.0875 - val_loss: 185.3722 - val_mae: 10.3895\n",
      "Epoch 75/150\n",
      "6/6 [==============================] - 0s 6ms/step - loss: 172.4983 - mae: 9.9963 - val_loss: 181.9817 - val_mae: 10.2754\n",
      "Epoch 76/150\n",
      "6/6 [==============================] - 0s 6ms/step - loss: 169.7086 - mae: 9.9016 - val_loss: 178.5884 - val_mae: 10.1591\n",
      "Epoch 77/150\n",
      "6/6 [==============================] - 0s 6ms/step - loss: 166.6798 - mae: 9.7878 - val_loss: 175.2599 - val_mae: 10.0430\n",
      "Epoch 78/150\n",
      "6/6 [==============================] - 0s 6ms/step - loss: 163.1712 - mae: 9.6557 - val_loss: 171.6884 - val_mae: 9.9221\n",
      "Epoch 79/150\n",
      "6/6 [==============================] - 0s 6ms/step - loss: 159.3269 - mae: 9.5452 - val_loss: 169.2448 - val_mae: 9.8263\n",
      "Epoch 80/150\n",
      "6/6 [==============================] - 0s 6ms/step - loss: 156.9766 - mae: 9.4468 - val_loss: 166.8571 - val_mae: 9.7313\n",
      "Epoch 81/150\n",
      "6/6 [==============================] - 0s 6ms/step - loss: 154.4326 - mae: 9.3446 - val_loss: 163.6987 - val_mae: 9.6179\n",
      "Epoch 82/150\n",
      "6/6 [==============================] - 0s 6ms/step - loss: 151.9601 - mae: 9.2619 - val_loss: 160.2234 - val_mae: 9.4937\n",
      "Epoch 83/150\n",
      "6/6 [==============================] - 0s 6ms/step - loss: 149.0148 - mae: 9.1512 - val_loss: 156.8580 - val_mae: 9.3694\n",
      "Epoch 84/150\n",
      "6/6 [==============================] - 0s 6ms/step - loss: 146.0906 - mae: 9.0379 - val_loss: 152.4640 - val_mae: 9.2257\n",
      "Epoch 85/150\n",
      "6/6 [==============================] - 0s 6ms/step - loss: 142.7602 - mae: 8.9340 - val_loss: 149.4098 - val_mae: 9.1162\n",
      "Epoch 86/150\n",
      "6/6 [==============================] - 0s 6ms/step - loss: 139.4128 - mae: 8.8005 - val_loss: 146.9803 - val_mae: 9.0157\n",
      "Epoch 87/150\n",
      "6/6 [==============================] - 0s 7ms/step - loss: 137.3458 - mae: 8.7294 - val_loss: 143.8398 - val_mae: 8.9013\n",
      "Epoch 88/150\n",
      "6/6 [==============================] - 0s 6ms/step - loss: 134.3680 - mae: 8.5989 - val_loss: 140.3395 - val_mae: 8.7883\n",
      "Epoch 89/150\n",
      "6/6 [==============================] - 0s 6ms/step - loss: 132.1159 - mae: 8.5381 - val_loss: 138.3391 - val_mae: 8.7004\n",
      "Epoch 90/150\n",
      "6/6 [==============================] - 0s 6ms/step - loss: 129.7055 - mae: 8.4486 - val_loss: 136.7186 - val_mae: 8.6123\n",
      "Epoch 91/150\n",
      "6/6 [==============================] - 0s 6ms/step - loss: 127.5668 - mae: 8.3537 - val_loss: 133.4521 - val_mae: 8.4999\n",
      "Epoch 92/150\n",
      "6/6 [==============================] - 0s 7ms/step - loss: 125.1589 - mae: 8.2710 - val_loss: 131.1276 - val_mae: 8.4028\n",
      "Epoch 93/150\n",
      "6/6 [==============================] - 0s 6ms/step - loss: 122.8979 - mae: 8.1810 - val_loss: 128.8708 - val_mae: 8.3118\n",
      "Epoch 94/150\n",
      "6/6 [==============================] - 0s 6ms/step - loss: 120.5362 - mae: 8.0663 - val_loss: 125.8594 - val_mae: 8.2122\n",
      "Epoch 95/150\n",
      "6/6 [==============================] - 0s 6ms/step - loss: 118.2177 - mae: 8.0081 - val_loss: 124.5806 - val_mae: 8.1277\n",
      "Epoch 96/150\n",
      "6/6 [==============================] - 0s 6ms/step - loss: 116.2189 - mae: 7.9016 - val_loss: 122.0572 - val_mae: 8.0364\n",
      "Epoch 97/150\n",
      "6/6 [==============================] - 0s 6ms/step - loss: 114.2713 - mae: 7.8373 - val_loss: 120.3640 - val_mae: 7.9558\n",
      "Epoch 98/150\n",
      "6/6 [==============================] - 0s 6ms/step - loss: 112.6673 - mae: 7.7636 - val_loss: 118.1569 - val_mae: 7.8659\n",
      "Epoch 99/150\n",
      "6/6 [==============================] - 0s 6ms/step - loss: 110.5031 - mae: 7.6701 - val_loss: 114.8976 - val_mae: 7.7644\n",
      "Epoch 100/150\n",
      "6/6 [==============================] - 0s 6ms/step - loss: 108.3285 - mae: 7.6077 - val_loss: 112.3489 - val_mae: 7.6856\n",
      "Epoch 101/150\n",
      "6/6 [==============================] - 0s 7ms/step - loss: 106.6404 - mae: 7.5641 - val_loss: 111.4914 - val_mae: 7.6124\n",
      "Epoch 102/150\n",
      "6/6 [==============================] - 0s 7ms/step - loss: 105.1273 - mae: 7.4690 - val_loss: 109.8349 - val_mae: 7.5408\n",
      "Epoch 103/150\n",
      "6/6 [==============================] - 0s 6ms/step - loss: 103.3248 - mae: 7.4084 - val_loss: 108.6712 - val_mae: 7.4704\n",
      "Epoch 104/150\n",
      "6/6 [==============================] - 0s 6ms/step - loss: 101.9297 - mae: 7.3371 - val_loss: 107.1833 - val_mae: 7.3883\n",
      "Epoch 105/150\n",
      "6/6 [==============================] - 0s 6ms/step - loss: 100.3454 - mae: 7.2559 - val_loss: 104.6382 - val_mae: 7.3155\n",
      "Epoch 106/150\n",
      "6/6 [==============================] - 0s 6ms/step - loss: 98.7771 - mae: 7.2148 - val_loss: 103.7513 - val_mae: 7.2451\n",
      "Epoch 107/150\n",
      "6/6 [==============================] - 0s 6ms/step - loss: 97.4845 - mae: 7.1296 - val_loss: 103.0340 - val_mae: 7.1850\n",
      "Epoch 108/150\n",
      "6/6 [==============================] - 0s 9ms/step - loss: 96.2813 - mae: 7.0711 - val_loss: 102.3227 - val_mae: 7.1262\n",
      "Epoch 109/150\n",
      "6/6 [==============================] - 0s 6ms/step - loss: 95.3354 - mae: 7.0135 - val_loss: 99.9894 - val_mae: 7.0747\n",
      "Epoch 110/150\n",
      "6/6 [==============================] - 0s 6ms/step - loss: 94.4111 - mae: 7.0013 - val_loss: 99.1814 - val_mae: 7.0295\n",
      "Epoch 111/150\n",
      "6/6 [==============================] - 0s 6ms/step - loss: 93.2973 - mae: 6.9552 - val_loss: 98.7972 - val_mae: 6.9842\n",
      "Epoch 112/150\n",
      "6/6 [==============================] - 0s 6ms/step - loss: 92.4238 - mae: 6.8826 - val_loss: 98.0772 - val_mae: 6.9407\n",
      "Epoch 113/150\n",
      "6/6 [==============================] - 0s 6ms/step - loss: 91.7893 - mae: 6.8557 - val_loss: 97.0518 - val_mae: 6.8940\n",
      "Epoch 114/150\n",
      "6/6 [==============================] - 0s 7ms/step - loss: 91.0841 - mae: 6.8179 - val_loss: 96.0405 - val_mae: 6.8514\n",
      "Epoch 115/150\n",
      "6/6 [==============================] - 0s 6ms/step - loss: 90.2086 - mae: 6.7820 - val_loss: 95.8256 - val_mae: 6.8136\n",
      "Epoch 116/150\n",
      "6/6 [==============================] - 0s 6ms/step - loss: 89.6731 - mae: 6.7299 - val_loss: 93.5353 - val_mae: 6.7738\n",
      "Epoch 117/150\n",
      "6/6 [==============================] - 0s 6ms/step - loss: 88.7310 - mae: 6.7514 - val_loss: 93.4023 - val_mae: 6.7456\n",
      "Epoch 118/150\n",
      "6/6 [==============================] - 0s 6ms/step - loss: 88.3161 - mae: 6.7056 - val_loss: 92.4305 - val_mae: 6.7191\n",
      "Epoch 119/150\n",
      "6/6 [==============================] - 0s 6ms/step - loss: 87.7435 - mae: 6.7009 - val_loss: 91.6387 - val_mae: 6.6874\n",
      "Epoch 120/150\n",
      "6/6 [==============================] - 0s 6ms/step - loss: 87.0916 - mae: 6.6756 - val_loss: 92.2093 - val_mae: 6.6610\n",
      "Epoch 121/150\n",
      "6/6 [==============================] - 0s 6ms/step - loss: 86.8309 - mae: 6.6183 - val_loss: 90.8629 - val_mae: 6.6405\n",
      "Epoch 122/150\n",
      "6/6 [==============================] - 0s 6ms/step - loss: 86.3134 - mae: 6.6274 - val_loss: 89.3270 - val_mae: 6.6350\n",
      "Epoch 123/150\n",
      "6/6 [==============================] - 0s 6ms/step - loss: 85.9723 - mae: 6.6406 - val_loss: 89.8685 - val_mae: 6.6076\n",
      "Epoch 124/150\n",
      "6/6 [==============================] - 0s 6ms/step - loss: 85.7268 - mae: 6.6030 - val_loss: 88.4404 - val_mae: 6.6186\n",
      "Epoch 125/150\n",
      "6/6 [==============================] - 0s 6ms/step - loss: 85.4583 - mae: 6.6597 - val_loss: 88.7644 - val_mae: 6.5988\n",
      "Epoch 126/150\n",
      "6/6 [==============================] - 0s 6ms/step - loss: 85.2336 - mae: 6.6166 - val_loss: 87.8175 - val_mae: 6.6100\n",
      "Epoch 127/150\n",
      "6/6 [==============================] - 0s 7ms/step - loss: 85.2193 - mae: 6.6589 - val_loss: 87.2327 - val_mae: 6.6225\n",
      "Epoch 128/150\n",
      "6/6 [==============================] - 0s 7ms/step - loss: 85.0897 - mae: 6.6797 - val_loss: 87.8990 - val_mae: 6.5894\n",
      "Epoch 129/150\n",
      "6/6 [==============================] - 0s 7ms/step - loss: 84.9187 - mae: 6.6457 - val_loss: 88.2095 - val_mae: 6.5749\n",
      "Epoch 130/150\n",
      "6/6 [==============================] - 0s 12ms/step - loss: 84.7761 - mae: 6.6031 - val_loss: 87.2799 - val_mae: 6.5882\n",
      "Epoch 131/150\n",
      "6/6 [==============================] - 0s 12ms/step - loss: 84.7353 - mae: 6.6534 - val_loss: 87.5906 - val_mae: 6.5720\n",
      "Epoch 132/150\n",
      "6/6 [==============================] - 0s 8ms/step - loss: 84.5775 - mae: 6.6180 - val_loss: 86.8331 - val_mae: 6.5846\n",
      "Epoch 133/150\n",
      "6/6 [==============================] - 0s 7ms/step - loss: 84.5956 - mae: 6.6475 - val_loss: 86.7376 - val_mae: 6.5801\n",
      "Epoch 134/150\n",
      "6/6 [==============================] - 0s 8ms/step - loss: 84.4982 - mae: 6.6339 - val_loss: 87.1686 - val_mae: 6.5647\n",
      "Epoch 135/150\n",
      "6/6 [==============================] - 0s 8ms/step - loss: 84.4193 - mae: 6.6211 - val_loss: 88.2160 - val_mae: 6.5553\n",
      "Epoch 136/150\n",
      "6/6 [==============================] - 0s 7ms/step - loss: 84.4560 - mae: 6.5611 - val_loss: 87.8286 - val_mae: 6.5542\n",
      "Epoch 137/150\n",
      "6/6 [==============================] - 0s 7ms/step - loss: 84.3473 - mae: 6.5728 - val_loss: 88.2517 - val_mae: 6.5539\n",
      "Epoch 138/150\n",
      "6/6 [==============================] - 0s 7ms/step - loss: 84.3425 - mae: 6.5701 - val_loss: 87.6740 - val_mae: 6.5519\n",
      "Epoch 139/150\n",
      "6/6 [==============================] - 0s 7ms/step - loss: 84.2970 - mae: 6.5665 - val_loss: 86.3868 - val_mae: 6.5677\n",
      "Epoch 140/150\n",
      "6/6 [==============================] - 0s 7ms/step - loss: 84.3154 - mae: 6.6503 - val_loss: 86.5316 - val_mae: 6.5620\n",
      "Epoch 141/150\n",
      "6/6 [==============================] - 0s 7ms/step - loss: 84.2072 - mae: 6.6277 - val_loss: 86.7831 - val_mae: 6.5565\n",
      "Epoch 142/150\n",
      "6/6 [==============================] - 0s 7ms/step - loss: 84.3646 - mae: 6.6266 - val_loss: 86.2079 - val_mae: 6.5694\n",
      "Epoch 143/150\n",
      "6/6 [==============================] - 0s 7ms/step - loss: 84.3179 - mae: 6.6426 - val_loss: 87.0945 - val_mae: 6.5516\n",
      "Epoch 144/150\n",
      "6/6 [==============================] - 0s 8ms/step - loss: 84.1737 - mae: 6.6063 - val_loss: 86.1379 - val_mae: 6.5713\n",
      "Epoch 145/150\n",
      "6/6 [==============================] - 0s 8ms/step - loss: 84.3097 - mae: 6.6632 - val_loss: 87.3259 - val_mae: 6.5502\n",
      "Epoch 146/150\n",
      "6/6 [==============================] - 0s 8ms/step - loss: 84.2030 - mae: 6.5897 - val_loss: 86.4717 - val_mae: 6.5627\n",
      "Epoch 147/150\n",
      "6/6 [==============================] - 0s 7ms/step - loss: 84.2541 - mae: 6.6354 - val_loss: 87.0494 - val_mae: 6.5522\n",
      "Epoch 148/150\n",
      "6/6 [==============================] - 0s 7ms/step - loss: 84.2273 - mae: 6.6145 - val_loss: 87.8963 - val_mae: 6.5517\n",
      "Epoch 149/150\n",
      "6/6 [==============================] - 0s 7ms/step - loss: 84.2506 - mae: 6.5739 - val_loss: 86.7376 - val_mae: 6.5581\n",
      "Epoch 150/150\n",
      "6/6 [==============================] - 0s 7ms/step - loss: 84.1933 - mae: 6.6286 - val_loss: 87.7481 - val_mae: 6.5510\n"
     ]
    }
   ],
   "source": [
    "es = EarlyStopping(monitor = 'val_loss', min_delta = 0.001, patience = 10, verbose = 1, mode = 'auto')\n",
    "callbacks = [es]\n",
    "historico = model.fit(x_train, \n",
    "                             y_train, \n",
    "                             epochs = 150, \n",
    "                             batch_size=64,\n",
    "                             verbose = 1,\n",
    "                             validation_split = 0.2 ,\n",
    "                             shuffle=True,\n",
    "                             callbacks = callbacks)"
   ]
  },
  {
   "cell_type": "code",
   "execution_count": 36,
   "metadata": {},
   "outputs": [],
   "source": [
    "x_test = np.expand_dims(x_test, axis=-1)"
   ]
  },
  {
   "cell_type": "code",
   "execution_count": 37,
   "metadata": {},
   "outputs": [
    {
     "data": {
      "text/plain": [
       "(102, 13, 1)"
      ]
     },
     "execution_count": 37,
     "metadata": {},
     "output_type": "execute_result"
    }
   ],
   "source": [
    "x_test.shape"
   ]
  },
  {
   "cell_type": "code",
   "execution_count": 38,
   "metadata": {},
   "outputs": [
    {
     "name": "stdout",
     "output_type": "stream",
     "text": [
      "4/4 [==============================] - 0s 2ms/step\n"
     ]
    }
   ],
   "source": [
    "pred_simples = model.predict(x_test)"
   ]
  },
  {
   "cell_type": "code",
   "execution_count": 39,
   "metadata": {},
   "outputs": [
    {
     "data": {
      "text/plain": [
       "6.500792185465495"
      ]
     },
     "execution_count": 39,
     "metadata": {},
     "output_type": "execute_result"
    }
   ],
   "source": [
    "from sklearn.metrics import mean_absolute_error\n",
    "\n",
    "mean_absolute_error(y_test, np.mean(pred_simples,axis=1))"
   ]
  },
  {
   "cell_type": "code",
   "execution_count": 41,
   "metadata": {},
   "outputs": [
    {
     "data": {
      "text/html": [
       "<div>\n",
       "<style scoped>\n",
       "    .dataframe tbody tr th:only-of-type {\n",
       "        vertical-align: middle;\n",
       "    }\n",
       "\n",
       "    .dataframe tbody tr th {\n",
       "        vertical-align: top;\n",
       "    }\n",
       "\n",
       "    .dataframe thead th {\n",
       "        text-align: right;\n",
       "    }\n",
       "</style>\n",
       "<table border=\"1\" class=\"dataframe\">\n",
       "  <thead>\n",
       "    <tr style=\"text-align: right;\">\n",
       "      <th></th>\n",
       "      <th>y_test</th>\n",
       "      <th>y_pred</th>\n",
       "    </tr>\n",
       "  </thead>\n",
       "  <tbody>\n",
       "    <tr>\n",
       "      <th>0</th>\n",
       "      <td>7.2</td>\n",
       "      <td>21.813637</td>\n",
       "    </tr>\n",
       "    <tr>\n",
       "      <th>1</th>\n",
       "      <td>18.8</td>\n",
       "      <td>21.840685</td>\n",
       "    </tr>\n",
       "    <tr>\n",
       "      <th>2</th>\n",
       "      <td>19.0</td>\n",
       "      <td>21.864235</td>\n",
       "    </tr>\n",
       "    <tr>\n",
       "      <th>3</th>\n",
       "      <td>27.0</td>\n",
       "      <td>21.848049</td>\n",
       "    </tr>\n",
       "    <tr>\n",
       "      <th>4</th>\n",
       "      <td>22.2</td>\n",
       "      <td>21.882021</td>\n",
       "    </tr>\n",
       "    <tr>\n",
       "      <th>...</th>\n",
       "      <td>...</td>\n",
       "      <td>...</td>\n",
       "    </tr>\n",
       "    <tr>\n",
       "      <th>97</th>\n",
       "      <td>21.9</td>\n",
       "      <td>21.789042</td>\n",
       "    </tr>\n",
       "    <tr>\n",
       "      <th>98</th>\n",
       "      <td>24.1</td>\n",
       "      <td>21.873312</td>\n",
       "    </tr>\n",
       "    <tr>\n",
       "      <th>99</th>\n",
       "      <td>50.0</td>\n",
       "      <td>21.833744</td>\n",
       "    </tr>\n",
       "    <tr>\n",
       "      <th>100</th>\n",
       "      <td>26.7</td>\n",
       "      <td>21.841642</td>\n",
       "    </tr>\n",
       "    <tr>\n",
       "      <th>101</th>\n",
       "      <td>25.0</td>\n",
       "      <td>21.863630</td>\n",
       "    </tr>\n",
       "  </tbody>\n",
       "</table>\n",
       "<p>102 rows × 2 columns</p>\n",
       "</div>"
      ],
      "text/plain": [
       "     y_test     y_pred\n",
       "0       7.2  21.813637\n",
       "1      18.8  21.840685\n",
       "2      19.0  21.864235\n",
       "3      27.0  21.848049\n",
       "4      22.2  21.882021\n",
       "..      ...        ...\n",
       "97     21.9  21.789042\n",
       "98     24.1  21.873312\n",
       "99     50.0  21.833744\n",
       "100    26.7  21.841642\n",
       "101    25.0  21.863630\n",
       "\n",
       "[102 rows x 2 columns]"
      ]
     },
     "execution_count": 41,
     "metadata": {},
     "output_type": "execute_result"
    }
   ],
   "source": [
    "import pandas as pd\n",
    "\n",
    "resultado = pd.DataFrame()\n",
    "resultado['y_test'] = y_test\n",
    "resultado['y_pred'] = np.mean(pred_simples,axis=1)\n",
    "\n",
    "resultado"
   ]
  }
 ],
 "metadata": {
  "kernelspec": {
   "display_name": "valor_venal",
   "language": "python",
   "name": "python3"
  },
  "language_info": {
   "codemirror_mode": {
    "name": "ipython",
    "version": 3
   },
   "file_extension": ".py",
   "mimetype": "text/x-python",
   "name": "python",
   "nbconvert_exporter": "python",
   "pygments_lexer": "ipython3",
   "version": "3.10.12"
  }
 },
 "nbformat": 4,
 "nbformat_minor": 2
}
