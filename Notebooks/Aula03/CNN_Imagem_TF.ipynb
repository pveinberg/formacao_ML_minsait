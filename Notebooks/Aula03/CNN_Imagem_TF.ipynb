{
 "cells": [
  {
   "cell_type": "code",
   "execution_count": 1,
   "metadata": {},
   "outputs": [],
   "source": [
    "import tensorflow as tf\n",
    "import matplotlib.pyplot as plt\n",
    "import numpy as np\n",
    "from sklearn.preprocessing import OneHotEncoder\n",
    "#configurando para rodar em CPU\n",
    "tf.config.set_visible_devices([],'GPU')"
   ]
  },
  {
   "cell_type": "markdown",
   "metadata": {},
   "source": [
    "### Prática\n",
    "1. Aquisição e pré-processamento dos dados\n",
    "2. Treinamento\n",
    "* Implementar arquitetura\n",
    "* Definir otimizadores, métricas e regularizadores\n",
    "3. Teste (avaliação de desempenho)"
   ]
  },
  {
   "cell_type": "markdown",
   "metadata": {},
   "source": [
    "# Classificação"
   ]
  },
  {
   "cell_type": "markdown",
   "metadata": {},
   "source": [
    "#### 1. Aquisição dos dados"
   ]
  },
  {
   "cell_type": "code",
   "execution_count": 2,
   "metadata": {},
   "outputs": [
    {
     "name": "stdout",
     "output_type": "stream",
     "text": [
      "Downloading data from https://storage.googleapis.com/tensorflow/tf-keras-datasets/mnist.npz\n",
      "11490434/11490434 [==============================] - 2s 0us/step\n"
     ]
    }
   ],
   "source": [
    "(x_train, y_train), (x_test, y_test) = tf.keras.datasets.mnist.load_data()"
   ]
  },
  {
   "cell_type": "code",
   "execution_count": 3,
   "metadata": {},
   "outputs": [
    {
     "name": "stdout",
     "output_type": "stream",
     "text": [
      "(60000, 28, 28)\n",
      "(10000, 28, 28)\n",
      "(10000,)\n"
     ]
    }
   ],
   "source": [
    "print(x_train.shape)\n",
    "print(x_test.shape)\n",
    "print(y_test.shape)"
   ]
  },
  {
   "cell_type": "code",
   "execution_count": 4,
   "metadata": {},
   "outputs": [
    {
     "data": {
      "text/plain": [
       "array([[  0,   0,   0,   0,   0,   0,   0,   0,   0,   0,   0,   0,   0,\n",
       "          0,   0,   0,   0,   0,   0,   0,   0,   0,   0,   0,   0,   0,\n",
       "          0,   0],\n",
       "       [  0,   0,   0,   0,   0,   0,   0,   0,   0,   0,   0,   0,   0,\n",
       "          0,   0,   0,   0,   0,   0,   0,   0,   0,   0,   0,   0,   0,\n",
       "          0,   0],\n",
       "       [  0,   0,   0,   0,   0,   0,   0,   0,   0,   0,   0,   0,   0,\n",
       "          0,   0,   0,   0,   0,   0,   0,   0,   0,   0,   0,   0,   0,\n",
       "          0,   0],\n",
       "       [  0,   0,   0,   0,   0,   0,   0,   0,   0,   0,   0,   0,   0,\n",
       "          0,   0,   0,   0,   0,   0,   0,   0,   0,   0,   0,   0,   0,\n",
       "          0,   0],\n",
       "       [  0,   0,   0,   0,   0,   0,   0,   0,   0,   0,   0,   0,   0,\n",
       "          0,   0,   0,   0,   0,   0,   0,   0,   0,   0,   0,   0,   0,\n",
       "          0,   0],\n",
       "       [  0,   0,   0,   0,   0,   0,   0,   0,   0,   0,   0,   0,   3,\n",
       "         18,  18,  18, 126, 136, 175,  26, 166, 255, 247, 127,   0,   0,\n",
       "          0,   0],\n",
       "       [  0,   0,   0,   0,   0,   0,   0,   0,  30,  36,  94, 154, 170,\n",
       "        253, 253, 253, 253, 253, 225, 172, 253, 242, 195,  64,   0,   0,\n",
       "          0,   0],\n",
       "       [  0,   0,   0,   0,   0,   0,   0,  49, 238, 253, 253, 253, 253,\n",
       "        253, 253, 253, 253, 251,  93,  82,  82,  56,  39,   0,   0,   0,\n",
       "          0,   0],\n",
       "       [  0,   0,   0,   0,   0,   0,   0,  18, 219, 253, 253, 253, 253,\n",
       "        253, 198, 182, 247, 241,   0,   0,   0,   0,   0,   0,   0,   0,\n",
       "          0,   0],\n",
       "       [  0,   0,   0,   0,   0,   0,   0,   0,  80, 156, 107, 253, 253,\n",
       "        205,  11,   0,  43, 154,   0,   0,   0,   0,   0,   0,   0,   0,\n",
       "          0,   0],\n",
       "       [  0,   0,   0,   0,   0,   0,   0,   0,   0,  14,   1, 154, 253,\n",
       "         90,   0,   0,   0,   0,   0,   0,   0,   0,   0,   0,   0,   0,\n",
       "          0,   0],\n",
       "       [  0,   0,   0,   0,   0,   0,   0,   0,   0,   0,   0, 139, 253,\n",
       "        190,   2,   0,   0,   0,   0,   0,   0,   0,   0,   0,   0,   0,\n",
       "          0,   0],\n",
       "       [  0,   0,   0,   0,   0,   0,   0,   0,   0,   0,   0,  11, 190,\n",
       "        253,  70,   0,   0,   0,   0,   0,   0,   0,   0,   0,   0,   0,\n",
       "          0,   0],\n",
       "       [  0,   0,   0,   0,   0,   0,   0,   0,   0,   0,   0,   0,  35,\n",
       "        241, 225, 160, 108,   1,   0,   0,   0,   0,   0,   0,   0,   0,\n",
       "          0,   0],\n",
       "       [  0,   0,   0,   0,   0,   0,   0,   0,   0,   0,   0,   0,   0,\n",
       "         81, 240, 253, 253, 119,  25,   0,   0,   0,   0,   0,   0,   0,\n",
       "          0,   0],\n",
       "       [  0,   0,   0,   0,   0,   0,   0,   0,   0,   0,   0,   0,   0,\n",
       "          0,  45, 186, 253, 253, 150,  27,   0,   0,   0,   0,   0,   0,\n",
       "          0,   0],\n",
       "       [  0,   0,   0,   0,   0,   0,   0,   0,   0,   0,   0,   0,   0,\n",
       "          0,   0,  16,  93, 252, 253, 187,   0,   0,   0,   0,   0,   0,\n",
       "          0,   0],\n",
       "       [  0,   0,   0,   0,   0,   0,   0,   0,   0,   0,   0,   0,   0,\n",
       "          0,   0,   0,   0, 249, 253, 249,  64,   0,   0,   0,   0,   0,\n",
       "          0,   0],\n",
       "       [  0,   0,   0,   0,   0,   0,   0,   0,   0,   0,   0,   0,   0,\n",
       "          0,  46, 130, 183, 253, 253, 207,   2,   0,   0,   0,   0,   0,\n",
       "          0,   0],\n",
       "       [  0,   0,   0,   0,   0,   0,   0,   0,   0,   0,   0,   0,  39,\n",
       "        148, 229, 253, 253, 253, 250, 182,   0,   0,   0,   0,   0,   0,\n",
       "          0,   0],\n",
       "       [  0,   0,   0,   0,   0,   0,   0,   0,   0,   0,  24, 114, 221,\n",
       "        253, 253, 253, 253, 201,  78,   0,   0,   0,   0,   0,   0,   0,\n",
       "          0,   0],\n",
       "       [  0,   0,   0,   0,   0,   0,   0,   0,  23,  66, 213, 253, 253,\n",
       "        253, 253, 198,  81,   2,   0,   0,   0,   0,   0,   0,   0,   0,\n",
       "          0,   0],\n",
       "       [  0,   0,   0,   0,   0,   0,  18, 171, 219, 253, 253, 253, 253,\n",
       "        195,  80,   9,   0,   0,   0,   0,   0,   0,   0,   0,   0,   0,\n",
       "          0,   0],\n",
       "       [  0,   0,   0,   0,  55, 172, 226, 253, 253, 253, 253, 244, 133,\n",
       "         11,   0,   0,   0,   0,   0,   0,   0,   0,   0,   0,   0,   0,\n",
       "          0,   0],\n",
       "       [  0,   0,   0,   0, 136, 253, 253, 253, 212, 135, 132,  16,   0,\n",
       "          0,   0,   0,   0,   0,   0,   0,   0,   0,   0,   0,   0,   0,\n",
       "          0,   0],\n",
       "       [  0,   0,   0,   0,   0,   0,   0,   0,   0,   0,   0,   0,   0,\n",
       "          0,   0,   0,   0,   0,   0,   0,   0,   0,   0,   0,   0,   0,\n",
       "          0,   0],\n",
       "       [  0,   0,   0,   0,   0,   0,   0,   0,   0,   0,   0,   0,   0,\n",
       "          0,   0,   0,   0,   0,   0,   0,   0,   0,   0,   0,   0,   0,\n",
       "          0,   0],\n",
       "       [  0,   0,   0,   0,   0,   0,   0,   0,   0,   0,   0,   0,   0,\n",
       "          0,   0,   0,   0,   0,   0,   0,   0,   0,   0,   0,   0,   0,\n",
       "          0,   0]], dtype=uint8)"
      ]
     },
     "execution_count": 4,
     "metadata": {},
     "output_type": "execute_result"
    }
   ],
   "source": [
    "x_train[0]"
   ]
  },
  {
   "cell_type": "code",
   "execution_count": 5,
   "metadata": {},
   "outputs": [
    {
     "data": {
      "image/png": "[encoded data removed]",
      "text/plain": [
       "<Figure size 432x288 with 1 Axes>"
      ]
     },
     "metadata": {
      "needs_background": "light"
     },
     "output_type": "display_data"
    }
   ],
   "source": [
    "# Escolhendo uma imagem para plotar\n",
    "sample = 10\n",
    "image = x_train[sample]\n",
    "\n",
    "# Plotando a imagem\n",
    "fig = plt.figure\n",
    "plt.imshow(image, cmap='gray')\n",
    "plt.show()"
   ]
  },
  {
   "cell_type": "markdown",
   "metadata": {},
   "source": [
    "#### 2. Pré-processamento"
   ]
  },
  {
   "cell_type": "markdown",
   "metadata": {},
   "source": [
    "#### Normalização"
   ]
  },
  {
   "cell_type": "code",
   "execution_count": 6,
   "metadata": {},
   "outputs": [],
   "source": [
    "m = np.max(x_train)\n",
    "x_train = x_train/m\n",
    "x_test = x_test/m"
   ]
  },
  {
   "cell_type": "markdown",
   "metadata": {},
   "source": [
    "#### One hot encoder na variável alvo"
   ]
  },
  {
   "cell_type": "code",
   "execution_count": 7,
   "metadata": {},
   "outputs": [
    {
     "data": {
      "text/plain": [
       "array([5, 0, 4, ..., 5, 6, 8], dtype=uint8)"
      ]
     },
     "execution_count": 7,
     "metadata": {},
     "output_type": "execute_result"
    }
   ],
   "source": [
    "y_train"
   ]
  },
  {
   "cell_type": "code",
   "execution_count": 8,
   "metadata": {},
   "outputs": [],
   "source": [
    "hot = OneHotEncoder()\n",
    "y_train = hot.fit_transform(y_train.reshape(-1, 1)).toarray()\n",
    "y_test = hot.transform(y_test.reshape(-1, 1)).toarray()"
   ]
  },
  {
   "cell_type": "code",
   "execution_count": 9,
   "metadata": {},
   "outputs": [
    {
     "data": {
      "text/plain": [
       "array([[0., 0., 0., ..., 0., 0., 0.],\n",
       "       [1., 0., 0., ..., 0., 0., 0.],\n",
       "       [0., 0., 0., ..., 0., 0., 0.],\n",
       "       ...,\n",
       "       [0., 0., 0., ..., 0., 0., 0.],\n",
       "       [0., 0., 0., ..., 0., 0., 0.],\n",
       "       [0., 0., 0., ..., 0., 1., 0.]])"
      ]
     },
     "execution_count": 9,
     "metadata": {},
     "output_type": "execute_result"
    }
   ],
   "source": [
    "y_train"
   ]
  },
  {
   "cell_type": "markdown",
   "metadata": {},
   "source": [
    "#### 3. Particionamento de base de dados"
   ]
  },
  {
   "cell_type": "code",
   "execution_count": 10,
   "metadata": {},
   "outputs": [
    {
     "data": {
      "text/plain": [
       "((48000, 28, 28),\n",
       " (12000, 28, 28),\n",
       " (10000, 28, 28),\n",
       " (48000, 10),\n",
       " (12000, 10),\n",
       " (10000, 10))"
      ]
     },
     "execution_count": 10,
     "metadata": {},
     "output_type": "execute_result"
    }
   ],
   "source": [
    "from sklearn.model_selection import train_test_split\n",
    "\n",
    "x_treino, x_val, y_treino, y_val = train_test_split(x_train, y_train, test_size = 0.2, random_state = 13)\n",
    "\n",
    "x_treino.shape, x_val.shape, x_test.shape, y_treino.shape, y_val.shape, y_test.shape, "
   ]
  },
  {
   "cell_type": "code",
   "execution_count": 11,
   "metadata": {},
   "outputs": [],
   "source": [
    "from keras.layers import Dense, Activation, Dropout, Flatten,  Conv2D,MaxPool2D, Conv1D\n",
    "from keras.models import Sequential\n",
    "from keras.callbacks import EarlyStopping"
   ]
  },
  {
   "cell_type": "markdown",
   "metadata": {},
   "source": [
    "#### 4. Treinamento - definição de arquitetura\n",
    "1. Definir quantas camadas são necessárias par o problema\n",
    "2. A quantidade de neurônios em cada camada\n",
    "3. A função de ativação de cada camada\n",
    "4. A função de ativação da saída\n",
    "* softmax (saída não binária)\n",
    "* sigmoid (saída binária)"
   ]
  },
  {
   "cell_type": "code",
   "execution_count": 12,
   "metadata": {
    "notebookRunGroups": {
     "groupValue": "1"
    }
   },
   "outputs": [],
   "source": [
    "rede_simples = Sequential()\n",
    "rede_simples.add(Conv2D(filters=1,kernel_size=3,activation='relu',input_shape=[28,28,1]))\n",
    "# rede_simples.add(MaxPool2D(pool_size=(2,2)))\n",
    "rede_simples.add(Flatten())\n",
    "rede_simples.add(Dense(25,activation='relu'))\n",
    "rede_simples.add(Dense(10,activation='softmax'))"
   ]
  },
  {
   "cell_type": "markdown",
   "metadata": {},
   "source": [
    "### 5. Definir otimizadores"
   ]
  },
  {
   "cell_type": "code",
   "execution_count": 13,
   "metadata": {
    "notebookRunGroups": {
     "groupValue": "1"
    }
   },
   "outputs": [],
   "source": [
    "rede_simples.compile(loss = 'categorical_crossentropy', optimizer = 'Adam', metrics=['accuracy'])"
   ]
  },
  {
   "cell_type": "markdown",
   "metadata": {},
   "source": [
    "#### 6. Treinamento\n",
    "\n",
    "1. Adicionar conjuntos de treinamento e validação\n",
    "2. Determinar a quantidade de épocas"
   ]
  },
  {
   "cell_type": "code",
   "execution_count": 14,
   "metadata": {},
   "outputs": [],
   "source": [
    "x_treino = np.expand_dims(x_treino,axis=-1)\n",
    "x_val = np.expand_dims(x_val,axis=-1)"
   ]
  },
  {
   "cell_type": "code",
   "execution_count": 15,
   "metadata": {
    "notebookRunGroups": {
     "groupValue": "1"
    }
   },
   "outputs": [
    {
     "name": "stdout",
     "output_type": "stream",
     "text": [
      "Epoch 1/100\n",
      "1500/1500 [==============================] - 11s 6ms/step - loss: 0.6495 - accuracy: 0.7907 - val_loss: 0.3379 - val_accuracy: 0.9001\n",
      "Epoch 2/100\n",
      "1500/1500 [==============================] - 8s 6ms/step - loss: 0.3106 - accuracy: 0.9061 - val_loss: 0.2875 - val_accuracy: 0.9120\n",
      "Epoch 3/100\n",
      "1500/1500 [==============================] - 8s 5ms/step - loss: 0.2807 - accuracy: 0.9150 - val_loss: 0.2765 - val_accuracy: 0.9131\n",
      "Epoch 4/100\n",
      "1500/1500 [==============================] - 8s 5ms/step - loss: 0.2627 - accuracy: 0.9199 - val_loss: 0.2592 - val_accuracy: 0.9230\n",
      "Epoch 5/100\n",
      "1500/1500 [==============================] - 9s 6ms/step - loss: 0.2474 - accuracy: 0.9246 - val_loss: 0.2445 - val_accuracy: 0.9250\n",
      "Epoch 6/100\n",
      "1500/1500 [==============================] - 8s 5ms/step - loss: 0.2332 - accuracy: 0.9277 - val_loss: 0.2369 - val_accuracy: 0.9288\n",
      "Epoch 7/100\n",
      "1500/1500 [==============================] - 8s 5ms/step - loss: 0.2229 - accuracy: 0.9321 - val_loss: 0.2274 - val_accuracy: 0.9309\n",
      "Epoch 8/100\n",
      "1500/1500 [==============================] - 8s 5ms/step - loss: 0.2130 - accuracy: 0.9347 - val_loss: 0.2343 - val_accuracy: 0.9280\n",
      "Epoch 9/100\n",
      "1500/1500 [==============================] - 8s 5ms/step - loss: 0.2071 - accuracy: 0.9369 - val_loss: 0.2218 - val_accuracy: 0.9333\n",
      "Epoch 10/100\n",
      "1500/1500 [==============================] - 7s 5ms/step - loss: 0.2007 - accuracy: 0.9390 - val_loss: 0.2200 - val_accuracy: 0.9323\n",
      "Epoch 11/100\n",
      "1500/1500 [==============================] - 7s 5ms/step - loss: 0.1940 - accuracy: 0.9403 - val_loss: 0.2134 - val_accuracy: 0.9345\n",
      "Epoch 12/100\n",
      "1500/1500 [==============================] - 8s 5ms/step - loss: 0.1881 - accuracy: 0.9428 - val_loss: 0.2115 - val_accuracy: 0.9373\n",
      "Epoch 13/100\n",
      "1500/1500 [==============================] - 7s 5ms/step - loss: 0.1843 - accuracy: 0.9433 - val_loss: 0.2138 - val_accuracy: 0.9358\n",
      "Epoch 14/100\n",
      "1500/1500 [==============================] - 7s 5ms/step - loss: 0.1811 - accuracy: 0.9440 - val_loss: 0.2173 - val_accuracy: 0.9327\n",
      "Epoch 15/100\n",
      "1500/1500 [==============================] - 7s 5ms/step - loss: 0.1769 - accuracy: 0.9453 - val_loss: 0.2038 - val_accuracy: 0.9377\n",
      "Epoch 16/100\n",
      "1500/1500 [==============================] - 7s 5ms/step - loss: 0.1714 - accuracy: 0.9477 - val_loss: 0.2029 - val_accuracy: 0.9408\n",
      "Epoch 17/100\n",
      "1500/1500 [==============================] - 7s 5ms/step - loss: 0.1697 - accuracy: 0.9479 - val_loss: 0.2009 - val_accuracy: 0.9411\n",
      "Epoch 18/100\n",
      "1500/1500 [==============================] - 8s 5ms/step - loss: 0.1680 - accuracy: 0.9482 - val_loss: 0.1995 - val_accuracy: 0.9404\n",
      "Epoch 19/100\n",
      "1500/1500 [==============================] - 7s 5ms/step - loss: 0.1654 - accuracy: 0.9494 - val_loss: 0.2088 - val_accuracy: 0.9390\n",
      "Epoch 20/100\n",
      "1500/1500 [==============================] - 7s 5ms/step - loss: 0.1627 - accuracy: 0.9506 - val_loss: 0.2133 - val_accuracy: 0.9366\n",
      "Epoch 21/100\n",
      "1500/1500 [==============================] - 7s 5ms/step - loss: 0.1600 - accuracy: 0.9507 - val_loss: 0.2010 - val_accuracy: 0.9398\n",
      "Epoch 22/100\n",
      "1500/1500 [==============================] - 7s 5ms/step - loss: 0.1569 - accuracy: 0.9522 - val_loss: 0.2020 - val_accuracy: 0.9407\n",
      "Epoch 23/100\n",
      "1500/1500 [==============================] - 7s 5ms/step - loss: 0.1553 - accuracy: 0.9520 - val_loss: 0.1962 - val_accuracy: 0.9410\n",
      "Epoch 24/100\n",
      "1500/1500 [==============================] - 7s 5ms/step - loss: 0.1540 - accuracy: 0.9520 - val_loss: 0.2155 - val_accuracy: 0.9354\n",
      "Epoch 25/100\n",
      "1500/1500 [==============================] - 7s 5ms/step - loss: 0.1523 - accuracy: 0.9534 - val_loss: 0.2036 - val_accuracy: 0.9387\n",
      "Epoch 26/100\n",
      "1500/1500 [==============================] - 8s 5ms/step - loss: 0.1506 - accuracy: 0.9529 - val_loss: 0.2150 - val_accuracy: 0.9367\n",
      "Epoch 27/100\n",
      "1500/1500 [==============================] - 8s 5ms/step - loss: 0.1488 - accuracy: 0.9539 - val_loss: 0.2230 - val_accuracy: 0.9352\n",
      "Epoch 28/100\n",
      "1500/1500 [==============================] - 8s 5ms/step - loss: 0.1479 - accuracy: 0.9540 - val_loss: 0.2194 - val_accuracy: 0.9326\n",
      "Epoch 29/100\n",
      "1500/1500 [==============================] - 7s 5ms/step - loss: 0.1469 - accuracy: 0.9544 - val_loss: 0.2042 - val_accuracy: 0.9399\n",
      "Epoch 30/100\n",
      "1500/1500 [==============================] - 8s 5ms/step - loss: 0.1446 - accuracy: 0.9550 - val_loss: 0.2330 - val_accuracy: 0.9320\n",
      "Epoch 31/100\n",
      "1500/1500 [==============================] - 7s 5ms/step - loss: 0.1417 - accuracy: 0.9557 - val_loss: 0.2136 - val_accuracy: 0.9364\n",
      "Epoch 32/100\n",
      "1500/1500 [==============================] - 7s 5ms/step - loss: 0.1417 - accuracy: 0.9564 - val_loss: 0.2103 - val_accuracy: 0.9380\n",
      "Epoch 33/100\n",
      "1500/1500 [==============================] - 7s 5ms/step - loss: 0.1400 - accuracy: 0.9565 - val_loss: 0.2012 - val_accuracy: 0.9415\n",
      "Epoch 34/100\n",
      "1500/1500 [==============================] - 7s 5ms/step - loss: 0.1376 - accuracy: 0.9570 - val_loss: 0.2002 - val_accuracy: 0.9414\n",
      "Epoch 35/100\n",
      "1500/1500 [==============================] - 8s 5ms/step - loss: 0.1368 - accuracy: 0.9576 - val_loss: 0.2036 - val_accuracy: 0.9408\n",
      "Epoch 36/100\n",
      "1500/1500 [==============================] - 8s 5ms/step - loss: 0.1359 - accuracy: 0.9575 - val_loss: 0.2045 - val_accuracy: 0.9403\n",
      "Epoch 37/100\n",
      "1500/1500 [==============================] - 8s 5ms/step - loss: 0.1345 - accuracy: 0.9583 - val_loss: 0.2165 - val_accuracy: 0.9369\n",
      "Epoch 38/100\n",
      "1500/1500 [==============================] - 7s 5ms/step - loss: 0.1345 - accuracy: 0.9584 - val_loss: 0.2098 - val_accuracy: 0.9398\n",
      "Epoch 39/100\n",
      "1500/1500 [==============================] - 7s 5ms/step - loss: 0.1332 - accuracy: 0.9587 - val_loss: 0.2105 - val_accuracy: 0.9380\n",
      "Epoch 40/100\n",
      "1500/1500 [==============================] - 8s 5ms/step - loss: 0.1312 - accuracy: 0.9601 - val_loss: 0.2155 - val_accuracy: 0.9388\n",
      "Epoch 41/100\n",
      "1500/1500 [==============================] - 8s 5ms/step - loss: 0.1317 - accuracy: 0.9580 - val_loss: 0.2045 - val_accuracy: 0.9413\n",
      "Epoch 42/100\n",
      "1500/1500 [==============================] - 7s 5ms/step - loss: 0.1292 - accuracy: 0.9607 - val_loss: 0.2134 - val_accuracy: 0.9389\n",
      "Epoch 43/100\n",
      "1500/1500 [==============================] - 8s 5ms/step - loss: 0.1285 - accuracy: 0.9604 - val_loss: 0.2093 - val_accuracy: 0.9408\n",
      "Epoch 44/100\n",
      "1500/1500 [==============================] - 8s 5ms/step - loss: 0.1291 - accuracy: 0.9602 - val_loss: 0.2209 - val_accuracy: 0.9358\n",
      "Epoch 45/100\n",
      "1500/1500 [==============================] - 8s 5ms/step - loss: 0.1279 - accuracy: 0.9606 - val_loss: 0.2106 - val_accuracy: 0.9400\n",
      "Epoch 46/100\n",
      "1500/1500 [==============================] - 8s 5ms/step - loss: 0.1259 - accuracy: 0.9604 - val_loss: 0.2121 - val_accuracy: 0.9398\n",
      "Epoch 47/100\n",
      "1500/1500 [==============================] - 8s 5ms/step - loss: 0.1257 - accuracy: 0.9611 - val_loss: 0.2113 - val_accuracy: 0.9402\n",
      "Epoch 48/100\n",
      "1500/1500 [==============================] - 8s 5ms/step - loss: 0.1250 - accuracy: 0.9608 - val_loss: 0.2222 - val_accuracy: 0.9367\n",
      "Epoch 49/100\n",
      "1500/1500 [==============================] - 8s 5ms/step - loss: 0.1245 - accuracy: 0.9609 - val_loss: 0.2147 - val_accuracy: 0.9383\n",
      "Epoch 50/100\n",
      "1500/1500 [==============================] - 8s 5ms/step - loss: 0.1231 - accuracy: 0.9607 - val_loss: 0.2207 - val_accuracy: 0.9373\n",
      "Epoch 51/100\n",
      "1500/1500 [==============================] - 8s 5ms/step - loss: 0.1227 - accuracy: 0.9613 - val_loss: 0.2277 - val_accuracy: 0.9362\n",
      "Epoch 52/100\n",
      "1500/1500 [==============================] - 8s 5ms/step - loss: 0.1226 - accuracy: 0.9611 - val_loss: 0.2215 - val_accuracy: 0.9353\n",
      "Epoch 53/100\n",
      "1500/1500 [==============================] - 8s 5ms/step - loss: 0.1221 - accuracy: 0.9618 - val_loss: 0.2429 - val_accuracy: 0.9302\n",
      "Epoch 54/100\n",
      "1500/1500 [==============================] - 8s 5ms/step - loss: 0.1209 - accuracy: 0.9620 - val_loss: 0.2181 - val_accuracy: 0.9391\n",
      "Epoch 55/100\n",
      "1500/1500 [==============================] - 8s 5ms/step - loss: 0.1194 - accuracy: 0.9622 - val_loss: 0.2122 - val_accuracy: 0.9413\n",
      "Epoch 56/100\n",
      "1500/1500 [==============================] - 8s 5ms/step - loss: 0.1195 - accuracy: 0.9628 - val_loss: 0.2138 - val_accuracy: 0.9413\n",
      "Epoch 57/100\n",
      "1500/1500 [==============================] - 8s 5ms/step - loss: 0.1196 - accuracy: 0.9626 - val_loss: 0.2402 - val_accuracy: 0.9326\n",
      "Epoch 58/100\n",
      "1500/1500 [==============================] - 8s 5ms/step - loss: 0.1169 - accuracy: 0.9632 - val_loss: 0.2146 - val_accuracy: 0.9401\n",
      "Epoch 59/100\n",
      "1500/1500 [==============================] - 8s 5ms/step - loss: 0.1184 - accuracy: 0.9625 - val_loss: 0.2372 - val_accuracy: 0.9333\n",
      "Epoch 60/100\n",
      "1500/1500 [==============================] - 8s 5ms/step - loss: 0.1164 - accuracy: 0.9634 - val_loss: 0.2271 - val_accuracy: 0.9374\n",
      "Epoch 61/100\n",
      "1500/1500 [==============================] - 8s 5ms/step - loss: 0.1163 - accuracy: 0.9628 - val_loss: 0.2148 - val_accuracy: 0.9404\n",
      "Epoch 62/100\n",
      "1500/1500 [==============================] - 8s 5ms/step - loss: 0.1147 - accuracy: 0.9633 - val_loss: 0.2292 - val_accuracy: 0.9359\n",
      "Epoch 63/100\n",
      "1500/1500 [==============================] - 8s 5ms/step - loss: 0.1132 - accuracy: 0.9642 - val_loss: 0.2427 - val_accuracy: 0.9318\n",
      "Epoch 64/100\n",
      "1500/1500 [==============================] - 8s 5ms/step - loss: 0.1161 - accuracy: 0.9641 - val_loss: 0.2216 - val_accuracy: 0.9377\n",
      "Epoch 65/100\n",
      "1500/1500 [==============================] - 8s 5ms/step - loss: 0.1120 - accuracy: 0.9646 - val_loss: 0.2319 - val_accuracy: 0.9344\n",
      "Epoch 66/100\n",
      "1500/1500 [==============================] - 8s 5ms/step - loss: 0.1133 - accuracy: 0.9643 - val_loss: 0.2297 - val_accuracy: 0.9366\n",
      "Epoch 67/100\n",
      "1500/1500 [==============================] - 8s 5ms/step - loss: 0.1125 - accuracy: 0.9639 - val_loss: 0.2303 - val_accuracy: 0.9370\n",
      "Epoch 68/100\n",
      "1500/1500 [==============================] - 8s 5ms/step - loss: 0.1116 - accuracy: 0.9639 - val_loss: 0.2398 - val_accuracy: 0.9363\n",
      "Epoch 69/100\n",
      "1500/1500 [==============================] - 8s 5ms/step - loss: 0.1130 - accuracy: 0.9642 - val_loss: 0.2241 - val_accuracy: 0.9387\n",
      "Epoch 70/100\n",
      "1500/1500 [==============================] - 8s 5ms/step - loss: 0.1092 - accuracy: 0.9655 - val_loss: 0.2272 - val_accuracy: 0.9368\n",
      "Epoch 71/100\n",
      "1500/1500 [==============================] - 8s 5ms/step - loss: 0.1113 - accuracy: 0.9645 - val_loss: 0.2340 - val_accuracy: 0.9379\n",
      "Epoch 72/100\n",
      "1500/1500 [==============================] - 8s 5ms/step - loss: 0.1098 - accuracy: 0.9658 - val_loss: 0.2419 - val_accuracy: 0.9372\n",
      "Epoch 73/100\n",
      "1500/1500 [==============================] - 8s 5ms/step - loss: 0.1095 - accuracy: 0.9660 - val_loss: 0.2527 - val_accuracy: 0.9337\n",
      "Epoch 74/100\n",
      "1500/1500 [==============================] - 8s 5ms/step - loss: 0.1104 - accuracy: 0.9656 - val_loss: 0.2285 - val_accuracy: 0.9380\n",
      "Epoch 75/100\n",
      "1500/1500 [==============================] - 8s 5ms/step - loss: 0.1082 - accuracy: 0.9654 - val_loss: 0.2427 - val_accuracy: 0.9337\n",
      "Epoch 76/100\n",
      "1500/1500 [==============================] - 8s 5ms/step - loss: 0.1071 - accuracy: 0.9659 - val_loss: 0.2593 - val_accuracy: 0.9300\n",
      "Epoch 77/100\n",
      "1500/1500 [==============================] - 8s 5ms/step - loss: 0.1076 - accuracy: 0.9659 - val_loss: 0.2364 - val_accuracy: 0.9333\n",
      "Epoch 78/100\n",
      "1500/1500 [==============================] - 8s 5ms/step - loss: 0.1069 - accuracy: 0.9660 - val_loss: 0.2445 - val_accuracy: 0.9371\n",
      "Epoch 79/100\n",
      "1500/1500 [==============================] - 8s 5ms/step - loss: 0.1064 - accuracy: 0.9663 - val_loss: 0.2383 - val_accuracy: 0.9352\n",
      "Epoch 80/100\n",
      "1500/1500 [==============================] - 8s 5ms/step - loss: 0.1063 - accuracy: 0.9662 - val_loss: 0.2302 - val_accuracy: 0.9391\n",
      "Epoch 81/100\n",
      "1500/1500 [==============================] - 8s 5ms/step - loss: 0.1050 - accuracy: 0.9662 - val_loss: 0.2451 - val_accuracy: 0.9324\n",
      "Epoch 82/100\n",
      "1500/1500 [==============================] - 8s 5ms/step - loss: 0.1054 - accuracy: 0.9655 - val_loss: 0.2290 - val_accuracy: 0.9399\n",
      "Epoch 83/100\n",
      "1500/1500 [==============================] - 8s 6ms/step - loss: 0.1049 - accuracy: 0.9665 - val_loss: 0.2344 - val_accuracy: 0.9373\n",
      "Epoch 84/100\n",
      "1500/1500 [==============================] - 8s 5ms/step - loss: 0.1047 - accuracy: 0.9674 - val_loss: 0.2448 - val_accuracy: 0.9365\n",
      "Epoch 85/100\n",
      "1500/1500 [==============================] - 8s 5ms/step - loss: 0.1033 - accuracy: 0.9666 - val_loss: 0.2371 - val_accuracy: 0.9382\n",
      "Epoch 86/100\n",
      "1500/1500 [==============================] - 8s 5ms/step - loss: 0.1019 - accuracy: 0.9676 - val_loss: 0.2399 - val_accuracy: 0.9387\n",
      "Epoch 87/100\n",
      "1500/1500 [==============================] - 8s 5ms/step - loss: 0.1024 - accuracy: 0.9672 - val_loss: 0.2522 - val_accuracy: 0.9329\n",
      "Epoch 88/100\n",
      "1500/1500 [==============================] - 8s 5ms/step - loss: 0.1022 - accuracy: 0.9672 - val_loss: 0.2395 - val_accuracy: 0.9357\n",
      "Epoch 89/100\n",
      "1500/1500 [==============================] - 8s 5ms/step - loss: 0.1016 - accuracy: 0.9677 - val_loss: 0.2630 - val_accuracy: 0.9294\n",
      "Epoch 90/100\n",
      "1500/1500 [==============================] - 8s 5ms/step - loss: 0.1015 - accuracy: 0.9677 - val_loss: 0.2467 - val_accuracy: 0.9360\n",
      "Epoch 91/100\n",
      "1500/1500 [==============================] - 8s 5ms/step - loss: 0.0996 - accuracy: 0.9682 - val_loss: 0.2369 - val_accuracy: 0.9383\n",
      "Epoch 92/100\n",
      "1500/1500 [==============================] - 8s 5ms/step - loss: 0.1015 - accuracy: 0.9683 - val_loss: 0.2505 - val_accuracy: 0.9358\n",
      "Epoch 93/100\n",
      "1500/1500 [==============================] - 8s 5ms/step - loss: 0.1017 - accuracy: 0.9672 - val_loss: 0.2509 - val_accuracy: 0.9351\n",
      "Epoch 94/100\n",
      "1500/1500 [==============================] - 8s 5ms/step - loss: 0.1002 - accuracy: 0.9665 - val_loss: 0.2595 - val_accuracy: 0.9318\n",
      "Epoch 95/100\n",
      "1500/1500 [==============================] - 8s 6ms/step - loss: 0.1005 - accuracy: 0.9675 - val_loss: 0.2423 - val_accuracy: 0.9391\n",
      "Epoch 96/100\n",
      "1500/1500 [==============================] - 9s 6ms/step - loss: 0.0990 - accuracy: 0.9681 - val_loss: 0.2466 - val_accuracy: 0.9370\n",
      "Epoch 97/100\n",
      "1500/1500 [==============================] - 9s 6ms/step - loss: 0.0989 - accuracy: 0.9685 - val_loss: 0.2508 - val_accuracy: 0.9352\n",
      "Epoch 98/100\n",
      "1500/1500 [==============================] - 9s 6ms/step - loss: 0.0976 - accuracy: 0.9685 - val_loss: 0.2516 - val_accuracy: 0.9363\n",
      "Epoch 99/100\n",
      "1500/1500 [==============================] - 9s 6ms/step - loss: 0.0995 - accuracy: 0.9677 - val_loss: 0.2628 - val_accuracy: 0.9323\n",
      "Epoch 100/100\n",
      "1500/1500 [==============================] - 9s 6ms/step - loss: 0.0973 - accuracy: 0.9682 - val_loss: 0.2696 - val_accuracy: 0.9330\n"
     ]
    }
   ],
   "source": [
    "#### 6. Treinamento\n",
    "\n",
    "historico = rede_simples.fit(x_treino, \n",
    "                             y_treino, \n",
    "                             epochs = 100, \n",
    "                             verbose = 1,\n",
    "                             validation_data = (x_val, y_val))"
   ]
  },
  {
   "cell_type": "markdown",
   "metadata": {},
   "source": [
    "##### 7. Avaliação do modelo"
   ]
  },
  {
   "cell_type": "code",
   "execution_count": 16,
   "metadata": {},
   "outputs": [
    {
     "name": "stdout",
     "output_type": "stream",
     "text": [
      "313/313 [==============================] - 1s 3ms/step\n"
     ]
    },
    {
     "data": {
      "text/plain": [
       "0.9399"
      ]
     },
     "execution_count": 16,
     "metadata": {},
     "output_type": "execute_result"
    }
   ],
   "source": [
    "from sklearn.metrics import confusion_matrix\n",
    "from sklearn.metrics import accuracy_score\n",
    "\n",
    "x_test = np.expand_dims(x_test,axis=-1)\n",
    "pred_simples = rede_simples.predict(x_test)\n",
    "\n",
    "accuracy_score(y_test.argmax(1), pred_simples.argmax(1))"
   ]
  },
  {
   "cell_type": "code",
   "execution_count": 17,
   "metadata": {},
   "outputs": [
    {
     "data": {
      "image/png": "[encoded data removed]",
      "text/plain": [
       "<Figure size 432x288 with 1 Axes>"
      ]
     },
     "metadata": {
      "needs_background": "light"
     },
     "output_type": "display_data"
    }
   ],
   "source": [
    "loss = historico.history['loss']\n",
    "val_loss = historico.history['val_loss']\n",
    "epochs = range(len(loss))\n",
    "plt.figure()\n",
    "plt.plot(epochs, loss, 'bo', label = 'Training loss')\n",
    "plt.plot(epochs, val_loss, 'b', label = 'Validation loss')\n",
    "plt.title('Training and validation loss')\n",
    "plt.legend()\n",
    "plt.show()"
   ]
  },
  {
   "cell_type": "markdown",
   "metadata": {},
   "source": [
    "#### 8. Regularização\n",
    "1. Early Stopping: determinar quando encerrar o treinamento\n",
    "2. Dropout: selecionar neurônios aleatoriamente para o treinamento"
   ]
  },
  {
   "cell_type": "code",
   "execution_count": 18,
   "metadata": {},
   "outputs": [
    {
     "name": "stdout",
     "output_type": "stream",
     "text": [
      "Epoch 1/150\n",
      "1500/1500 [==============================] - 8s 5ms/step - loss: 0.0955 - accuracy: 0.9695 - val_loss: 0.2488 - val_accuracy: 0.9357\n",
      "Epoch 2/150\n",
      "1500/1500 [==============================] - 7s 5ms/step - loss: 0.0970 - accuracy: 0.9691 - val_loss: 0.2616 - val_accuracy: 0.9343\n",
      "Epoch 3/150\n",
      "1500/1500 [==============================] - 8s 5ms/step - loss: 0.0955 - accuracy: 0.9686 - val_loss: 0.2536 - val_accuracy: 0.9371\n",
      "Epoch 4/150\n",
      " 891/1500 [================>.............] - ETA: 2s - loss: 0.0991 - accuracy: 0.9677"
     ]
    },
    {
     "ename": "KeyboardInterrupt",
     "evalue": "",
     "output_type": "error",
     "traceback": [
      "\u001b[1;31m---------------------------------------------------------------------------\u001b[0m",
      "\u001b[1;31mKeyboardInterrupt\u001b[0m                         Traceback (most recent call last)",
      "\u001b[1;32mc:\\Users\\psebastianv\\dev\\indra\\formacao_ML_minsait\\Notebooks\\Aula03\\CNN_Imagem_TF.ipynb Cell 30\u001b[0m line \u001b[0;36m<cell line: 6>\u001b[1;34m()\u001b[0m\n\u001b[0;32m      <a href='vscode-notebook-cell:/c%3A/Users/psebastianv/dev/indra/formacao_ML_minsait/Notebooks/Aula03/CNN_Imagem_TF.ipynb#X41sZmlsZQ%3D%3D?line=0'>1</a>\u001b[0m es \u001b[39m=\u001b[39m EarlyStopping(monitor \u001b[39m=\u001b[39m \u001b[39m'\u001b[39m\u001b[39mval_loss\u001b[39m\u001b[39m'\u001b[39m, min_delta \u001b[39m=\u001b[39m \u001b[39m0.001\u001b[39m, patience \u001b[39m=\u001b[39m \u001b[39m10\u001b[39m, verbose \u001b[39m=\u001b[39m \u001b[39m1\u001b[39m, mode \u001b[39m=\u001b[39m \u001b[39m'\u001b[39m\u001b[39mauto\u001b[39m\u001b[39m'\u001b[39m)\n\u001b[0;32m      <a href='vscode-notebook-cell:/c%3A/Users/psebastianv/dev/indra/formacao_ML_minsait/Notebooks/Aula03/CNN_Imagem_TF.ipynb#X41sZmlsZQ%3D%3D?line=2'>3</a>\u001b[0m \u001b[39m# Setamos os pesos iniciais iguais à versão antes do treinamento pra ter um comparativo mais real.\u001b[39;00m\n\u001b[0;32m      <a href='vscode-notebook-cell:/c%3A/Users/psebastianv/dev/indra/formacao_ML_minsait/Notebooks/Aula03/CNN_Imagem_TF.ipynb#X41sZmlsZQ%3D%3D?line=3'>4</a>\u001b[0m \u001b[39m#rede_simples.set_weights(pesos_iniciais)\u001b[39;00m\n\u001b[1;32m----> <a href='vscode-notebook-cell:/c%3A/Users/psebastianv/dev/indra/formacao_ML_minsait/Notebooks/Aula03/CNN_Imagem_TF.ipynb#X41sZmlsZQ%3D%3D?line=5'>6</a>\u001b[0m historico \u001b[39m=\u001b[39m rede_simples\u001b[39m.\u001b[39;49mfit(x_treino, \n\u001b[0;32m      <a href='vscode-notebook-cell:/c%3A/Users/psebastianv/dev/indra/formacao_ML_minsait/Notebooks/Aula03/CNN_Imagem_TF.ipynb#X41sZmlsZQ%3D%3D?line=6'>7</a>\u001b[0m                              y_treino, \n\u001b[0;32m      <a href='vscode-notebook-cell:/c%3A/Users/psebastianv/dev/indra/formacao_ML_minsait/Notebooks/Aula03/CNN_Imagem_TF.ipynb#X41sZmlsZQ%3D%3D?line=7'>8</a>\u001b[0m                              epochs \u001b[39m=\u001b[39;49m \u001b[39m150\u001b[39;49m, \n\u001b[0;32m      <a href='vscode-notebook-cell:/c%3A/Users/psebastianv/dev/indra/formacao_ML_minsait/Notebooks/Aula03/CNN_Imagem_TF.ipynb#X41sZmlsZQ%3D%3D?line=8'>9</a>\u001b[0m                              verbose \u001b[39m=\u001b[39;49m \u001b[39m1\u001b[39;49m,\n\u001b[0;32m     <a href='vscode-notebook-cell:/c%3A/Users/psebastianv/dev/indra/formacao_ML_minsait/Notebooks/Aula03/CNN_Imagem_TF.ipynb#X41sZmlsZQ%3D%3D?line=9'>10</a>\u001b[0m                              validation_data \u001b[39m=\u001b[39;49m (x_val, y_val),\n\u001b[0;32m     <a href='vscode-notebook-cell:/c%3A/Users/psebastianv/dev/indra/formacao_ML_minsait/Notebooks/Aula03/CNN_Imagem_TF.ipynb#X41sZmlsZQ%3D%3D?line=10'>11</a>\u001b[0m                              callbacks \u001b[39m=\u001b[39;49m [es])\n",
      "File \u001b[1;32m~\\AppData\\Local\\Packages\\PythonSoftwareFoundation.Python.3.10_qbz5n2kfra8p0\\LocalCache\\local-packages\\Python310\\site-packages\\keras\\src\\utils\\traceback_utils.py:65\u001b[0m, in \u001b[0;36mfilter_traceback.<locals>.error_handler\u001b[1;34m(*args, **kwargs)\u001b[0m\n\u001b[0;32m     63\u001b[0m filtered_tb \u001b[39m=\u001b[39m \u001b[39mNone\u001b[39;00m\n\u001b[0;32m     64\u001b[0m \u001b[39mtry\u001b[39;00m:\n\u001b[1;32m---> 65\u001b[0m     \u001b[39mreturn\u001b[39;00m fn(\u001b[39m*\u001b[39margs, \u001b[39m*\u001b[39m\u001b[39m*\u001b[39mkwargs)\n\u001b[0;32m     66\u001b[0m \u001b[39mexcept\u001b[39;00m \u001b[39mException\u001b[39;00m \u001b[39mas\u001b[39;00m e:\n\u001b[0;32m     67\u001b[0m     filtered_tb \u001b[39m=\u001b[39m _process_traceback_frames(e\u001b[39m.\u001b[39m__traceback__)\n",
      "File \u001b[1;32m~\\AppData\\Local\\Packages\\PythonSoftwareFoundation.Python.3.10_qbz5n2kfra8p0\\LocalCache\\local-packages\\Python310\\site-packages\\keras\\src\\engine\\training.py:1783\u001b[0m, in \u001b[0;36mModel.fit\u001b[1;34m(self, x, y, batch_size, epochs, verbose, callbacks, validation_split, validation_data, shuffle, class_weight, sample_weight, initial_epoch, steps_per_epoch, validation_steps, validation_batch_size, validation_freq, max_queue_size, workers, use_multiprocessing)\u001b[0m\n\u001b[0;32m   1775\u001b[0m \u001b[39mwith\u001b[39;00m tf\u001b[39m.\u001b[39mprofiler\u001b[39m.\u001b[39mexperimental\u001b[39m.\u001b[39mTrace(\n\u001b[0;32m   1776\u001b[0m     \u001b[39m\"\u001b[39m\u001b[39mtrain\u001b[39m\u001b[39m\"\u001b[39m,\n\u001b[0;32m   1777\u001b[0m     epoch_num\u001b[39m=\u001b[39mepoch,\n\u001b[1;32m   (...)\u001b[0m\n\u001b[0;32m   1780\u001b[0m     _r\u001b[39m=\u001b[39m\u001b[39m1\u001b[39m,\n\u001b[0;32m   1781\u001b[0m ):\n\u001b[0;32m   1782\u001b[0m     callbacks\u001b[39m.\u001b[39mon_train_batch_begin(step)\n\u001b[1;32m-> 1783\u001b[0m     tmp_logs \u001b[39m=\u001b[39m \u001b[39mself\u001b[39;49m\u001b[39m.\u001b[39;49mtrain_function(iterator)\n\u001b[0;32m   1784\u001b[0m     \u001b[39mif\u001b[39;00m data_handler\u001b[39m.\u001b[39mshould_sync:\n\u001b[0;32m   1785\u001b[0m         context\u001b[39m.\u001b[39masync_wait()\n",
      "File \u001b[1;32m~\\AppData\\Local\\Packages\\PythonSoftwareFoundation.Python.3.10_qbz5n2kfra8p0\\LocalCache\\local-packages\\Python310\\site-packages\\tensorflow\\python\\util\\traceback_utils.py:150\u001b[0m, in \u001b[0;36mfilter_traceback.<locals>.error_handler\u001b[1;34m(*args, **kwargs)\u001b[0m\n\u001b[0;32m    148\u001b[0m filtered_tb \u001b[39m=\u001b[39m \u001b[39mNone\u001b[39;00m\n\u001b[0;32m    149\u001b[0m \u001b[39mtry\u001b[39;00m:\n\u001b[1;32m--> 150\u001b[0m   \u001b[39mreturn\u001b[39;00m fn(\u001b[39m*\u001b[39margs, \u001b[39m*\u001b[39m\u001b[39m*\u001b[39mkwargs)\n\u001b[0;32m    151\u001b[0m \u001b[39mexcept\u001b[39;00m \u001b[39mException\u001b[39;00m \u001b[39mas\u001b[39;00m e:\n\u001b[0;32m    152\u001b[0m   filtered_tb \u001b[39m=\u001b[39m _process_traceback_frames(e\u001b[39m.\u001b[39m__traceback__)\n",
      "File \u001b[1;32m~\\AppData\\Local\\Packages\\PythonSoftwareFoundation.Python.3.10_qbz5n2kfra8p0\\LocalCache\\local-packages\\Python310\\site-packages\\tensorflow\\python\\eager\\polymorphic_function\\polymorphic_function.py:831\u001b[0m, in \u001b[0;36mFunction.__call__\u001b[1;34m(self, *args, **kwds)\u001b[0m\n\u001b[0;32m    828\u001b[0m compiler \u001b[39m=\u001b[39m \u001b[39m\"\u001b[39m\u001b[39mxla\u001b[39m\u001b[39m\"\u001b[39m \u001b[39mif\u001b[39;00m \u001b[39mself\u001b[39m\u001b[39m.\u001b[39m_jit_compile \u001b[39melse\u001b[39;00m \u001b[39m\"\u001b[39m\u001b[39mnonXla\u001b[39m\u001b[39m\"\u001b[39m\n\u001b[0;32m    830\u001b[0m \u001b[39mwith\u001b[39;00m OptionalXlaContext(\u001b[39mself\u001b[39m\u001b[39m.\u001b[39m_jit_compile):\n\u001b[1;32m--> 831\u001b[0m   result \u001b[39m=\u001b[39m \u001b[39mself\u001b[39m\u001b[39m.\u001b[39m_call(\u001b[39m*\u001b[39margs, \u001b[39m*\u001b[39m\u001b[39m*\u001b[39mkwds)\n\u001b[0;32m    833\u001b[0m new_tracing_count \u001b[39m=\u001b[39m \u001b[39mself\u001b[39m\u001b[39m.\u001b[39mexperimental_get_tracing_count()\n\u001b[0;32m    834\u001b[0m without_tracing \u001b[39m=\u001b[39m (tracing_count \u001b[39m==\u001b[39m new_tracing_count)\n",
      "File \u001b[1;32m~\\AppData\\Local\\Packages\\PythonSoftwareFoundation.Python.3.10_qbz5n2kfra8p0\\LocalCache\\local-packages\\Python310\\site-packages\\tensorflow\\python\\eager\\polymorphic_function\\polymorphic_function.py:867\u001b[0m, in \u001b[0;36mFunction._call\u001b[1;34m(self, *args, **kwds)\u001b[0m\n\u001b[0;32m    864\u001b[0m   \u001b[39mself\u001b[39m\u001b[39m.\u001b[39m_lock\u001b[39m.\u001b[39mrelease()\n\u001b[0;32m    865\u001b[0m   \u001b[39m# In this case we have created variables on the first call, so we run the\u001b[39;00m\n\u001b[0;32m    866\u001b[0m   \u001b[39m# defunned version which is guaranteed to never create variables.\u001b[39;00m\n\u001b[1;32m--> 867\u001b[0m   \u001b[39mreturn\u001b[39;00m tracing_compilation\u001b[39m.\u001b[39;49mcall_function(\n\u001b[0;32m    868\u001b[0m       args, kwds, \u001b[39mself\u001b[39;49m\u001b[39m.\u001b[39;49m_no_variable_creation_config\n\u001b[0;32m    869\u001b[0m   )\n\u001b[0;32m    870\u001b[0m \u001b[39melif\u001b[39;00m \u001b[39mself\u001b[39m\u001b[39m.\u001b[39m_variable_creation_config \u001b[39mis\u001b[39;00m \u001b[39mnot\u001b[39;00m \u001b[39mNone\u001b[39;00m:\n\u001b[0;32m    871\u001b[0m   \u001b[39m# Release the lock early so that multiple threads can perform the call\u001b[39;00m\n\u001b[0;32m    872\u001b[0m   \u001b[39m# in parallel.\u001b[39;00m\n\u001b[0;32m    873\u001b[0m   \u001b[39mself\u001b[39m\u001b[39m.\u001b[39m_lock\u001b[39m.\u001b[39mrelease()\n",
      "File \u001b[1;32m~\\AppData\\Local\\Packages\\PythonSoftwareFoundation.Python.3.10_qbz5n2kfra8p0\\LocalCache\\local-packages\\Python310\\site-packages\\tensorflow\\python\\eager\\polymorphic_function\\tracing_compilation.py:139\u001b[0m, in \u001b[0;36mcall_function\u001b[1;34m(args, kwargs, tracing_options)\u001b[0m\n\u001b[0;32m    137\u001b[0m bound_args \u001b[39m=\u001b[39m function\u001b[39m.\u001b[39mfunction_type\u001b[39m.\u001b[39mbind(\u001b[39m*\u001b[39margs, \u001b[39m*\u001b[39m\u001b[39m*\u001b[39mkwargs)\n\u001b[0;32m    138\u001b[0m flat_inputs \u001b[39m=\u001b[39m function\u001b[39m.\u001b[39mfunction_type\u001b[39m.\u001b[39munpack_inputs(bound_args)\n\u001b[1;32m--> 139\u001b[0m \u001b[39mreturn\u001b[39;00m function\u001b[39m.\u001b[39;49m_call_flat(  \u001b[39m# pylint: disable=protected-access\u001b[39;49;00m\n\u001b[0;32m    140\u001b[0m     flat_inputs, captured_inputs\u001b[39m=\u001b[39;49mfunction\u001b[39m.\u001b[39;49mcaptured_inputs\n\u001b[0;32m    141\u001b[0m )\n",
      "File \u001b[1;32m~\\AppData\\Local\\Packages\\PythonSoftwareFoundation.Python.3.10_qbz5n2kfra8p0\\LocalCache\\local-packages\\Python310\\site-packages\\tensorflow\\python\\eager\\polymorphic_function\\concrete_function.py:1264\u001b[0m, in \u001b[0;36mConcreteFunction._call_flat\u001b[1;34m(self, tensor_inputs, captured_inputs)\u001b[0m\n\u001b[0;32m   1260\u001b[0m possible_gradient_type \u001b[39m=\u001b[39m gradients_util\u001b[39m.\u001b[39mPossibleTapeGradientTypes(args)\n\u001b[0;32m   1261\u001b[0m \u001b[39mif\u001b[39;00m (possible_gradient_type \u001b[39m==\u001b[39m gradients_util\u001b[39m.\u001b[39mPOSSIBLE_GRADIENT_TYPES_NONE\n\u001b[0;32m   1262\u001b[0m     \u001b[39mand\u001b[39;00m executing_eagerly):\n\u001b[0;32m   1263\u001b[0m   \u001b[39m# No tape is watching; skip to running the function.\u001b[39;00m\n\u001b[1;32m-> 1264\u001b[0m   \u001b[39mreturn\u001b[39;00m \u001b[39mself\u001b[39;49m\u001b[39m.\u001b[39;49m_inference_function\u001b[39m.\u001b[39;49mflat_call(args)\n\u001b[0;32m   1265\u001b[0m forward_backward \u001b[39m=\u001b[39m \u001b[39mself\u001b[39m\u001b[39m.\u001b[39m_select_forward_and_backward_functions(\n\u001b[0;32m   1266\u001b[0m     args,\n\u001b[0;32m   1267\u001b[0m     possible_gradient_type,\n\u001b[0;32m   1268\u001b[0m     executing_eagerly)\n\u001b[0;32m   1269\u001b[0m forward_function, args_with_tangents \u001b[39m=\u001b[39m forward_backward\u001b[39m.\u001b[39mforward()\n",
      "File \u001b[1;32m~\\AppData\\Local\\Packages\\PythonSoftwareFoundation.Python.3.10_qbz5n2kfra8p0\\LocalCache\\local-packages\\Python310\\site-packages\\tensorflow\\python\\eager\\polymorphic_function\\atomic_function.py:217\u001b[0m, in \u001b[0;36mAtomicFunction.flat_call\u001b[1;34m(self, args)\u001b[0m\n\u001b[0;32m    215\u001b[0m \u001b[39mdef\u001b[39;00m \u001b[39mflat_call\u001b[39m(\u001b[39mself\u001b[39m, args: Sequence[core\u001b[39m.\u001b[39mTensor]) \u001b[39m-\u001b[39m\u001b[39m>\u001b[39m Any:\n\u001b[0;32m    216\u001b[0m   \u001b[39m\"\"\"Calls with tensor inputs and returns the structured output.\"\"\"\u001b[39;00m\n\u001b[1;32m--> 217\u001b[0m   flat_outputs \u001b[39m=\u001b[39m \u001b[39mself\u001b[39;49m(\u001b[39m*\u001b[39;49margs)\n\u001b[0;32m    218\u001b[0m   \u001b[39mreturn\u001b[39;00m \u001b[39mself\u001b[39m\u001b[39m.\u001b[39mfunction_type\u001b[39m.\u001b[39mpack_output(flat_outputs)\n",
      "File \u001b[1;32m~\\AppData\\Local\\Packages\\PythonSoftwareFoundation.Python.3.10_qbz5n2kfra8p0\\LocalCache\\local-packages\\Python310\\site-packages\\tensorflow\\python\\eager\\polymorphic_function\\atomic_function.py:252\u001b[0m, in \u001b[0;36mAtomicFunction.__call__\u001b[1;34m(self, *args)\u001b[0m\n\u001b[0;32m    250\u001b[0m \u001b[39mwith\u001b[39;00m record\u001b[39m.\u001b[39mstop_recording():\n\u001b[0;32m    251\u001b[0m   \u001b[39mif\u001b[39;00m \u001b[39mself\u001b[39m\u001b[39m.\u001b[39m_bound_context\u001b[39m.\u001b[39mexecuting_eagerly():\n\u001b[1;32m--> 252\u001b[0m     outputs \u001b[39m=\u001b[39m \u001b[39mself\u001b[39;49m\u001b[39m.\u001b[39;49m_bound_context\u001b[39m.\u001b[39;49mcall_function(\n\u001b[0;32m    253\u001b[0m         \u001b[39mself\u001b[39;49m\u001b[39m.\u001b[39;49mname,\n\u001b[0;32m    254\u001b[0m         \u001b[39mlist\u001b[39;49m(args),\n\u001b[0;32m    255\u001b[0m         \u001b[39mlen\u001b[39;49m(\u001b[39mself\u001b[39;49m\u001b[39m.\u001b[39;49mfunction_type\u001b[39m.\u001b[39;49mflat_outputs),\n\u001b[0;32m    256\u001b[0m     )\n\u001b[0;32m    257\u001b[0m   \u001b[39melse\u001b[39;00m:\n\u001b[0;32m    258\u001b[0m     outputs \u001b[39m=\u001b[39m make_call_op_in_graph(\n\u001b[0;32m    259\u001b[0m         \u001b[39mself\u001b[39m,\n\u001b[0;32m    260\u001b[0m         \u001b[39mlist\u001b[39m(args),\n\u001b[0;32m    261\u001b[0m         \u001b[39mself\u001b[39m\u001b[39m.\u001b[39m_bound_context\u001b[39m.\u001b[39mfunction_call_options\u001b[39m.\u001b[39mas_attrs(),\n\u001b[0;32m    262\u001b[0m     )\n",
      "File \u001b[1;32m~\\AppData\\Local\\Packages\\PythonSoftwareFoundation.Python.3.10_qbz5n2kfra8p0\\LocalCache\\local-packages\\Python310\\site-packages\\tensorflow\\python\\eager\\context.py:1479\u001b[0m, in \u001b[0;36mContext.call_function\u001b[1;34m(self, name, tensor_inputs, num_outputs)\u001b[0m\n\u001b[0;32m   1477\u001b[0m cancellation_context \u001b[39m=\u001b[39m cancellation\u001b[39m.\u001b[39mcontext()\n\u001b[0;32m   1478\u001b[0m \u001b[39mif\u001b[39;00m cancellation_context \u001b[39mis\u001b[39;00m \u001b[39mNone\u001b[39;00m:\n\u001b[1;32m-> 1479\u001b[0m   outputs \u001b[39m=\u001b[39m execute\u001b[39m.\u001b[39;49mexecute(\n\u001b[0;32m   1480\u001b[0m       name\u001b[39m.\u001b[39;49mdecode(\u001b[39m\"\u001b[39;49m\u001b[39mutf-8\u001b[39;49m\u001b[39m\"\u001b[39;49m),\n\u001b[0;32m   1481\u001b[0m       num_outputs\u001b[39m=\u001b[39;49mnum_outputs,\n\u001b[0;32m   1482\u001b[0m       inputs\u001b[39m=\u001b[39;49mtensor_inputs,\n\u001b[0;32m   1483\u001b[0m       attrs\u001b[39m=\u001b[39;49mattrs,\n\u001b[0;32m   1484\u001b[0m       ctx\u001b[39m=\u001b[39;49m\u001b[39mself\u001b[39;49m,\n\u001b[0;32m   1485\u001b[0m   )\n\u001b[0;32m   1486\u001b[0m \u001b[39melse\u001b[39;00m:\n\u001b[0;32m   1487\u001b[0m   outputs \u001b[39m=\u001b[39m execute\u001b[39m.\u001b[39mexecute_with_cancellation(\n\u001b[0;32m   1488\u001b[0m       name\u001b[39m.\u001b[39mdecode(\u001b[39m\"\u001b[39m\u001b[39mutf-8\u001b[39m\u001b[39m\"\u001b[39m),\n\u001b[0;32m   1489\u001b[0m       num_outputs\u001b[39m=\u001b[39mnum_outputs,\n\u001b[1;32m   (...)\u001b[0m\n\u001b[0;32m   1493\u001b[0m       cancellation_manager\u001b[39m=\u001b[39mcancellation_context,\n\u001b[0;32m   1494\u001b[0m   )\n",
      "File \u001b[1;32m~\\AppData\\Local\\Packages\\PythonSoftwareFoundation.Python.3.10_qbz5n2kfra8p0\\LocalCache\\local-packages\\Python310\\site-packages\\tensorflow\\python\\eager\\execute.py:60\u001b[0m, in \u001b[0;36mquick_execute\u001b[1;34m(op_name, num_outputs, inputs, attrs, ctx, name)\u001b[0m\n\u001b[0;32m     53\u001b[0m   \u001b[39m# Convert any objects of type core_types.Tensor to Tensor.\u001b[39;00m\n\u001b[0;32m     54\u001b[0m   inputs \u001b[39m=\u001b[39m [\n\u001b[0;32m     55\u001b[0m       tensor_conversion_registry\u001b[39m.\u001b[39mconvert(t)\n\u001b[0;32m     56\u001b[0m       \u001b[39mif\u001b[39;00m \u001b[39misinstance\u001b[39m(t, core_types\u001b[39m.\u001b[39mTensor)\n\u001b[0;32m     57\u001b[0m       \u001b[39melse\u001b[39;00m t\n\u001b[0;32m     58\u001b[0m       \u001b[39mfor\u001b[39;00m t \u001b[39min\u001b[39;00m inputs\n\u001b[0;32m     59\u001b[0m   ]\n\u001b[1;32m---> 60\u001b[0m   tensors \u001b[39m=\u001b[39m pywrap_tfe\u001b[39m.\u001b[39;49mTFE_Py_Execute(ctx\u001b[39m.\u001b[39;49m_handle, device_name, op_name,\n\u001b[0;32m     61\u001b[0m                                       inputs, attrs, num_outputs)\n\u001b[0;32m     62\u001b[0m \u001b[39mexcept\u001b[39;00m core\u001b[39m.\u001b[39m_NotOkStatusException \u001b[39mas\u001b[39;00m e:\n\u001b[0;32m     63\u001b[0m   \u001b[39mif\u001b[39;00m name \u001b[39mis\u001b[39;00m \u001b[39mnot\u001b[39;00m \u001b[39mNone\u001b[39;00m:\n",
      "\u001b[1;31mKeyboardInterrupt\u001b[0m: "
     ]
    }
   ],
   "source": [
    "es = EarlyStopping(monitor = 'val_loss', min_delta = 0.001, patience = 10, verbose = 1, mode = 'auto')\n",
    "\n",
    "# Setamos os pesos iniciais iguais à versão antes do treinamento pra ter um comparativo mais real.\n",
    "#rede_simples.set_weights(pesos_iniciais)\n",
    "\n",
    "historico = rede_simples.fit(x_treino, \n",
    "                             y_treino, \n",
    "                             epochs = 150, \n",
    "                             verbose = 1,\n",
    "                             validation_data = (x_val, y_val),\n",
    "                             callbacks = [es])"
   ]
  },
  {
   "cell_type": "code",
   "execution_count": null,
   "metadata": {},
   "outputs": [
    {
     "data": {
      "image/png": "[encoded data removed]",
      "text/plain": [
       "<Figure size 640x480 with 1 Axes>"
      ]
     },
     "metadata": {},
     "output_type": "display_data"
    }
   ],
   "source": [
    "loss = historico.history['loss']\n",
    "val_loss = historico.history['val_loss']\n",
    "epochs = range(len(loss))\n",
    "plt.figure()\n",
    "plt.plot(epochs, loss, 'bo', label = 'Training loss')\n",
    "plt.plot(epochs, val_loss, 'b', label = 'Validation loss')\n",
    "plt.title('Training and validation loss')\n",
    "plt.legend()\n",
    "plt.show()"
   ]
  },
  {
   "cell_type": "code",
   "execution_count": null,
   "metadata": {},
   "outputs": [
    {
     "name": "stdout",
     "output_type": "stream",
     "text": [
      "313/313 [==============================] - 1s 2ms/step\n"
     ]
    },
    {
     "data": {
      "text/plain": [
       "0.9596"
      ]
     },
     "execution_count": 20,
     "metadata": {},
     "output_type": "execute_result"
    }
   ],
   "source": [
    "from sklearn.metrics import confusion_matrix\n",
    "from sklearn.metrics import accuracy_score\n",
    "\n",
    "pred_es = rede_simples.predict(x_test)\n",
    "\n",
    "accuracy_score(y_test.argmax(1), pred_es.argmax(1))"
   ]
  },
  {
   "cell_type": "code",
   "execution_count": null,
   "metadata": {},
   "outputs": [
    {
     "data": {
      "text/plain": [
       "array([[ 965,    0,    2,    2,    0,    0,    6,    1,    2,    2],\n",
       "       [   0, 1113,    3,    2,    2,    0,    3,    3,    9,    0],\n",
       "       [   3,    4,  970,   10,    7,    1,    4,   12,   19,    2],\n",
       "       [   1,    2,    5,  961,    1,   15,    0,    8,   10,    7],\n",
       "       [   1,    0,    3,    0,  949,    0,    4,    2,    1,   22],\n",
       "       [   5,    0,    0,   23,    1,  828,   14,    3,   13,    5],\n",
       "       [   3,    2,    1,    1,    8,    8,  933,    0,    1,    1],\n",
       "       [   2,    5,   10,    3,    6,    0,    0,  979,    8,   15],\n",
       "       [   8,    2,    1,   12,    6,    3,    2,    3,  927,   10],\n",
       "       [   2,    2,    1,    6,   15,    2,    0,    7,    3,  971]])"
      ]
     },
     "execution_count": 21,
     "metadata": {},
     "output_type": "execute_result"
    }
   ],
   "source": [
    "confusion_matrix(y_test.argmax(1), pred_es.argmax(1))"
   ]
  },
  {
   "cell_type": "markdown",
   "metadata": {},
   "source": [
    "### Regularização - Dropout\n",
    "\n",
    "* Alterna quais neurônios vão otimizar os pesos a cada rodada do treinamento"
   ]
  },
  {
   "cell_type": "code",
   "execution_count": null,
   "metadata": {},
   "outputs": [],
   "source": [
    "rede_dropout = Sequential()\n",
    "rede_dropout.add(Conv2D(filters=1,kernel_size=3,activation='relu',input_shape=[28,28,1]))\n",
    "rede_dropout.add(Dropout(0.3))\n",
    "rede_dropout.add(MaxPool2D(pool_size=(2,2)))\n",
    "rede_dropout.add(Flatten())\n",
    "rede_dropout.add(Dense(25,activation='relu'))\n",
    "rede_dropout.add(Dropout(0.3))\n",
    "rede_dropout.add(Dense(10,activation='softmax'))\n",
    "\n",
    "rede_dropout.compile(loss = 'categorical_crossentropy', optimizer = 'Adam', metrics=['accuracy'])\n"
   ]
  },
  {
   "cell_type": "code",
   "execution_count": null,
   "metadata": {},
   "outputs": [
    {
     "name": "stdout",
     "output_type": "stream",
     "text": [
      "Epoch 1/150\n",
      "1500/1500 [==============================] - 8s 5ms/step - loss: 0.7437 - accuracy: 0.7596 - val_loss: 0.3507 - val_accuracy: 0.9137\n",
      "Epoch 2/150\n",
      "1500/1500 [==============================] - 7s 5ms/step - loss: 0.4631 - accuracy: 0.8543 - val_loss: 0.3035 - val_accuracy: 0.9207\n",
      "Epoch 3/150\n",
      "1500/1500 [==============================] - 7s 5ms/step - loss: 0.4184 - accuracy: 0.8685 - val_loss: 0.2817 - val_accuracy: 0.9283\n",
      "Epoch 4/150\n",
      "1500/1500 [==============================] - 7s 5ms/step - loss: 0.4040 - accuracy: 0.8726 - val_loss: 0.2745 - val_accuracy: 0.9314\n",
      "Epoch 5/150\n",
      "1500/1500 [==============================] - 7s 5ms/step - loss: 0.3874 - accuracy: 0.8769 - val_loss: 0.2489 - val_accuracy: 0.9342\n",
      "Epoch 6/150\n",
      "1500/1500 [==============================] - 7s 5ms/step - loss: 0.3751 - accuracy: 0.8805 - val_loss: 0.2393 - val_accuracy: 0.9358\n",
      "Epoch 7/150\n",
      "1500/1500 [==============================] - 7s 5ms/step - loss: 0.3658 - accuracy: 0.8845 - val_loss: 0.2369 - val_accuracy: 0.9377\n",
      "Epoch 8/150\n",
      "1500/1500 [==============================] - 7s 5ms/step - loss: 0.3589 - accuracy: 0.8855 - val_loss: 0.2312 - val_accuracy: 0.9403\n",
      "Epoch 9/150\n",
      "1500/1500 [==============================] - 7s 5ms/step - loss: 0.3567 - accuracy: 0.8877 - val_loss: 0.2301 - val_accuracy: 0.9389\n",
      "Epoch 10/150\n",
      "1500/1500 [==============================] - 7s 5ms/step - loss: 0.3484 - accuracy: 0.8892 - val_loss: 0.2333 - val_accuracy: 0.9390\n",
      "Epoch 11/150\n",
      "1500/1500 [==============================] - 8s 5ms/step - loss: 0.3477 - accuracy: 0.8897 - val_loss: 0.2276 - val_accuracy: 0.9409\n",
      "Epoch 12/150\n",
      "1500/1500 [==============================] - 8s 5ms/step - loss: 0.3456 - accuracy: 0.8896 - val_loss: 0.2258 - val_accuracy: 0.9400\n",
      "Epoch 13/150\n",
      "1500/1500 [==============================] - 7s 5ms/step - loss: 0.3425 - accuracy: 0.8918 - val_loss: 0.2199 - val_accuracy: 0.9402\n",
      "Epoch 14/150\n",
      "1500/1500 [==============================] - 7s 5ms/step - loss: 0.3431 - accuracy: 0.8913 - val_loss: 0.2176 - val_accuracy: 0.9415\n",
      "Epoch 15/150\n",
      "1500/1500 [==============================] - 7s 5ms/step - loss: 0.3372 - accuracy: 0.8927 - val_loss: 0.2192 - val_accuracy: 0.9375\n",
      "Epoch 16/150\n",
      "1500/1500 [==============================] - 7s 5ms/step - loss: 0.3378 - accuracy: 0.8925 - val_loss: 0.2078 - val_accuracy: 0.9417\n",
      "Epoch 17/150\n",
      "1500/1500 [==============================] - 7s 5ms/step - loss: 0.3349 - accuracy: 0.8948 - val_loss: 0.2228 - val_accuracy: 0.9411\n",
      "Epoch 18/150\n",
      "1500/1500 [==============================] - 7s 5ms/step - loss: 0.3318 - accuracy: 0.8964 - val_loss: 0.2235 - val_accuracy: 0.9425\n",
      "Epoch 19/150\n",
      "1500/1500 [==============================] - 7s 5ms/step - loss: 0.3276 - accuracy: 0.8965 - val_loss: 0.2238 - val_accuracy: 0.9377\n",
      "Epoch 20/150\n",
      "1500/1500 [==============================] - 7s 5ms/step - loss: 0.3350 - accuracy: 0.8940 - val_loss: 0.2120 - val_accuracy: 0.9402\n",
      "Epoch 21/150\n",
      "1500/1500 [==============================] - 7s 5ms/step - loss: 0.3267 - accuracy: 0.8961 - val_loss: 0.2116 - val_accuracy: 0.9404\n",
      "Epoch 22/150\n",
      "1500/1500 [==============================] - 7s 5ms/step - loss: 0.3287 - accuracy: 0.8955 - val_loss: 0.2164 - val_accuracy: 0.9420\n",
      "Epoch 23/150\n",
      "1500/1500 [==============================] - 8s 5ms/step - loss: 0.3297 - accuracy: 0.8936 - val_loss: 0.2061 - val_accuracy: 0.9422\n",
      "Epoch 24/150\n",
      "1500/1500 [==============================] - 7s 5ms/step - loss: 0.3280 - accuracy: 0.8960 - val_loss: 0.2009 - val_accuracy: 0.9457\n",
      "Epoch 25/150\n",
      "1500/1500 [==============================] - 7s 5ms/step - loss: 0.3240 - accuracy: 0.8970 - val_loss: 0.2104 - val_accuracy: 0.9427\n",
      "Epoch 26/150\n",
      "1500/1500 [==============================] - 7s 5ms/step - loss: 0.3251 - accuracy: 0.8968 - val_loss: 0.2106 - val_accuracy: 0.9395\n",
      "Epoch 27/150\n",
      "1500/1500 [==============================] - 8s 5ms/step - loss: 0.3239 - accuracy: 0.8985 - val_loss: 0.2321 - val_accuracy: 0.9369\n",
      "Epoch 28/150\n",
      "1500/1500 [==============================] - 7s 5ms/step - loss: 0.3222 - accuracy: 0.8966 - val_loss: 0.2071 - val_accuracy: 0.9414\n",
      "Epoch 29/150\n",
      "1500/1500 [==============================] - 7s 5ms/step - loss: 0.3226 - accuracy: 0.8981 - val_loss: 0.2044 - val_accuracy: 0.9442\n",
      "Epoch 30/150\n",
      "1500/1500 [==============================] - 7s 5ms/step - loss: 0.3205 - accuracy: 0.8991 - val_loss: 0.2018 - val_accuracy: 0.9431\n",
      "Epoch 31/150\n",
      "1500/1500 [==============================] - 7s 5ms/step - loss: 0.3191 - accuracy: 0.8976 - val_loss: 0.2016 - val_accuracy: 0.9429\n",
      "Epoch 32/150\n",
      "1500/1500 [==============================] - 7s 5ms/step - loss: 0.3211 - accuracy: 0.8987 - val_loss: 0.2055 - val_accuracy: 0.9431\n",
      "Epoch 33/150\n",
      "1500/1500 [==============================] - 7s 5ms/step - loss: 0.3170 - accuracy: 0.8998 - val_loss: 0.2029 - val_accuracy: 0.9417\n",
      "Epoch 34/150\n",
      "1500/1500 [==============================] - 7s 5ms/step - loss: 0.3181 - accuracy: 0.8980 - val_loss: 0.2048 - val_accuracy: 0.9437\n",
      "Epoch 34: early stopping\n"
     ]
    }
   ],
   "source": [
    "historico = rede_dropout.fit(x_treino, \n",
    "                             y_treino, \n",
    "                             epochs = 150, \n",
    "                             verbose = 1,\n",
    "                             validation_data = (x_val, y_val),\n",
    "                             callbacks = [es])"
   ]
  },
  {
   "cell_type": "code",
   "execution_count": null,
   "metadata": {},
   "outputs": [
    {
     "data": {
      "image/png": "[encoded data removed]",
      "text/plain": [
       "<Figure size 640x480 with 1 Axes>"
      ]
     },
     "metadata": {},
     "output_type": "display_data"
    }
   ],
   "source": [
    "loss = historico.history['loss']\n",
    "val_loss = historico.history['val_loss']\n",
    "epochs = range(len(loss))\n",
    "plt.figure()\n",
    "plt.plot(epochs, loss, 'bo', label = 'Training loss')\n",
    "plt.plot(epochs, val_loss, 'b', label = 'Validation loss')\n",
    "plt.title('Training and validation loss')\n",
    "plt.legend()\n",
    "plt.show()"
   ]
  },
  {
   "cell_type": "code",
   "execution_count": null,
   "metadata": {},
   "outputs": [
    {
     "name": "stdout",
     "output_type": "stream",
     "text": [
      "313/313 [==============================] - 1s 2ms/step\n"
     ]
    },
    {
     "data": {
      "text/plain": [
       "0.951"
      ]
     },
     "execution_count": 25,
     "metadata": {},
     "output_type": "execute_result"
    }
   ],
   "source": [
    "pred_dropout = rede_dropout.predict(x_test)\n",
    "\n",
    "accuracy_score(y_test.argmax(1), pred_dropout.argmax(1))"
   ]
  },
  {
   "cell_type": "code",
   "execution_count": null,
   "metadata": {},
   "outputs": [
    {
     "data": {
      "text/plain": [
       "array([[ 965,    0,    1,    1,    0,    2,    7,    2,    2,    0],\n",
       "       [   0, 1116,    2,    2,    0,    1,    3,    0,   11,    0],\n",
       "       [   6,    5,  975,    6,   11,    1,    5,    6,   17,    0],\n",
       "       [   3,    1,    6,  948,    2,   13,    0,   11,   24,    2],\n",
       "       [   1,    3,    2,    0,  948,    0,   11,    2,    1,   14],\n",
       "       [  11,    0,    1,   15,    7,  812,   10,    3,   28,    5],\n",
       "       [   7,    3,    0,    0,    5,    5,  935,    0,    3,    0],\n",
       "       [   2,   10,   13,    5,    7,    0,    0,  966,    1,   24],\n",
       "       [  15,    7,    4,    5,    7,    5,    8,    5,  912,    6],\n",
       "       [   9,    5,    1,    7,   30,   10,    0,    7,    7,  933]])"
      ]
     },
     "execution_count": 26,
     "metadata": {},
     "output_type": "execute_result"
    }
   ],
   "source": [
    "confusion_matrix(y_test.argmax(1), pred_dropout.argmax(1))"
   ]
  },
  {
   "cell_type": "markdown",
   "metadata": {},
   "source": [
    "# Regressão"
   ]
  },
  {
   "cell_type": "code",
   "execution_count": null,
   "metadata": {},
   "outputs": [],
   "source": [
    "(x_train, y_train), (x_test, y_test) = tf.keras.datasets.boston_housing.load_data()"
   ]
  },
  {
   "cell_type": "code",
   "execution_count": null,
   "metadata": {},
   "outputs": [],
   "source": [
    "mean = x_train.mean(axis=0)\n",
    "x_train -= mean\n",
    "std = x_train.std(axis=0)\n",
    "x_train /= std\n",
    "\n",
    "x_test -= mean\n",
    "x_test /= std"
   ]
  },
  {
   "cell_type": "code",
   "execution_count": null,
   "metadata": {},
   "outputs": [
    {
     "data": {
      "text/plain": [
       "((323, 13), (81, 13), (102, 13), (323,), (81,), (102,))"
      ]
     },
     "execution_count": 29,
     "metadata": {},
     "output_type": "execute_result"
    }
   ],
   "source": [
    "from sklearn.model_selection import train_test_split\n",
    "\n",
    "x_treino, x_val, y_treino, y_val = train_test_split(x_train, y_train, test_size = 0.2, random_state = 13)\n",
    "\n",
    "x_treino.shape, x_val.shape, x_test.shape, y_treino.shape, y_val.shape, y_test.shape, "
   ]
  },
  {
   "cell_type": "code",
   "execution_count": null,
   "metadata": {},
   "outputs": [],
   "source": [
    "model = Sequential()\n",
    "model.add(Conv1D(3,1, activation='relu', input_shape=(len(x_train[1]),1)))\n",
    "model.add(Dense(64, activation='relu'))\n",
    "model.add(Dense(1))\n",
    "\n",
    "model.compile(optimizer='rmsprop',\n",
    "              loss='mse',\n",
    "              metrics=['mae'])"
   ]
  },
  {
   "cell_type": "code",
   "execution_count": null,
   "metadata": {},
   "outputs": [
    {
     "name": "stdout",
     "output_type": "stream",
     "text": [
      "Model: \"sequential_2\"\n",
      "_________________________________________________________________\n",
      " Layer (type)                Output Shape              Param #   \n",
      "=================================================================\n",
      " conv1d (Conv1D)             (None, 13, 3)             6         \n",
      "                                                                 \n",
      " dense_4 (Dense)             (None, 13, 64)            256       \n",
      "                                                                 \n",
      " dense_5 (Dense)             (None, 13, 1)             65        \n",
      "                                                                 \n",
      "=================================================================\n",
      "Total params: 327 (1.28 KB)\n",
      "Trainable params: 327 (1.28 KB)\n",
      "Non-trainable params: 0 (0.00 Byte)\n",
      "_________________________________________________________________\n"
     ]
    }
   ],
   "source": [
    "model.summary()"
   ]
  },
  {
   "cell_type": "code",
   "execution_count": null,
   "metadata": {},
   "outputs": [],
   "source": [
    "x_treino = np.expand_dims(x_treino,axis=1)"
   ]
  },
  {
   "cell_type": "code",
   "execution_count": null,
   "metadata": {},
   "outputs": [],
   "source": [
    "x_train = np.expand_dims(x_train,axis=-1)"
   ]
  },
  {
   "cell_type": "code",
   "execution_count": null,
   "metadata": {},
   "outputs": [],
   "source": [
    "valid = (x_val,y_val)"
   ]
  },
  {
   "cell_type": "code",
   "execution_count": null,
   "metadata": {},
   "outputs": [
    {
     "name": "stdout",
     "output_type": "stream",
     "text": [
      "Epoch 1/150\n"
     ]
    },
    {
     "name": "stdout",
     "output_type": "stream",
     "text": [
      "6/6 [==============================] - 1s 35ms/step - loss: 562.8471 - mae: 21.8769 - val_loss: 631.0889 - val_mae: 23.3740\n",
      "Epoch 2/150\n",
      "6/6 [==============================] - 0s 6ms/step - loss: 557.6104 - mae: 21.7556 - val_loss: 626.1984 - val_mae: 23.2674\n",
      "Epoch 3/150\n",
      "6/6 [==============================] - 0s 6ms/step - loss: 553.0422 - mae: 21.6493 - val_loss: 622.0339 - val_mae: 23.1762\n",
      "Epoch 4/150\n",
      "6/6 [==============================] - 0s 6ms/step - loss: 548.9990 - mae: 21.5537 - val_loss: 617.7330 - val_mae: 23.0814\n",
      "Epoch 5/150\n",
      "6/6 [==============================] - 0s 6ms/step - loss: 544.8366 - mae: 21.4559 - val_loss: 613.2219 - val_mae: 22.9813\n",
      "Epoch 6/150\n",
      "6/6 [==============================] - 0s 6ms/step - loss: 540.4218 - mae: 21.3515 - val_loss: 608.5209 - val_mae: 22.8764\n",
      "Epoch 7/150\n",
      "6/6 [==============================] - 0s 6ms/step - loss: 535.8856 - mae: 21.2428 - val_loss: 604.1276 - val_mae: 22.7777\n",
      "Epoch 8/150\n",
      "6/6 [==============================] - 0s 6ms/step - loss: 531.6008 - mae: 21.1395 - val_loss: 599.5788 - val_mae: 22.6748\n",
      "Epoch 9/150\n",
      "6/6 [==============================] - 0s 6ms/step - loss: 527.1223 - mae: 21.0299 - val_loss: 594.5412 - val_mae: 22.5601\n",
      "Epoch 10/150\n",
      "6/6 [==============================] - 0s 6ms/step - loss: 522.2302 - mae: 20.9101 - val_loss: 589.2061 - val_mae: 22.4380\n",
      "Epoch 11/150\n",
      "6/6 [==============================] - 0s 6ms/step - loss: 517.0410 - mae: 20.7837 - val_loss: 583.5490 - val_mae: 22.3075\n",
      "Epoch 12/150\n",
      "6/6 [==============================] - 0s 6ms/step - loss: 511.6672 - mae: 20.6495 - val_loss: 577.9744 - val_mae: 22.1779\n",
      "Epoch 13/150\n",
      "6/6 [==============================] - 0s 6ms/step - loss: 506.3259 - mae: 20.5159 - val_loss: 572.1665 - val_mae: 22.0421\n",
      "Epoch 14/150\n",
      "6/6 [==============================] - 0s 6ms/step - loss: 500.7934 - mae: 20.3742 - val_loss: 566.7899 - val_mae: 21.9152\n",
      "Epoch 15/150\n",
      "6/6 [==============================] - 0s 6ms/step - loss: 495.4730 - mae: 20.2391 - val_loss: 560.9396 - val_mae: 21.7763\n",
      "Epoch 16/150\n",
      "6/6 [==============================] - 0s 6ms/step - loss: 489.7640 - mae: 20.0937 - val_loss: 554.8568 - val_mae: 21.6302\n",
      "Epoch 17/150\n",
      "6/6 [==============================] - 0s 6ms/step - loss: 484.0619 - mae: 19.9402 - val_loss: 548.1503 - val_mae: 21.4679\n",
      "Epoch 18/150\n",
      "6/6 [==============================] - 0s 6ms/step - loss: 477.5556 - mae: 19.7736 - val_loss: 541.2249 - val_mae: 21.2987\n",
      "Epoch 19/150\n",
      "6/6 [==============================] - 0s 6ms/step - loss: 470.8915 - mae: 19.5985 - val_loss: 534.8556 - val_mae: 21.1411\n",
      "Epoch 20/150\n",
      "6/6 [==============================] - 0s 6ms/step - loss: 464.6772 - mae: 19.4344 - val_loss: 528.1065 - val_mae: 20.9727\n",
      "Epoch 21/150\n",
      "6/6 [==============================] - 0s 6ms/step - loss: 458.2275 - mae: 19.2590 - val_loss: 520.6978 - val_mae: 20.7862\n",
      "Epoch 22/150\n",
      "6/6 [==============================] - 0s 6ms/step - loss: 451.1265 - mae: 19.0661 - val_loss: 513.0298 - val_mae: 20.5908\n",
      "Epoch 23/150\n",
      "6/6 [==============================] - 0s 6ms/step - loss: 443.7804 - mae: 18.8674 - val_loss: 505.3007 - val_mae: 20.3928\n",
      "Epoch 24/150\n",
      "6/6 [==============================] - 0s 6ms/step - loss: 436.4891 - mae: 18.6623 - val_loss: 497.8421 - val_mae: 20.1999\n",
      "Epoch 25/150\n",
      "6/6 [==============================] - 0s 6ms/step - loss: 429.4136 - mae: 18.4641 - val_loss: 489.5849 - val_mae: 19.9831\n",
      "Epoch 26/150\n",
      "6/6 [==============================] - 0s 6ms/step - loss: 421.7124 - mae: 18.2456 - val_loss: 481.7496 - val_mae: 19.7757\n",
      "Epoch 27/150\n",
      "6/6 [==============================] - 0s 6ms/step - loss: 414.2282 - mae: 18.0305 - val_loss: 474.3599 - val_mae: 19.5786\n",
      "Epoch 28/150\n",
      "6/6 [==============================] - 0s 6ms/step - loss: 407.3294 - mae: 17.8293 - val_loss: 465.9665 - val_mae: 19.3530\n",
      "Epoch 29/150\n",
      "6/6 [==============================] - 0s 6ms/step - loss: 399.6589 - mae: 17.6072 - val_loss: 457.5750 - val_mae: 19.1256\n",
      "Epoch 30/150\n",
      "6/6 [==============================] - 0s 6ms/step - loss: 391.7523 - mae: 17.3768 - val_loss: 449.2944 - val_mae: 18.8992\n",
      "Epoch 31/150\n",
      "6/6 [==============================] - 0s 6ms/step - loss: 383.8658 - mae: 17.1383 - val_loss: 441.1299 - val_mae: 18.6739\n",
      "Epoch 32/150\n",
      "6/6 [==============================] - 0s 5ms/step - loss: 376.6764 - mae: 16.9119 - val_loss: 432.1155 - val_mae: 18.4230\n",
      "Epoch 33/150\n",
      "6/6 [==============================] - 0s 6ms/step - loss: 368.1812 - mae: 16.6591 - val_loss: 423.3259 - val_mae: 18.1765\n",
      "Epoch 34/150\n",
      "6/6 [==============================] - 0s 6ms/step - loss: 360.3474 - mae: 16.4192 - val_loss: 414.1386 - val_mae: 17.9166\n",
      "Epoch 35/150\n",
      "6/6 [==============================] - 0s 6ms/step - loss: 351.9823 - mae: 16.1673 - val_loss: 405.9856 - val_mae: 17.6833\n",
      "Epoch 36/150\n",
      "6/6 [==============================] - 0s 6ms/step - loss: 344.5053 - mae: 15.9314 - val_loss: 397.7739 - val_mae: 17.4464\n",
      "Epoch 37/150\n",
      "6/6 [==============================] - 0s 6ms/step - loss: 336.9887 - mae: 15.6958 - val_loss: 388.6251 - val_mae: 17.1800\n",
      "Epoch 38/150\n",
      "6/6 [==============================] - 0s 6ms/step - loss: 329.2029 - mae: 15.4394 - val_loss: 379.9696 - val_mae: 16.9264\n",
      "Epoch 39/150\n",
      "6/6 [==============================] - 0s 6ms/step - loss: 321.3380 - mae: 15.1962 - val_loss: 371.5988 - val_mae: 16.6775\n",
      "Epoch 40/150\n",
      "6/6 [==============================] - 0s 6ms/step - loss: 313.7589 - mae: 14.9585 - val_loss: 363.8657 - val_mae: 16.4448\n",
      "Epoch 41/150\n",
      "6/6 [==============================] - 0s 6ms/step - loss: 307.1879 - mae: 14.7248 - val_loss: 355.5341 - val_mae: 16.1903\n",
      "Epoch 42/150\n",
      "6/6 [==============================] - 0s 6ms/step - loss: 299.1976 - mae: 14.4730 - val_loss: 347.5568 - val_mae: 15.9450\n",
      "Epoch 43/150\n",
      "6/6 [==============================] - 0s 6ms/step - loss: 292.3999 - mae: 14.2507 - val_loss: 338.8513 - val_mae: 15.6748\n",
      "Epoch 44/150\n",
      "6/6 [==============================] - 0s 6ms/step - loss: 285.3852 - mae: 14.0038 - val_loss: 330.9573 - val_mae: 15.4295\n",
      "Epoch 45/150\n",
      "6/6 [==============================] - 0s 6ms/step - loss: 278.7401 - mae: 13.7854 - val_loss: 322.6271 - val_mae: 15.1676\n",
      "Epoch 46/150\n",
      "6/6 [==============================] - 0s 6ms/step - loss: 271.7846 - mae: 13.5577 - val_loss: 314.6640 - val_mae: 14.9176\n",
      "Epoch 47/150\n",
      "6/6 [==============================] - 0s 6ms/step - loss: 265.4174 - mae: 13.3328 - val_loss: 307.4075 - val_mae: 14.6862\n",
      "Epoch 48/150\n",
      "6/6 [==============================] - 0s 6ms/step - loss: 258.9625 - mae: 13.0968 - val_loss: 299.5680 - val_mae: 14.4321\n",
      "Epoch 49/150\n",
      "6/6 [==============================] - 0s 6ms/step - loss: 252.3549 - mae: 12.8807 - val_loss: 291.2776 - val_mae: 14.1605\n",
      "Epoch 50/150\n",
      "6/6 [==============================] - 0s 6ms/step - loss: 245.5327 - mae: 12.6475 - val_loss: 286.3193 - val_mae: 14.0011\n",
      "Epoch 51/150\n",
      "6/6 [==============================] - 0s 6ms/step - loss: 241.6663 - mae: 12.5022 - val_loss: 281.2303 - val_mae: 13.8356\n",
      "Epoch 52/150\n",
      "6/6 [==============================] - 0s 6ms/step - loss: 236.8776 - mae: 12.3348 - val_loss: 274.2198 - val_mae: 13.6009\n",
      "Epoch 53/150\n",
      "6/6 [==============================] - 0s 6ms/step - loss: 231.7767 - mae: 12.1408 - val_loss: 267.9362 - val_mae: 13.3896\n",
      "Epoch 54/150\n",
      "6/6 [==============================] - 0s 6ms/step - loss: 225.8810 - mae: 11.9607 - val_loss: 261.3468 - val_mae: 13.1655\n",
      "Epoch 55/150\n",
      "6/6 [==============================] - 0s 6ms/step - loss: 220.6847 - mae: 11.7459 - val_loss: 254.6006 - val_mae: 12.9332\n",
      "Epoch 56/150\n",
      "6/6 [==============================] - 0s 6ms/step - loss: 215.3954 - mae: 11.5587 - val_loss: 248.5002 - val_mae: 12.7220\n",
      "Epoch 57/150\n",
      "6/6 [==============================] - 0s 6ms/step - loss: 210.0526 - mae: 11.3569 - val_loss: 241.6803 - val_mae: 12.4806\n",
      "Epoch 58/150\n",
      "6/6 [==============================] - 0s 6ms/step - loss: 204.3495 - mae: 11.1510 - val_loss: 234.8407 - val_mae: 12.2384\n",
      "Epoch 59/150\n",
      "6/6 [==============================] - 0s 6ms/step - loss: 198.9858 - mae: 10.9489 - val_loss: 227.4404 - val_mae: 11.9681\n",
      "Epoch 60/150\n",
      "6/6 [==============================] - 0s 6ms/step - loss: 193.1256 - mae: 10.7274 - val_loss: 222.3204 - val_mae: 11.7825\n",
      "Epoch 61/150\n",
      "6/6 [==============================] - 0s 6ms/step - loss: 188.8213 - mae: 10.5646 - val_loss: 217.7218 - val_mae: 11.6153\n",
      "Epoch 62/150\n",
      "6/6 [==============================] - 0s 6ms/step - loss: 184.3201 - mae: 10.4050 - val_loss: 211.1354 - val_mae: 11.3660\n",
      "Epoch 63/150\n",
      "6/6 [==============================] - 0s 5ms/step - loss: 179.8212 - mae: 10.2104 - val_loss: 205.8433 - val_mae: 11.1663\n",
      "Epoch 64/150\n",
      "6/6 [==============================] - 0s 6ms/step - loss: 175.7637 - mae: 10.0502 - val_loss: 201.7629 - val_mae: 11.0152\n",
      "Epoch 65/150\n",
      "6/6 [==============================] - 0s 6ms/step - loss: 171.7108 - mae: 9.9077 - val_loss: 195.9571 - val_mae: 10.7906\n",
      "Epoch 66/150\n",
      "6/6 [==============================] - 0s 6ms/step - loss: 168.1732 - mae: 9.7677 - val_loss: 190.8400 - val_mae: 10.5914\n",
      "Epoch 67/150\n",
      "6/6 [==============================] - 0s 6ms/step - loss: 163.6426 - mae: 9.5781 - val_loss: 185.4698 - val_mae: 10.3813\n",
      "Epoch 68/150\n",
      "6/6 [==============================] - 0s 6ms/step - loss: 158.7770 - mae: 9.3867 - val_loss: 180.9010 - val_mae: 10.2034\n",
      "Epoch 69/150\n",
      "6/6 [==============================] - 0s 6ms/step - loss: 154.7973 - mae: 9.2368 - val_loss: 175.0700 - val_mae: 9.9714\n",
      "Epoch 70/150\n",
      "6/6 [==============================] - 0s 6ms/step - loss: 151.4750 - mae: 9.0973 - val_loss: 171.6066 - val_mae: 9.8375\n",
      "Epoch 71/150\n",
      "6/6 [==============================] - 0s 6ms/step - loss: 147.5164 - mae: 8.9439 - val_loss: 167.2330 - val_mae: 9.6625\n",
      "Epoch 72/150\n",
      "6/6 [==============================] - 0s 6ms/step - loss: 144.2032 - mae: 8.8171 - val_loss: 164.3310 - val_mae: 9.5492\n",
      "Epoch 73/150\n",
      "6/6 [==============================] - 0s 6ms/step - loss: 142.1198 - mae: 8.7265 - val_loss: 160.0116 - val_mae: 9.3749\n",
      "Epoch 74/150\n",
      "6/6 [==============================] - 0s 6ms/step - loss: 138.5801 - mae: 8.5756 - val_loss: 155.8420 - val_mae: 9.2064\n",
      "Epoch 75/150\n",
      "6/6 [==============================] - 0s 6ms/step - loss: 135.9192 - mae: 8.4736 - val_loss: 151.6101 - val_mae: 9.0358\n",
      "Epoch 76/150\n",
      "6/6 [==============================] - 0s 6ms/step - loss: 132.1703 - mae: 8.3430 - val_loss: 146.2258 - val_mae: 8.8175\n",
      "Epoch 77/150\n",
      "6/6 [==============================] - 0s 6ms/step - loss: 128.9691 - mae: 8.2020 - val_loss: 143.8725 - val_mae: 8.7250\n",
      "Epoch 78/150\n",
      "6/6 [==============================] - 0s 6ms/step - loss: 127.1029 - mae: 8.1286 - val_loss: 141.8745 - val_mae: 8.6451\n",
      "Epoch 79/150\n",
      "6/6 [==============================] - 0s 6ms/step - loss: 124.9736 - mae: 8.0604 - val_loss: 138.2494 - val_mae: 8.4958\n",
      "Epoch 80/150\n",
      "6/6 [==============================] - 0s 6ms/step - loss: 122.2925 - mae: 7.9543 - val_loss: 134.1946 - val_mae: 8.3297\n",
      "Epoch 81/150\n",
      "6/6 [==============================] - 0s 6ms/step - loss: 120.2758 - mae: 7.8687 - val_loss: 130.3362 - val_mae: 8.1693\n",
      "Epoch 82/150\n",
      "6/6 [==============================] - 0s 6ms/step - loss: 117.9914 - mae: 7.7878 - val_loss: 128.6143 - val_mae: 8.0983\n",
      "Epoch 83/150\n",
      "6/6 [==============================] - 0s 6ms/step - loss: 116.5253 - mae: 7.7347 - val_loss: 126.8632 - val_mae: 8.0275\n",
      "Epoch 84/150\n",
      "6/6 [==============================] - 0s 6ms/step - loss: 115.2251 - mae: 7.6913 - val_loss: 123.6066 - val_mae: 7.8966\n",
      "Epoch 85/150\n",
      "6/6 [==============================] - 0s 6ms/step - loss: 112.9046 - mae: 7.6007 - val_loss: 122.7372 - val_mae: 7.8618\n",
      "Epoch 86/150\n",
      "6/6 [==============================] - 0s 6ms/step - loss: 112.4338 - mae: 7.5878 - val_loss: 122.2944 - val_mae: 7.8432\n",
      "Epoch 87/150\n",
      "6/6 [==============================] - 0s 6ms/step - loss: 111.0123 - mae: 7.5285 - val_loss: 120.6629 - val_mae: 7.7777\n",
      "Epoch 88/150\n",
      "6/6 [==============================] - 0s 6ms/step - loss: 110.1893 - mae: 7.4909 - val_loss: 118.5314 - val_mae: 7.6942\n",
      "Epoch 89/150\n",
      "6/6 [==============================] - 0s 6ms/step - loss: 108.9619 - mae: 7.4522 - val_loss: 115.8444 - val_mae: 7.5938\n",
      "Epoch 90/150\n",
      "6/6 [==============================] - 0s 6ms/step - loss: 107.7683 - mae: 7.4148 - val_loss: 115.3576 - val_mae: 7.5727\n",
      "Epoch 91/150\n",
      "6/6 [==============================] - 0s 6ms/step - loss: 107.0281 - mae: 7.3889 - val_loss: 113.7886 - val_mae: 7.5140\n",
      "Epoch 92/150\n",
      "6/6 [==============================] - 0s 6ms/step - loss: 105.7875 - mae: 7.3375 - val_loss: 112.7793 - val_mae: 7.4750\n",
      "Epoch 93/150\n",
      "6/6 [==============================] - 0s 6ms/step - loss: 105.6956 - mae: 7.3465 - val_loss: 112.6902 - val_mae: 7.4652\n",
      "Epoch 94/150\n",
      "6/6 [==============================] - 0s 6ms/step - loss: 104.8027 - mae: 7.3030 - val_loss: 111.9612 - val_mae: 7.4357\n",
      "Epoch 95/150\n",
      "6/6 [==============================] - 0s 6ms/step - loss: 104.0500 - mae: 7.2761 - val_loss: 111.4583 - val_mae: 7.4131\n",
      "Epoch 96/150\n",
      "6/6 [==============================] - 0s 6ms/step - loss: 103.4144 - mae: 7.2519 - val_loss: 111.3336 - val_mae: 7.4034\n",
      "Epoch 97/150\n",
      "6/6 [==============================] - 0s 6ms/step - loss: 103.0590 - mae: 7.2288 - val_loss: 110.5674 - val_mae: 7.3736\n",
      "Epoch 98/150\n",
      "6/6 [==============================] - 0s 6ms/step - loss: 102.4843 - mae: 7.2179 - val_loss: 108.9518 - val_mae: 7.3151\n",
      "Epoch 99/150\n",
      "6/6 [==============================] - 0s 6ms/step - loss: 101.7366 - mae: 7.1916 - val_loss: 107.7042 - val_mae: 7.2702\n",
      "Epoch 100/150\n",
      "6/6 [==============================] - 0s 8ms/step - loss: 100.9669 - mae: 7.1688 - val_loss: 107.4197 - val_mae: 7.2548\n",
      "Epoch 101/150\n",
      "6/6 [==============================] - 0s 6ms/step - loss: 100.7258 - mae: 7.1462 - val_loss: 106.5830 - val_mae: 7.2224\n",
      "Epoch 102/150\n",
      "6/6 [==============================] - 0s 6ms/step - loss: 100.0348 - mae: 7.1245 - val_loss: 105.7966 - val_mae: 7.1920\n",
      "Epoch 103/150\n",
      "6/6 [==============================] - 0s 6ms/step - loss: 99.1766 - mae: 7.1010 - val_loss: 103.7681 - val_mae: 7.1400\n",
      "Epoch 104/150\n",
      "6/6 [==============================] - 0s 6ms/step - loss: 98.8175 - mae: 7.1090 - val_loss: 102.9569 - val_mae: 7.1167\n",
      "Epoch 105/150\n",
      "6/6 [==============================] - 0s 6ms/step - loss: 98.0280 - mae: 7.0819 - val_loss: 102.8208 - val_mae: 7.1025\n",
      "Epoch 106/150\n",
      "6/6 [==============================] - 0s 6ms/step - loss: 97.7946 - mae: 7.0660 - val_loss: 101.3801 - val_mae: 7.0735\n",
      "Epoch 107/150\n",
      "6/6 [==============================] - 0s 6ms/step - loss: 97.6229 - mae: 7.0853 - val_loss: 101.3182 - val_mae: 7.0604\n",
      "Epoch 108/150\n",
      "6/6 [==============================] - 0s 6ms/step - loss: 97.0297 - mae: 7.0482 - val_loss: 101.8944 - val_mae: 7.0597\n",
      "Epoch 109/150\n",
      "6/6 [==============================] - 0s 6ms/step - loss: 96.7832 - mae: 7.0219 - val_loss: 101.5393 - val_mae: 7.0446\n",
      "Epoch 110/150\n",
      "6/6 [==============================] - 0s 6ms/step - loss: 96.5350 - mae: 7.0115 - val_loss: 100.7856 - val_mae: 7.0253\n",
      "Epoch 111/150\n",
      "6/6 [==============================] - 0s 6ms/step - loss: 96.0307 - mae: 7.0009 - val_loss: 99.7657 - val_mae: 7.0034\n",
      "Epoch 112/150\n",
      "6/6 [==============================] - 0s 6ms/step - loss: 95.6968 - mae: 7.0059 - val_loss: 98.8998 - val_mae: 6.9882\n",
      "Epoch 113/150\n",
      "6/6 [==============================] - 0s 6ms/step - loss: 95.1643 - mae: 7.0015 - val_loss: 99.2839 - val_mae: 6.9755\n",
      "Epoch 114/150\n",
      "6/6 [==============================] - 0s 6ms/step - loss: 95.0238 - mae: 6.9748 - val_loss: 99.8597 - val_mae: 6.9729\n",
      "Epoch 115/150\n",
      "6/6 [==============================] - 0s 6ms/step - loss: 94.4839 - mae: 6.9314 - val_loss: 99.1831 - val_mae: 6.9570\n",
      "Epoch 116/150\n",
      "6/6 [==============================] - 0s 6ms/step - loss: 94.3511 - mae: 6.9390 - val_loss: 99.3391 - val_mae: 6.9515\n",
      "Epoch 117/150\n",
      "6/6 [==============================] - 0s 6ms/step - loss: 94.0128 - mae: 6.9165 - val_loss: 99.6367 - val_mae: 6.9505\n",
      "Epoch 118/150\n",
      "6/6 [==============================] - 0s 6ms/step - loss: 93.9297 - mae: 6.9081 - val_loss: 98.5785 - val_mae: 6.9262\n",
      "Epoch 119/150\n",
      "6/6 [==============================] - 0s 6ms/step - loss: 93.3209 - mae: 6.8850 - val_loss: 97.0035 - val_mae: 6.9095\n",
      "Epoch 120/150\n",
      "6/6 [==============================] - 0s 6ms/step - loss: 93.2407 - mae: 6.9204 - val_loss: 96.9537 - val_mae: 6.9014\n",
      "Epoch 121/150\n",
      "6/6 [==============================] - 0s 6ms/step - loss: 93.0433 - mae: 6.9168 - val_loss: 96.3571 - val_mae: 6.8938\n",
      "Epoch 122/150\n",
      "6/6 [==============================] - 0s 6ms/step - loss: 92.8343 - mae: 6.9159 - val_loss: 96.8619 - val_mae: 6.8833\n",
      "Epoch 123/150\n",
      "6/6 [==============================] - 0s 6ms/step - loss: 92.5440 - mae: 6.8774 - val_loss: 96.4311 - val_mae: 6.8740\n",
      "Epoch 124/150\n",
      "6/6 [==============================] - 0s 6ms/step - loss: 92.1591 - mae: 6.8668 - val_loss: 95.2774 - val_mae: 6.8688\n",
      "Epoch 125/150\n",
      "6/6 [==============================] - 0s 6ms/step - loss: 92.3421 - mae: 6.9066 - val_loss: 96.0355 - val_mae: 6.8541\n",
      "Epoch 126/150\n",
      "6/6 [==============================] - 0s 6ms/step - loss: 91.8969 - mae: 6.8542 - val_loss: 96.1583 - val_mae: 6.8476\n",
      "Epoch 127/150\n",
      "6/6 [==============================] - 0s 6ms/step - loss: 91.7711 - mae: 6.8479 - val_loss: 95.4758 - val_mae: 6.8394\n",
      "Epoch 128/150\n",
      "6/6 [==============================] - 0s 6ms/step - loss: 91.2969 - mae: 6.8403 - val_loss: 94.3642 - val_mae: 6.8371\n",
      "Epoch 129/150\n",
      "6/6 [==============================] - 0s 6ms/step - loss: 91.2893 - mae: 6.8713 - val_loss: 93.5775 - val_mae: 6.8391\n",
      "Epoch 130/150\n",
      "6/6 [==============================] - 0s 6ms/step - loss: 91.2047 - mae: 6.8924 - val_loss: 93.4342 - val_mae: 6.8313\n",
      "Epoch 131/150\n",
      "6/6 [==============================] - 0s 6ms/step - loss: 91.1311 - mae: 6.8884 - val_loss: 94.1695 - val_mae: 6.8143\n",
      "Epoch 132/150\n",
      "6/6 [==============================] - 0s 6ms/step - loss: 90.8120 - mae: 6.8377 - val_loss: 94.3199 - val_mae: 6.8072\n",
      "Epoch 133/150\n",
      "6/6 [==============================] - 0s 8ms/step - loss: 90.5114 - mae: 6.8208 - val_loss: 93.5651 - val_mae: 6.8036\n",
      "Epoch 134/150\n",
      "6/6 [==============================] - 0s 7ms/step - loss: 90.4138 - mae: 6.8335 - val_loss: 93.4403 - val_mae: 6.7969\n",
      "Epoch 135/150\n",
      "6/6 [==============================] - 0s 6ms/step - loss: 90.2354 - mae: 6.8260 - val_loss: 93.6036 - val_mae: 6.7881\n",
      "Epoch 136/150\n",
      "6/6 [==============================] - 0s 6ms/step - loss: 89.9666 - mae: 6.8074 - val_loss: 93.6875 - val_mae: 6.7784\n",
      "Epoch 137/150\n",
      "6/6 [==============================] - 0s 6ms/step - loss: 89.8033 - mae: 6.8045 - val_loss: 92.8000 - val_mae: 6.7720\n",
      "Epoch 138/150\n",
      "6/6 [==============================] - 0s 6ms/step - loss: 89.5599 - mae: 6.8093 - val_loss: 92.6583 - val_mae: 6.7639\n",
      "Epoch 139/150\n",
      "6/6 [==============================] - 0s 6ms/step - loss: 89.4922 - mae: 6.7995 - val_loss: 93.2198 - val_mae: 6.7548\n",
      "Epoch 140/150\n",
      "6/6 [==============================] - 0s 6ms/step - loss: 89.1578 - mae: 6.7561 - val_loss: 91.7778 - val_mae: 6.7529\n",
      "Epoch 141/150\n",
      "6/6 [==============================] - 0s 6ms/step - loss: 89.0468 - mae: 6.7909 - val_loss: 92.1551 - val_mae: 6.7417\n",
      "Epoch 142/150\n",
      "6/6 [==============================] - 0s 6ms/step - loss: 88.9220 - mae: 6.7791 - val_loss: 91.6032 - val_mae: 6.7388\n",
      "Epoch 143/150\n",
      "6/6 [==============================] - 0s 6ms/step - loss: 88.7516 - mae: 6.7792 - val_loss: 92.5617 - val_mae: 6.7277\n",
      "Epoch 144/150\n",
      "6/6 [==============================] - 0s 6ms/step - loss: 88.5461 - mae: 6.7241 - val_loss: 92.7863 - val_mae: 6.7230\n",
      "Epoch 145/150\n",
      "6/6 [==============================] - 0s 6ms/step - loss: 88.3850 - mae: 6.7171 - val_loss: 93.1405 - val_mae: 6.7203\n",
      "Epoch 146/150\n",
      "6/6 [==============================] - 0s 6ms/step - loss: 88.5898 - mae: 6.7085 - val_loss: 91.6312 - val_mae: 6.7169\n",
      "Epoch 147/150\n",
      "6/6 [==============================] - 0s 6ms/step - loss: 88.2224 - mae: 6.7434 - val_loss: 92.2358 - val_mae: 6.7126\n",
      "Epoch 148/150\n",
      "6/6 [==============================] - 0s 6ms/step - loss: 88.2221 - mae: 6.7165 - val_loss: 91.3694 - val_mae: 6.7103\n",
      "Epoch 149/150\n",
      "6/6 [==============================] - 0s 6ms/step - loss: 88.0113 - mae: 6.7372 - val_loss: 91.5505 - val_mae: 6.7045\n",
      "Epoch 150/150\n",
      "6/6 [==============================] - 0s 6ms/step - loss: 87.9169 - mae: 6.7232 - val_loss: 92.4083 - val_mae: 6.6999\n"
     ]
    }
   ],
   "source": [
    "es = EarlyStopping(monitor = 'val_loss', min_delta = 0.001, patience = 10, verbose = 1, mode = 'auto')\n",
    "callbacks = [es]\n",
    "historico = model.fit(x_train, \n",
    "                             y_train, \n",
    "                             epochs = 150, \n",
    "                             batch_size=64,\n",
    "                             verbose = 1,\n",
    "                             validation_split = 0.2 ,\n",
    "                             shuffle=True,\n",
    "                             callbacks = callbacks)"
   ]
  },
  {
   "cell_type": "code",
   "execution_count": null,
   "metadata": {},
   "outputs": [],
   "source": [
    "x_test = np.expand_dims(x_test, axis=-1)"
   ]
  },
  {
   "cell_type": "code",
   "execution_count": null,
   "metadata": {},
   "outputs": [
    {
     "data": {
      "text/plain": [
       "(102, 13, 1)"
      ]
     },
     "execution_count": 37,
     "metadata": {},
     "output_type": "execute_result"
    }
   ],
   "source": [
    "x_test.shape"
   ]
  },
  {
   "cell_type": "code",
   "execution_count": null,
   "metadata": {},
   "outputs": [
    {
     "name": "stdout",
     "output_type": "stream",
     "text": [
      "4/4 [==============================] - 0s 2ms/step\n"
     ]
    }
   ],
   "source": [
    "pred_simples = model.predict(x_test)"
   ]
  },
  {
   "cell_type": "code",
   "execution_count": null,
   "metadata": {},
   "outputs": [
    {
     "data": {
      "text/plain": [
       "6.405823135375977"
      ]
     },
     "execution_count": 39,
     "metadata": {},
     "output_type": "execute_result"
    }
   ],
   "source": [
    "from sklearn.metrics import mean_absolute_error\n",
    "\n",
    "mean_absolute_error(y_test, np.mean(pred_simples,axis=1))"
   ]
  },
  {
   "cell_type": "code",
   "execution_count": null,
   "metadata": {},
   "outputs": [
    {
     "data": {
      "text/html": [
       "<div>\n",
       "<style scoped>\n",
       "    .dataframe tbody tr th:only-of-type {\n",
       "        vertical-align: middle;\n",
       "    }\n",
       "\n",
       "    .dataframe tbody tr th {\n",
       "        vertical-align: top;\n",
       "    }\n",
       "\n",
       "    .dataframe thead th {\n",
       "        text-align: right;\n",
       "    }\n",
       "</style>\n",
       "<table border=\"1\" class=\"dataframe\">\n",
       "  <thead>\n",
       "    <tr style=\"text-align: right;\">\n",
       "      <th></th>\n",
       "      <th>y_test</th>\n",
       "      <th>y_pred</th>\n",
       "    </tr>\n",
       "  </thead>\n",
       "  <tbody>\n",
       "    <tr>\n",
       "      <th>0</th>\n",
       "      <td>7.2</td>\n",
       "      <td>22.031139</td>\n",
       "    </tr>\n",
       "    <tr>\n",
       "      <th>1</th>\n",
       "      <td>18.8</td>\n",
       "      <td>21.085009</td>\n",
       "    </tr>\n",
       "    <tr>\n",
       "      <th>2</th>\n",
       "      <td>19.0</td>\n",
       "      <td>21.170500</td>\n",
       "    </tr>\n",
       "    <tr>\n",
       "      <th>3</th>\n",
       "      <td>27.0</td>\n",
       "      <td>22.102200</td>\n",
       "    </tr>\n",
       "    <tr>\n",
       "      <th>4</th>\n",
       "      <td>22.2</td>\n",
       "      <td>21.267979</td>\n",
       "    </tr>\n",
       "    <tr>\n",
       "      <th>...</th>\n",
       "      <td>...</td>\n",
       "      <td>...</td>\n",
       "    </tr>\n",
       "    <tr>\n",
       "      <th>97</th>\n",
       "      <td>21.9</td>\n",
       "      <td>22.374277</td>\n",
       "    </tr>\n",
       "    <tr>\n",
       "      <th>98</th>\n",
       "      <td>24.1</td>\n",
       "      <td>21.735363</td>\n",
       "    </tr>\n",
       "    <tr>\n",
       "      <th>99</th>\n",
       "      <td>50.0</td>\n",
       "      <td>22.406820</td>\n",
       "    </tr>\n",
       "    <tr>\n",
       "      <th>100</th>\n",
       "      <td>26.7</td>\n",
       "      <td>21.768974</td>\n",
       "    </tr>\n",
       "    <tr>\n",
       "      <th>101</th>\n",
       "      <td>25.0</td>\n",
       "      <td>21.415321</td>\n",
       "    </tr>\n",
       "  </tbody>\n",
       "</table>\n",
       "<p>102 rows × 2 columns</p>\n",
       "</div>"
      ],
      "text/plain": [
       "     y_test     y_pred\n",
       "0       7.2  22.031139\n",
       "1      18.8  21.085009\n",
       "2      19.0  21.170500\n",
       "3      27.0  22.102200\n",
       "4      22.2  21.267979\n",
       "..      ...        ...\n",
       "97     21.9  22.374277\n",
       "98     24.1  21.735363\n",
       "99     50.0  22.406820\n",
       "100    26.7  21.768974\n",
       "101    25.0  21.415321\n",
       "\n",
       "[102 rows x 2 columns]"
      ]
     },
     "execution_count": 40,
     "metadata": {},
     "output_type": "execute_result"
    }
   ],
   "source": [
    "import pandas as pd\n",
    "\n",
    "resultado = pd.DataFrame()\n",
    "resultado['y_test'] = y_test\n",
    "resultado['y_pred'] = np.mean(pred_simples,axis=1)\n",
    "\n",
    "resultado"
   ]
  }
 ],
 "metadata": {
  "kernelspec": {
   "display_name": "valor_venal",
   "language": "python",
   "name": "python3"
  },
  "language_info": {
   "codemirror_mode": {
    "name": "ipython",
    "version": 3
   },
   "file_extension": ".py",
   "mimetype": "text/x-python",
   "name": "python",
   "nbconvert_exporter": "python",
   "pygments_lexer": "ipython3",
   "version": "3.10.11"
  }
 },
 "nbformat": 4,
 "nbformat_minor": 2
}
