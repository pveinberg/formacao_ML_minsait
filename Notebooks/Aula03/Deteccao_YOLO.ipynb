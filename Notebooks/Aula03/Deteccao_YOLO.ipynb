{
 "cells": [
  {
   "cell_type": "code",
   "execution_count": 1,
   "metadata": {},
   "outputs": [
    {
     "name": "stdout",
     "output_type": "stream",
     "text": [
      "The console stream is logged into C:\\Users\\dpatricio\\sg_logs\\console.log\n"
     ]
    },
    {
     "name": "stderr",
     "output_type": "stream",
     "text": [
      "[2023-10-31 17:49:05] INFO - crash_tips_setup.py - Crash tips is enabled. You can set your environment variable to CRASH_HANDLER=FALSE to disable it\n",
      "[2023-10-31 17:49:08] WARNING - __init__.py - Failed to import pytorch_quantization\n",
      "[2023-10-31 17:49:08,267] torch.distributed.elastic.multiprocessing.redirects: [WARNING] NOTE: Redirects are currently not supported in Windows or MacOs.\n",
      "[2023-10-31 17:50:14] WARNING - calibrator.py - Failed to import pytorch_quantization\n",
      "[2023-10-31 17:50:14] WARNING - export.py - Failed to import pytorch_quantization\n",
      "[2023-10-31 17:50:14] WARNING - selective_quantization_utils.py - Failed to import pytorch_quantization\n",
      "[2023-10-31 17:50:14] WARNING - env_sanity_check.py - \u001b[31mFailed to verify operating system: Deci officially supports only Linux kernels. Some features may not work as expected.\u001b[0m\n"
     ]
    }
   ],
   "source": [
    "import super_gradients"
   ]
  },
  {
   "cell_type": "code",
   "execution_count": 2,
   "metadata": {},
   "outputs": [],
   "source": [
    "from super_gradients.training import models\n",
    "from super_gradients.common.object_names import Models"
   ]
  },
  {
   "cell_type": "code",
   "execution_count": 3,
   "metadata": {},
   "outputs": [],
   "source": [
    "model = models.get(Models.YOLO_NAS_S, num_classes=3)"
   ]
  },
  {
   "cell_type": "code",
   "execution_count": 4,
   "metadata": {
    "notebookRunGroups": {
     "groupValue": "1"
    }
   },
   "outputs": [],
   "source": [
    "import torch\n",
    "from torch.utils.data import Dataset\n",
    "import json\n",
    "import os\n",
    "from PIL import Image\n",
    "from torchvision import transforms, utils\n",
    "import numpy as np\n",
    "import glob\n",
    "import random\n",
    "\n",
    "\n",
    "class CustomDataset(Dataset):\n",
    "    \"\"\"\n",
    "    A PyTorch Dataset class to be used in a PyTorch DataLoader to create batches.\n",
    "    \"\"\"\n",
    "\n",
    "    def __init__(self, data_folder, split, keep_difficult=False):\n",
    "        \"\"\"\n",
    "        :param data_folder: folder where data files are stored\n",
    "        :param split: split, one of 'TRAIN' or 'TEST'\n",
    "        :param keep_difficult: keep or discard objects that are considered difficult to detect?\n",
    "        \"\"\"\n",
    "        self.split = split.lower()\n",
    "\n",
    "        assert self.split in {'train', 'test'}\n",
    "\n",
    "        self.data_folder = data_folder\n",
    "        self.keep_difficult = keep_difficult\n",
    "\n",
    "        # Read data files\n",
    "        # with open(os.path.join(data_folder, self.split + '.txt'), 'r') as j:\n",
    "        #     self.images = j.readlines()\n",
    "        self.images = glob.glob(data_folder+\"images/\"+self.split+\"/\"+\"*.jpg\")\n",
    "        self.images = [i.replace(\"\\\\\",\"/\") for i in self.images]\n",
    "        self.images = random.sample(self.images,20)\n",
    "\n",
    "    def __getitem__(self, i):\n",
    "        # Read image and label\n",
    "        image = Image.open(self.images[i].replace(\"\\n\",\"\").replace(\"\\\\\",\"/\"), mode='r').resize((320, 320))\n",
    "        image = image.convert(\"RGB\")\n",
    "        # image_tensor = torch.tensor(np.expand_dims(image,axis=-1)).permute(2, 0, 1).float()\n",
    "        image_tensor = torch.tensor(np.array(image)).permute(2, 0, 1).float()\n",
    "        labels = np.loadtxt(self.images[i].replace(\"jpg\",\"txt\").replace(\"images\", \"labels\"))\n",
    "        if len(labels.shape) == 1:\n",
    "            labels = np.transpose(np.expand_dims(labels,axis=-1))\n",
    "        return image_tensor, torch.tensor(labels,dtype=torch.float)\n",
    "        \n",
    "\n",
    "    def __len__(self):\n",
    "        return len(self.images)"
   ]
  },
  {
   "cell_type": "code",
   "execution_count": 6,
   "metadata": {
    "notebookRunGroups": {
     "groupValue": "1"
    }
   },
   "outputs": [],
   "source": [
    "train_dataset = CustomDataset(\"dataset_deteccao/axial_t1wce_2_class_corrigida/\",split=\"train\")\n",
    "val_dataset = CustomDataset(\"dataset_deteccao/axial_t1wce_2_class_corrigida/\",split=\"test\")"
   ]
  },
  {
   "cell_type": "code",
   "execution_count": 7,
   "metadata": {
    "notebookRunGroups": {
     "groupValue": "1"
    }
   },
   "outputs": [],
   "source": [
    "from torch.utils.data import Dataset, DataLoader\n",
    "from super_gradients.training.utils.collate_fn.detection_collate_fn import DetectionCollateFN\n",
    "\n",
    "train_dataloader = DataLoader(train_dataset, batch_size=4, shuffle=True, num_workers=0, collate_fn=DetectionCollateFN())\n",
    "val_dataloader = DataLoader(val_dataset, batch_size=4, shuffle=False, num_workers=0, collate_fn=DetectionCollateFN())"
   ]
  },
  {
   "cell_type": "code",
   "execution_count": 8,
   "metadata": {},
   "outputs": [],
   "source": [
    "from super_gradients.training import training_hyperparams\n",
    "\n",
    "from prettyformatter import pprint\n",
    "\n",
    "train_params = training_hyperparams.get('coco2017_yolo_nas_s')\n",
    "print('Training parameters:')\n",
    "pprint(train_params, json=True)"
   ]
  },
  {
   "cell_type": "code",
   "execution_count": 9,
   "metadata": {},
   "outputs": [],
   "source": [
    "train_params['max_epochs'] = 1\n",
    "# train_params['lr_warmup_epochs'] = 0\n",
    "# train_params['lr_cooldown_epochs'] = 0\n",
    "train_params['criterion_params']['num_classes'] = 3\n",
    "# train_params['average_best_models'] = False\n",
    "# train_params['initial_lr'] = 0.01\n",
    "# train_params['cosine_final_lr_ratio'] = 0.9\n",
    "# train_params['mixed_precision'] = False\n",
    "# train_params['phase_callbacks'] = []\n",
    "# train_params['lr_warmup_steps'] = 10\n",
    "# train_params['valid_metrics_list'] = [{\"DetectionMetrics\": {\"post_prediction_callback\": super_gradients.training.utils.ssd_utils.SSDPostPredictCallback(), \"num_cls\": 3}}]"
   ]
  },
  {
   "cell_type": "code",
   "execution_count": 36,
   "metadata": {},
   "outputs": [
    {
     "name": "stdout",
     "output_type": "stream",
     "text": [
      "{\n",
      "    \"resume\"    : null,\n",
      "    \"run_id\"    : null,\n",
      "    \"resume_path\"       : null,\n",
      "    \"resume_from_remote_sg_logger\"      : false,\n",
      "    \"ckpt_name\" : \"ckpt_latest.pth\",\n",
      "    \"lr_mode\"   : \"CosineLRScheduler\",\n",
      "    \"lr_schedule_function\"  : null,\n",
      "    \"lr_warmup_epochs\"  : 0,\n",
      "    \"lr_warmup_steps\"   : 1000,\n",
      "    \"lr_cooldown_epochs\": 0,\n",
      "    \"warmup_initial_lr\" : 1e-06,\n",
      "    \"step_lr_update_freq\"   : null,\n",
      "    \"cosine_final_lr_ratio\" : 0.1,\n",
      "    \"warmup_mode\"       : \"LinearBatchLRWarmup\",\n",
      "    \"lr_updates\": [],\n",
      "    \"pre_prediction_callback\"   : null,\n",
      "    \"optimizer\" : \"AdamW\",\n",
      "    \"optimizer_params\"  : {\"weight_decay\": 1e-05},\n",
      "    \"load_opt_params\"   : true,\n",
      "    \"zero_weight_decay_on_bias_and_bn\"  : true,\n",
      "    \"loss\"      : \"PPYoloELoss\",\n",
      "    \"criterion_params\"  : {\"use_static_assigner\": false, \"num_classes\": 3, \"reg_max\": 16},\n",
      "    \"ema\"       : true,\n",
      "    \"ema_params\": {\"decay\": 0.9997, \"decay_type\": \"threshold\", \"beta\": 15},\n",
      "    \"train_metrics_list\": [],\n",
      "    \"valid_metrics_list\":\n",
      "        [\n",
      "            {\n",
      "                \"DetectionMetrics\":\n",
      "                    {\n",
      "                        \"score_thres\"       : 0.1,\n",
      "                        \"top_k_predictions\" : 300,\n",
      "                        \"num_cls\"   : 80,\n",
      "                        \"normalize_targets\" : true,\n",
      "                        \"post_prediction_callback\"  : PPYoloEPostPredictionCallback()\n",
      "                    }\n",
      "            }\n",
      "        ],\n",
      "    \"metric_to_watch\"   : \"mAP@0.50:0.95\",\n",
      "    \"greater_metric_to_watch_is_better\" : true,\n",
      "    \"launch_tensorboard\": false,\n",
      "    \"tensorboard_port\"  : null,\n",
      "    \"tb_files_user_prompt\"  : false,\n",
      "    \"save_tensorboard_to_s3\": false,\n",
      "    \"precise_bn\": false,\n",
      "    \"precise_bn_batch_size\" : null,\n",
      "    \"sync_bn\"   : true,\n",
      "    \"silent_mode\"       : false,\n",
      "    \"mixed_precision\"   : true,\n",
      "    \"save_ckpt_epoch_list\"  : [100, 200, 250],\n",
      "    \"average_best_models\"   : true,\n",
      "    \"dataset_statistics\": false,\n",
      "    \"batch_accumulate\"  : 1,\n",
      "    \"run_validation_freq\"   : 1,\n",
      "    \"run_test_freq\"     : 1,\n",
      "    \"save_model\": true,\n",
      "    \"seed\"      : 42,\n",
      "    \"phase_callbacks\"   : [],\n",
      "    \"log_installed_packages\": true,\n",
      "    \"clip_grad_norm\"    : null,\n",
      "    \"ckpt_best_name\"    : \"ckpt_best.pth\",\n",
      "    \"max_train_batches\" : null,\n",
      "    \"max_valid_batches\" : null,\n",
      "    \"sg_logger\" : \"base_sg_logger\",\n",
      "    \"sg_logger_params\":\n",
      "        {\n",
      "            \"tb_files_user_prompt\"      : false,\n",
      "            \"launch_tensorboard\": false,\n",
      "            \"tensorboard_port\"  : null,\n",
      "            \"save_checkpoints_remote\"   : false,\n",
      "            \"save_tensorboard_remote\"   : false,\n",
      "            \"save_logs_remote\"  : false,\n",
      "            \"monitor_system\"    : true\n",
      "        },\n",
      "    \"torch_compile\"     : false,\n",
      "    \"torch_compile_loss\": false,\n",
      "    \"torch_compile_options\":\n",
      "        {\n",
      "            \"mode\"      : \"reduce-overhead\",\n",
      "            \"fullgraph\" : false,\n",
      "            \"dynamic\"   : false,\n",
      "            \"backend\"   : \"inductor\",\n",
      "            \"options\"   : null,\n",
      "            \"disable\"   : false\n",
      "        },\n",
      "    \"_convert_\" : \"all\",\n",
      "    \"max_epochs\": 1,\n",
      "    \"initial_lr\": 0.0002\n",
      "}\n"
     ]
    }
   ],
   "source": [
    "pprint(train_params, json=True)"
   ]
  },
  {
   "cell_type": "code",
   "execution_count": 11,
   "metadata": {},
   "outputs": [],
   "source": [
    "from super_gradients.training import Trainer, MultiGPUMode"
   ]
  },
  {
   "cell_type": "code",
   "execution_count": 12,
   "metadata": {},
   "outputs": [],
   "source": [
    "CHECKPOINT_DIR = '.'"
   ]
  },
  {
   "cell_type": "code",
   "execution_count": 13,
   "metadata": {},
   "outputs": [
    {
     "name": "stdout",
     "output_type": "stream",
     "text": [
      "Training parameters:\n",
      "{\n",
      "    \"resume\"    : null,\n",
      "    \"run_id\"    : null,\n",
      "    \"resume_path\"       : null,\n",
      "    \"resume_from_remote_sg_logger\"      : false,\n",
      "    \"ckpt_name\" : \"ckpt_latest.pth\",\n",
      "    \"lr_mode\"   : \"CosineLRScheduler\",\n",
      "    \"lr_schedule_function\"  : null,\n",
      "    \"lr_warmup_epochs\"  : 0,\n",
      "    \"lr_warmup_steps\"   : 1000,\n",
      "    \"lr_cooldown_epochs\": 0,\n",
      "    \"warmup_initial_lr\" : 1e-06,\n",
      "    \"step_lr_update_freq\"   : null,\n",
      "    \"cosine_final_lr_ratio\" : 0.1,\n",
      "    \"warmup_mode\"       : \"LinearBatchLRWarmup\",\n",
      "    \"lr_updates\": [],\n",
      "    \"pre_prediction_callback\"   : null,\n",
      "    \"optimizer\" : \"AdamW\",\n",
      "    \"optimizer_params\"  : {\"weight_decay\": 1e-05},\n",
      "    \"load_opt_params\"   : true,\n",
      "    \"zero_weight_decay_on_bias_and_bn\"  : true,\n",
      "    \"loss\"      : \"PPYoloELoss\",\n",
      "    \"criterion_params\"  : {\"use_static_assigner\": false, \"num_classes\": 80, \"reg_max\": 16},\n",
      "    \"ema\"       : true,\n",
      "    \"ema_params\": {\"decay\": 0.9997, \"decay_type\": \"threshold\", \"beta\": 15},\n",
      "    \"train_metrics_list\": [],\n",
      "    \"valid_metrics_list\":\n",
      "        [\n",
      "            {\n",
      "                \"DetectionMetrics\":\n",
      "                    {\n",
      "                        \"score_thres\"       : 0.1,\n",
      "                        \"top_k_predictions\" : 300,\n",
      "                        \"num_cls\"   : 80,\n",
      "                        \"normalize_targets\" : true,\n",
      "                        \"post_prediction_callback\"  : PPYoloEPostPredictionCallback()\n",
      "                    }\n",
      "            }\n",
      "        ],\n",
      "    \"metric_to_watch\"   : \"mAP@0.50:0.95\",\n",
      "    \"greater_metric_to_watch_is_better\" : true,\n",
      "    \"launch_tensorboard\": false,\n",
      "    \"tensorboard_port\"  : null,\n",
      "    \"tb_files_user_prompt\"  : false,\n",
      "    \"save_tensorboard_to_s3\": false,\n",
      "    \"precise_bn\": false,\n",
      "    \"precise_bn_batch_size\" : null,\n",
      "    \"sync_bn\"   : true,\n",
      "    \"silent_mode\"       : false,\n",
      "    \"mixed_precision\"   : true,\n",
      "    \"save_ckpt_epoch_list\"  : [100, 200, 250],\n",
      "    \"average_best_models\"   : true,\n",
      "    \"dataset_statistics\": false,\n",
      "    \"batch_accumulate\"  : 1,\n",
      "    \"run_validation_freq\"   : 1,\n",
      "    \"run_test_freq\"     : 1,\n",
      "    \"save_model\": true,\n",
      "    \"seed\"      : 42,\n",
      "    \"phase_callbacks\"   : [],\n",
      "    \"log_installed_packages\": true,\n",
      "    \"clip_grad_norm\"    : null,\n",
      "    \"ckpt_best_name\"    : \"ckpt_best.pth\",\n",
      "    \"max_train_batches\" : null,\n",
      "    \"max_valid_batches\" : null,\n",
      "    \"sg_logger\" : \"base_sg_logger\",\n",
      "    \"sg_logger_params\":\n",
      "        {\n",
      "            \"tb_files_user_prompt\"      : false,\n",
      "            \"launch_tensorboard\": false,\n",
      "            \"tensorboard_port\"  : null,\n",
      "            \"save_checkpoints_remote\"   : false,\n",
      "            \"save_tensorboard_remote\"   : false,\n",
      "            \"save_logs_remote\"  : false,\n",
      "            \"monitor_system\"    : true\n",
      "        },\n",
      "    \"torch_compile\"     : false,\n",
      "    \"torch_compile_loss\": false,\n",
      "    \"torch_compile_options\":\n",
      "        {\n",
      "            \"mode\"      : \"reduce-overhead\",\n",
      "            \"fullgraph\" : false,\n",
      "            \"dynamic\"   : false,\n",
      "            \"backend\"   : \"inductor\",\n",
      "            \"options\"   : null,\n",
      "            \"disable\"   : false\n",
      "        },\n",
      "    \"_convert_\" : \"all\",\n",
      "    \"max_epochs\": 300,\n",
      "    \"initial_lr\": 0.0002\n",
      "}\n",
      "{\n",
      "    \"resume\"    : null,\n",
      "    \"run_id\"    : null,\n",
      "    \"resume_path\"       : null,\n",
      "    \"resume_from_remote_sg_logger\"      : false,\n",
      "    \"ckpt_name\" : \"ckpt_latest.pth\",\n",
      "    \"lr_mode\"   : \"CosineLRScheduler\",\n",
      "    \"lr_schedule_function\"  : null,\n",
      "    \"lr_warmup_epochs\"  : 0,\n",
      "    \"lr_warmup_steps\"   : 1000,\n",
      "    \"lr_cooldown_epochs\": 0,\n",
      "    \"warmup_initial_lr\" : 1e-06,\n",
      "    \"step_lr_update_freq\"   : null,\n",
      "    \"cosine_final_lr_ratio\" : 0.1,\n",
      "    \"warmup_mode\"       : \"LinearBatchLRWarmup\",\n",
      "    \"lr_updates\": [],\n",
      "    \"pre_prediction_callback\"   : null,\n",
      "    \"optimizer\" : \"AdamW\",\n",
      "    \"optimizer_params\"  : {\"weight_decay\": 1e-05},\n",
      "    \"load_opt_params\"   : true,\n",
      "    \"zero_weight_decay_on_bias_and_bn\"  : true,\n",
      "    \"loss\"      : \"PPYoloELoss\",\n",
      "    \"criterion_params\"  : {\"use_static_assigner\": false, \"num_classes\": 3, \"reg_max\": 16},\n",
      "    \"ema\"       : true,\n",
      "    \"ema_params\": {\"decay\": 0.9997, \"decay_type\": \"threshold\", \"beta\": 15},\n",
      "    \"train_metrics_list\": [],\n",
      "    \"valid_metrics_list\":\n",
      "        [\n",
      "            {\n",
      "                \"DetectionMetrics\":\n",
      "                    {\n",
      "                        \"score_thres\"       : 0.1,\n",
      "                        \"top_k_predictions\" : 300,\n",
      "                        \"num_cls\"   : 80,\n",
      "                        \"normalize_targets\" : true,\n",
      "                        \"post_prediction_callback\"  : PPYoloEPostPredictionCallback()\n",
      "                    }\n",
      "            }\n",
      "        ],\n",
      "    \"metric_to_watch\"   : \"mAP@0.50:0.95\",\n",
      "    \"greater_metric_to_watch_is_better\" : true,\n",
      "    \"launch_tensorboard\": false,\n",
      "    \"tensorboard_port\"  : null,\n",
      "    \"tb_files_user_prompt\"  : false,\n",
      "    \"save_tensorboard_to_s3\": false,\n",
      "    \"precise_bn\": false,\n",
      "    \"precise_bn_batch_size\" : null,\n",
      "    \"sync_bn\"   : true,\n",
      "    \"silent_mode\"       : false,\n",
      "    \"mixed_precision\"   : true,\n",
      "    \"save_ckpt_epoch_list\"  : [100, 200, 250],\n",
      "    \"average_best_models\"   : true,\n",
      "    \"dataset_statistics\": false,\n",
      "    \"batch_accumulate\"  : 1,\n",
      "    \"run_validation_freq\"   : 1,\n",
      "    \"run_test_freq\"     : 1,\n",
      "    \"save_model\": true,\n",
      "    \"seed\"      : 42,\n",
      "    \"phase_callbacks\"   : [],\n",
      "    \"log_installed_packages\": true,\n",
      "    \"clip_grad_norm\"    : null,\n",
      "    \"ckpt_best_name\"    : \"ckpt_best.pth\",\n",
      "    \"max_train_batches\" : null,\n",
      "    \"max_valid_batches\" : null,\n",
      "    \"sg_logger\" : \"base_sg_logger\",\n",
      "    \"sg_logger_params\":\n",
      "        {\n",
      "            \"tb_files_user_prompt\"      : false,\n",
      "            \"launch_tensorboard\": false,\n",
      "            \"tensorboard_port\"  : null,\n",
      "            \"save_checkpoints_remote\"   : false,\n",
      "            \"save_tensorboard_remote\"   : false,\n",
      "            \"save_logs_remote\"  : false,\n",
      "            \"monitor_system\"    : true\n",
      "        },\n",
      "    \"torch_compile\"     : false,\n",
      "    \"torch_compile_loss\": false,\n",
      "    \"torch_compile_options\":\n",
      "        {\n",
      "            \"mode\"      : \"reduce-overhead\",\n",
      "            \"fullgraph\" : false,\n",
      "            \"dynamic\"   : false,\n",
      "            \"backend\"   : \"inductor\",\n",
      "            \"options\"   : null,\n",
      "            \"disable\"   : false\n",
      "        },\n",
      "    \"_convert_\" : \"all\",\n",
      "    \"max_epochs\": 1,\n",
      "    \"initial_lr\": 0.0002\n",
      "}\n"
     ]
    },
    {
     "name": "stderr",
     "output_type": "stream",
     "text": [
      "[2023-10-31 17:50:17] WARNING - distributed_training_utils.py - CUDA device is not available on your device... Moving to CPU.\n"
     ]
    }
   ],
   "source": [
    "super_gradients.setup_device(num_gpus=0)"
   ]
  },
  {
   "cell_type": "code",
   "execution_count": 31,
   "metadata": {},
   "outputs": [],
   "source": [
    "from super_gradients.training.processing import ImagePermute, ComposeProcessing\n",
    "\n",
    "image_processor = ComposeProcessing(\n",
    "    [\n",
    "        # Resize(320),\n",
    "        ImagePermute(permutation=(2, 0, 1)),\n",
    "    ]\n",
    ")\n"
   ]
  },
  {
   "cell_type": "code",
   "execution_count": 32,
   "metadata": {},
   "outputs": [],
   "source": [
    "model.set_dataset_processing_params(iou=0.5,class_names=['negative','positive'],conf=0.5,image_processor=image_processor)"
   ]
  },
  {
   "cell_type": "code",
   "execution_count": 16,
   "metadata": {},
   "outputs": [],
   "source": [
    "trainer = Trainer(experiment_name='transfer_learning_object_detection_yolo_nas_s', ckpt_root_dir=CHECKPOINT_DIR)"
   ]
  },
  {
   "cell_type": "code",
   "execution_count": 33,
   "metadata": {
    "notebookRunGroups": {
     "groupValue": "1"
    }
   },
   "outputs": [
    {
     "name": "stderr",
     "output_type": "stream",
     "text": [
      "[2023-10-31 18:06:12] INFO - sg_trainer.py - Starting a new run with `run_id=RUN_20231031_180612_193611`\n",
      "[2023-10-31 18:06:12] INFO - sg_trainer.py - Checkpoints directory: .\\transfer_learning_object_detection_yolo_nas_s\\RUN_20231031_180612_193611\n"
     ]
    },
    {
     "name": "stdout",
     "output_type": "stream",
     "text": [
      "The console stream is now moved to .\\transfer_learning_object_detection_yolo_nas_s\\RUN_20231031_180612_193611/console_Oct31_18_06_12.txt\n"
     ]
    },
    {
     "name": "stderr",
     "output_type": "stream",
     "text": [
      "[2023-10-31 18:06:12] INFO - sg_trainer.py - Using EMA with params {'decay': 0.9997, 'decay_type': 'threshold', 'beta': 15}\n",
      "[2023-10-31 18:06:12] WARNING - callbacks.py - Number of warmup steps (1000) is greater than number of steps in epoch (5). Warmup steps will be capped to number of steps in epoch to avoid interfering with any pre-epoch LR schedulers.\n",
      "[2023-10-31 18:06:12] INFO - sg_trainer_utils.py - TRAINING PARAMETERS:\n",
      "    - Mode:                         OFF\n",
      "    - Number of GPUs:               0          (0 available on the machine)\n",
      "    - Full dataset size:            20         (len(train_set))\n",
      "    - Batch size per GPU:           4          (batch_size)\n",
      "    - Batch Accumulate:             1          (batch_accumulate)\n",
      "    - Total batch size:             4          (num_gpus * batch_size)\n",
      "    - Effective Batch size:         4          (num_gpus * batch_size * batch_accumulate)\n",
      "    - Iterations per epoch:         5          (len(train_loader))\n",
      "    - Gradient updates per epoch:   5          (len(train_loader) / batch_accumulate)\n",
      "\n",
      "[2023-10-31 18:06:12] INFO - sg_trainer.py - Started training for 1 epochs (0/0)\n",
      "\n",
      "Train epoch 0: 100%|██████████| 5/5 [00:20<00:00,  4.12s/it, PPYoloELoss/loss=0.0222, PPYoloELoss/loss_cls=0.0222, PPYoloELoss/loss_dfl=-, PPYoloELoss/loss_iou=0, gpu_mem=0]\n",
      "Validating: 100%|██████████| 5/5 [00:06<00:00,  1.23s/it]\n",
      "[2023-10-31 18:06:41] INFO - base_sg_logger.py - Checkpoint saved in .\\transfer_learning_object_detection_yolo_nas_s\\RUN_20231031_180612_193611\\ckpt_best.pth\n",
      "[2023-10-31 18:06:41] INFO - sg_trainer.py - Best checkpoint overriden: validation mAP@0.50:0.95: 0.0\n"
     ]
    },
    {
     "name": "stdout",
     "output_type": "stream",
     "text": [
      "===========================================================\n",
      "SUMMARY OF EPOCH 0\n",
      "├── Train\n",
      "│   ├── Ppyoloeloss/loss_cls = 0.0222\n",
      "│   ├── Ppyoloeloss/loss_iou = 0.0\n",
      "│   ├── Ppyoloeloss/loss_dfl = -0.0\n",
      "│   └── Ppyoloeloss/loss = 0.0222\n",
      "└── Validation\n",
      "    ├── Ppyoloeloss/loss_cls = 0.0189\n",
      "    ├── Ppyoloeloss/loss_iou = 0.0\n",
      "    ├── Ppyoloeloss/loss_dfl = -0.0\n",
      "    ├── Ppyoloeloss/loss = 0.0189\n",
      "    ├── Precision@0.50:0.95 = 0.0\n",
      "    ├── Recall@0.50:0.95 = 0.0\n",
      "    ├── Map@0.50:0.95 = 0.0\n",
      "    └── F1@0.50:0.95 = 0.0\n",
      "\n",
      "===========================================================\n"
     ]
    },
    {
     "name": "stderr",
     "output_type": "stream",
     "text": [
      "[2023-10-31 18:06:55] INFO - sg_trainer.py - RUNNING ADDITIONAL TEST ON THE AVERAGED MODEL...\n",
      "Validating epoch 1: 100%|██████████| 5/5 [00:14<00:00,  2.92s/it]\n"
     ]
    },
    {
     "name": "stderr",
     "output_type": "stream",
     "text": [
      "[2023-10-31 18:07:14] INFO - base_sg_logger.py - [CLEANUP] - Successfully stopped system monitoring process\n"
     ]
    }
   ],
   "source": [
    "trainer.train(model=model, training_params=train_params, train_loader=train_dataloader, valid_loader=val_dataloader)"
   ]
  },
  {
   "cell_type": "code",
   "execution_count": 18,
   "metadata": {},
   "outputs": [
    {
     "data": {
      "text/plain": [
       "tensor([[[0., 0., 0.,  ..., 0., 0., 0.],\n",
       "         [0., 0., 0.,  ..., 0., 0., 0.],\n",
       "         [0., 0., 0.,  ..., 0., 0., 0.],\n",
       "         ...,\n",
       "         [0., 0., 0.,  ..., 0., 0., 0.],\n",
       "         [0., 0., 0.,  ..., 0., 0., 0.],\n",
       "         [0., 0., 0.,  ..., 0., 0., 0.]],\n",
       "\n",
       "        [[0., 0., 0.,  ..., 0., 0., 0.],\n",
       "         [0., 0., 0.,  ..., 0., 0., 0.],\n",
       "         [0., 0., 0.,  ..., 0., 0., 0.],\n",
       "         ...,\n",
       "         [0., 0., 0.,  ..., 0., 0., 0.],\n",
       "         [0., 0., 0.,  ..., 0., 0., 0.],\n",
       "         [0., 0., 0.,  ..., 0., 0., 0.]],\n",
       "\n",
       "        [[0., 0., 0.,  ..., 0., 0., 0.],\n",
       "         [0., 0., 0.,  ..., 0., 0., 0.],\n",
       "         [0., 0., 0.,  ..., 0., 0., 0.],\n",
       "         ...,\n",
       "         [0., 0., 0.,  ..., 0., 0., 0.],\n",
       "         [0., 0., 0.,  ..., 0., 0., 0.],\n",
       "         [0., 0., 0.,  ..., 0., 0., 0.]]])"
      ]
     },
     "execution_count": 18,
     "metadata": {},
     "output_type": "execute_result"
    }
   ],
   "source": [
    "val_dataset.__getitem__(0)[0]"
   ]
  },
  {
   "cell_type": "code",
   "execution_count": 34,
   "metadata": {},
   "outputs": [
    {
     "name": "stderr",
     "output_type": "stream",
     "text": [
      "[2023-10-31 18:07:56] INFO - pipelines.py - Fusing some of the model's layers. If this takes too much memory, you can deactivate it by setting `fuse_model=False`\n"
     ]
    }
   ],
   "source": [
    "predicoes = model.predict(val_dataset.__getitem__(0)[0])"
   ]
  },
  {
   "cell_type": "code",
   "execution_count": 35,
   "metadata": {},
   "outputs": [
    {
     "data": {
      "image/png": "[encoded data removed]",
      "text/plain": [
       "<Figure size 320x320 with 1 Axes>"
      ]
     },
     "metadata": {},
     "output_type": "display_data"
    },
    {
     "name": "stderr",
     "output_type": "stream",
     "text": [
      "[2023-10-31 18:08:03] WARNING - image.py - Clipping input data to the valid range for imshow with RGB data ([0..1] for floats or [0..255] for integers).\n"
     ]
    }
   ],
   "source": [
    "predicoes.show()"
   ]
  }
 ],
 "metadata": {
  "kernelspec": {
   "display_name": "valor_venal",
   "language": "python",
   "name": "python3"
  },
  "language_info": {
   "codemirror_mode": {
    "name": "ipython",
    "version": 3
   },
   "file_extension": ".py",
   "mimetype": "text/x-python",
   "name": "python",
   "nbconvert_exporter": "python",
   "pygments_lexer": "ipython3",
   "version": "3.9.15"
  }
 },
 "nbformat": 4,
 "nbformat_minor": 2
}
