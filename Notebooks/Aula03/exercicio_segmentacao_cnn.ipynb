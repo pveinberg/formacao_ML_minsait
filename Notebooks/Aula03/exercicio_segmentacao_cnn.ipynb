{
 "cells": [
  {
   "cell_type": "markdown",
   "metadata": {},
   "source": [
    "## Segmentacao CNN\n",
    "   1. Usar lib segmentation_models(https://github.com/qubvel/segmentation_models)\n",
    "   2. Usar mobilenet,mobilenetv2 ou seresnet18 como backbone\n",
    "   3. Usar FPN como arquitetura base\n",
    "   4. Visualizar resultados"
   ]
  },
  {
   "cell_type": "code",
   "execution_count": null,
   "metadata": {},
   "outputs": [],
   "source": []
  }
 ],
 "metadata": {
  "language_info": {
   "name": "python"
  }
 },
 "nbformat": 4,
 "nbformat_minor": 2
}
