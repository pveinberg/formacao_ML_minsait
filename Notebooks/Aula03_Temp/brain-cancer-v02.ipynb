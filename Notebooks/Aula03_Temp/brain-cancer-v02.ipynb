{
 "cells": [
  {
   "cell_type": "code",
   "execution_count": 1,
   "metadata": {},
   "outputs": [
    {
     "name": "stderr",
     "output_type": "stream",
     "text": [
      "2023-10-31 08:14:46.829658: E tensorflow/compiler/xla/stream_executor/cuda/cuda_dnn.cc:9342] Unable to register cuDNN factory: Attempting to register factory for plugin cuDNN when one has already been registered\n",
      "2023-10-31 08:14:46.829688: E tensorflow/compiler/xla/stream_executor/cuda/cuda_fft.cc:609] Unable to register cuFFT factory: Attempting to register factory for plugin cuFFT when one has already been registered\n",
      "2023-10-31 08:14:46.829711: E tensorflow/compiler/xla/stream_executor/cuda/cuda_blas.cc:1518] Unable to register cuBLAS factory: Attempting to register factory for plugin cuBLAS when one has already been registered\n",
      "2023-10-31 08:14:46.836434: I tensorflow/core/platform/cpu_feature_guard.cc:182] This TensorFlow binary is optimized to use available CPU instructions in performance-critical operations.\n",
      "To enable the following instructions: AVX2 FMA, in other operations, rebuild TensorFlow with the appropriate compiler flags.\n"
     ]
    }
   ],
   "source": [
    "%load_ext autoreload\n",
    "%autoreload 2\n",
    "\n",
    "from zipfile import ZipFile\n",
    "from matplotlib import pyplot as plt \n",
    "from PIL import Image\n",
    "import numpy as np\n",
    "import sys\n",
    "import os\n",
    "\n",
    "import torch\n",
    "# import torch.nn as nn\n",
    "# import torch.optim as optim\n",
    "# from torchvision import transforms\n",
    "\n",
    "from keras.layers import Dense, Flatten, Conv2D\n",
    "from keras.models import Sequential\n",
    "from keras.callbacks import EarlyStopping\n",
    "\n",
    "from sklearn.preprocessing import OneHotEncoder\n",
    "\n",
    "sys.path.insert(1, './../Aula02/')\n",
    "from src.train import get_all_subsets, results_binary"
   ]
  },
  {
   "cell_type": "code",
   "execution_count": 2,
   "metadata": {},
   "outputs": [],
   "source": [
    "# !echo 0 | sudo tee -a /sys/bus/pci/devices/0000\\:01\\:00.0/numa_node\n",
    "\n",
    "# os.environ['CUDA_VISIBLE_DEVICES'] = \"0\"\n",
    "# os.environ['TF_GPU_ALLOCATOR'] = 'cuda_malloc_async'"
   ]
  },
  {
   "cell_type": "code",
   "execution_count": 3,
   "metadata": {},
   "outputs": [
    {
     "name": "stdout",
     "output_type": "stream",
     "text": [
      "Using cuda device\n"
     ]
    }
   ],
   "source": [
    "# Avaliar se tem GPU presente e operando no hardware\n",
    "device = (\n",
    "    \"cuda\"\n",
    "    if torch.cuda.is_available()\n",
    "    else \"mps\"\n",
    "    if torch.backends.mps.is_available()\n",
    "    else \"cpu\"\n",
    ")\n",
    "\n",
    "print(f\"Using {device} device\")"
   ]
  },
  {
   "cell_type": "code",
   "execution_count": 4,
   "metadata": {},
   "outputs": [],
   "source": [
    "# Carregando handle para o arquivo zip\n",
    "source_file = './dataset/brain-cancer.zip'\n",
    "zip = ZipFile(source_file)"
   ]
  },
  {
   "cell_type": "code",
   "execution_count": 5,
   "metadata": {},
   "outputs": [],
   "source": [
    "# Função para associar a label do target (yes/no) a cada imagem utilizando o caminho ou nome do arquivo\n",
    "def get_label(filename):\n",
    "    parts = filename.lower().split('/')\n",
    "    result = None\n",
    "    if 'yes' in parts:\n",
    "        result = 1\n",
    "    elif 'no' in parts:\n",
    "        result = 0\n",
    "    else:\n",
    "        pass\n",
    "    \n",
    "    return result\n",
    "\n",
    "assert get_label('brain_tumor_dataset/no/30 no.jpg') == 0\n",
    "assert get_label('brain_tumor_dataset/NO/31 no.jpg') == 0\n",
    "assert get_label('yes/Y95.jpg') == 1\n",
    "assert get_label('brain_tumor_dataset/yes/Y155.JPG') == 1\n",
    "assert get_label('brain_tumor_dataset/Y155.JPG') == None\n",
    "\n",
    "# Função para retornar a imagem (array) normalizada \n",
    "def get_image_array(filename):\n",
    "    new_size = (224, 224)\n",
    "    img_data = Image.open(zip.open(filename))\n",
    "    img_array = np.array(img_data.resize(new_size), np.int8)\n",
    "    if img_array.ndim == 1: \n",
    "        # Replicar o canal para imagens em escala de cinza\n",
    "        img_array = np.expand_dims(img_array, axis = -1)\n",
    "        img_array = np.concatenate([img_array] * 3, axis = -1)\n",
    "\n",
    "    # normalizar\n",
    "    img_array_normalized = (img_array - img_array.mean()) / img_array.std()\n",
    "\n",
    "    return img_array_normalized\n"
   ]
  },
  {
   "cell_type": "code",
   "execution_count": 6,
   "metadata": {},
   "outputs": [],
   "source": [
    "\"\"\"\n",
    "processar todos os arquivos do zip para obter:\n",
    "    * features: imagens\n",
    "    * labels: yes/None\n",
    "\"\"\"\n",
    "\n",
    "images = []\n",
    "labels = []\n",
    "data_results_dict = []\n",
    "\n",
    "for filename in zip.namelist():\n",
    "    \n",
    "    # label 0 = no, 1 = yes\n",
    "    label = get_label(filename)\n",
    "\n",
    "    # Recupera o array da imagem\n",
    "    img_array = get_image_array(filename) \n",
    "    \n",
    "    # Cria um dicionário com as informações\n",
    "    data_results_dict.append(\n",
    "        {'filename': filename, \n",
    "         'label': label, \n",
    "         'img_array': img_array}\n",
    "    )\n",
    "\n",
    "    # Corta imagens fora do padrão\n",
    "    if img_array.shape == (224, 224, 3):\n",
    "        # get X and y vars\n",
    "        images.append(img_array)\n",
    "        labels.append(label)\n"
   ]
  },
  {
   "cell_type": "code",
   "execution_count": 7,
   "metadata": {},
   "outputs": [
    {
     "data": {
      "text/plain": [
       "(434, 434)"
      ]
     },
     "execution_count": 7,
     "metadata": {},
     "output_type": "execute_result"
    }
   ],
   "source": [
    "# Validação do tamanho dos datasets\n",
    "len(images), len(labels)"
   ]
  },
  {
   "cell_type": "code",
   "execution_count": 8,
   "metadata": {},
   "outputs": [
    {
     "data": {
      "image/png": "[encoded data removed]",
      "text/plain": [
       "<Figure size 640x480 with 1 Axes>"
      ]
     },
     "metadata": {},
     "output_type": "display_data"
    }
   ],
   "source": [
    "# Contagem de valores para a variável dependente\n",
    "y_count = np.unique(labels, return_counts=True)\n",
    "\n",
    "plt.bar(y_count[0], height=y_count[1])\n",
    "plt.title(\"Contagem de presença ou ausência de doença no dataset\")\n",
    "plt.show()"
   ]
  },
  {
   "cell_type": "code",
   "execution_count": 9,
   "metadata": {},
   "outputs": [],
   "source": [
    "# Separando dados de treinamento, validação e teste\n",
    "X_train, X_val, X_test, y_train, y_val, y_test = get_all_subsets(np.array(images), \n",
    "                                                                 np.array(labels))"
   ]
  },
  {
   "cell_type": "code",
   "execution_count": 10,
   "metadata": {},
   "outputs": [],
   "source": [
    "# Codificando conjunto do target (yes/no) para binário\n",
    "encoder = OneHotEncoder()\n",
    "y_train = encoder.fit_transform(y_train.reshape(-1,1)).toarray()\n",
    "y_val = encoder.fit_transform(y_val.reshape(-1,1)).toarray()\n",
    "y_test = encoder.fit_transform(y_test.reshape(-1,1)).toarray()"
   ]
  },
  {
   "cell_type": "code",
   "execution_count": 11,
   "metadata": {},
   "outputs": [
    {
     "name": "stdout",
     "output_type": "stream",
     "text": [
      "Shape X_train:  (277, 224, 224, 3)\n",
      "Shape X_val:  (70, 224, 224, 3)\n",
      "Shape X_test:  (87, 224, 224, 3)\n",
      "Shape y_train:  (277, 2)\n",
      "Shape y_val:  (70, 2)\n",
      "Shape y_test:  (87, 2)\n"
     ]
    }
   ],
   "source": [
    "# Mostrando o formato dos sunconjuntos\n",
    "print(\"Shape X_train: \", X_train.shape)\n",
    "print(\"Shape X_val: \", X_val.shape)\n",
    "print(\"Shape X_test: \", X_test.shape)\n",
    "\n",
    "print(\"Shape y_train: \", y_train.shape)\n",
    "print(\"Shape y_val: \", y_val.shape)\n",
    "print(\"Shape y_test: \", y_test.shape)\n"
   ]
  },
  {
   "cell_type": "code",
   "execution_count": 12,
   "metadata": {},
   "outputs": [
    {
     "name": "stderr",
     "output_type": "stream",
     "text": [
      "2023-10-31 08:14:54.059254: I tensorflow/core/common_runtime/gpu/gpu_device.cc:1886] Created device /job:localhost/replica:0/task:0/device:GPU:0 with 840 MB memory:  -> device: 0, name: NVIDIA GeForce MX230, pci bus id: 0000:01:00.0, compute capability: 6.1\n"
     ]
    }
   ],
   "source": [
    "# Implementação da rede \n",
    "# https://stackoverflow.com/questions/44232898/memoryerror-in-tensorflow-and-successful-numa-node-read-from-sysfs-had-negativ\n",
    "\n",
    "seq_net = Sequential()\n",
    "seq_net.add(Conv2D(filters=1, \\\n",
    "                        kernel_size=3, \\\n",
    "                        activation='relu', \\\n",
    "                        input_shape=[224,224,3]))\n",
    "\n",
    "seq_net.add(Flatten())\n",
    "seq_net.add(Dense(512, activation='relu'))\n",
    "seq_net.add(Dense(256, activation='relu'))\n",
    "seq_net.add(Dense(64, activation='relu'))\n",
    "seq_net.add(Dense(2, activation='softmax'))\n"
   ]
  },
  {
   "cell_type": "code",
   "execution_count": 13,
   "metadata": {},
   "outputs": [
    {
     "name": "stdout",
     "output_type": "stream",
     "text": [
      "Model: \"sequential\"\n",
      "_________________________________________________________________\n",
      " Layer (type)                Output Shape              Param #   \n",
      "=================================================================\n",
      " conv2d (Conv2D)             (None, 222, 222, 1)       28        \n",
      "                                                                 \n",
      " flatten (Flatten)           (None, 49284)             0         \n",
      "                                                                 \n",
      " dense (Dense)               (None, 512)               25233920  \n",
      "                                                                 \n",
      " dense_1 (Dense)             (None, 256)               131328    \n",
      "                                                                 \n",
      " dense_2 (Dense)             (None, 64)                16448     \n",
      "                                                                 \n",
      " dense_3 (Dense)             (None, 2)                 130       \n",
      "                                                                 \n",
      "=================================================================\n",
      "Total params: 25381854 (96.82 MB)\n",
      "Trainable params: 25381854 (96.82 MB)\n",
      "Non-trainable params: 0 (0.00 Byte)\n",
      "_________________________________________________________________\n"
     ]
    }
   ],
   "source": [
    "seq_net.summary()"
   ]
  },
  {
   "cell_type": "code",
   "execution_count": 14,
   "metadata": {},
   "outputs": [],
   "source": [
    "seq_net.compile(loss='binary_crossentropy', optimizer='Adam', metrics=['accuracy'])"
   ]
  },
  {
   "cell_type": "code",
   "execution_count": 15,
   "metadata": {},
   "outputs": [
    {
     "name": "stdout",
     "output_type": "stream",
     "text": [
      "Epoch 1/100\n"
     ]
    },
    {
     "name": "stderr",
     "output_type": "stream",
     "text": [
      "2023-10-31 08:14:55.898459: I tensorflow/compiler/xla/stream_executor/cuda/cuda_dnn.cc:442] Loaded cuDNN version 8700\n",
      "2023-10-31 08:14:56.372839: E tensorflow/compiler/xla/stream_executor/cuda/cuda_blas.cc:188] failed to create cublas handle: the resource allocation failed\n",
      "2023-10-31 08:14:56.372861: E tensorflow/compiler/xla/stream_executor/cuda/cuda_blas.cc:191] Failure to initialize cublas may be due to OOM (cublas needs some free memory when you initialize it, and your deep-learning framework may have preallocated more than its fair share), or may be because this binary was not built with support for the GPU in your machine.\n",
      "2023-10-31 08:14:56.373286: W tensorflow/core/kernels/conv_ops_gpu.cc:144] None of the algorithms provided by cuDNN frontend heuristics worked; trying fallback algorithms.  Conv: batch: 1\n",
      "in_depths: 3\n",
      "out_depths: 1\n",
      "in: 224\n",
      "in: 224\n",
      "data_format: 1\n",
      "filter: 3\n",
      "filter: 3\n",
      "filter: 3\n",
      "dilation: 1\n",
      "dilation: 1\n",
      "stride: 1\n",
      "stride: 1\n",
      "padding: 0\n",
      "padding: 0\n",
      "dtype: DT_FLOAT\n",
      "group_count: 1\n",
      "device_identifier: \"sm_6.1 with 2099904512B RAM, 2 cores, 1531000KHz clock, 3004000KHz mem clock, 262144B L2$\"\n",
      "fusion {\n",
      "  activation_mode: kRelu\n",
      "  conv_scale: 1\n",
      "}\n",
      "version: 3\n",
      "\n",
      "2023-10-31 08:14:56.383930: E tensorflow/compiler/xla/stream_executor/cuda/cuda_blas.cc:188] failed to create cublas handle: the resource allocation failed\n",
      "2023-10-31 08:14:56.383952: E tensorflow/compiler/xla/stream_executor/cuda/cuda_blas.cc:191] Failure to initialize cublas may be due to OOM (cublas needs some free memory when you initialize it, and your deep-learning framework may have preallocated more than its fair share), or may be because this binary was not built with support for the GPU in your machine.\n",
      "2023-10-31 08:14:56.384464: W tensorflow/core/framework/op_kernel.cc:1839] OP_REQUIRES failed at conv_ops_fused_impl.h:625 : NOT_FOUND: No algorithm worked!  Error messages:\n",
      "  Profiling failure on CUDNN engine eng11{}: UNKNOWN: CUDNN_STATUS_ALLOC_FAILED\n",
      "in tensorflow/compiler/xla/stream_executor/cuda/cuda_dnn.cc(6629): 'status'\n",
      "  Profiling failure on CUDNN engine eng0{}: UNKNOWN: CUDNN_STATUS_ALLOC_FAILED\n",
      "in tensorflow/compiler/xla/stream_executor/cuda/cuda_dnn.cc(6629): 'status'\n"
     ]
    },
    {
     "ename": "NotFoundError",
     "evalue": "Graph execution error:\n\nDetected at node sequential/conv2d/Relu defined at (most recent call last):\n  File \"/usr/lib/python3.10/runpy.py\", line 196, in _run_module_as_main\n\n  File \"/usr/lib/python3.10/runpy.py\", line 86, in _run_code\n\n  File \"/home/pablo_veinberg/.local/lib/python3.10/site-packages/ipykernel_launcher.py\", line 17, in <module>\n\n  File \"/home/pablo_veinberg/.local/lib/python3.10/site-packages/traitlets/config/application.py\", line 1041, in launch_instance\n\n  File \"/home/pablo_veinberg/.local/lib/python3.10/site-packages/ipykernel/kernelapp.py\", line 724, in start\n\n  File \"/home/pablo_veinberg/.local/lib/python3.10/site-packages/tornado/platform/asyncio.py\", line 215, in start\n\n  File \"/usr/lib/python3.10/asyncio/base_events.py\", line 603, in run_forever\n\n  File \"/usr/lib/python3.10/asyncio/base_events.py\", line 1909, in _run_once\n\n  File \"/usr/lib/python3.10/asyncio/events.py\", line 80, in _run\n\n  File \"/home/pablo_veinberg/.local/lib/python3.10/site-packages/ipykernel/kernelbase.py\", line 512, in dispatch_queue\n\n  File \"/home/pablo_veinberg/.local/lib/python3.10/site-packages/ipykernel/kernelbase.py\", line 501, in process_one\n\n  File \"/home/pablo_veinberg/.local/lib/python3.10/site-packages/ipykernel/kernelbase.py\", line 408, in dispatch_shell\n\n  File \"/home/pablo_veinberg/.local/lib/python3.10/site-packages/ipykernel/kernelbase.py\", line 731, in execute_request\n\n  File \"/home/pablo_veinberg/.local/lib/python3.10/site-packages/ipykernel/ipkernel.py\", line 417, in do_execute\n\n  File \"/home/pablo_veinberg/.local/lib/python3.10/site-packages/ipykernel/zmqshell.py\", line 540, in run_cell\n\n  File \"/home/pablo_veinberg/.local/lib/python3.10/site-packages/IPython/core/interactiveshell.py\", line 2945, in run_cell\n\n  File \"/home/pablo_veinberg/.local/lib/python3.10/site-packages/IPython/core/interactiveshell.py\", line 3000, in _run_cell\n\n  File \"/home/pablo_veinberg/.local/lib/python3.10/site-packages/IPython/core/async_helpers.py\", line 129, in _pseudo_sync_runner\n\n  File \"/home/pablo_veinberg/.local/lib/python3.10/site-packages/IPython/core/interactiveshell.py\", line 3203, in run_cell_async\n\n  File \"/home/pablo_veinberg/.local/lib/python3.10/site-packages/IPython/core/interactiveshell.py\", line 3382, in run_ast_nodes\n\n  File \"/home/pablo_veinberg/.local/lib/python3.10/site-packages/IPython/core/interactiveshell.py\", line 3442, in run_code\n\n  File \"/tmp/ipykernel_27912/2776001978.py\", line 3, in <module>\n\n  File \"/home/pablo_veinberg/.local/lib/python3.10/site-packages/keras/src/utils/traceback_utils.py\", line 65, in error_handler\n\n  File \"/home/pablo_veinberg/.local/lib/python3.10/site-packages/keras/src/engine/training.py\", line 1783, in fit\n\n  File \"/home/pablo_veinberg/.local/lib/python3.10/site-packages/keras/src/engine/training.py\", line 1377, in train_function\n\n  File \"/home/pablo_veinberg/.local/lib/python3.10/site-packages/keras/src/engine/training.py\", line 1360, in step_function\n\n  File \"/home/pablo_veinberg/.local/lib/python3.10/site-packages/keras/src/engine/training.py\", line 1349, in run_step\n\n  File \"/home/pablo_veinberg/.local/lib/python3.10/site-packages/keras/src/engine/training.py\", line 1126, in train_step\n\n  File \"/home/pablo_veinberg/.local/lib/python3.10/site-packages/keras/src/utils/traceback_utils.py\", line 65, in error_handler\n\n  File \"/home/pablo_veinberg/.local/lib/python3.10/site-packages/keras/src/engine/training.py\", line 589, in __call__\n\n  File \"/home/pablo_veinberg/.local/lib/python3.10/site-packages/keras/src/utils/traceback_utils.py\", line 65, in error_handler\n\n  File \"/home/pablo_veinberg/.local/lib/python3.10/site-packages/keras/src/engine/base_layer.py\", line 1149, in __call__\n\n  File \"/home/pablo_veinberg/.local/lib/python3.10/site-packages/keras/src/utils/traceback_utils.py\", line 96, in error_handler\n\n  File \"/home/pablo_veinberg/.local/lib/python3.10/site-packages/keras/src/engine/sequential.py\", line 398, in call\n\n  File \"/home/pablo_veinberg/.local/lib/python3.10/site-packages/keras/src/engine/functional.py\", line 515, in call\n\n  File \"/home/pablo_veinberg/.local/lib/python3.10/site-packages/keras/src/engine/functional.py\", line 672, in _run_internal_graph\n\n  File \"/home/pablo_veinberg/.local/lib/python3.10/site-packages/keras/src/utils/traceback_utils.py\", line 65, in error_handler\n\n  File \"/home/pablo_veinberg/.local/lib/python3.10/site-packages/keras/src/engine/base_layer.py\", line 1149, in __call__\n\n  File \"/home/pablo_veinberg/.local/lib/python3.10/site-packages/keras/src/utils/traceback_utils.py\", line 96, in error_handler\n\n  File \"/home/pablo_veinberg/.local/lib/python3.10/site-packages/keras/src/layers/convolutional/base_conv.py\", line 321, in call\n\n  File \"/home/pablo_veinberg/.local/lib/python3.10/site-packages/keras/src/activations.py\", line 306, in relu\n\n  File \"/home/pablo_veinberg/.local/lib/python3.10/site-packages/keras/src/backend.py\", line 5397, in relu\n\nNo algorithm worked!  Error messages:\n  Profiling failure on CUDNN engine eng11{}: UNKNOWN: CUDNN_STATUS_ALLOC_FAILED\nin tensorflow/compiler/xla/stream_executor/cuda/cuda_dnn.cc(6629): 'status'\n  Profiling failure on CUDNN engine eng0{}: UNKNOWN: CUDNN_STATUS_ALLOC_FAILED\nin tensorflow/compiler/xla/stream_executor/cuda/cuda_dnn.cc(6629): 'status'\n\t [[{{node sequential/conv2d/Relu}}]] [Op:__inference_train_function_1322]",
     "output_type": "error",
     "traceback": [
      "\u001b[0;31m---------------------------------------------------------------------------\u001b[0m",
      "\u001b[0;31mNotFoundError\u001b[0m                             Traceback (most recent call last)",
      "\u001b[1;32m/home/pablo_veinberg/dev/indra/formacao-machine-learning-minsait-2023/Notebooks/Aula03_Temp/brain-cancer-v02.ipynb Cell 15\u001b[0m line \u001b[0;36m3\n\u001b[1;32m      <a href='vscode-notebook-cell:/home/pablo_veinberg/dev/indra/formacao-machine-learning-minsait-2023/Notebooks/Aula03_Temp/brain-cancer-v02.ipynb#X20sZmlsZQ%3D%3D?line=0'>1</a>\u001b[0m es \u001b[39m=\u001b[39m EarlyStopping(monitor \u001b[39m=\u001b[39m \u001b[39m'\u001b[39m\u001b[39mval_loss\u001b[39m\u001b[39m'\u001b[39m, min_delta \u001b[39m=\u001b[39m \u001b[39m0.001\u001b[39m, patience \u001b[39m=\u001b[39m \u001b[39m10\u001b[39m, verbose \u001b[39m=\u001b[39m \u001b[39m1\u001b[39m, mode \u001b[39m=\u001b[39m \u001b[39m'\u001b[39m\u001b[39mauto\u001b[39m\u001b[39m'\u001b[39m)\n\u001b[0;32m----> <a href='vscode-notebook-cell:/home/pablo_veinberg/dev/indra/formacao-machine-learning-minsait-2023/Notebooks/Aula03_Temp/brain-cancer-v02.ipynb#X20sZmlsZQ%3D%3D?line=2'>3</a>\u001b[0m history \u001b[39m=\u001b[39m rede_simples\u001b[39m.\u001b[39;49mfit(X_train, y_train, \\\n\u001b[1;32m      <a href='vscode-notebook-cell:/home/pablo_veinberg/dev/indra/formacao-machine-learning-minsait-2023/Notebooks/Aula03_Temp/brain-cancer-v02.ipynb#X20sZmlsZQ%3D%3D?line=3'>4</a>\u001b[0m                            epochs\u001b[39m=\u001b[39;49m\u001b[39m100\u001b[39;49m, \\\n\u001b[1;32m      <a href='vscode-notebook-cell:/home/pablo_veinberg/dev/indra/formacao-machine-learning-minsait-2023/Notebooks/Aula03_Temp/brain-cancer-v02.ipynb#X20sZmlsZQ%3D%3D?line=4'>5</a>\u001b[0m                             verbose\u001b[39m=\u001b[39;49m\u001b[39m1\u001b[39;49m, \\\n\u001b[1;32m      <a href='vscode-notebook-cell:/home/pablo_veinberg/dev/indra/formacao-machine-learning-minsait-2023/Notebooks/Aula03_Temp/brain-cancer-v02.ipynb#X20sZmlsZQ%3D%3D?line=5'>6</a>\u001b[0m                             shuffle\u001b[39m=\u001b[39;49m\u001b[39mTrue\u001b[39;49;00m, \\\n\u001b[1;32m      <a href='vscode-notebook-cell:/home/pablo_veinberg/dev/indra/formacao-machine-learning-minsait-2023/Notebooks/Aula03_Temp/brain-cancer-v02.ipynb#X20sZmlsZQ%3D%3D?line=6'>7</a>\u001b[0m                             batch_size\u001b[39m=\u001b[39;49m\u001b[39m1\u001b[39;49m, \\\n\u001b[1;32m      <a href='vscode-notebook-cell:/home/pablo_veinberg/dev/indra/formacao-machine-learning-minsait-2023/Notebooks/Aula03_Temp/brain-cancer-v02.ipynb#X20sZmlsZQ%3D%3D?line=7'>8</a>\u001b[0m                             validation_data\u001b[39m=\u001b[39;49m(X_val, y_val), \n\u001b[1;32m      <a href='vscode-notebook-cell:/home/pablo_veinberg/dev/indra/formacao-machine-learning-minsait-2023/Notebooks/Aula03_Temp/brain-cancer-v02.ipynb#X20sZmlsZQ%3D%3D?line=8'>9</a>\u001b[0m                             callbacks\u001b[39m=\u001b[39;49m[es])\n",
      "File \u001b[0;32m~/.local/lib/python3.10/site-packages/keras/src/utils/traceback_utils.py:70\u001b[0m, in \u001b[0;36mfilter_traceback.<locals>.error_handler\u001b[0;34m(*args, **kwargs)\u001b[0m\n\u001b[1;32m     67\u001b[0m     filtered_tb \u001b[39m=\u001b[39m _process_traceback_frames(e\u001b[39m.\u001b[39m__traceback__)\n\u001b[1;32m     68\u001b[0m     \u001b[39m# To get the full stack trace, call:\u001b[39;00m\n\u001b[1;32m     69\u001b[0m     \u001b[39m# `tf.debugging.disable_traceback_filtering()`\u001b[39;00m\n\u001b[0;32m---> 70\u001b[0m     \u001b[39mraise\u001b[39;00m e\u001b[39m.\u001b[39mwith_traceback(filtered_tb) \u001b[39mfrom\u001b[39;00m \u001b[39mNone\u001b[39m\n\u001b[1;32m     71\u001b[0m \u001b[39mfinally\u001b[39;00m:\n\u001b[1;32m     72\u001b[0m     \u001b[39mdel\u001b[39;00m filtered_tb\n",
      "File \u001b[0;32m~/.local/lib/python3.10/site-packages/tensorflow/python/eager/execute.py:60\u001b[0m, in \u001b[0;36mquick_execute\u001b[0;34m(op_name, num_outputs, inputs, attrs, ctx, name)\u001b[0m\n\u001b[1;32m     53\u001b[0m   \u001b[39m# Convert any objects of type core_types.Tensor to Tensor.\u001b[39;00m\n\u001b[1;32m     54\u001b[0m   inputs \u001b[39m=\u001b[39m [\n\u001b[1;32m     55\u001b[0m       tensor_conversion_registry\u001b[39m.\u001b[39mconvert(t)\n\u001b[1;32m     56\u001b[0m       \u001b[39mif\u001b[39;00m \u001b[39misinstance\u001b[39m(t, core_types\u001b[39m.\u001b[39mTensor)\n\u001b[1;32m     57\u001b[0m       \u001b[39melse\u001b[39;00m t\n\u001b[1;32m     58\u001b[0m       \u001b[39mfor\u001b[39;00m t \u001b[39min\u001b[39;00m inputs\n\u001b[1;32m     59\u001b[0m   ]\n\u001b[0;32m---> 60\u001b[0m   tensors \u001b[39m=\u001b[39m pywrap_tfe\u001b[39m.\u001b[39mTFE_Py_Execute(ctx\u001b[39m.\u001b[39m_handle, device_name, op_name,\n\u001b[1;32m     61\u001b[0m                                       inputs, attrs, num_outputs)\n\u001b[1;32m     62\u001b[0m \u001b[39mexcept\u001b[39;00m core\u001b[39m.\u001b[39m_NotOkStatusException \u001b[39mas\u001b[39;00m e:\n\u001b[1;32m     63\u001b[0m   \u001b[39mif\u001b[39;00m name \u001b[39mis\u001b[39;00m \u001b[39mnot\u001b[39;00m \u001b[39mNone\u001b[39;00m:\n",
      "\u001b[0;31mNotFoundError\u001b[0m: Graph execution error:\n\nDetected at node sequential/conv2d/Relu defined at (most recent call last):\n  File \"/usr/lib/python3.10/runpy.py\", line 196, in _run_module_as_main\n\n  File \"/usr/lib/python3.10/runpy.py\", line 86, in _run_code\n\n  File \"/home/pablo_veinberg/.local/lib/python3.10/site-packages/ipykernel_launcher.py\", line 17, in <module>\n\n  File \"/home/pablo_veinberg/.local/lib/python3.10/site-packages/traitlets/config/application.py\", line 1041, in launch_instance\n\n  File \"/home/pablo_veinberg/.local/lib/python3.10/site-packages/ipykernel/kernelapp.py\", line 724, in start\n\n  File \"/home/pablo_veinberg/.local/lib/python3.10/site-packages/tornado/platform/asyncio.py\", line 215, in start\n\n  File \"/usr/lib/python3.10/asyncio/base_events.py\", line 603, in run_forever\n\n  File \"/usr/lib/python3.10/asyncio/base_events.py\", line 1909, in _run_once\n\n  File \"/usr/lib/python3.10/asyncio/events.py\", line 80, in _run\n\n  File \"/home/pablo_veinberg/.local/lib/python3.10/site-packages/ipykernel/kernelbase.py\", line 512, in dispatch_queue\n\n  File \"/home/pablo_veinberg/.local/lib/python3.10/site-packages/ipykernel/kernelbase.py\", line 501, in process_one\n\n  File \"/home/pablo_veinberg/.local/lib/python3.10/site-packages/ipykernel/kernelbase.py\", line 408, in dispatch_shell\n\n  File \"/home/pablo_veinberg/.local/lib/python3.10/site-packages/ipykernel/kernelbase.py\", line 731, in execute_request\n\n  File \"/home/pablo_veinberg/.local/lib/python3.10/site-packages/ipykernel/ipkernel.py\", line 417, in do_execute\n\n  File \"/home/pablo_veinberg/.local/lib/python3.10/site-packages/ipykernel/zmqshell.py\", line 540, in run_cell\n\n  File \"/home/pablo_veinberg/.local/lib/python3.10/site-packages/IPython/core/interactiveshell.py\", line 2945, in run_cell\n\n  File \"/home/pablo_veinberg/.local/lib/python3.10/site-packages/IPython/core/interactiveshell.py\", line 3000, in _run_cell\n\n  File \"/home/pablo_veinberg/.local/lib/python3.10/site-packages/IPython/core/async_helpers.py\", line 129, in _pseudo_sync_runner\n\n  File \"/home/pablo_veinberg/.local/lib/python3.10/site-packages/IPython/core/interactiveshell.py\", line 3203, in run_cell_async\n\n  File \"/home/pablo_veinberg/.local/lib/python3.10/site-packages/IPython/core/interactiveshell.py\", line 3382, in run_ast_nodes\n\n  File \"/home/pablo_veinberg/.local/lib/python3.10/site-packages/IPython/core/interactiveshell.py\", line 3442, in run_code\n\n  File \"/tmp/ipykernel_27912/2776001978.py\", line 3, in <module>\n\n  File \"/home/pablo_veinberg/.local/lib/python3.10/site-packages/keras/src/utils/traceback_utils.py\", line 65, in error_handler\n\n  File \"/home/pablo_veinberg/.local/lib/python3.10/site-packages/keras/src/engine/training.py\", line 1783, in fit\n\n  File \"/home/pablo_veinberg/.local/lib/python3.10/site-packages/keras/src/engine/training.py\", line 1377, in train_function\n\n  File \"/home/pablo_veinberg/.local/lib/python3.10/site-packages/keras/src/engine/training.py\", line 1360, in step_function\n\n  File \"/home/pablo_veinberg/.local/lib/python3.10/site-packages/keras/src/engine/training.py\", line 1349, in run_step\n\n  File \"/home/pablo_veinberg/.local/lib/python3.10/site-packages/keras/src/engine/training.py\", line 1126, in train_step\n\n  File \"/home/pablo_veinberg/.local/lib/python3.10/site-packages/keras/src/utils/traceback_utils.py\", line 65, in error_handler\n\n  File \"/home/pablo_veinberg/.local/lib/python3.10/site-packages/keras/src/engine/training.py\", line 589, in __call__\n\n  File \"/home/pablo_veinberg/.local/lib/python3.10/site-packages/keras/src/utils/traceback_utils.py\", line 65, in error_handler\n\n  File \"/home/pablo_veinberg/.local/lib/python3.10/site-packages/keras/src/engine/base_layer.py\", line 1149, in __call__\n\n  File \"/home/pablo_veinberg/.local/lib/python3.10/site-packages/keras/src/utils/traceback_utils.py\", line 96, in error_handler\n\n  File \"/home/pablo_veinberg/.local/lib/python3.10/site-packages/keras/src/engine/sequential.py\", line 398, in call\n\n  File \"/home/pablo_veinberg/.local/lib/python3.10/site-packages/keras/src/engine/functional.py\", line 515, in call\n\n  File \"/home/pablo_veinberg/.local/lib/python3.10/site-packages/keras/src/engine/functional.py\", line 672, in _run_internal_graph\n\n  File \"/home/pablo_veinberg/.local/lib/python3.10/site-packages/keras/src/utils/traceback_utils.py\", line 65, in error_handler\n\n  File \"/home/pablo_veinberg/.local/lib/python3.10/site-packages/keras/src/engine/base_layer.py\", line 1149, in __call__\n\n  File \"/home/pablo_veinberg/.local/lib/python3.10/site-packages/keras/src/utils/traceback_utils.py\", line 96, in error_handler\n\n  File \"/home/pablo_veinberg/.local/lib/python3.10/site-packages/keras/src/layers/convolutional/base_conv.py\", line 321, in call\n\n  File \"/home/pablo_veinberg/.local/lib/python3.10/site-packages/keras/src/activations.py\", line 306, in relu\n\n  File \"/home/pablo_veinberg/.local/lib/python3.10/site-packages/keras/src/backend.py\", line 5397, in relu\n\nNo algorithm worked!  Error messages:\n  Profiling failure on CUDNN engine eng11{}: UNKNOWN: CUDNN_STATUS_ALLOC_FAILED\nin tensorflow/compiler/xla/stream_executor/cuda/cuda_dnn.cc(6629): 'status'\n  Profiling failure on CUDNN engine eng0{}: UNKNOWN: CUDNN_STATUS_ALLOC_FAILED\nin tensorflow/compiler/xla/stream_executor/cuda/cuda_dnn.cc(6629): 'status'\n\t [[{{node sequential/conv2d/Relu}}]] [Op:__inference_train_function_1322]"
     ]
    }
   ],
   "source": [
    "es = EarlyStopping(monitor = 'val_loss', min_delta = 0.001, patience = 10, verbose = 1, mode = 'auto')\n",
    "\n",
    "history = seq_net.fit(X_train, y_train, \\\n",
    "                           epochs=100, \\\n",
    "                            verbose=1, \\\n",
    "                            shuffle=True, \\\n",
    "                            batch_size=1, \\\n",
    "                            validation_data=(X_val, y_val), \n",
    "                            callbacks=[es])"
   ]
  },
  {
   "cell_type": "code",
   "execution_count": null,
   "metadata": {},
   "outputs": [
    {
     "name": "stdout",
     "output_type": "stream",
     "text": [
      "3/3 [==============================] - 0s 67ms/step\n"
     ]
    }
   ],
   "source": [
    "y_pred = rede_simples.predict(X_test)"
   ]
  },
  {
   "cell_type": "code",
   "execution_count": null,
   "metadata": {},
   "outputs": [
    {
     "name": "stdout",
     "output_type": "stream",
     "text": [
      "Confusion Matrix :\n",
      "[[34  3]\n",
      " [ 1 49]]\n",
      "Report : \n",
      "              precision    recall  f1-score   support\n",
      "\n",
      "           0       0.97      0.92      0.94        37\n",
      "           1       0.94      0.98      0.96        50\n",
      "\n",
      "    accuracy                           0.95        87\n",
      "   macro avg       0.96      0.95      0.95        87\n",
      "weighted avg       0.95      0.95      0.95        87\n",
      "\n",
      "Accuracy: 95.40%\n",
      "-- end\n"
     ]
    },
    {
     "ename": "",
     "evalue": "",
     "output_type": "error",
     "traceback": [
      "\u001b[1;31mThe Kernel crashed while executing code in the the current cell or a previous cell. Please review the code in the cell(s) to identify a possible cause of the failure. Click <a href='https://aka.ms/vscodeJupyterKernelCrash'>here</a> for more info. View Jupyter <a href='command:jupyter.viewOutput'>log</a> for further details."
     ]
    }
   ],
   "source": [
    "results_binary(y_test.argmax(1), y_pred.argmax(1))\n",
    "print('-- end')"
   ]
  },
  {
   "attachments": {
    "image.png": {
     "image/png": "[encoded data removed]"
    }
   },
   "cell_type": "markdown",
   "metadata": {},
   "source": [
    "![image.png](attachment:image.png)"
   ]
  },
  {
   "cell_type": "code",
   "execution_count": null,
   "metadata": {},
   "outputs": [
    {
     "data": {
      "text/plain": [
       "(array([[0.99999994],\n",
       "        [0.99999994],\n",
       "        [0.99999994],\n",
       "        [0.99999994],\n",
       "        [0.99999994],\n",
       "        [0.99999994],\n",
       "        [0.99999994],\n",
       "        [0.99999994],\n",
       "        [0.99999994],\n",
       "        [0.99999994]], dtype=float32),\n",
       " array([0, 0, 1, 0, 1, 1, 0, 1, 1, 1]))"
      ]
     },
     "execution_count": 150,
     "metadata": {},
     "output_type": "execute_result"
    }
   ],
   "source": [
    "y_pred[:10], y_test[:10]\n"
   ]
  },
  {
   "cell_type": "code",
   "execution_count": null,
   "metadata": {},
   "outputs": [
    {
     "data": {
      "text/plain": [
       "array([[0.99999994],\n",
       "       [0.99999994],\n",
       "       [0.99999994],\n",
       "       [0.99999994],\n",
       "       [0.99999994],\n",
       "       [0.99999994],\n",
       "       [0.99999994],\n",
       "       [0.99999994],\n",
       "       [0.99999994],\n",
       "       [0.99999994],\n",
       "       [0.99999994],\n",
       "       [0.99999994],\n",
       "       [0.99999994],\n",
       "       [0.99999994],\n",
       "       [0.99999994],\n",
       "       [0.99999994],\n",
       "       [0.99999994],\n",
       "       [0.99999994],\n",
       "       [0.99999994],\n",
       "       [0.99999994],\n",
       "       [0.99999994],\n",
       "       [0.99999994],\n",
       "       [0.99999994],\n",
       "       [0.99999994],\n",
       "       [0.99999994],\n",
       "       [0.99999994],\n",
       "       [0.99999994],\n",
       "       [0.99999994],\n",
       "       [0.99999994],\n",
       "       [0.99999994],\n",
       "       [0.99999994],\n",
       "       [0.99999994],\n",
       "       [0.99999994],\n",
       "       [0.99999994],\n",
       "       [0.99999994],\n",
       "       [0.99999994],\n",
       "       [0.99999994],\n",
       "       [0.99999994],\n",
       "       [0.99999994],\n",
       "       [0.99999994],\n",
       "       [0.99999994],\n",
       "       [0.99999994],\n",
       "       [0.99999994],\n",
       "       [0.99999994],\n",
       "       [0.99999994],\n",
       "       [0.99999994],\n",
       "       [0.99999994],\n",
       "       [0.99999994],\n",
       "       [0.99999994],\n",
       "       [0.99999994],\n",
       "       [0.99999994],\n",
       "       [0.99999994],\n",
       "       [0.99999994],\n",
       "       [0.99999994],\n",
       "       [0.99999994],\n",
       "       [0.99999994],\n",
       "       [0.99999994],\n",
       "       [0.99999994],\n",
       "       [0.99999994],\n",
       "       [0.99999994],\n",
       "       [0.99999994],\n",
       "       [0.99999994],\n",
       "       [0.99999994],\n",
       "       [0.99999994],\n",
       "       [0.99999994],\n",
       "       [0.99999994],\n",
       "       [0.99999994],\n",
       "       [0.99999994],\n",
       "       [0.99999994],\n",
       "       [0.99999994],\n",
       "       [0.99999994],\n",
       "       [0.99999994],\n",
       "       [0.99999994],\n",
       "       [0.99999994],\n",
       "       [0.99999994],\n",
       "       [0.99999994],\n",
       "       [0.99999994],\n",
       "       [0.99999994],\n",
       "       [0.99999994],\n",
       "       [0.99999994],\n",
       "       [1.        ],\n",
       "       [1.        ],\n",
       "       [1.        ],\n",
       "       [1.        ],\n",
       "       [1.        ],\n",
       "       [1.        ],\n",
       "       [1.        ]], dtype=float32)"
      ]
     },
     "execution_count": 152,
     "metadata": {},
     "output_type": "execute_result"
    }
   ],
   "source": [
    "y_pred"
   ]
  }
 ],
 "metadata": {
  "kernelspec": {
   "display_name": "Python 3",
   "language": "python",
   "name": "python3"
  },
  "language_info": {
   "codemirror_mode": {
    "name": "ipython",
    "version": 3
   },
   "file_extension": ".py",
   "mimetype": "text/x-python",
   "name": "python",
   "nbconvert_exporter": "python",
   "pygments_lexer": "ipython3",
   "version": "3.10.12"
  }
 },
 "nbformat": 4,
 "nbformat_minor": 2
}
