{
 "cells": [
  {
   "cell_type": "code",
   "execution_count": 1,
   "metadata": {},
   "outputs": [
    {
     "name": "stderr",
     "output_type": "stream",
     "text": [
      "2023-10-29 16:47:52.973330: I tensorflow/core/platform/cpu_feature_guard.cc:182] This TensorFlow binary is optimized to use available CPU instructions in performance-critical operations.\n",
      "To enable the following instructions: AVX2 FMA, in other operations, rebuild TensorFlow with the appropriate compiler flags.\n",
      "2023-10-29 16:47:54.224923: W tensorflow/compiler/tf2tensorrt/utils/py_utils.cc:38] TF-TRT Warning: Could not find TensorRT\n"
     ]
    }
   ],
   "source": [
    "%load_ext autoreload\n",
    "%autoreload 2\n",
    "\n",
    "from zipfile import ZipFile\n",
    "from matplotlib import pyplot as plt \n",
    "from PIL import Image\n",
    "import numpy as np\n",
    "import sys\n",
    "\n",
    "import torch\n",
    "import torch.nn as nn\n",
    "import torch.optim as optim\n",
    "import torch.nn.functional as F\n",
    "from torch.utils.data import DataLoader\n",
    "from torchvision import transforms\n",
    "\n",
    "from keras.layers import Dense, Activation, Dropout, Flatten, Conv2D, MaxPool2D\n",
    "from keras.models import Sequential\n",
    "from keras.callbacks import EarlyStopping\n",
    "\n",
    "from sklearn.preprocessing import OneHotEncoder\n",
    "\n",
    "sys.path.insert(1, './../Aula02/')\n",
    "from src.train import get_all_subsets, results_binary\n"
   ]
  },
  {
   "cell_type": "code",
   "execution_count": 2,
   "metadata": {},
   "outputs": [
    {
     "name": "stdout",
     "output_type": "stream",
     "text": [
      "Using cuda device\n"
     ]
    }
   ],
   "source": [
    "device = (\n",
    "    \"cuda\"\n",
    "    if torch.cuda.is_available()\n",
    "    else \"mps\"\n",
    "    if torch.backends.mps.is_available()\n",
    "    else \"cpu\"\n",
    ")\n",
    "\n",
    "print(f\"Using {device} device\")"
   ]
  },
  {
   "cell_type": "code",
   "execution_count": 3,
   "metadata": {},
   "outputs": [],
   "source": [
    "source_file = './dataset/brain-cancer.zip'"
   ]
  },
  {
   "cell_type": "code",
   "execution_count": 4,
   "metadata": {},
   "outputs": [],
   "source": [
    "zip_file = ZipFile(source_file)"
   ]
  },
  {
   "cell_type": "code",
   "execution_count": 5,
   "metadata": {},
   "outputs": [],
   "source": [
    "def get_label(filename):\n",
    "    parts = filename.lower().split('/')\n",
    "    result = None\n",
    "    if 'yes' in parts:\n",
    "        result = 1\n",
    "    elif 'no' in parts:\n",
    "        result = 0\n",
    "    else:\n",
    "        pass\n",
    "    \n",
    "    return result\n",
    "\n",
    "def get_image_array(filename):\n",
    "    new_size = (224, 224)\n",
    "    img_data = Image.open(zip_file.open(filename))\n",
    "    img_array = np.array(img_data.resize(new_size), np.int8)\n",
    "    if img_array.ndim == 1: \n",
    "        # Replicar o canal para imagens em escala de cinza\n",
    "        img_array = np.expand_dims(img_array, axis = -1)\n",
    "        img_array = np.concatenate([img_array] * 3, axis = -1)\n",
    "\n",
    "    # normalizar\n",
    "    img_array_normalized = (img_array - img_array.mean()) / img_array.std()\n",
    "\n",
    "    return img_array_normalized\n",
    "\n",
    "\n",
    "assert get_label('brain_tumor_dataset/no/30 no.jpg') == 0\n",
    "assert get_label('brain_tumor_dataset/NO/31 no.jpg') == 0\n",
    "assert get_label('yes/Y95.jpg') == 1\n",
    "assert get_label('brain_tumor_dataset/yes/Y155.JPG') == 1\n",
    "assert get_label('brain_tumor_dataset/Y155.JPG') == None"
   ]
  },
  {
   "cell_type": "code",
   "execution_count": 6,
   "metadata": {},
   "outputs": [],
   "source": [
    "# process\n",
    "images = []\n",
    "labels = []\n",
    "data_results_dict = []\n",
    "\n",
    "for filename in zip_file.namelist():\n",
    "    \n",
    "    # get label 0 = no, 1 = yes\n",
    "    label = get_label(filename)\n",
    "\n",
    "    # get image array    \n",
    "    img_array = get_image_array(filename) \n",
    "    \n",
    "    # build a dict with data\n",
    "    data_results_dict.append(\n",
    "        {'filename': filename, \n",
    "         'label': label, \n",
    "         'img_array': img_array}\n",
    "    )\n",
    "\n",
    "    if img_array.shape == (224, 224, 3):\n",
    "        # get X and y vars\n",
    "        images.append(img_array)\n",
    "        labels.append(label)\n"
   ]
  },
  {
   "cell_type": "code",
   "execution_count": 7,
   "metadata": {},
   "outputs": [
    {
     "data": {
      "text/plain": [
       "(array([3]), array([434]))"
      ]
     },
     "execution_count": 7,
     "metadata": {},
     "output_type": "execute_result"
    }
   ],
   "source": [
    "# all images have 3 channels\n",
    "size = []\n",
    "for a in images:\n",
    "    size.append(len(a.shape))\n",
    "\n",
    "np.unique(size, return_counts=True)"
   ]
  },
  {
   "cell_type": "code",
   "execution_count": 8,
   "metadata": {},
   "outputs": [
    {
     "data": {
      "text/plain": [
       "(array([0, 1]), array([158, 276]))"
      ]
     },
     "execution_count": 8,
     "metadata": {},
     "output_type": "execute_result"
    }
   ],
   "source": [
    "# y is unbalanced\n",
    "np.unique(labels, return_counts=True)"
   ]
  },
  {
   "cell_type": "code",
   "execution_count": 9,
   "metadata": {},
   "outputs": [],
   "source": [
    "# getting \n",
    "X_train, X_val, X_test, y_train, y_val, y_test = get_all_subsets(np.array(images), \n",
    "                                                                 np.array(labels))"
   ]
  },
  {
   "cell_type": "code",
   "execution_count": 10,
   "metadata": {},
   "outputs": [],
   "source": [
    "encoder = OneHotEncoder()\n",
    "y_train = encoder.fit_transform(y_train.reshape(-1,1)).toarray()\n",
    "y_val = encoder.fit_transform(y_val.reshape(-1,1)).toarray()\n",
    "y_test = encoder.fit_transform(y_test.reshape(-1,1)).toarray()"
   ]
  },
  {
   "cell_type": "code",
   "execution_count": 11,
   "metadata": {},
   "outputs": [
    {
     "name": "stdout",
     "output_type": "stream",
     "text": [
      "Shape X_train:  (277, 224, 224, 3)\n",
      "Shape X_val:  (70, 224, 224, 3)\n",
      "Shape X_test:  (87, 224, 224, 3)\n",
      "Shape y_train:  (277, 2)\n",
      "Shape y_val:  (70, 2)\n",
      "Shape y_test:  (87, 2)\n"
     ]
    }
   ],
   "source": [
    "print(\"Shape X_train: \", X_train.shape)\n",
    "print(\"Shape X_val: \", X_val.shape)\n",
    "print(\"Shape X_test: \", X_test.shape)\n",
    "\n",
    "print(\"Shape y_train: \", y_train.shape)\n",
    "print(\"Shape y_val: \", y_val.shape)\n",
    "print(\"Shape y_test: \", y_test.shape)\n"
   ]
  },
  {
   "cell_type": "code",
   "execution_count": 27,
   "metadata": {},
   "outputs": [],
   "source": [
    "trainloader = DataLoader(X_train, batch_size=32)\n",
    "validloader = DataLoader(X_val, batch_size=32)\n",
    "testloader = DataLoader(X_test, batch_size=32, shuffle=True, num_workers=2)"
   ]
  },
  {
   "cell_type": "markdown",
   "metadata": {},
   "source": [
    "## Torch"
   ]
  },
  {
   "cell_type": "code",
   "execution_count": 12,
   "metadata": {},
   "outputs": [],
   "source": [
    "class Net(nn.Module):\n",
    "    def __init__(self):\n",
    "        super().__init__()\n",
    "        self.conv1 = nn.Conv2d(1, 1, 3)\n",
    "        self.fc1 = nn.Linear(512, 32)\n",
    "        self.fc2 = nn.Linear(256, 16)\n",
    "        self.fc3 = nn.Linear(64, 8)\n",
    "        self.fc4 = nn.Linear(2, 2)\n",
    "        self.softmax = nn.LogSoftmax(dim=1)\n",
    "\n",
    "    def forward(self, x):\n",
    "        x = F.relu(self.conv1(x))\n",
    "        x = torch.flatten(x, 1) \n",
    "        x = F.relu(self.fc1(x))\n",
    "        x = self.fc2(x)\n",
    "        x = self.fc3(x)\n",
    "        x = self.fc4(x)\n",
    "        x = self.softmax(x)\n",
    "        return x"
   ]
  },
  {
   "cell_type": "code",
   "execution_count": 24,
   "metadata": {},
   "outputs": [
    {
     "data": {
      "text/plain": [
       "Net(\n",
       "  (conv1): Conv2d(1, 1, kernel_size=(3, 3), stride=(1, 1))\n",
       "  (fc1): Linear(in_features=512, out_features=32, bias=True)\n",
       "  (fc2): Linear(in_features=256, out_features=16, bias=True)\n",
       "  (fc3): Linear(in_features=64, out_features=8, bias=True)\n",
       "  (fc4): Linear(in_features=2, out_features=2, bias=True)\n",
       "  (softmax): LogSoftmax(dim=1)\n",
       ")"
      ]
     },
     "execution_count": 24,
     "metadata": {},
     "output_type": "execute_result"
    }
   ],
   "source": [
    "net = Net()\n",
    "net.to(device)"
   ]
  },
  {
   "cell_type": "code",
   "execution_count": 25,
   "metadata": {},
   "outputs": [],
   "source": [
    "# compile\n",
    "criterion = nn.CrossEntropyLoss()\n",
    "optimizer = optim.Adam(net.parameters(), lr=0.001)\n",
    "min_valid_loss = np.inf"
   ]
  },
  {
   "cell_type": "code",
   "execution_count": 28,
   "metadata": {},
   "outputs": [
    {
     "ename": "RuntimeError",
     "evalue": "Input type (double) and bias type (float) should be the same",
     "output_type": "error",
     "traceback": [
      "\u001b[0;31m---------------------------------------------------------------------------\u001b[0m",
      "\u001b[0;31mRuntimeError\u001b[0m                              Traceback (most recent call last)",
      "\u001b[1;32m/home/pablo_veinberg/dev/indra/formacao-machine-learning-minsait-2023/Notebooks/Aula03_Temp/brain-cancer-v03.ipynb Cell 17\u001b[0m line \u001b[0;36m1\n\u001b[1;32m      <a href='vscode-notebook-cell:/home/pablo_veinberg/dev/indra/formacao-machine-learning-minsait-2023/Notebooks/Aula03_Temp/brain-cancer-v03.ipynb#X35sZmlsZQ%3D%3D?line=5'>6</a>\u001b[0m \u001b[39mfor\u001b[39;00m data, labels \u001b[39min\u001b[39;00m \u001b[39mzip\u001b[39m(trainloader, testloader):\n\u001b[1;32m      <a href='vscode-notebook-cell:/home/pablo_veinberg/dev/indra/formacao-machine-learning-minsait-2023/Notebooks/Aula03_Temp/brain-cancer-v03.ipynb#X35sZmlsZQ%3D%3D?line=7'>8</a>\u001b[0m     optimizer\u001b[39m.\u001b[39mzero_grad()\n\u001b[0;32m---> <a href='vscode-notebook-cell:/home/pablo_veinberg/dev/indra/formacao-machine-learning-minsait-2023/Notebooks/Aula03_Temp/brain-cancer-v03.ipynb#X35sZmlsZQ%3D%3D?line=9'>10</a>\u001b[0m     target \u001b[39m=\u001b[39m net(data)\n\u001b[1;32m     <a href='vscode-notebook-cell:/home/pablo_veinberg/dev/indra/formacao-machine-learning-minsait-2023/Notebooks/Aula03_Temp/brain-cancer-v03.ipynb#X35sZmlsZQ%3D%3D?line=11'>12</a>\u001b[0m     loss \u001b[39m=\u001b[39m criterion(data, criterion)\n\u001b[1;32m     <a href='vscode-notebook-cell:/home/pablo_veinberg/dev/indra/formacao-machine-learning-minsait-2023/Notebooks/Aula03_Temp/brain-cancer-v03.ipynb#X35sZmlsZQ%3D%3D?line=13'>14</a>\u001b[0m     loss\u001b[39m.\u001b[39mbackward()\n",
      "File \u001b[0;32m~/.local/lib/python3.10/site-packages/torch/nn/modules/module.py:1518\u001b[0m, in \u001b[0;36mModule._wrapped_call_impl\u001b[0;34m(self, *args, **kwargs)\u001b[0m\n\u001b[1;32m   1516\u001b[0m     \u001b[39mreturn\u001b[39;00m \u001b[39mself\u001b[39m\u001b[39m.\u001b[39m_compiled_call_impl(\u001b[39m*\u001b[39margs, \u001b[39m*\u001b[39m\u001b[39m*\u001b[39mkwargs)  \u001b[39m# type: ignore[misc]\u001b[39;00m\n\u001b[1;32m   1517\u001b[0m \u001b[39melse\u001b[39;00m:\n\u001b[0;32m-> 1518\u001b[0m     \u001b[39mreturn\u001b[39;00m \u001b[39mself\u001b[39;49m\u001b[39m.\u001b[39;49m_call_impl(\u001b[39m*\u001b[39;49margs, \u001b[39m*\u001b[39;49m\u001b[39m*\u001b[39;49mkwargs)\n",
      "File \u001b[0;32m~/.local/lib/python3.10/site-packages/torch/nn/modules/module.py:1527\u001b[0m, in \u001b[0;36mModule._call_impl\u001b[0;34m(self, *args, **kwargs)\u001b[0m\n\u001b[1;32m   1522\u001b[0m \u001b[39m# If we don't have any hooks, we want to skip the rest of the logic in\u001b[39;00m\n\u001b[1;32m   1523\u001b[0m \u001b[39m# this function, and just call forward.\u001b[39;00m\n\u001b[1;32m   1524\u001b[0m \u001b[39mif\u001b[39;00m \u001b[39mnot\u001b[39;00m (\u001b[39mself\u001b[39m\u001b[39m.\u001b[39m_backward_hooks \u001b[39mor\u001b[39;00m \u001b[39mself\u001b[39m\u001b[39m.\u001b[39m_backward_pre_hooks \u001b[39mor\u001b[39;00m \u001b[39mself\u001b[39m\u001b[39m.\u001b[39m_forward_hooks \u001b[39mor\u001b[39;00m \u001b[39mself\u001b[39m\u001b[39m.\u001b[39m_forward_pre_hooks\n\u001b[1;32m   1525\u001b[0m         \u001b[39mor\u001b[39;00m _global_backward_pre_hooks \u001b[39mor\u001b[39;00m _global_backward_hooks\n\u001b[1;32m   1526\u001b[0m         \u001b[39mor\u001b[39;00m _global_forward_hooks \u001b[39mor\u001b[39;00m _global_forward_pre_hooks):\n\u001b[0;32m-> 1527\u001b[0m     \u001b[39mreturn\u001b[39;00m forward_call(\u001b[39m*\u001b[39;49margs, \u001b[39m*\u001b[39;49m\u001b[39m*\u001b[39;49mkwargs)\n\u001b[1;32m   1529\u001b[0m \u001b[39mtry\u001b[39;00m:\n\u001b[1;32m   1530\u001b[0m     result \u001b[39m=\u001b[39m \u001b[39mNone\u001b[39;00m\n",
      "\u001b[1;32m/home/pablo_veinberg/dev/indra/formacao-machine-learning-minsait-2023/Notebooks/Aula03_Temp/brain-cancer-v03.ipynb Cell 17\u001b[0m line \u001b[0;36m1\n\u001b[1;32m     <a href='vscode-notebook-cell:/home/pablo_veinberg/dev/indra/formacao-machine-learning-minsait-2023/Notebooks/Aula03_Temp/brain-cancer-v03.ipynb#X35sZmlsZQ%3D%3D?line=10'>11</a>\u001b[0m \u001b[39mdef\u001b[39;00m \u001b[39mforward\u001b[39m(\u001b[39mself\u001b[39m, x):\n\u001b[0;32m---> <a href='vscode-notebook-cell:/home/pablo_veinberg/dev/indra/formacao-machine-learning-minsait-2023/Notebooks/Aula03_Temp/brain-cancer-v03.ipynb#X35sZmlsZQ%3D%3D?line=11'>12</a>\u001b[0m     x \u001b[39m=\u001b[39m F\u001b[39m.\u001b[39mrelu(\u001b[39mself\u001b[39;49m\u001b[39m.\u001b[39;49mconv1(x))\n\u001b[1;32m     <a href='vscode-notebook-cell:/home/pablo_veinberg/dev/indra/formacao-machine-learning-minsait-2023/Notebooks/Aula03_Temp/brain-cancer-v03.ipynb#X35sZmlsZQ%3D%3D?line=12'>13</a>\u001b[0m     x \u001b[39m=\u001b[39m torch\u001b[39m.\u001b[39mflatten(x, \u001b[39m1\u001b[39m) \n\u001b[1;32m     <a href='vscode-notebook-cell:/home/pablo_veinberg/dev/indra/formacao-machine-learning-minsait-2023/Notebooks/Aula03_Temp/brain-cancer-v03.ipynb#X35sZmlsZQ%3D%3D?line=13'>14</a>\u001b[0m     x \u001b[39m=\u001b[39m F\u001b[39m.\u001b[39mrelu(\u001b[39mself\u001b[39m\u001b[39m.\u001b[39mfc1(x))\n",
      "File \u001b[0;32m~/.local/lib/python3.10/site-packages/torch/nn/modules/module.py:1518\u001b[0m, in \u001b[0;36mModule._wrapped_call_impl\u001b[0;34m(self, *args, **kwargs)\u001b[0m\n\u001b[1;32m   1516\u001b[0m     \u001b[39mreturn\u001b[39;00m \u001b[39mself\u001b[39m\u001b[39m.\u001b[39m_compiled_call_impl(\u001b[39m*\u001b[39margs, \u001b[39m*\u001b[39m\u001b[39m*\u001b[39mkwargs)  \u001b[39m# type: ignore[misc]\u001b[39;00m\n\u001b[1;32m   1517\u001b[0m \u001b[39melse\u001b[39;00m:\n\u001b[0;32m-> 1518\u001b[0m     \u001b[39mreturn\u001b[39;00m \u001b[39mself\u001b[39;49m\u001b[39m.\u001b[39;49m_call_impl(\u001b[39m*\u001b[39;49margs, \u001b[39m*\u001b[39;49m\u001b[39m*\u001b[39;49mkwargs)\n",
      "File \u001b[0;32m~/.local/lib/python3.10/site-packages/torch/nn/modules/module.py:1527\u001b[0m, in \u001b[0;36mModule._call_impl\u001b[0;34m(self, *args, **kwargs)\u001b[0m\n\u001b[1;32m   1522\u001b[0m \u001b[39m# If we don't have any hooks, we want to skip the rest of the logic in\u001b[39;00m\n\u001b[1;32m   1523\u001b[0m \u001b[39m# this function, and just call forward.\u001b[39;00m\n\u001b[1;32m   1524\u001b[0m \u001b[39mif\u001b[39;00m \u001b[39mnot\u001b[39;00m (\u001b[39mself\u001b[39m\u001b[39m.\u001b[39m_backward_hooks \u001b[39mor\u001b[39;00m \u001b[39mself\u001b[39m\u001b[39m.\u001b[39m_backward_pre_hooks \u001b[39mor\u001b[39;00m \u001b[39mself\u001b[39m\u001b[39m.\u001b[39m_forward_hooks \u001b[39mor\u001b[39;00m \u001b[39mself\u001b[39m\u001b[39m.\u001b[39m_forward_pre_hooks\n\u001b[1;32m   1525\u001b[0m         \u001b[39mor\u001b[39;00m _global_backward_pre_hooks \u001b[39mor\u001b[39;00m _global_backward_hooks\n\u001b[1;32m   1526\u001b[0m         \u001b[39mor\u001b[39;00m _global_forward_hooks \u001b[39mor\u001b[39;00m _global_forward_pre_hooks):\n\u001b[0;32m-> 1527\u001b[0m     \u001b[39mreturn\u001b[39;00m forward_call(\u001b[39m*\u001b[39;49margs, \u001b[39m*\u001b[39;49m\u001b[39m*\u001b[39;49mkwargs)\n\u001b[1;32m   1529\u001b[0m \u001b[39mtry\u001b[39;00m:\n\u001b[1;32m   1530\u001b[0m     result \u001b[39m=\u001b[39m \u001b[39mNone\u001b[39;00m\n",
      "File \u001b[0;32m~/.local/lib/python3.10/site-packages/torch/nn/modules/conv.py:460\u001b[0m, in \u001b[0;36mConv2d.forward\u001b[0;34m(self, input)\u001b[0m\n\u001b[1;32m    459\u001b[0m \u001b[39mdef\u001b[39;00m \u001b[39mforward\u001b[39m(\u001b[39mself\u001b[39m, \u001b[39minput\u001b[39m: Tensor) \u001b[39m-\u001b[39m\u001b[39m>\u001b[39m Tensor:\n\u001b[0;32m--> 460\u001b[0m     \u001b[39mreturn\u001b[39;00m \u001b[39mself\u001b[39;49m\u001b[39m.\u001b[39;49m_conv_forward(\u001b[39minput\u001b[39;49m, \u001b[39mself\u001b[39;49m\u001b[39m.\u001b[39;49mweight, \u001b[39mself\u001b[39;49m\u001b[39m.\u001b[39;49mbias)\n",
      "File \u001b[0;32m~/.local/lib/python3.10/site-packages/torch/nn/modules/conv.py:456\u001b[0m, in \u001b[0;36mConv2d._conv_forward\u001b[0;34m(self, input, weight, bias)\u001b[0m\n\u001b[1;32m    452\u001b[0m \u001b[39mif\u001b[39;00m \u001b[39mself\u001b[39m\u001b[39m.\u001b[39mpadding_mode \u001b[39m!=\u001b[39m \u001b[39m'\u001b[39m\u001b[39mzeros\u001b[39m\u001b[39m'\u001b[39m:\n\u001b[1;32m    453\u001b[0m     \u001b[39mreturn\u001b[39;00m F\u001b[39m.\u001b[39mconv2d(F\u001b[39m.\u001b[39mpad(\u001b[39minput\u001b[39m, \u001b[39mself\u001b[39m\u001b[39m.\u001b[39m_reversed_padding_repeated_twice, mode\u001b[39m=\u001b[39m\u001b[39mself\u001b[39m\u001b[39m.\u001b[39mpadding_mode),\n\u001b[1;32m    454\u001b[0m                     weight, bias, \u001b[39mself\u001b[39m\u001b[39m.\u001b[39mstride,\n\u001b[1;32m    455\u001b[0m                     _pair(\u001b[39m0\u001b[39m), \u001b[39mself\u001b[39m\u001b[39m.\u001b[39mdilation, \u001b[39mself\u001b[39m\u001b[39m.\u001b[39mgroups)\n\u001b[0;32m--> 456\u001b[0m \u001b[39mreturn\u001b[39;00m F\u001b[39m.\u001b[39;49mconv2d(\u001b[39minput\u001b[39;49m, weight, bias, \u001b[39mself\u001b[39;49m\u001b[39m.\u001b[39;49mstride,\n\u001b[1;32m    457\u001b[0m                 \u001b[39mself\u001b[39;49m\u001b[39m.\u001b[39;49mpadding, \u001b[39mself\u001b[39;49m\u001b[39m.\u001b[39;49mdilation, \u001b[39mself\u001b[39;49m\u001b[39m.\u001b[39;49mgroups)\n",
      "\u001b[0;31mRuntimeError\u001b[0m: Input type (double) and bias type (float) should be the same"
     ]
    }
   ],
   "source": [
    "epochs = 100\n",
    "for epoch in range(epochs):\n",
    "    \n",
    "    running_loss = 0.0\n",
    "    train_loss = 0.0\n",
    "    for data, labels in zip(trainloader, testloader):\n",
    "        \n",
    "        optimizer.zero_grad()\n",
    "\n",
    "        target = net(data)\n",
    "\n",
    "        loss = criterion(data, criterion)\n",
    "\n",
    "        loss.backward()\n",
    "    \n",
    "    break"
   ]
  },
  {
   "cell_type": "code",
   "execution_count": 160,
   "metadata": {},
   "outputs": [],
   "source": [
    "rede_simples = Sequential()\n",
    "rede_simples.add(Conv2D(filters=1, \\\n",
    "                        kernel_size=3, \\\n",
    "                        activation='relu', \\\n",
    "                        input_shape=[224,224,3]))\n",
    "\n",
    "rede_simples.add(Flatten())\n",
    "rede_simples.add(Dense(512, activation='relu'))\n",
    "rede_simples.add(Dense(256, activation='relu'))\n",
    "rede_simples.add(Dense(64, activation='relu'))\n",
    "rede_simples.add(Dense(2, activation='softmax'))"
   ]
  },
  {
   "cell_type": "code",
   "execution_count": 161,
   "metadata": {},
   "outputs": [
    {
     "name": "stdout",
     "output_type": "stream",
     "text": [
      "Model: \"sequential_9\"\n",
      "_________________________________________________________________\n",
      " Layer (type)                Output Shape              Param #   \n",
      "=================================================================\n",
      " conv2d_8 (Conv2D)           (None, 222, 222, 1)       28        \n",
      "                                                                 \n"
     ]
    },
    {
     "name": "stdout",
     "output_type": "stream",
     "text": [
      " flatten_8 (Flatten)         (None, 49284)             0         \n",
      "                                                                 \n",
      " dense_22 (Dense)            (None, 512)               25233920  \n",
      "                                                                 \n",
      " dense_23 (Dense)            (None, 256)               131328    \n",
      "                                                                 \n",
      " dense_24 (Dense)            (None, 64)                16448     \n",
      "                                                                 \n",
      " dense_25 (Dense)            (None, 2)                 130       \n",
      "                                                                 \n",
      "=================================================================\n",
      "Total params: 25381854 (96.82 MB)\n",
      "Trainable params: 25381854 (96.82 MB)\n",
      "Non-trainable params: 0 (0.00 Byte)\n",
      "_________________________________________________________________\n"
     ]
    }
   ],
   "source": [
    "rede_simples.summary()"
   ]
  },
  {
   "cell_type": "code",
   "execution_count": 163,
   "metadata": {},
   "outputs": [],
   "source": [
    "rede_simples.compile(loss='binary_crossentropy', optimizer='Adam', metrics=['accuracy'])"
   ]
  },
  {
   "cell_type": "code",
   "execution_count": 164,
   "metadata": {},
   "outputs": [
    {
     "name": "stdout",
     "output_type": "stream",
     "text": [
      "Epoch 1/100\n",
      "5/5 [==============================] - 4s 685ms/step - loss: 6.1018 - accuracy: 0.6318 - val_loss: 2.3576 - val_accuracy: 0.8143\n",
      "Epoch 2/100\n",
      "5/5 [==============================] - 3s 639ms/step - loss: 1.7201 - accuracy: 0.7437 - val_loss: 1.4294 - val_accuracy: 0.7571\n",
      "Epoch 3/100\n",
      "5/5 [==============================] - 3s 618ms/step - loss: 0.6884 - accuracy: 0.8700 - val_loss: 0.8436 - val_accuracy: 0.8429\n",
      "Epoch 4/100\n",
      "5/5 [==============================] - 3s 610ms/step - loss: 0.2507 - accuracy: 0.9531 - val_loss: 0.5397 - val_accuracy: 0.9000\n",
      "Epoch 5/100\n",
      "5/5 [==============================] - 3s 701ms/step - loss: 0.0780 - accuracy: 0.9928 - val_loss: 0.5404 - val_accuracy: 0.8714\n",
      "Epoch 6/100\n",
      "5/5 [==============================] - 3s 662ms/step - loss: 0.0401 - accuracy: 0.9964 - val_loss: 0.5783 - val_accuracy: 0.9143\n",
      "Epoch 7/100\n",
      "5/5 [==============================] - 3s 635ms/step - loss: 0.0342 - accuracy: 1.0000 - val_loss: 0.5269 - val_accuracy: 0.9143\n",
      "Epoch 8/100\n",
      "5/5 [==============================] - 3s 642ms/step - loss: 0.0159 - accuracy: 1.0000 - val_loss: 0.5378 - val_accuracy: 0.9143\n",
      "Epoch 9/100\n",
      "5/5 [==============================] - 3s 656ms/step - loss: 0.0105 - accuracy: 1.0000 - val_loss: 0.5339 - val_accuracy: 0.9143\n",
      "Epoch 10/100\n",
      "5/5 [==============================] - 3s 652ms/step - loss: 0.0029 - accuracy: 1.0000 - val_loss: 0.5171 - val_accuracy: 0.9143\n",
      "Epoch 11/100\n",
      "5/5 [==============================] - 3s 659ms/step - loss: 0.0033 - accuracy: 1.0000 - val_loss: 0.5380 - val_accuracy: 0.9143\n",
      "Epoch 12/100\n",
      "5/5 [==============================] - 3s 651ms/step - loss: 0.0024 - accuracy: 1.0000 - val_loss: 0.5582 - val_accuracy: 0.9143\n",
      "Epoch 13/100\n",
      "5/5 [==============================] - 3s 635ms/step - loss: 0.0016 - accuracy: 1.0000 - val_loss: 0.5449 - val_accuracy: 0.9143\n",
      "Epoch 14/100\n",
      "5/5 [==============================] - 3s 714ms/step - loss: 0.0012 - accuracy: 1.0000 - val_loss: 0.5417 - val_accuracy: 0.9143\n",
      "Epoch 15/100\n",
      "5/5 [==============================] - 3s 626ms/step - loss: 0.0011 - accuracy: 1.0000 - val_loss: 0.5516 - val_accuracy: 0.9143\n",
      "Epoch 16/100\n",
      "5/5 [==============================] - 3s 649ms/step - loss: 0.0010 - accuracy: 1.0000 - val_loss: 0.5590 - val_accuracy: 0.9143\n",
      "Epoch 17/100\n",
      "5/5 [==============================] - 3s 639ms/step - loss: 9.4604e-04 - accuracy: 1.0000 - val_loss: 0.5592 - val_accuracy: 0.9143\n",
      "Epoch 18/100\n",
      "5/5 [==============================] - 3s 666ms/step - loss: 8.3492e-04 - accuracy: 1.0000 - val_loss: 0.5519 - val_accuracy: 0.9143\n",
      "Epoch 19/100\n",
      "5/5 [==============================] - 3s 654ms/step - loss: 7.6130e-04 - accuracy: 1.0000 - val_loss: 0.5491 - val_accuracy: 0.9143\n",
      "Epoch 20/100\n",
      "5/5 [==============================] - 3s 637ms/step - loss: 7.1894e-04 - accuracy: 1.0000 - val_loss: 0.5548 - val_accuracy: 0.9143\n",
      "Epoch 20: early stopping\n"
     ]
    }
   ],
   "source": [
    "es = EarlyStopping(monitor = 'val_loss', min_delta = 0.001, patience = 10, verbose = 1, mode = 'auto')\n",
    "\n",
    "history = rede_simples.fit(X_train, y_train, \\\n",
    "                           epochs=100, \\\n",
    "                            verbose=1, \\\n",
    "                            shuffle=True, \\\n",
    "                            batch_size=64, \\\n",
    "                            validation_data=(X_val, y_val), \n",
    "                            callbacks=[es])"
   ]
  },
  {
   "cell_type": "code",
   "execution_count": 165,
   "metadata": {},
   "outputs": [
    {
     "name": "stdout",
     "output_type": "stream",
     "text": [
      "3/3 [==============================] - 0s 67ms/step\n"
     ]
    }
   ],
   "source": [
    "y_pred = rede_simples.predict(X_test)"
   ]
  },
  {
   "cell_type": "code",
   "execution_count": 168,
   "metadata": {},
   "outputs": [
    {
     "name": "stdout",
     "output_type": "stream",
     "text": [
      "Confusion Matrix :\n",
      "[[34  3]\n",
      " [ 1 49]]\n",
      "Report : \n",
      "              precision    recall  f1-score   support\n",
      "\n",
      "           0       0.97      0.92      0.94        37\n",
      "           1       0.94      0.98      0.96        50\n",
      "\n",
      "    accuracy                           0.95        87\n",
      "   macro avg       0.96      0.95      0.95        87\n",
      "weighted avg       0.95      0.95      0.95        87\n",
      "\n",
      "Accuracy: 95.40%\n",
      "-- end\n"
     ]
    }
   ],
   "source": [
    "results_binary(y_test.argmax(1), y_pred.argmax(1))\n",
    "print('-- end')"
   ]
  },
  {
   "attachments": {
    "image.png": {
     "image/png": "[encoded data removed]"
    }
   },
   "cell_type": "markdown",
   "metadata": {},
   "source": [
    "![image.png](attachment:image.png)"
   ]
  },
  {
   "cell_type": "code",
   "execution_count": 150,
   "metadata": {},
   "outputs": [
    {
     "data": {
      "text/plain": [
       "(array([[0.99999994],\n",
       "        [0.99999994],\n",
       "        [0.99999994],\n",
       "        [0.99999994],\n",
       "        [0.99999994],\n",
       "        [0.99999994],\n",
       "        [0.99999994],\n",
       "        [0.99999994],\n",
       "        [0.99999994],\n",
       "        [0.99999994]], dtype=float32),\n",
       " array([0, 0, 1, 0, 1, 1, 0, 1, 1, 1]))"
      ]
     },
     "execution_count": 150,
     "metadata": {},
     "output_type": "execute_result"
    }
   ],
   "source": [
    "y_pred[:10], y_test[:10]\n"
   ]
  },
  {
   "cell_type": "code",
   "execution_count": 152,
   "metadata": {},
   "outputs": [
    {
     "data": {
      "text/plain": [
       "array([[0.99999994],\n",
       "       [0.99999994],\n",
       "       [0.99999994],\n",
       "       [0.99999994],\n",
       "       [0.99999994],\n",
       "       [0.99999994],\n",
       "       [0.99999994],\n",
       "       [0.99999994],\n",
       "       [0.99999994],\n",
       "       [0.99999994],\n",
       "       [0.99999994],\n",
       "       [0.99999994],\n",
       "       [0.99999994],\n",
       "       [0.99999994],\n",
       "       [0.99999994],\n",
       "       [0.99999994],\n",
       "       [0.99999994],\n",
       "       [0.99999994],\n",
       "       [0.99999994],\n",
       "       [0.99999994],\n",
       "       [0.99999994],\n",
       "       [0.99999994],\n",
       "       [0.99999994],\n",
       "       [0.99999994],\n",
       "       [0.99999994],\n",
       "       [0.99999994],\n",
       "       [0.99999994],\n",
       "       [0.99999994],\n",
       "       [0.99999994],\n",
       "       [0.99999994],\n",
       "       [0.99999994],\n",
       "       [0.99999994],\n",
       "       [0.99999994],\n",
       "       [0.99999994],\n",
       "       [0.99999994],\n",
       "       [0.99999994],\n",
       "       [0.99999994],\n",
       "       [0.99999994],\n",
       "       [0.99999994],\n",
       "       [0.99999994],\n",
       "       [0.99999994],\n",
       "       [0.99999994],\n",
       "       [0.99999994],\n",
       "       [0.99999994],\n",
       "       [0.99999994],\n",
       "       [0.99999994],\n",
       "       [0.99999994],\n",
       "       [0.99999994],\n",
       "       [0.99999994],\n",
       "       [0.99999994],\n",
       "       [0.99999994],\n",
       "       [0.99999994],\n",
       "       [0.99999994],\n",
       "       [0.99999994],\n",
       "       [0.99999994],\n",
       "       [0.99999994],\n",
       "       [0.99999994],\n",
       "       [0.99999994],\n",
       "       [0.99999994],\n",
       "       [0.99999994],\n",
       "       [0.99999994],\n",
       "       [0.99999994],\n",
       "       [0.99999994],\n",
       "       [0.99999994],\n",
       "       [0.99999994],\n",
       "       [0.99999994],\n",
       "       [0.99999994],\n",
       "       [0.99999994],\n",
       "       [0.99999994],\n",
       "       [0.99999994],\n",
       "       [0.99999994],\n",
       "       [0.99999994],\n",
       "       [0.99999994],\n",
       "       [0.99999994],\n",
       "       [0.99999994],\n",
       "       [0.99999994],\n",
       "       [0.99999994],\n",
       "       [0.99999994],\n",
       "       [0.99999994],\n",
       "       [0.99999994],\n",
       "       [1.        ],\n",
       "       [1.        ],\n",
       "       [1.        ],\n",
       "       [1.        ],\n",
       "       [1.        ],\n",
       "       [1.        ],\n",
       "       [1.        ]], dtype=float32)"
      ]
     },
     "execution_count": 152,
     "metadata": {},
     "output_type": "execute_result"
    }
   ],
   "source": [
    "y_pred"
   ]
  }
 ],
 "metadata": {
  "kernelspec": {
   "display_name": "Python 3",
   "language": "python",
   "name": "python3"
  },
  "language_info": {
   "codemirror_mode": {
    "name": "ipython",
    "version": 3
   },
   "file_extension": ".py",
   "mimetype": "text/x-python",
   "name": "python",
   "nbconvert_exporter": "python",
   "pygments_lexer": "ipython3",
   "version": "3.10.12"
  }
 },
 "nbformat": 4,
 "nbformat_minor": 2
}
