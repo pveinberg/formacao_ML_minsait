{
 "cells": [
  {
   "cell_type": "code",
   "execution_count": 1,
   "metadata": {},
   "outputs": [],
   "source": [
    "from zipfile import ZipFile\n",
    "from matplotlib import pyplot as plt \n",
    "from PIL import Image\n",
    "import numpy as np\n",
    "\n",
    "import torch\n",
    "import torch.nn as nn\n",
    "import torch.optim as optim\n",
    "from torchvision import transforms"
   ]
  },
  {
   "cell_type": "code",
   "execution_count": 2,
   "metadata": {},
   "outputs": [],
   "source": [
    "source_file = './dataset/brain-cancer.zip'"
   ]
  },
  {
   "cell_type": "code",
   "execution_count": 3,
   "metadata": {},
   "outputs": [],
   "source": [
    "zip = ZipFile(source_file)"
   ]
  },
  {
   "cell_type": "code",
   "execution_count": 4,
   "metadata": {},
   "outputs": [],
   "source": [
    "def get_label(filename):\n",
    "    parts = filename.lower().split('/')\n",
    "    result = None\n",
    "    if 'yes' in parts:\n",
    "        result = 1\n",
    "    elif 'no' in parts:\n",
    "        result = 0\n",
    "    else:\n",
    "        pass\n",
    "    \n",
    "    return result\n",
    "\n",
    "def get_image_array(filename):\n",
    "    new_size = (224, 224)\n",
    "    img_data = Image.open(zip.open(filename))\n",
    "    img_array = np.array(img_data.resize(new_size), np.int8)\n",
    "    if len(img_array.shape) == 2: \n",
    "        # Replicar o canal para imagens em escala de cinza\n",
    "        img_array = np.expand_dims(img_array, axis = -1)\n",
    "        img_array = np.concatenate([img_array] * 3, axis = -1)\n",
    "\n",
    "    # normalizar\n",
    "    img_array_normalized = (img_array - img_array.mean()) / img_array.std()\n",
    "\n",
    "    return img_array_normalized\n",
    "\n",
    "\n",
    "assert get_label('brain_tumor_dataset/no/30 no.jpg') == 0\n",
    "assert get_label('brain_tumor_dataset/NO/31 no.jpg') == 0\n",
    "assert get_label('yes/Y95.jpg') == 1\n",
    "assert get_label('brain_tumor_dataset/yes/Y155.JPG') == 1\n",
    "assert get_label('brain_tumor_dataset/Y155.JPG') == None"
   ]
  },
  {
   "cell_type": "code",
   "execution_count": 5,
   "metadata": {},
   "outputs": [],
   "source": [
    "# process\n",
    "images = []\n",
    "labels = []\n",
    "data_results_dict = []\n",
    "\n",
    "for filename in zip.namelist():\n",
    "    \n",
    "    # get label 0 = no, 1 = yes\n",
    "    label = get_label(filename)\n",
    "\n",
    "    # get image array    \n",
    "    img_array = get_image_array(filename) \n",
    "    \n",
    "    # build a dict with data\n",
    "    data_results_dict.append(\n",
    "        {'filename': filename, \n",
    "         'label': label, \n",
    "         'img_array': img_array}\n",
    "    )\n",
    "\n",
    "    # get X and y vars\n",
    "    images.append(img_array)\n",
    "    labels.append(label)\n"
   ]
  },
  {
   "cell_type": "code",
   "execution_count": 6,
   "metadata": {},
   "outputs": [
    {
     "data": {
      "text/plain": [
       "(506, 506)"
      ]
     },
     "execution_count": 6,
     "metadata": {},
     "output_type": "execute_result"
    }
   ],
   "source": [
    "len(images), len(labels)"
   ]
  },
  {
   "cell_type": "code",
   "execution_count": 7,
   "metadata": {},
   "outputs": [
    {
     "data": {
      "text/plain": [
       "(array([3]), array([506]))"
      ]
     },
     "execution_count": 7,
     "metadata": {},
     "output_type": "execute_result"
    }
   ],
   "source": [
    "# all images have 3 channels\n",
    "size = []\n",
    "for a in images:\n",
    "    size.append(len(a.shape))\n",
    "\n",
    "np.unique(size, return_counts=True)"
   ]
  },
  {
   "cell_type": "code",
   "execution_count": 10,
   "metadata": {},
   "outputs": [
    {
     "data": {
      "text/plain": [
       "(array([0, 1]), array([196, 310]))"
      ]
     },
     "execution_count": 10,
     "metadata": {},
     "output_type": "execute_result"
    }
   ],
   "source": [
    "# y is unbalanced\n",
    "np.unique(labels, return_counts=True)"
   ]
  },
  {
   "cell_type": "code",
   "execution_count": null,
   "metadata": {},
   "outputs": [],
   "source": [
    "class CNNModel(nn.Module):\n",
    "    def __init__(self):\n",
    "        super(CNNModel, self).__init()"
   ]
  }
 ],
 "metadata": {
  "kernelspec": {
   "display_name": "Python 3",
   "language": "python",
   "name": "python3"
  },
  "language_info": {
   "codemirror_mode": {
    "name": "ipython",
    "version": 3
   },
   "file_extension": ".py",
   "mimetype": "text/x-python",
   "name": "python",
   "nbconvert_exporter": "python",
   "pygments_lexer": "ipython3",
   "version": "3.10.12"
  }
 },
 "nbformat": 4,
 "nbformat_minor": 2
}
