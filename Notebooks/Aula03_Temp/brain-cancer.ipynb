{
 "cells": [
  {
   "cell_type": "code",
   "execution_count": 18,
   "metadata": {},
   "outputs": [],
   "source": [
    "from zipfile import ZipFile\n",
    "from matplotlib import pyplot as plt \n",
    "from PIL import Image\n",
    "import cv2\n",
    "import numpy as np"
   ]
  },
  {
   "cell_type": "code",
   "execution_count": 2,
   "metadata": {},
   "outputs": [],
   "source": [
    "source_file = './dataset/brain-cancer.zip'"
   ]
  },
  {
   "cell_type": "code",
   "execution_count": 3,
   "metadata": {},
   "outputs": [],
   "source": [
    "zip = ZipFile(source_file)"
   ]
  },
  {
   "cell_type": "code",
   "execution_count": 31,
   "metadata": {},
   "outputs": [],
   "source": [
    "def get_label(filename):\n",
    "    parts = filename.lower().split('/')\n",
    "    result = None\n",
    "    if 'yes' in parts:\n",
    "        result = 1\n",
    "    elif 'no' in parts:\n",
    "        result = 0\n",
    "    else:\n",
    "        pass\n",
    "    \n",
    "    return result\n",
    "\n",
    "assert get_label('brain_tumor_dataset/no/30 no.jpg') == 0\n",
    "assert get_label('brain_tumor_dataset/NO/31 no.jpg') == 0\n",
    "assert get_label('yes/Y95.jpg') == 1\n",
    "assert get_label('brain_tumor_dataset/yes/Y155.JPG') == 1\n",
    "assert get_label('brain_tumor_dataset/Y155.JPG') == None"
   ]
  },
  {
   "cell_type": "code",
   "execution_count": 35,
   "metadata": {},
   "outputs": [],
   "source": [
    "# process\n",
    "data_results= []\n",
    "for filename in zip.namelist():\n",
    "    label = get_label(filename)\n",
    "    img_data = Image.open(zip.open(filename))\n",
    "    img_array = np.array(img_data, np.int8)\n",
    "    data_results.append(\n",
    "        {'filename': filename, \n",
    "         'label': label, \n",
    "         'img_array': img_array}\n",
    "    )"
   ]
  }
 ],
 "metadata": {
  "kernelspec": {
   "display_name": "Python 3",
   "language": "python",
   "name": "python3"
  },
  "language_info": {
   "codemirror_mode": {
    "name": "ipython",
    "version": 3
   },
   "file_extension": ".py",
   "mimetype": "text/x-python",
   "name": "python",
   "nbconvert_exporter": "python",
   "pygments_lexer": "ipython3",
   "version": "3.10.12"
  }
 },
 "nbformat": 4,
 "nbformat_minor": 2
}
