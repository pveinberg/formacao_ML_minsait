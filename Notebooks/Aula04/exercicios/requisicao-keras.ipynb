{
 "cells": [
  {
   "cell_type": "markdown",
   "metadata": {},
   "source": [
    "## Rerquest to Keras Model"
   ]
  },
  {
   "cell_type": "code",
   "execution_count": 9,
   "metadata": {},
   "outputs": [],
   "source": [
    "# CLI Example\n",
    "# mlflow models serve -m runs:/81e5cb99276a47f79a25c1456398f00b/Keras_Model --port=5002 --env-manager local"
   ]
  },
  {
   "cell_type": "code",
   "execution_count": 2,
   "metadata": {},
   "outputs": [],
   "source": [
    "import pandas as pd\n",
    "import numpy as np\n",
    "import requests\n",
    "import json"
   ]
  },
  {
   "cell_type": "code",
   "execution_count": 35,
   "metadata": {},
   "outputs": [],
   "source": [
    "# Get sample from dataframe to teste a resquest\n",
    "data = pd.read_csv('./../../../Datasets/diabetes.csv')\n",
    "sample_data = data.sample(1)"
   ]
  },
  {
   "cell_type": "markdown",
   "metadata": {},
   "source": [
    "## Testando Keras"
   ]
  },
  {
   "cell_type": "code",
   "execution_count": 36,
   "metadata": {},
   "outputs": [
    {
     "data": {
      "text/plain": [
       "{'dataframe_split': {'columns': ['Pregnancies',\n",
       "   'Glucose',\n",
       "   'BloodPressure',\n",
       "   'SkinThickness',\n",
       "   'Insulin',\n",
       "   'BMI',\n",
       "   'DiabetesPedigreeFunction',\n",
       "   'Age'],\n",
       "  'data': [[1.0, 114.0, 66.0, 36.0, 200.0, 38.1, 0.289, 21.0]]}}"
      ]
     },
     "execution_count": 36,
     "metadata": {},
     "output_type": "execute_result"
    }
   ],
   "source": [
    "# getting sample from dataset (just to test)\n",
    "dados_dict = {\n",
    "    'columns': sample_data.columns.tolist()[:-1],\n",
    "    'data': [sample_data.iloc[0,:-1].values.tolist()]\n",
    "}\n",
    "\n",
    "dataframe_split = {'dataframe_split': dados_dict}\n",
    "dataframe_split"
   ]
  },
  {
   "cell_type": "code",
   "execution_count": 37,
   "metadata": {},
   "outputs": [
    {
     "data": {
      "text/plain": [
       "'{\"dataframe_split\": {\"columns\": [\"Pregnancies\", \"Glucose\", \"BloodPressure\", \"SkinThickness\", \"Insulin\", \"BMI\", \"DiabetesPedigreeFunction\", \"Age\"], \"data\": [[1.0, 114.0, 66.0, 36.0, 200.0, 38.1, 0.289, 21.0]]}}'"
      ]
     },
     "execution_count": 37,
     "metadata": {},
     "output_type": "execute_result"
    }
   ],
   "source": [
    "dados_json = json.dumps(dataframe_split)\n",
    "dados_json"
   ]
  },
  {
   "cell_type": "code",
   "execution_count": 38,
   "metadata": {},
   "outputs": [],
   "source": [
    "pred = requests.post(url='http://localhost:5002/invocations', \n",
    "                         headers={'Content-Type' : 'application/json', }, \n",
    "                         data=dados_json)"
   ]
  },
  {
   "cell_type": "code",
   "execution_count": 39,
   "metadata": {},
   "outputs": [
    {
     "data": {
      "text/plain": [
       "'{\"predictions\": [{\"0\": 1.0}]}'"
      ]
     },
     "execution_count": 39,
     "metadata": {},
     "output_type": "execute_result"
    }
   ],
   "source": [
    "pred.text"
   ]
  }
 ],
 "metadata": {
  "kernelspec": {
   "display_name": "Python 3",
   "language": "python",
   "name": "python3"
  },
  "language_info": {
   "codemirror_mode": {
    "name": "ipython",
    "version": 3
   },
   "file_extension": ".py",
   "mimetype": "text/x-python",
   "name": "python",
   "nbconvert_exporter": "python",
   "pygments_lexer": "ipython3",
   "version": "3.10.12"
  }
 },
 "nbformat": 4,
 "nbformat_minor": 2
}
