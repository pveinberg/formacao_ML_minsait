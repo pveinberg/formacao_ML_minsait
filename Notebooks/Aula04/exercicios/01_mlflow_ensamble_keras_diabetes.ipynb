{
 "cells": [
  {
   "cell_type": "markdown",
   "metadata": {},
   "source": [
    "Exercício - Dataset Diabetes usando MLFlow\n",
    "=========================================="
   ]
  },
  {
   "cell_type": "markdown",
   "metadata": {},
   "source": [
    "## Imports"
   ]
  },
  {
   "cell_type": "code",
   "execution_count": 1,
   "metadata": {},
   "outputs": [
    {
     "name": "stderr",
     "output_type": "stream",
     "text": [
      "2023-11-11 15:02:27.353811: E tensorflow/compiler/xla/stream_executor/cuda/cuda_dnn.cc:9342] Unable to register cuDNN factory: Attempting to register factory for plugin cuDNN when one has already been registered\n",
      "2023-11-11 15:02:27.353839: E tensorflow/compiler/xla/stream_executor/cuda/cuda_fft.cc:609] Unable to register cuFFT factory: Attempting to register factory for plugin cuFFT when one has already been registered\n",
      "2023-11-11 15:02:27.353864: E tensorflow/compiler/xla/stream_executor/cuda/cuda_blas.cc:1518] Unable to register cuBLAS factory: Attempting to register factory for plugin cuBLAS when one has already been registered\n",
      "2023-11-11 15:02:27.362205: I tensorflow/core/platform/cpu_feature_guard.cc:182] This TensorFlow binary is optimized to use available CPU instructions in performance-critical operations.\n",
      "To enable the following instructions: AVX2 FMA, in other operations, rebuild TensorFlow with the appropriate compiler flags.\n"
     ]
    }
   ],
   "source": [
    "%load_ext autoreload\n",
    "%autoreload 2\n",
    "\n",
    "import pandas as pd\n",
    "import numpy as np\n",
    "\n",
    "import matplotlib.pyplot as plt\n",
    "import seaborn as sns\n",
    "\n",
    "from sklearn.ensemble import RandomForestClassifier\n",
    "from sklearn.model_selection import train_test_split\n",
    "from sklearn.cluster import MiniBatchKMeans\n",
    "from sklearn.metrics import accuracy_score, confusion_matrix, classification_report, ConfusionMatrixDisplay\n",
    "\n",
    "import tensorflow as tf\n",
    "\n",
    "from keras.layers import Dense\n",
    "from keras.models import Sequential\n",
    "from keras.callbacks import EarlyStopping\n",
    "\n",
    "from imblearn.over_sampling import KMeansSMOTE\n",
    "from xgboost import plot_importance\n",
    "\n",
    "import mlflow\n",
    "import mlflow.keras\n",
    "import mlflow.sklearn\n",
    "\n",
    "import sys\n",
    "from datetime import datetime\n",
    "\n",
    "sys.path.insert(1, '../')\n",
    "\n",
    "from src.plot import plot_heatmap\n",
    "from src.train import get_all_subsets, results_regression\n",
    "\n",
    "import warnings\n",
    "warnings.filterwarnings(\"ignore\")\n",
    "\n",
    "# import os\n",
    "# os.environ[\"CUDA_VISIBLE_DEVICES\"] = \"-1\"\n",
    "\n"
   ]
  },
  {
   "cell_type": "code",
   "execution_count": 2,
   "metadata": {},
   "outputs": [
    {
     "name": "stderr",
     "output_type": "stream",
     "text": [
      "2023-11-11 15:02:30.327134: E tensorflow/compiler/xla/stream_executor/cuda/cuda_driver.cc:268] failed call to cuInit: CUDA_ERROR_NO_DEVICE: no CUDA-capable device is detected\n"
     ]
    },
    {
     "data": {
      "text/plain": [
       "[PhysicalDevice(name='/physical_device:CPU:0', device_type='CPU')]"
      ]
     },
     "execution_count": 2,
     "metadata": {},
     "output_type": "execute_result"
    }
   ],
   "source": [
    "tf.config.set_visible_devices([], 'GPU')\n",
    "tf.config.get_visible_devices()"
   ]
  },
  {
   "cell_type": "code",
   "execution_count": 3,
   "metadata": {},
   "outputs": [],
   "source": [
    "sns.set_style('darkgrid')\n",
    "PLOT_MEDIUM = (10,6)"
   ]
  },
  {
   "cell_type": "markdown",
   "metadata": {},
   "source": [
    "## Load dataset"
   ]
  },
  {
   "cell_type": "code",
   "execution_count": 4,
   "metadata": {},
   "outputs": [
    {
     "data": {
      "text/plain": [
       "(768, 9)"
      ]
     },
     "metadata": {},
     "output_type": "display_data"
    },
    {
     "data": {
      "text/html": [
       "<div>\n",
       "<style scoped>\n",
       "    .dataframe tbody tr th:only-of-type {\n",
       "        vertical-align: middle;\n",
       "    }\n",
       "\n",
       "    .dataframe tbody tr th {\n",
       "        vertical-align: top;\n",
       "    }\n",
       "\n",
       "    .dataframe thead th {\n",
       "        text-align: right;\n",
       "    }\n",
       "</style>\n",
       "<table border=\"1\" class=\"dataframe\">\n",
       "  <thead>\n",
       "    <tr style=\"text-align: right;\">\n",
       "      <th></th>\n",
       "      <th>Pregnancies</th>\n",
       "      <th>Glucose</th>\n",
       "      <th>BloodPressure</th>\n",
       "      <th>SkinThickness</th>\n",
       "      <th>Insulin</th>\n",
       "      <th>BMI</th>\n",
       "      <th>DiabetesPedigreeFunction</th>\n",
       "      <th>Age</th>\n",
       "      <th>Outcome</th>\n",
       "    </tr>\n",
       "  </thead>\n",
       "  <tbody>\n",
       "    <tr>\n",
       "      <th>0</th>\n",
       "      <td>6</td>\n",
       "      <td>148</td>\n",
       "      <td>72</td>\n",
       "      <td>35</td>\n",
       "      <td>0</td>\n",
       "      <td>33.6</td>\n",
       "      <td>0.627</td>\n",
       "      <td>50</td>\n",
       "      <td>1</td>\n",
       "    </tr>\n",
       "    <tr>\n",
       "      <th>1</th>\n",
       "      <td>1</td>\n",
       "      <td>85</td>\n",
       "      <td>66</td>\n",
       "      <td>29</td>\n",
       "      <td>0</td>\n",
       "      <td>26.6</td>\n",
       "      <td>0.351</td>\n",
       "      <td>31</td>\n",
       "      <td>0</td>\n",
       "    </tr>\n",
       "    <tr>\n",
       "      <th>2</th>\n",
       "      <td>8</td>\n",
       "      <td>183</td>\n",
       "      <td>64</td>\n",
       "      <td>0</td>\n",
       "      <td>0</td>\n",
       "      <td>23.3</td>\n",
       "      <td>0.672</td>\n",
       "      <td>32</td>\n",
       "      <td>1</td>\n",
       "    </tr>\n",
       "    <tr>\n",
       "      <th>3</th>\n",
       "      <td>1</td>\n",
       "      <td>89</td>\n",
       "      <td>66</td>\n",
       "      <td>23</td>\n",
       "      <td>94</td>\n",
       "      <td>28.1</td>\n",
       "      <td>0.167</td>\n",
       "      <td>21</td>\n",
       "      <td>0</td>\n",
       "    </tr>\n",
       "    <tr>\n",
       "      <th>4</th>\n",
       "      <td>0</td>\n",
       "      <td>137</td>\n",
       "      <td>40</td>\n",
       "      <td>35</td>\n",
       "      <td>168</td>\n",
       "      <td>43.1</td>\n",
       "      <td>2.288</td>\n",
       "      <td>33</td>\n",
       "      <td>1</td>\n",
       "    </tr>\n",
       "  </tbody>\n",
       "</table>\n",
       "</div>"
      ],
      "text/plain": [
       "   Pregnancies  Glucose  BloodPressure  SkinThickness  Insulin   BMI  \\\n",
       "0            6      148             72             35        0  33.6   \n",
       "1            1       85             66             29        0  26.6   \n",
       "2            8      183             64              0        0  23.3   \n",
       "3            1       89             66             23       94  28.1   \n",
       "4            0      137             40             35      168  43.1   \n",
       "\n",
       "   DiabetesPedigreeFunction  Age  Outcome  \n",
       "0                     0.627   50        1  \n",
       "1                     0.351   31        0  \n",
       "2                     0.672   32        1  \n",
       "3                     0.167   21        0  \n",
       "4                     2.288   33        1  "
      ]
     },
     "metadata": {},
     "output_type": "display_data"
    }
   ],
   "source": [
    "data = pd.read_csv('./../../../Datasets/diabetes.csv')\n",
    "display(data.shape, data.head())"
   ]
  },
  {
   "cell_type": "markdown",
   "metadata": {},
   "source": [
    "## Pre processing"
   ]
  },
  {
   "cell_type": "code",
   "execution_count": 5,
   "metadata": {},
   "outputs": [
    {
     "data": {
      "text/plain": [
       "Pregnancies                 0\n",
       "Glucose                     0\n",
       "BloodPressure               0\n",
       "SkinThickness               0\n",
       "Insulin                     0\n",
       "BMI                         0\n",
       "DiabetesPedigreeFunction    0\n",
       "Age                         0\n",
       "Outcome                     0\n",
       "dtype: int64"
      ]
     },
     "execution_count": 5,
     "metadata": {},
     "output_type": "execute_result"
    }
   ],
   "source": [
    "# Missing values\n",
    "data.isna().sum()"
   ]
  },
  {
   "cell_type": "code",
   "execution_count": 6,
   "metadata": {},
   "outputs": [
    {
     "data": {
      "text/plain": [
       "0"
      ]
     },
     "execution_count": 6,
     "metadata": {},
     "output_type": "execute_result"
    }
   ],
   "source": [
    "# duplicates\n",
    "data.duplicated().sum()"
   ]
  },
  {
   "cell_type": "code",
   "execution_count": 7,
   "metadata": {},
   "outputs": [
    {
     "data": {
      "text/plain": [
       "Pregnancies                   int64\n",
       "Glucose                       int64\n",
       "BloodPressure                 int64\n",
       "SkinThickness                 int64\n",
       "Insulin                       int64\n",
       "BMI                         float64\n",
       "DiabetesPedigreeFunction    float64\n",
       "Age                           int64\n",
       "Outcome                       int64\n",
       "dtype: object"
      ]
     },
     "execution_count": 7,
     "metadata": {},
     "output_type": "execute_result"
    }
   ],
   "source": [
    "data.dtypes"
   ]
  },
  {
   "cell_type": "markdown",
   "metadata": {},
   "source": [
    "## EDA"
   ]
  },
  {
   "cell_type": "code",
   "execution_count": 8,
   "metadata": {},
   "outputs": [
    {
     "data": {
      "text/html": [
       "<style type=\"text/css\">\n",
       "#T_dd97c_row0_col0, #T_dd97c_row1_col1, #T_dd97c_row2_col2, #T_dd97c_row3_col3, #T_dd97c_row4_col4, #T_dd97c_row5_col5, #T_dd97c_row6_col6, #T_dd97c_row7_col7, #T_dd97c_row8_col8 {\n",
       "  background-color: #fde725;\n",
       "  color: #000000;\n",
       "}\n",
       "#T_dd97c_row0_col1 {\n",
       "  background-color: #481c6e;\n",
       "  color: #f1f1f1;\n",
       "}\n",
       "#T_dd97c_row0_col2 {\n",
       "  background-color: #482576;\n",
       "  color: #f1f1f1;\n",
       "}\n",
       "#T_dd97c_row0_col3, #T_dd97c_row7_col4 {\n",
       "  background-color: #460b5e;\n",
       "  color: #f1f1f1;\n",
       "}\n",
       "#T_dd97c_row0_col4, #T_dd97c_row0_col5, #T_dd97c_row0_col6, #T_dd97c_row2_col8, #T_dd97c_row3_col0, #T_dd97c_row3_col1, #T_dd97c_row3_col7, #T_dd97c_row6_col2, #T_dd97c_row7_col3 {\n",
       "  background-color: #440154;\n",
       "  color: #f1f1f1;\n",
       "}\n",
       "#T_dd97c_row0_col7 {\n",
       "  background-color: #21a685;\n",
       "  color: #f1f1f1;\n",
       "}\n",
       "#T_dd97c_row0_col8, #T_dd97c_row1_col6 {\n",
       "  background-color: #443983;\n",
       "  color: #f1f1f1;\n",
       "}\n",
       "#T_dd97c_row1_col0 {\n",
       "  background-color: #424186;\n",
       "  color: #f1f1f1;\n",
       "}\n",
       "#T_dd97c_row1_col2, #T_dd97c_row6_col8 {\n",
       "  background-color: #482979;\n",
       "  color: #f1f1f1;\n",
       "}\n",
       "#T_dd97c_row1_col3 {\n",
       "  background-color: #453581;\n",
       "  color: #f1f1f1;\n",
       "}\n",
       "#T_dd97c_row1_col4 {\n",
       "  background-color: #2c728e;\n",
       "  color: #f1f1f1;\n",
       "}\n",
       "#T_dd97c_row1_col5, #T_dd97c_row3_col6 {\n",
       "  background-color: #404688;\n",
       "  color: #f1f1f1;\n",
       "}\n",
       "#T_dd97c_row1_col7 {\n",
       "  background-color: #30698e;\n",
       "  color: #f1f1f1;\n",
       "}\n",
       "#T_dd97c_row1_col8 {\n",
       "  background-color: #277f8e;\n",
       "  color: #f1f1f1;\n",
       "}\n",
       "#T_dd97c_row2_col0, #T_dd97c_row7_col2 {\n",
       "  background-color: #404588;\n",
       "  color: #f1f1f1;\n",
       "}\n",
       "#T_dd97c_row2_col1 {\n",
       "  background-color: #482475;\n",
       "  color: #f1f1f1;\n",
       "}\n",
       "#T_dd97c_row2_col3 {\n",
       "  background-color: #365c8d;\n",
       "  color: #f1f1f1;\n",
       "}\n",
       "#T_dd97c_row2_col4 {\n",
       "  background-color: #463480;\n",
       "  color: #f1f1f1;\n",
       "}\n",
       "#T_dd97c_row2_col5, #T_dd97c_row6_col3 {\n",
       "  background-color: #39568c;\n",
       "  color: #f1f1f1;\n",
       "}\n",
       "#T_dd97c_row2_col6 {\n",
       "  background-color: #481b6d;\n",
       "  color: #f1f1f1;\n",
       "}\n",
       "#T_dd97c_row2_col7 {\n",
       "  background-color: #32648e;\n",
       "  color: #f1f1f1;\n",
       "}\n",
       "#T_dd97c_row3_col2, #T_dd97c_row5_col1 {\n",
       "  background-color: #443b84;\n",
       "  color: #f1f1f1;\n",
       "}\n",
       "#T_dd97c_row3_col4 {\n",
       "  background-color: #238a8d;\n",
       "  color: #f1f1f1;\n",
       "}\n",
       "#T_dd97c_row3_col5 {\n",
       "  background-color: #2c738e;\n",
       "  color: #f1f1f1;\n",
       "}\n",
       "#T_dd97c_row3_col8 {\n",
       "  background-color: #450457;\n",
       "  color: #f1f1f1;\n",
       "}\n",
       "#T_dd97c_row4_col0 {\n",
       "  background-color: #440256;\n",
       "  color: #f1f1f1;\n",
       "}\n",
       "#T_dd97c_row4_col1 {\n",
       "  background-color: #365d8d;\n",
       "  color: #f1f1f1;\n",
       "}\n",
       "#T_dd97c_row4_col2 {\n",
       "  background-color: #471365;\n",
       "  color: #f1f1f1;\n",
       "}\n",
       "#T_dd97c_row4_col3 {\n",
       "  background-color: #218f8d;\n",
       "  color: #f1f1f1;\n",
       "}\n",
       "#T_dd97c_row4_col5 {\n",
       "  background-color: #433e85;\n",
       "  color: #f1f1f1;\n",
       "}\n",
       "#T_dd97c_row4_col6 {\n",
       "  background-color: #3f4788;\n",
       "  color: #f1f1f1;\n",
       "}\n",
       "#T_dd97c_row4_col7, #T_dd97c_row7_col6 {\n",
       "  background-color: #48186a;\n",
       "  color: #f1f1f1;\n",
       "}\n",
       "#T_dd97c_row4_col8 {\n",
       "  background-color: #481a6c;\n",
       "  color: #f1f1f1;\n",
       "}\n",
       "#T_dd97c_row5_col0 {\n",
       "  background-color: #482173;\n",
       "  color: #f1f1f1;\n",
       "}\n",
       "#T_dd97c_row5_col2, #T_dd97c_row5_col4 {\n",
       "  background-color: #3b528b;\n",
       "  color: #f1f1f1;\n",
       "}\n",
       "#T_dd97c_row5_col3 {\n",
       "  background-color: #25858e;\n",
       "  color: #f1f1f1;\n",
       "}\n",
       "#T_dd97c_row5_col6, #T_dd97c_row8_col3 {\n",
       "  background-color: #443a83;\n",
       "  color: #f1f1f1;\n",
       "}\n",
       "#T_dd97c_row5_col7 {\n",
       "  background-color: #472f7d;\n",
       "  color: #f1f1f1;\n",
       "}\n",
       "#T_dd97c_row5_col8 {\n",
       "  background-color: #3c508b;\n",
       "  color: #f1f1f1;\n",
       "}\n",
       "#T_dd97c_row6_col0 {\n",
       "  background-color: #471164;\n",
       "  color: #f1f1f1;\n",
       "}\n",
       "#T_dd97c_row6_col1 {\n",
       "  background-color: #481f70;\n",
       "  color: #f1f1f1;\n",
       "}\n",
       "#T_dd97c_row6_col4 {\n",
       "  background-color: #3c4f8a;\n",
       "  color: #f1f1f1;\n",
       "}\n",
       "#T_dd97c_row6_col5 {\n",
       "  background-color: #472d7b;\n",
       "  color: #f1f1f1;\n",
       "}\n",
       "#T_dd97c_row6_col7 {\n",
       "  background-color: #472e7c;\n",
       "  color: #f1f1f1;\n",
       "}\n",
       "#T_dd97c_row7_col0 {\n",
       "  background-color: #20a386;\n",
       "  color: #f1f1f1;\n",
       "}\n",
       "#T_dd97c_row7_col1 {\n",
       "  background-color: #3f4889;\n",
       "  color: #f1f1f1;\n",
       "}\n",
       "#T_dd97c_row7_col5 {\n",
       "  background-color: #46075a;\n",
       "  color: #f1f1f1;\n",
       "}\n",
       "#T_dd97c_row7_col8 {\n",
       "  background-color: #423f85;\n",
       "  color: #f1f1f1;\n",
       "}\n",
       "#T_dd97c_row8_col0, #T_dd97c_row8_col5 {\n",
       "  background-color: #375a8c;\n",
       "  color: #f1f1f1;\n",
       "}\n",
       "#T_dd97c_row8_col1 {\n",
       "  background-color: #26818e;\n",
       "  color: #f1f1f1;\n",
       "}\n",
       "#T_dd97c_row8_col2 {\n",
       "  background-color: #460a5d;\n",
       "  color: #f1f1f1;\n",
       "}\n",
       "#T_dd97c_row8_col4 {\n",
       "  background-color: #424086;\n",
       "  color: #f1f1f1;\n",
       "}\n",
       "#T_dd97c_row8_col6 {\n",
       "  background-color: #414487;\n",
       "  color: #f1f1f1;\n",
       "}\n",
       "#T_dd97c_row8_col7 {\n",
       "  background-color: #33638d;\n",
       "  color: #f1f1f1;\n",
       "}\n",
       "</style>\n",
       "<table id=\"T_dd97c\">\n",
       "  <thead>\n",
       "    <tr>\n",
       "      <th class=\"blank level0\" >&nbsp;</th>\n",
       "      <th id=\"T_dd97c_level0_col0\" class=\"col_heading level0 col0\" >Pregnancies</th>\n",
       "      <th id=\"T_dd97c_level0_col1\" class=\"col_heading level0 col1\" >Glucose</th>\n",
       "      <th id=\"T_dd97c_level0_col2\" class=\"col_heading level0 col2\" >BloodPressure</th>\n",
       "      <th id=\"T_dd97c_level0_col3\" class=\"col_heading level0 col3\" >SkinThickness</th>\n",
       "      <th id=\"T_dd97c_level0_col4\" class=\"col_heading level0 col4\" >Insulin</th>\n",
       "      <th id=\"T_dd97c_level0_col5\" class=\"col_heading level0 col5\" >BMI</th>\n",
       "      <th id=\"T_dd97c_level0_col6\" class=\"col_heading level0 col6\" >DiabetesPedigreeFunction</th>\n",
       "      <th id=\"T_dd97c_level0_col7\" class=\"col_heading level0 col7\" >Age</th>\n",
       "      <th id=\"T_dd97c_level0_col8\" class=\"col_heading level0 col8\" >Outcome</th>\n",
       "    </tr>\n",
       "  </thead>\n",
       "  <tbody>\n",
       "    <tr>\n",
       "      <th id=\"T_dd97c_level0_row0\" class=\"row_heading level0 row0\" >Pregnancies</th>\n",
       "      <td id=\"T_dd97c_row0_col0\" class=\"data row0 col0\" >1.000000</td>\n",
       "      <td id=\"T_dd97c_row0_col1\" class=\"data row0 col1\" >0.129459</td>\n",
       "      <td id=\"T_dd97c_row0_col2\" class=\"data row0 col2\" >0.141282</td>\n",
       "      <td id=\"T_dd97c_row0_col3\" class=\"data row0 col3\" >-0.081672</td>\n",
       "      <td id=\"T_dd97c_row0_col4\" class=\"data row0 col4\" >-0.073535</td>\n",
       "      <td id=\"T_dd97c_row0_col5\" class=\"data row0 col5\" >0.017683</td>\n",
       "      <td id=\"T_dd97c_row0_col6\" class=\"data row0 col6\" >-0.033523</td>\n",
       "      <td id=\"T_dd97c_row0_col7\" class=\"data row0 col7\" >0.544341</td>\n",
       "      <td id=\"T_dd97c_row0_col8\" class=\"data row0 col8\" >0.221898</td>\n",
       "    </tr>\n",
       "    <tr>\n",
       "      <th id=\"T_dd97c_level0_row1\" class=\"row_heading level0 row1\" >Glucose</th>\n",
       "      <td id=\"T_dd97c_row1_col0\" class=\"data row1 col0\" >0.129459</td>\n",
       "      <td id=\"T_dd97c_row1_col1\" class=\"data row1 col1\" >1.000000</td>\n",
       "      <td id=\"T_dd97c_row1_col2\" class=\"data row1 col2\" >0.152590</td>\n",
       "      <td id=\"T_dd97c_row1_col3\" class=\"data row1 col3\" >0.057328</td>\n",
       "      <td id=\"T_dd97c_row1_col4\" class=\"data row1 col4\" >0.331357</td>\n",
       "      <td id=\"T_dd97c_row1_col5\" class=\"data row1 col5\" >0.221071</td>\n",
       "      <td id=\"T_dd97c_row1_col6\" class=\"data row1 col6\" >0.137337</td>\n",
       "      <td id=\"T_dd97c_row1_col7\" class=\"data row1 col7\" >0.263514</td>\n",
       "      <td id=\"T_dd97c_row1_col8\" class=\"data row1 col8\" >0.466581</td>\n",
       "    </tr>\n",
       "    <tr>\n",
       "      <th id=\"T_dd97c_level0_row2\" class=\"row_heading level0 row2\" >BloodPressure</th>\n",
       "      <td id=\"T_dd97c_row2_col0\" class=\"data row2 col0\" >0.141282</td>\n",
       "      <td id=\"T_dd97c_row2_col1\" class=\"data row2 col1\" >0.152590</td>\n",
       "      <td id=\"T_dd97c_row2_col2\" class=\"data row2 col2\" >1.000000</td>\n",
       "      <td id=\"T_dd97c_row2_col3\" class=\"data row2 col3\" >0.207371</td>\n",
       "      <td id=\"T_dd97c_row2_col4\" class=\"data row2 col4\" >0.088933</td>\n",
       "      <td id=\"T_dd97c_row2_col5\" class=\"data row2 col5\" >0.281805</td>\n",
       "      <td id=\"T_dd97c_row2_col6\" class=\"data row2 col6\" >0.041265</td>\n",
       "      <td id=\"T_dd97c_row2_col7\" class=\"data row2 col7\" >0.239528</td>\n",
       "      <td id=\"T_dd97c_row2_col8\" class=\"data row2 col8\" >0.065068</td>\n",
       "    </tr>\n",
       "    <tr>\n",
       "      <th id=\"T_dd97c_level0_row3\" class=\"row_heading level0 row3\" >SkinThickness</th>\n",
       "      <td id=\"T_dd97c_row3_col0\" class=\"data row3 col0\" >-0.081672</td>\n",
       "      <td id=\"T_dd97c_row3_col1\" class=\"data row3 col1\" >0.057328</td>\n",
       "      <td id=\"T_dd97c_row3_col2\" class=\"data row3 col2\" >0.207371</td>\n",
       "      <td id=\"T_dd97c_row3_col3\" class=\"data row3 col3\" >1.000000</td>\n",
       "      <td id=\"T_dd97c_row3_col4\" class=\"data row3 col4\" >0.436783</td>\n",
       "      <td id=\"T_dd97c_row3_col5\" class=\"data row3 col5\" >0.392573</td>\n",
       "      <td id=\"T_dd97c_row3_col6\" class=\"data row3 col6\" >0.183928</td>\n",
       "      <td id=\"T_dd97c_row3_col7\" class=\"data row3 col7\" >-0.113970</td>\n",
       "      <td id=\"T_dd97c_row3_col8\" class=\"data row3 col8\" >0.074752</td>\n",
       "    </tr>\n",
       "    <tr>\n",
       "      <th id=\"T_dd97c_level0_row4\" class=\"row_heading level0 row4\" >Insulin</th>\n",
       "      <td id=\"T_dd97c_row4_col0\" class=\"data row4 col0\" >-0.073535</td>\n",
       "      <td id=\"T_dd97c_row4_col1\" class=\"data row4 col1\" >0.331357</td>\n",
       "      <td id=\"T_dd97c_row4_col2\" class=\"data row4 col2\" >0.088933</td>\n",
       "      <td id=\"T_dd97c_row4_col3\" class=\"data row4 col3\" >0.436783</td>\n",
       "      <td id=\"T_dd97c_row4_col4\" class=\"data row4 col4\" >1.000000</td>\n",
       "      <td id=\"T_dd97c_row4_col5\" class=\"data row4 col5\" >0.197859</td>\n",
       "      <td id=\"T_dd97c_row4_col6\" class=\"data row4 col6\" >0.185071</td>\n",
       "      <td id=\"T_dd97c_row4_col7\" class=\"data row4 col7\" >-0.042163</td>\n",
       "      <td id=\"T_dd97c_row4_col8\" class=\"data row4 col8\" >0.130548</td>\n",
       "    </tr>\n",
       "    <tr>\n",
       "      <th id=\"T_dd97c_level0_row5\" class=\"row_heading level0 row5\" >BMI</th>\n",
       "      <td id=\"T_dd97c_row5_col0\" class=\"data row5 col0\" >0.017683</td>\n",
       "      <td id=\"T_dd97c_row5_col1\" class=\"data row5 col1\" >0.221071</td>\n",
       "      <td id=\"T_dd97c_row5_col2\" class=\"data row5 col2\" >0.281805</td>\n",
       "      <td id=\"T_dd97c_row5_col3\" class=\"data row5 col3\" >0.392573</td>\n",
       "      <td id=\"T_dd97c_row5_col4\" class=\"data row5 col4\" >0.197859</td>\n",
       "      <td id=\"T_dd97c_row5_col5\" class=\"data row5 col5\" >1.000000</td>\n",
       "      <td id=\"T_dd97c_row5_col6\" class=\"data row5 col6\" >0.140647</td>\n",
       "      <td id=\"T_dd97c_row5_col7\" class=\"data row5 col7\" >0.036242</td>\n",
       "      <td id=\"T_dd97c_row5_col8\" class=\"data row5 col8\" >0.292695</td>\n",
       "    </tr>\n",
       "    <tr>\n",
       "      <th id=\"T_dd97c_level0_row6\" class=\"row_heading level0 row6\" >DiabetesPedigreeFunction</th>\n",
       "      <td id=\"T_dd97c_row6_col0\" class=\"data row6 col0\" >-0.033523</td>\n",
       "      <td id=\"T_dd97c_row6_col1\" class=\"data row6 col1\" >0.137337</td>\n",
       "      <td id=\"T_dd97c_row6_col2\" class=\"data row6 col2\" >0.041265</td>\n",
       "      <td id=\"T_dd97c_row6_col3\" class=\"data row6 col3\" >0.183928</td>\n",
       "      <td id=\"T_dd97c_row6_col4\" class=\"data row6 col4\" >0.185071</td>\n",
       "      <td id=\"T_dd97c_row6_col5\" class=\"data row6 col5\" >0.140647</td>\n",
       "      <td id=\"T_dd97c_row6_col6\" class=\"data row6 col6\" >1.000000</td>\n",
       "      <td id=\"T_dd97c_row6_col7\" class=\"data row6 col7\" >0.033561</td>\n",
       "      <td id=\"T_dd97c_row6_col8\" class=\"data row6 col8\" >0.173844</td>\n",
       "    </tr>\n",
       "    <tr>\n",
       "      <th id=\"T_dd97c_level0_row7\" class=\"row_heading level0 row7\" >Age</th>\n",
       "      <td id=\"T_dd97c_row7_col0\" class=\"data row7 col0\" >0.544341</td>\n",
       "      <td id=\"T_dd97c_row7_col1\" class=\"data row7 col1\" >0.263514</td>\n",
       "      <td id=\"T_dd97c_row7_col2\" class=\"data row7 col2\" >0.239528</td>\n",
       "      <td id=\"T_dd97c_row7_col3\" class=\"data row7 col3\" >-0.113970</td>\n",
       "      <td id=\"T_dd97c_row7_col4\" class=\"data row7 col4\" >-0.042163</td>\n",
       "      <td id=\"T_dd97c_row7_col5\" class=\"data row7 col5\" >0.036242</td>\n",
       "      <td id=\"T_dd97c_row7_col6\" class=\"data row7 col6\" >0.033561</td>\n",
       "      <td id=\"T_dd97c_row7_col7\" class=\"data row7 col7\" >1.000000</td>\n",
       "      <td id=\"T_dd97c_row7_col8\" class=\"data row7 col8\" >0.238356</td>\n",
       "    </tr>\n",
       "    <tr>\n",
       "      <th id=\"T_dd97c_level0_row8\" class=\"row_heading level0 row8\" >Outcome</th>\n",
       "      <td id=\"T_dd97c_row8_col0\" class=\"data row8 col0\" >0.221898</td>\n",
       "      <td id=\"T_dd97c_row8_col1\" class=\"data row8 col1\" >0.466581</td>\n",
       "      <td id=\"T_dd97c_row8_col2\" class=\"data row8 col2\" >0.065068</td>\n",
       "      <td id=\"T_dd97c_row8_col3\" class=\"data row8 col3\" >0.074752</td>\n",
       "      <td id=\"T_dd97c_row8_col4\" class=\"data row8 col4\" >0.130548</td>\n",
       "      <td id=\"T_dd97c_row8_col5\" class=\"data row8 col5\" >0.292695</td>\n",
       "      <td id=\"T_dd97c_row8_col6\" class=\"data row8 col6\" >0.173844</td>\n",
       "      <td id=\"T_dd97c_row8_col7\" class=\"data row8 col7\" >0.238356</td>\n",
       "      <td id=\"T_dd97c_row8_col8\" class=\"data row8 col8\" >1.000000</td>\n",
       "    </tr>\n",
       "  </tbody>\n",
       "</table>\n"
      ],
      "text/plain": [
       "<pandas.io.formats.style.Styler at 0x7f42f0068bb0>"
      ]
     },
     "execution_count": 8,
     "metadata": {},
     "output_type": "execute_result"
    }
   ],
   "source": [
    "data_correlation = data.corr()\n",
    "data_correlation.style.background_gradient(cmap='viridis')"
   ]
  },
  {
   "cell_type": "code",
   "execution_count": 9,
   "metadata": {},
   "outputs": [
    {
     "data": {
      "image/png": "[encoded data removed]",
      "text/plain": [
       "<Figure size 1000x600 with 2 Axes>"
      ]
     },
     "metadata": {},
     "output_type": "display_data"
    }
   ],
   "source": [
    "plt.figure(figsize=PLOT_MEDIUM)\n",
    "sns.heatmap(data_correlation, annot=True, fmt='.2f')\n",
    "plt.show()"
   ]
  },
  {
   "cell_type": "code",
   "execution_count": 10,
   "metadata": {},
   "outputs": [
    {
     "data": {
      "image/png": "[encoded data removed]",
      "text/plain": [
       "<Figure size 1000x600 with 1 Axes>"
      ]
     },
     "metadata": {},
     "output_type": "display_data"
    }
   ],
   "source": [
    "plt.figure(figsize=PLOT_MEDIUM)\n",
    "data.Outcome.value_counts().plot(kind='bar')\n",
    "plt.show()"
   ]
  },
  {
   "cell_type": "markdown",
   "metadata": {},
   "source": [
    "## Split dataset"
   ]
  },
  {
   "cell_type": "code",
   "execution_count": 11,
   "metadata": {},
   "outputs": [],
   "source": [
    "# get X and y vars\n",
    "y = data['Outcome']\n",
    "X = data.drop('Outcome', axis=1)"
   ]
  },
  {
   "cell_type": "code",
   "execution_count": 12,
   "metadata": {},
   "outputs": [
    {
     "data": {
      "text/plain": [
       "1    502\n",
       "0    500\n",
       "Name: Outcome, dtype: int64"
      ]
     },
     "execution_count": 12,
     "metadata": {},
     "output_type": "execute_result"
    }
   ],
   "source": [
    "# Balance vars\n",
    "sm = KMeansSMOTE(kmeans_estimator=MiniBatchKMeans(n_init=1, random_state=0), random_state=42)\n",
    "X, y = sm.fit_resample(X, y)\n",
    "\n",
    "# Check\n",
    "y.value_counts()"
   ]
  },
  {
   "cell_type": "code",
   "execution_count": 13,
   "metadata": {},
   "outputs": [],
   "source": [
    "# Normalize\n",
    "y /= np.max(y)\n",
    "X /= np.max(X, axis=0)"
   ]
  },
  {
   "cell_type": "code",
   "execution_count": 14,
   "metadata": {},
   "outputs": [
    {
     "name": "stdout",
     "output_type": "stream",
     "text": [
      "X_train:  (801, 8)\n",
      "X_test:  (201, 8)\n",
      "y_train:  (801,)\n",
      "y_test:  (201,)\n"
     ]
    }
   ],
   "source": [
    "# Get train and test subsets\n",
    "X_train, X_test, y_train, y_test = train_test_split(X, y, random_state=0 ,test_size=0.2)\n",
    "\n",
    "print('X_train: ', X_train.shape)\n",
    "print('X_test: ', X_test.shape)\n",
    "print('y_train: ', y_train.shape)\n",
    "print('y_test: ', y_test.shape)\n"
   ]
  },
  {
   "cell_type": "markdown",
   "metadata": {},
   "source": [
    "## MLOps"
   ]
  },
  {
   "cell_type": "code",
   "execution_count": 15,
   "metadata": {},
   "outputs": [],
   "source": [
    "# Informando dataset no mlflow\n",
    "mlflow_dataset = mlflow.data.from_pandas(data, \\\n",
    "                                         source=\"datasets_diabetes.csv\", \n",
    "                                         name=\"Diabetes Dataset\")"
   ]
  },
  {
   "cell_type": "markdown",
   "metadata": {},
   "source": [
    "### Keras"
   ]
  },
  {
   "cell_type": "code",
   "execution_count": 16,
   "metadata": {},
   "outputs": [
    {
     "name": "stdout",
     "output_type": "stream",
     "text": [
      "Epoch 1/30\n",
      "80/80 [==============================] - 1s 6ms/step - loss: 0.6563 - accuracy: 0.6172 - val_loss: 0.6385 - val_accuracy: 0.6646\n",
      "Epoch 2/30\n",
      "80/80 [==============================] - 0s 4ms/step - loss: 0.5860 - accuracy: 0.7109 - val_loss: 0.5610 - val_accuracy: 0.7205\n",
      "Epoch 3/30\n",
      "80/80 [==============================] - 0s 3ms/step - loss: 0.5590 - accuracy: 0.7234 - val_loss: 0.5361 - val_accuracy: 0.7267\n",
      "Epoch 4/30\n",
      "80/80 [==============================] - 0s 4ms/step - loss: 0.5313 - accuracy: 0.7422 - val_loss: 0.5287 - val_accuracy: 0.7329\n",
      "Epoch 5/30\n",
      "80/80 [==============================] - 0s 4ms/step - loss: 0.5144 - accuracy: 0.7516 - val_loss: 0.4925 - val_accuracy: 0.7702\n",
      "Epoch 6/30\n",
      "80/80 [==============================] - 0s 4ms/step - loss: 0.4918 - accuracy: 0.7641 - val_loss: 0.5032 - val_accuracy: 0.7516\n",
      "Epoch 7/30\n",
      "80/80 [==============================] - 0s 4ms/step - loss: 0.4802 - accuracy: 0.7609 - val_loss: 0.4584 - val_accuracy: 0.8012\n",
      "Epoch 8/30\n",
      "80/80 [==============================] - 0s 4ms/step - loss: 0.4636 - accuracy: 0.7766 - val_loss: 0.4396 - val_accuracy: 0.8261\n",
      "Epoch 9/30\n",
      "80/80 [==============================] - 0s 4ms/step - loss: 0.4498 - accuracy: 0.7891 - val_loss: 0.4373 - val_accuracy: 0.8075\n",
      "Epoch 10/30\n",
      "80/80 [==============================] - 0s 5ms/step - loss: 0.4547 - accuracy: 0.7906 - val_loss: 0.5640 - val_accuracy: 0.7329\n",
      "Epoch 11/30\n",
      "80/80 [==============================] - 0s 4ms/step - loss: 0.4516 - accuracy: 0.7953 - val_loss: 0.5025 - val_accuracy: 0.7888\n",
      "Epoch 12/30\n",
      "80/80 [==============================] - 0s 4ms/step - loss: 0.4524 - accuracy: 0.7906 - val_loss: 0.4430 - val_accuracy: 0.8012\n",
      "Epoch 13/30\n",
      "80/80 [==============================] - 0s 4ms/step - loss: 0.4403 - accuracy: 0.8031 - val_loss: 0.4879 - val_accuracy: 0.8012\n",
      "Epoch 14/30\n",
      "80/80 [==============================] - 0s 4ms/step - loss: 0.4248 - accuracy: 0.8078 - val_loss: 0.4390 - val_accuracy: 0.8199\n",
      "Epoch 15/30\n",
      "80/80 [==============================] - 0s 4ms/step - loss: 0.4169 - accuracy: 0.8047 - val_loss: 0.4213 - val_accuracy: 0.8137\n",
      "Epoch 16/30\n",
      "80/80 [==============================] - 0s 4ms/step - loss: 0.4277 - accuracy: 0.7984 - val_loss: 0.4116 - val_accuracy: 0.8075\n",
      "Epoch 17/30\n",
      "80/80 [==============================] - 0s 4ms/step - loss: 0.4233 - accuracy: 0.8078 - val_loss: 0.4086 - val_accuracy: 0.8199\n",
      "Epoch 18/30\n",
      "80/80 [==============================] - 0s 4ms/step - loss: 0.4072 - accuracy: 0.8156 - val_loss: 0.4447 - val_accuracy: 0.8199\n",
      "Epoch 19/30\n",
      "80/80 [==============================] - 0s 4ms/step - loss: 0.4056 - accuracy: 0.8094 - val_loss: 0.4112 - val_accuracy: 0.8075\n",
      "Epoch 20/30\n",
      "80/80 [==============================] - 0s 4ms/step - loss: 0.4127 - accuracy: 0.8172 - val_loss: 0.4633 - val_accuracy: 0.8199\n",
      "Epoch 21/30\n",
      "80/80 [==============================] - 0s 4ms/step - loss: 0.4187 - accuracy: 0.8016 - val_loss: 0.4422 - val_accuracy: 0.8075\n",
      "Epoch 22/30\n",
      "80/80 [==============================] - 0s 4ms/step - loss: 0.4158 - accuracy: 0.8078 - val_loss: 0.4079 - val_accuracy: 0.8075\n",
      "Epoch 23/30\n",
      "80/80 [==============================] - 0s 4ms/step - loss: 0.4033 - accuracy: 0.8125 - val_loss: 0.4195 - val_accuracy: 0.8075\n",
      "Epoch 24/30\n",
      "80/80 [==============================] - 0s 4ms/step - loss: 0.3949 - accuracy: 0.8297 - val_loss: 0.5790 - val_accuracy: 0.7267\n",
      "Epoch 25/30\n",
      "80/80 [==============================] - 0s 4ms/step - loss: 0.3994 - accuracy: 0.8141 - val_loss: 0.4259 - val_accuracy: 0.8137\n",
      "Epoch 26/30\n",
      "80/80 [==============================] - 0s 4ms/step - loss: 0.4138 - accuracy: 0.8047 - val_loss: 0.4032 - val_accuracy: 0.8137\n",
      "Epoch 27/30\n",
      "80/80 [==============================] - 0s 4ms/step - loss: 0.3814 - accuracy: 0.8219 - val_loss: 0.4378 - val_accuracy: 0.8199\n",
      "Epoch 28/30\n",
      "80/80 [==============================] - 0s 4ms/step - loss: 0.3937 - accuracy: 0.8156 - val_loss: 0.4518 - val_accuracy: 0.7888\n",
      "Epoch 29/30\n",
      "80/80 [==============================] - 0s 4ms/step - loss: 0.3764 - accuracy: 0.8156 - val_loss: 0.4292 - val_accuracy: 0.8075\n",
      "Epoch 30/30\n",
      "80/80 [==============================] - 0s 4ms/step - loss: 0.3775 - accuracy: 0.8219 - val_loss: 0.4304 - val_accuracy: 0.7888\n"
     ]
    },
    {
     "name": "stderr",
     "output_type": "stream",
     "text": [
      "2023/11/11 15:02:43 WARNING mlflow.tensorflow: You are saving a TensorFlow Core model or Keras model without a signature. Inference with mlflow.pyfunc.spark_udf() will not work unless the model's pyfunc representation accepts pandas DataFrames as inference inputs.\n"
     ]
    },
    {
     "name": "stdout",
     "output_type": "stream",
     "text": [
      "INFO:tensorflow:Assets written to: /tmp/tmp9capy6zo/model/data/model/assets\n"
     ]
    },
    {
     "name": "stderr",
     "output_type": "stream",
     "text": [
      "INFO:tensorflow:Assets written to: /tmp/tmp9capy6zo/model/data/model/assets\n"
     ]
    },
    {
     "name": "stdout",
     "output_type": "stream",
     "text": [
      "7/7 [==============================] - 0s 1ms/step\n",
      "7/7 [==============================] - 0s 2ms/step - loss: 0.3303 - accuracy: 0.8756\n",
      "Acurácia:0.8756218905472637\n",
      "              precision    recall  f1-score   support\n",
      "\n",
      "         0.0       0.83      0.94      0.88       100\n",
      "         1.0       0.93      0.81      0.87       101\n",
      "\n",
      "    accuracy                           0.88       201\n",
      "   macro avg       0.88      0.88      0.88       201\n",
      "weighted avg       0.88      0.88      0.88       201\n",
      "\n"
     ]
    }
   ],
   "source": [
    "RELU = 'relu'\n",
    "SIGMOID = 'sigmoid'\n",
    "\n",
    "n_seeds = 2\n",
    "n_neurons = 256\n",
    "batch_size = 8\n",
    "epochs = 30\n",
    "random_state = 42\n",
    "\n",
    "mlflow.set_experiment(\"Exercicio_Keras_Grupo_Ivandro_Pablo\")\n",
    "\n",
    "with mlflow.start_run():\n",
    "\n",
    "    # Set mlflow\n",
    "    mlflow.set_tag(\"mlflow.runName\", \"Keras: \" + str(datetime.now()))\n",
    "    mlflow.log_input(mlflow_dataset)\n",
    "    mlflow.log_param(\"n_seeds\", n_seeds)\n",
    "    mlflow.log_param(\"n_neurons\", n_neurons)\n",
    "    mlflow.log_param(\"batch_size\", batch_size)\n",
    "    mlflow.log_param(\"epochs\", epochs)\n",
    "    mlflow.log_param(\"random_state\", random_state)\n",
    "\n",
    "    ## Config model\n",
    "    tf.random.set_seed(n_seeds)\n",
    "    \n",
    "    es = EarlyStopping(monitor = 'val_loss', min_delta = 0.001, patience = 10, verbose = 1, mode = 'auto')\n",
    "\n",
    "    new_train_x, x_val, new_train_y, y_val = train_test_split(X_train, y_train, \n",
    "                                                              test_size = 0.2, \n",
    "                                                              random_state = random_state)\n",
    "\n",
    "    NN_model = Sequential([\n",
    "        Dense(n_neurons, activation = RELU, input_shape=(X_train.shape[1],)),\n",
    "        Dense(n_neurons, activation = RELU),\n",
    "        Dense(n_neurons, activation = RELU),\n",
    "        Dense(1, activation = SIGMOID)\n",
    "    ])\n",
    "    \n",
    "    NN_model.compile(\n",
    "        loss='binary_crossentropy',\n",
    "        optimizer='adamax',\n",
    "        metrics=['accuracy']\n",
    "    )\n",
    "    \n",
    "    \n",
    "    train_history = NN_model.fit(new_train_x, new_train_y,\n",
    "        validation_data=(x_val, y_val),\n",
    "        batch_size = batch_size,\n",
    "        shuffle=True,\n",
    "        epochs = epochs,\n",
    "        verbose = 1,\n",
    "        callbacks = [es]\n",
    "    )\n",
    "\n",
    "    # Set model\n",
    "    mlflow.keras.log_model(NN_model, \"Keras_Model\")\n",
    "    \n",
    "    pred_es = NN_model.predict(X_test)\n",
    "    y_pred = [np.round(i[0]) for i in pred_es]\n",
    "    results = NN_model.evaluate(X_test, y_test)\n",
    "    accuracy = accuracy_score(y_test, y_pred)\n",
    "    cm = confusion_matrix(y_test, y_pred)\n",
    "\n",
    "    print('Acurácia:' + str(accuracy))\n",
    "    mlflow.log_metric(\"accuracy\", accuracy)\n",
    "    \n",
    "    print(classification_report(y_test, y_pred))\n",
    "\n",
    "    cm = confusion_matrix(y_test, y_pred)\n",
    "    disp = ConfusionMatrixDisplay(confusion_matrix=cm, display_labels=[\"No\", \"Yes\"])\n",
    "    disp.plot()\n",
    "    \n",
    "    plt.savefig(\"confusion_diabetes.png\")\n",
    "    plt.close()\n",
    "\n",
    "    mlflow.log_artifact(\"confusion_diabetes.png\")\n",
    "\n",
    "mlflow.end_run()"
   ]
  },
  {
   "cell_type": "markdown",
   "metadata": {},
   "source": [
    "### Random Forest"
   ]
  },
  {
   "cell_type": "code",
   "execution_count": 17,
   "metadata": {},
   "outputs": [
    {
     "name": "stderr",
     "output_type": "stream",
     "text": [
      "2023/11/11 15:02:51 WARNING mlflow.utils.requirements_utils: Found lz4 version (3.1.3+dfsg) contains a local version label (+dfsg). MLflow logged a pip requirement for this package as 'lz4==3.1.3' without the local version label to make it installable from PyPI. To specify pip requirements containing local version labels, please use `conda_env` or `pip_requirements`.\n"
     ]
    },
    {
     "name": "stdout",
     "output_type": "stream",
     "text": [
      "Acurácia:0.89\n",
      "              precision    recall  f1-score   support\n",
      "\n",
      "         0.0       0.88      0.89      0.89       100\n",
      "         1.0       0.89      0.88      0.89       101\n",
      "\n",
      "    accuracy                           0.89       201\n",
      "   macro avg       0.89      0.89      0.89       201\n",
      "weighted avg       0.89      0.89      0.89       201\n",
      "\n"
     ]
    }
   ],
   "source": [
    "mlflow.set_experiment(\"Exercicio_Keras_Grupo_Ivandro_Pablo\")\n",
    "\n",
    "n_estimators = 100\n",
    "\n",
    "\n",
    "with mlflow.start_run():\n",
    "    mlflow.set_tag(\"mlflow.runName\", \"Random Forest: \" + str(datetime.now()))\n",
    "    mlflow.log_input(mlflow_dataset)\n",
    "    \n",
    "    mlflow.log_param(\"n_estimators\", n_estimators)\n",
    "    mlflow.log_param(\"random_state\", random_state)\n",
    "\n",
    "\n",
    "    model_rf = RandomForestClassifier(n_estimators = n_estimators, \\\n",
    "                                      random_state = random_state)\n",
    "    \n",
    "    model_rf.fit(X_train, y_train)\n",
    "    y_pred = model_rf.predict(X_test)\n",
    "    \n",
    "    # modelo\n",
    "    \n",
    "    mlflow.sklearn.log_model(model_rf, \"Random_Forest\")\n",
    "    \n",
    "    accuracy = round(accuracy_score(y_test, y_pred), 2)\n",
    "    print('Acurácia:' + str(accuracy))\n",
    "    \n",
    "    mlflow.log_metric(\"accuracy\", accuracy)\n",
    "    print(classification_report(y_test, y_pred))\n",
    "\n",
    "    cm = confusion_matrix(y_test, y_pred)\n",
    "    disp = ConfusionMatrixDisplay(confusion_matrix=cm, display_labels=[\"No\", \"Yes\"])\n",
    "    disp.plot()\n",
    "\n",
    "    plt.savefig(\"confusion_rf_diabetes.png\")\n",
    "    plt.close()\n",
    "\n",
    "    mlflow.log_artifact(\"confusion_rf_diabetes.png\")\n",
    "\n",
    "mlflow.end_run()"
   ]
  },
  {
   "cell_type": "markdown",
   "metadata": {},
   "source": [
    "## Requisições\n",
    "\n",
    "### Keras\n",
    "`mlflow models serve -m runs:/c16b9c1042a247299953d5092a81d609/Keras_Model --port=5002 --env-manager local`"
   ]
  },
  {
   "cell_type": "code",
   "execution_count": 18,
   "metadata": {},
   "outputs": [],
   "source": [
    "import requests\n",
    "import json"
   ]
  },
  {
   "cell_type": "code",
   "execution_count": 19,
   "metadata": {},
   "outputs": [],
   "source": [
    "# Get sample from dataframe to teste a resquest\n",
    "data = pd.read_csv('./../../../Datasets/diabetes.csv')\n",
    "sample_data = data.sample(1)"
   ]
  },
  {
   "cell_type": "code",
   "execution_count": 20,
   "metadata": {},
   "outputs": [
    {
     "data": {
      "text/plain": [
       "{'dataframe_split': {'columns': ['Pregnancies',\n",
       "   'Glucose',\n",
       "   'BloodPressure',\n",
       "   'SkinThickness',\n",
       "   'Insulin',\n",
       "   'BMI',\n",
       "   'DiabetesPedigreeFunction',\n",
       "   'Age'],\n",
       "  'data': [[0.0, 104.0, 64.0, 23.0, 116.0, 27.8, 0.454, 23.0]]}}"
      ]
     },
     "execution_count": 20,
     "metadata": {},
     "output_type": "execute_result"
    }
   ],
   "source": [
    "# getting sample from dataset (just to test)\n",
    "dados_dict = {\n",
    "    'columns': sample_data.columns.tolist()[:-1],\n",
    "    'data': [sample_data.iloc[0,:-1].values.tolist()]\n",
    "}\n",
    "\n",
    "dataframe_split = {'dataframe_split': dados_dict}\n",
    "dataframe_split"
   ]
  },
  {
   "cell_type": "code",
   "execution_count": 21,
   "metadata": {},
   "outputs": [
    {
     "data": {
      "text/plain": [
       "'{\"dataframe_split\": {\"columns\": [\"Pregnancies\", \"Glucose\", \"BloodPressure\", \"SkinThickness\", \"Insulin\", \"BMI\", \"DiabetesPedigreeFunction\", \"Age\"], \"data\": [[0.0, 104.0, 64.0, 23.0, 116.0, 27.8, 0.454, 23.0]]}}'"
      ]
     },
     "execution_count": 21,
     "metadata": {},
     "output_type": "execute_result"
    }
   ],
   "source": [
    "dados_json = json.dumps(dataframe_split)\n",
    "dados_json"
   ]
  },
  {
   "cell_type": "code",
   "execution_count": 23,
   "metadata": {},
   "outputs": [],
   "source": [
    "pred = requests.post(url='http://localhost:5002/invocations', \n",
    "                         headers={'Content-Type' : 'application/json', }, \n",
    "                         data=dados_json)"
   ]
  },
  {
   "cell_type": "code",
   "execution_count": 24,
   "metadata": {},
   "outputs": [
    {
     "data": {
      "text/plain": [
       "'{\"predictions\": [{\"0\": 1.0}]}'"
      ]
     },
     "execution_count": 24,
     "metadata": {},
     "output_type": "execute_result"
    }
   ],
   "source": [
    "pred.text"
   ]
  },
  {
   "cell_type": "markdown",
   "metadata": {},
   "source": [
    "### Random Forest\n",
    "`mlflow models serve -m runs:/d87ab38c67434d019991c0946f29b8c3/\"Random_Forest\"  --port=5001 --env-manager local`"
   ]
  },
  {
   "cell_type": "code",
   "execution_count": 25,
   "metadata": {},
   "outputs": [],
   "source": [
    "pred = requests.post(url='http://localhost:5001/invocations', \n",
    "                         headers={'Content-Type' : 'application/json' , }, data=dados_json)"
   ]
  },
  {
   "cell_type": "code",
   "execution_count": 26,
   "metadata": {},
   "outputs": [
    {
     "data": {
      "text/plain": [
       "'{\"predictions\": [1.0]}'"
      ]
     },
     "execution_count": 26,
     "metadata": {},
     "output_type": "execute_result"
    }
   ],
   "source": [
    "pred.text"
   ]
  }
 ],
 "metadata": {
  "kernelspec": {
   "display_name": "Python 3",
   "language": "python",
   "name": "python3"
  },
  "language_info": {
   "codemirror_mode": {
    "name": "ipython",
    "version": 3
   },
   "file_extension": ".py",
   "mimetype": "text/x-python",
   "name": "python",
   "nbconvert_exporter": "python",
   "pygments_lexer": "ipython3",
   "version": "3.10.12"
  }
 },
 "nbformat": 4,
 "nbformat_minor": 2
}
